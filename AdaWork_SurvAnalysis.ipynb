{
 "cells": [
  {
   "cell_type": "markdown",
   "id": "5f52f6c9-80bb-4143-945a-282bf3843077",
   "metadata": {},
   "source": [
    "__PHARML 2022 CHALLENGE - SURVIVAL ANALYSIS MODELING SECTION\n",
    "\n",
    "Prognostic models have a wide-array of applications and are used in academic and clinical settings. Lung cancer is newly diagnosed in 2.3 million people per year and is divided in Non-Small Cell Lung Cancer (NSCLC) and Small Cell Lung Cancer (SCLC). NSCLC accounts for 84% of the total cases. The 5-year survival rate for patients with NSCLC is 25%, but prognosis can vary depending on many factors including demographics, clinical characteristics, and genomic mutations, among others. Survival Machine Learning models could enable us to make much better prognosis prediction, which in turn has real world clinical applications. Prognostic models could be used to help us identify the most predictive and novel biomarkers influencing the risk of mortality in NSCLC. Additionally, representations learned by fitting Survival Machine Learning models on NSCLC data could be used to stratify patients and obtain clinical clusters or phenotypes that give us insights on disease heterogeneity. Yet another promising application for these models is the potential use of covariate adjustment methods to increase the power of clinical trials and achieve significant results with fewer patients. Finally, it should be noted that there are many other potential relevant real-world applications for these methods.\n",
    "\n"
   ]
  },
  {
   "cell_type": "code",
   "execution_count": 1,
   "id": "15960120-0684-4786-ba37-084eb25a1e75",
   "metadata": {},
   "outputs": [
    {
     "name": "stderr",
     "output_type": "stream",
     "text": [
      "\n",
      "Attaching package: ‘dplyr’\n",
      "\n",
      "\n",
      "The following objects are masked from ‘package:stats’:\n",
      "\n",
      "    filter, lag\n",
      "\n",
      "\n",
      "The following objects are masked from ‘package:base’:\n",
      "\n",
      "    intersect, setdiff, setequal, union\n",
      "\n",
      "\n",
      "Loading required package: lattice\n",
      "\n",
      "Warning message in system(\"timedatectl\", intern = TRUE):\n",
      "“running command 'timedatectl' had status 1”\n",
      "\n",
      "Attaching package: ‘lubridate’\n",
      "\n",
      "\n",
      "The following objects are masked from ‘package:base’:\n",
      "\n",
      "    date, intersect, setdiff, union\n",
      "\n",
      "\n",
      "\n",
      "Attaching package: ‘purrr’\n",
      "\n",
      "\n",
      "The following object is masked from ‘package:caret’:\n",
      "\n",
      "    lift\n",
      "\n",
      "\n",
      "Warning message:\n",
      "“package ‘mgcv’ was built under R version 4.1.3”\n",
      "Loading required package: nlme\n",
      "\n",
      "\n",
      "Attaching package: ‘nlme’\n",
      "\n",
      "\n",
      "The following object is masked from ‘package:dplyr’:\n",
      "\n",
      "    collapse\n",
      "\n",
      "\n",
      "This is mgcv 1.8-40. For overview type 'help(\"mgcv-package\")'.\n",
      "\n",
      "── \u001b[1mAttaching packages\u001b[22m ─────────────────────────────────────── tidyverse 1.3.1 ──\n",
      "\n",
      "\u001b[32m✔\u001b[39m \u001b[34mtibble \u001b[39m 3.1.6     \u001b[32m✔\u001b[39m \u001b[34mstringr\u001b[39m 1.4.0\n",
      "\u001b[32m✔\u001b[39m \u001b[34mreadr  \u001b[39m 2.1.2     \u001b[32m✔\u001b[39m \u001b[34mforcats\u001b[39m 0.5.1\n",
      "\n",
      "── \u001b[1mConflicts\u001b[22m ────────────────────────────────────────── tidyverse_conflicts() ──\n",
      "\u001b[31m✖\u001b[39m \u001b[34mlubridate\u001b[39m::\u001b[32mas.difftime()\u001b[39m masks \u001b[34mbase\u001b[39m::as.difftime()\n",
      "\u001b[31m✖\u001b[39m \u001b[34mnlme\u001b[39m::\u001b[32mcollapse()\u001b[39m         masks \u001b[34mdplyr\u001b[39m::collapse()\n",
      "\u001b[31m✖\u001b[39m \u001b[34mlubridate\u001b[39m::\u001b[32mdate()\u001b[39m        masks \u001b[34mbase\u001b[39m::date()\n",
      "\u001b[31m✖\u001b[39m \u001b[34mdplyr\u001b[39m::\u001b[32mfilter()\u001b[39m          masks \u001b[34mstats\u001b[39m::filter()\n",
      "\u001b[31m✖\u001b[39m \u001b[34mlubridate\u001b[39m::\u001b[32mintersect()\u001b[39m   masks \u001b[34mbase\u001b[39m::intersect()\n",
      "\u001b[31m✖\u001b[39m \u001b[34mdplyr\u001b[39m::\u001b[32mlag()\u001b[39m             masks \u001b[34mstats\u001b[39m::lag()\n",
      "\u001b[31m✖\u001b[39m \u001b[34mpurrr\u001b[39m::\u001b[32mlift()\u001b[39m            masks \u001b[34mcaret\u001b[39m::lift()\n",
      "\u001b[31m✖\u001b[39m \u001b[34mlubridate\u001b[39m::\u001b[32msetdiff()\u001b[39m     masks \u001b[34mbase\u001b[39m::setdiff()\n",
      "\u001b[31m✖\u001b[39m \u001b[34mlubridate\u001b[39m::\u001b[32munion()\u001b[39m       masks \u001b[34mbase\u001b[39m::union()\n",
      "\n",
      "Warning message:\n",
      "“package ‘readxl’ was built under R version 4.1.3”\n",
      "\n",
      "Attaching package: ‘xgboost’\n",
      "\n",
      "\n",
      "The following object is masked from ‘package:dplyr’:\n",
      "\n",
      "    slice\n",
      "\n",
      "\n",
      "Warning message:\n",
      "“package ‘magrittr’ was built under R version 4.1.3”\n",
      "\n",
      "Attaching package: ‘magrittr’\n",
      "\n",
      "\n",
      "The following object is masked from ‘package:purrr’:\n",
      "\n",
      "    set_names\n",
      "\n",
      "\n",
      "The following object is masked from ‘package:tidyr’:\n",
      "\n",
      "    extract\n",
      "\n",
      "\n",
      "Loading required package: zoo\n",
      "\n",
      "\n",
      "Attaching package: ‘zoo’\n",
      "\n",
      "\n",
      "The following objects are masked from ‘package:base’:\n",
      "\n",
      "    as.Date, as.Date.numeric\n",
      "\n",
      "\n",
      "\n",
      "Attaching package: ‘xts’\n",
      "\n",
      "\n",
      "The following objects are masked from ‘package:dplyr’:\n",
      "\n",
      "    first, last\n",
      "\n",
      "\n",
      "\n",
      "Attaching package: ‘hms’\n",
      "\n",
      "\n",
      "The following object is masked from ‘package:lubridate’:\n",
      "\n",
      "    hms\n",
      "\n",
      "\n"
     ]
    }
   ],
   "source": [
    "#Import Library\n",
    "library(dplyr)\n",
    "library(ggplot2)\n",
    "library(tidyr)\n",
    "library(caret)\n",
    "library(lubridate)\n",
    "library(purrr)\n",
    "library(mgcv)\n",
    "library(rpart)\n",
    "library(tidyverse)\n",
    "library(utils)\n",
    "library(broom)\n",
    "library(ellipsis)\n",
    "library(highr)\n",
    "library(lattice)\n",
    "library(methods)\n",
    "library(nlme)\n",
    "library(readr)\n",
    "library(readxl)\n",
    "library(stats)\n",
    "library(stringr)\n",
    "library(ranger)\n",
    "library(tibble)\n",
    "library(xgboost)\n",
    "library(magrittr)\n",
    "library(lubridate)\n",
    "library(xts)\n",
    "library(hms)"
   ]
  },
  {
   "cell_type": "code",
   "execution_count": 2,
   "id": "46ca964c-d851-446e-9fdd-01cbddeb4d86",
   "metadata": {},
   "outputs": [
    {
     "name": "stderr",
     "output_type": "stream",
     "text": [
      "\u001b[1mRows: \u001b[22m\u001b[34m31334\u001b[39m \u001b[1mColumns: \u001b[22m\u001b[34m25\u001b[39m\n",
      "\u001b[36m──\u001b[39m \u001b[1mColumn specification\u001b[22m \u001b[36m────────────────────────────────────────────────────────\u001b[39m\n",
      "\u001b[1mDelimiter:\u001b[22m \",\"\n",
      "\u001b[31mchr\u001b[39m (12): patientid, ecog, histology, groupstage, smokingstatus, gender, rac...\n",
      "\u001b[32mdbl\u001b[39m  (7): daysto_event, event_died, diagnosis_nsclc_year, diagnosis_ansclc_y...\n",
      "\u001b[33mlgl\u001b[39m  (6): biomarker_pdl1, biomarker_alk, biomarker_ros1, biomarker_braf, bio...\n",
      "\n",
      "\u001b[36mℹ\u001b[39m Use `spec()` to retrieve the full column specification for this data.\n",
      "\u001b[36mℹ\u001b[39m Specify the column types or set `show_col_types = FALSE` to quiet this message.\n"
     ]
    },
    {
     "data": {
      "text/html": [
       "<table class=\"dataframe\">\n",
       "<caption>A tibble: 6 × 25</caption>\n",
       "<thead>\n",
       "\t<tr><th scope=col>patientid</th><th scope=col>daysto_event</th><th scope=col>event_died</th><th scope=col>diagnosis_nsclc_year</th><th scope=col>diagnosis_ansclc_year</th><th scope=col>ecog</th><th scope=col>histology</th><th scope=col>groupstage</th><th scope=col>smokingstatus</th><th scope=col>birthyear</th><th scope=col>⋯</th><th scope=col>biomarker_alk</th><th scope=col>biomarker_ros1</th><th scope=col>biomarker_braf</th><th scope=col>biomarker_egfr</th><th scope=col>biomarker_kras</th><th scope=col>lab_creatinine</th><th scope=col>lab_alanineaminotransferase</th><th scope=col>lab_ldh</th><th scope=col>bmi</th><th scope=col>index_lot1_year</th></tr>\n",
       "\t<tr><th scope=col>&lt;chr&gt;</th><th scope=col>&lt;dbl&gt;</th><th scope=col>&lt;dbl&gt;</th><th scope=col>&lt;dbl&gt;</th><th scope=col>&lt;dbl&gt;</th><th scope=col>&lt;chr&gt;</th><th scope=col>&lt;chr&gt;</th><th scope=col>&lt;chr&gt;</th><th scope=col>&lt;chr&gt;</th><th scope=col>&lt;dbl&gt;</th><th scope=col>⋯</th><th scope=col>&lt;lgl&gt;</th><th scope=col>&lt;lgl&gt;</th><th scope=col>&lt;lgl&gt;</th><th scope=col>&lt;lgl&gt;</th><th scope=col>&lt;lgl&gt;</th><th scope=col>&lt;chr&gt;</th><th scope=col>&lt;chr&gt;</th><th scope=col>&lt;chr&gt;</th><th scope=col>&lt;dbl&gt;</th><th scope=col>&lt;dbl&gt;</th></tr>\n",
       "</thead>\n",
       "<tbody>\n",
       "\t<tr><td>PHARML000001</td><td>156</td><td>0</td><td>2002</td><td>2019</td><td>1      </td><td>Squamous cell carcinoma    </td><td>Stage IIA </td><td>History of smoking</td><td>1951</td><td>⋯</td><td>NA</td><td>NA</td><td>NA</td><td>NA</td><td>NA</td><td>normal</td><td>normal  </td><td>NA      </td><td>19.34262</td><td>2019</td></tr>\n",
       "\t<tr><td>PHARML000003</td><td>190</td><td>1</td><td>2013</td><td>2014</td><td>Unknown</td><td>Non-squamous cell carcinoma</td><td>Stage IIIA</td><td>History of smoking</td><td>1946</td><td>⋯</td><td>NA</td><td>NA</td><td>NA</td><td>NA</td><td>NA</td><td>NA    </td><td>normal  </td><td>NA      </td><td>22.41903</td><td>2014</td></tr>\n",
       "\t<tr><td>PHARML000004</td><td> 74</td><td>1</td><td>2020</td><td>2020</td><td>Unknown</td><td>Non-squamous cell carcinoma</td><td>Stage IIIC</td><td>History of smoking</td><td>1944</td><td>⋯</td><td>NA</td><td>NA</td><td>NA</td><td>NA</td><td>NA</td><td>NA    </td><td>NA      </td><td>NA      </td><td>26.63880</td><td>2020</td></tr>\n",
       "\t<tr><td>PHARML000008</td><td> 52</td><td>1</td><td>2020</td><td>2020</td><td>1      </td><td>Non-squamous cell carcinoma</td><td>Stage IV  </td><td>History of smoking</td><td>1937</td><td>⋯</td><td>NA</td><td>NA</td><td>NA</td><td>NA</td><td>NA</td><td>normal</td><td>abnormal</td><td>NA      </td><td>18.94848</td><td>2020</td></tr>\n",
       "\t<tr><td>PHARML000009</td><td>392</td><td>0</td><td>2021</td><td>2021</td><td>0      </td><td>Non-squamous cell carcinoma</td><td>Stage IIIB</td><td>History of smoking</td><td>1966</td><td>⋯</td><td>NA</td><td>NA</td><td>NA</td><td>NA</td><td>NA</td><td>normal</td><td>normal  </td><td>abnormal</td><td>21.33351</td><td>2021</td></tr>\n",
       "\t<tr><td>PHARML000011</td><td> 39</td><td>1</td><td>2017</td><td>2017</td><td>Unknown</td><td>Non-squamous cell carcinoma</td><td>Stage IV  </td><td>History of smoking</td><td>1943</td><td>⋯</td><td>NA</td><td>NA</td><td>NA</td><td>NA</td><td>NA</td><td>normal</td><td>normal  </td><td>normal  </td><td>16.65117</td><td>2017</td></tr>\n",
       "</tbody>\n",
       "</table>\n"
      ],
      "text/latex": [
       "A tibble: 6 × 25\n",
       "\\begin{tabular}{lllllllllllllllllllll}\n",
       " patientid & daysto\\_event & event\\_died & diagnosis\\_nsclc\\_year & diagnosis\\_ansclc\\_year & ecog & histology & groupstage & smokingstatus & birthyear & ⋯ & biomarker\\_alk & biomarker\\_ros1 & biomarker\\_braf & biomarker\\_egfr & biomarker\\_kras & lab\\_creatinine & lab\\_alanineaminotransferase & lab\\_ldh & bmi & index\\_lot1\\_year\\\\\n",
       " <chr> & <dbl> & <dbl> & <dbl> & <dbl> & <chr> & <chr> & <chr> & <chr> & <dbl> & ⋯ & <lgl> & <lgl> & <lgl> & <lgl> & <lgl> & <chr> & <chr> & <chr> & <dbl> & <dbl>\\\\\n",
       "\\hline\n",
       "\t PHARML000001 & 156 & 0 & 2002 & 2019 & 1       & Squamous cell carcinoma     & Stage IIA  & History of smoking & 1951 & ⋯ & NA & NA & NA & NA & NA & normal & normal   & NA       & 19.34262 & 2019\\\\\n",
       "\t PHARML000003 & 190 & 1 & 2013 & 2014 & Unknown & Non-squamous cell carcinoma & Stage IIIA & History of smoking & 1946 & ⋯ & NA & NA & NA & NA & NA & NA     & normal   & NA       & 22.41903 & 2014\\\\\n",
       "\t PHARML000004 &  74 & 1 & 2020 & 2020 & Unknown & Non-squamous cell carcinoma & Stage IIIC & History of smoking & 1944 & ⋯ & NA & NA & NA & NA & NA & NA     & NA       & NA       & 26.63880 & 2020\\\\\n",
       "\t PHARML000008 &  52 & 1 & 2020 & 2020 & 1       & Non-squamous cell carcinoma & Stage IV   & History of smoking & 1937 & ⋯ & NA & NA & NA & NA & NA & normal & abnormal & NA       & 18.94848 & 2020\\\\\n",
       "\t PHARML000009 & 392 & 0 & 2021 & 2021 & 0       & Non-squamous cell carcinoma & Stage IIIB & History of smoking & 1966 & ⋯ & NA & NA & NA & NA & NA & normal & normal   & abnormal & 21.33351 & 2021\\\\\n",
       "\t PHARML000011 &  39 & 1 & 2017 & 2017 & Unknown & Non-squamous cell carcinoma & Stage IV   & History of smoking & 1943 & ⋯ & NA & NA & NA & NA & NA & normal & normal   & normal   & 16.65117 & 2017\\\\\n",
       "\\end{tabular}\n"
      ],
      "text/markdown": [
       "\n",
       "A tibble: 6 × 25\n",
       "\n",
       "| patientid &lt;chr&gt; | daysto_event &lt;dbl&gt; | event_died &lt;dbl&gt; | diagnosis_nsclc_year &lt;dbl&gt; | diagnosis_ansclc_year &lt;dbl&gt; | ecog &lt;chr&gt; | histology &lt;chr&gt; | groupstage &lt;chr&gt; | smokingstatus &lt;chr&gt; | birthyear &lt;dbl&gt; | ⋯ ⋯ | biomarker_alk &lt;lgl&gt; | biomarker_ros1 &lt;lgl&gt; | biomarker_braf &lt;lgl&gt; | biomarker_egfr &lt;lgl&gt; | biomarker_kras &lt;lgl&gt; | lab_creatinine &lt;chr&gt; | lab_alanineaminotransferase &lt;chr&gt; | lab_ldh &lt;chr&gt; | bmi &lt;dbl&gt; | index_lot1_year &lt;dbl&gt; |\n",
       "|---|---|---|---|---|---|---|---|---|---|---|---|---|---|---|---|---|---|---|---|---|\n",
       "| PHARML000001 | 156 | 0 | 2002 | 2019 | 1       | Squamous cell carcinoma     | Stage IIA  | History of smoking | 1951 | ⋯ | NA | NA | NA | NA | NA | normal | normal   | NA       | 19.34262 | 2019 |\n",
       "| PHARML000003 | 190 | 1 | 2013 | 2014 | Unknown | Non-squamous cell carcinoma | Stage IIIA | History of smoking | 1946 | ⋯ | NA | NA | NA | NA | NA | NA     | normal   | NA       | 22.41903 | 2014 |\n",
       "| PHARML000004 |  74 | 1 | 2020 | 2020 | Unknown | Non-squamous cell carcinoma | Stage IIIC | History of smoking | 1944 | ⋯ | NA | NA | NA | NA | NA | NA     | NA       | NA       | 26.63880 | 2020 |\n",
       "| PHARML000008 |  52 | 1 | 2020 | 2020 | 1       | Non-squamous cell carcinoma | Stage IV   | History of smoking | 1937 | ⋯ | NA | NA | NA | NA | NA | normal | abnormal | NA       | 18.94848 | 2020 |\n",
       "| PHARML000009 | 392 | 0 | 2021 | 2021 | 0       | Non-squamous cell carcinoma | Stage IIIB | History of smoking | 1966 | ⋯ | NA | NA | NA | NA | NA | normal | normal   | abnormal | 21.33351 | 2021 |\n",
       "| PHARML000011 |  39 | 1 | 2017 | 2017 | Unknown | Non-squamous cell carcinoma | Stage IV   | History of smoking | 1943 | ⋯ | NA | NA | NA | NA | NA | normal | normal   | normal   | 16.65117 | 2017 |\n",
       "\n"
      ],
      "text/plain": [
       "  patientid    daysto_event event_died diagnosis_nsclc_year\n",
       "1 PHARML000001 156          0          2002                \n",
       "2 PHARML000003 190          1          2013                \n",
       "3 PHARML000004  74          1          2020                \n",
       "4 PHARML000008  52          1          2020                \n",
       "5 PHARML000009 392          0          2021                \n",
       "6 PHARML000011  39          1          2017                \n",
       "  diagnosis_ansclc_year ecog    histology                   groupstage\n",
       "1 2019                  1       Squamous cell carcinoma     Stage IIA \n",
       "2 2014                  Unknown Non-squamous cell carcinoma Stage IIIA\n",
       "3 2020                  Unknown Non-squamous cell carcinoma Stage IIIC\n",
       "4 2020                  1       Non-squamous cell carcinoma Stage IV  \n",
       "5 2021                  0       Non-squamous cell carcinoma Stage IIIB\n",
       "6 2017                  Unknown Non-squamous cell carcinoma Stage IV  \n",
       "  smokingstatus      birthyear ⋯ biomarker_alk biomarker_ros1 biomarker_braf\n",
       "1 History of smoking 1951      ⋯ NA            NA             NA            \n",
       "2 History of smoking 1946      ⋯ NA            NA             NA            \n",
       "3 History of smoking 1944      ⋯ NA            NA             NA            \n",
       "4 History of smoking 1937      ⋯ NA            NA             NA            \n",
       "5 History of smoking 1966      ⋯ NA            NA             NA            \n",
       "6 History of smoking 1943      ⋯ NA            NA             NA            \n",
       "  biomarker_egfr biomarker_kras lab_creatinine lab_alanineaminotransferase\n",
       "1 NA             NA             normal         normal                     \n",
       "2 NA             NA             NA             normal                     \n",
       "3 NA             NA             NA             NA                         \n",
       "4 NA             NA             normal         abnormal                   \n",
       "5 NA             NA             normal         normal                     \n",
       "6 NA             NA             normal         normal                     \n",
       "  lab_ldh  bmi      index_lot1_year\n",
       "1 NA       19.34262 2019           \n",
       "2 NA       22.41903 2014           \n",
       "3 NA       26.63880 2020           \n",
       "4 NA       18.94848 2020           \n",
       "5 abnormal 21.33351 2021           \n",
       "6 normal   16.65117 2017           "
      ]
     },
     "metadata": {},
     "output_type": "display_data"
    }
   ],
   "source": [
    "flatiron_train <- read_csv(\"/pharml/data/flatiron_training.csv\")\n",
    "head(flatiron_train)"
   ]
  },
  {
   "cell_type": "code",
   "execution_count": 3,
   "id": "cfe533a9-265a-4dba-8b84-3bc4e48d93b2",
   "metadata": {},
   "outputs": [
    {
     "data": {
      "text/plain": [
       "  patientid          daysto_event      event_died     diagnosis_nsclc_year\n",
       " Length:31329       Min.   :   1.0   Min.   :0.0000   Min.   :1990        \n",
       " Class :character   1st Qu.: 112.0   1st Qu.:0.0000   1st Qu.:2014        \n",
       " Mode  :character   Median : 280.0   Median :1.0000   Median :2016        \n",
       "                    Mean   : 484.2   Mean   :0.7273   Mean   :2016        \n",
       "                    3rd Qu.: 639.0   3rd Qu.:1.0000   3rd Qu.:2019        \n",
       "                    Max.   :3948.0   Max.   :1.0000   Max.   :2022        \n",
       "                                                                          \n",
       " diagnosis_ansclc_year     ecog            histology          groupstage       \n",
       " Min.   :2011          Length:31329       Length:31329       Length:31329      \n",
       " 1st Qu.:2014          Class :character   Class :character   Class :character  \n",
       " Median :2017          Mode  :character   Mode  :character   Mode  :character  \n",
       " Mean   :2016                                                                  \n",
       " 3rd Qu.:2019                                                                  \n",
       " Max.   :2022                                                                  \n",
       "                                                                               \n",
       " smokingstatus        birthyear       gender          raceethnicity     \n",
       " Length:31329       Min.   :1937   Length:31329       Length:31329      \n",
       " Class :character   1st Qu.:1941   Class :character   Class :character  \n",
       " Mode  :character   Median :1947   Mode  :character   Mode  :character  \n",
       "                    Mean   :1949                                        \n",
       "                    3rd Qu.:1955                                        \n",
       "                    Max.   :2002                                        \n",
       "                                                                        \n",
       "    region          lot_category       biomarker_pdl1  biomarker_alk  \n",
       " Length:31329       Length:31329       Mode :logical   Mode :logical  \n",
       " Class :character   Class :character   FALSE:96        FALSE:549      \n",
       " Mode  :character   Mode  :character   TRUE :182       TRUE :8        \n",
       "                                       NA's :31051     NA's :30772    \n",
       "                                                                      \n",
       "                                                                      \n",
       "                                                                      \n",
       " biomarker_ros1  biomarker_braf  biomarker_egfr  biomarker_kras \n",
       " Mode :logical   Mode :logical   Mode :logical   Mode :logical  \n",
       " FALSE:426       FALSE:330       FALSE:533       FALSE:263      \n",
       " TRUE :2         TRUE :8         TRUE :67        TRUE :95       \n",
       " NA's :30901     NA's :30991     NA's :30729     NA's :30971    \n",
       "                                                                \n",
       "                                                                \n",
       "                                                                \n",
       " lab_creatinine     lab_alanineaminotransferase   lab_ldh         \n",
       " Length:31329       Length:31329                Length:31329      \n",
       " Class :character   Class :character            Class :character  \n",
       " Mode  :character   Mode  :character            Mode  :character  \n",
       "                                                                  \n",
       "                                                                  \n",
       "                                                                  \n",
       "                                                                  \n",
       "      bmi        index_lot1_year\n",
       " Min.   :10.50   Min.   :2011   \n",
       " 1st Qu.:22.14   1st Qu.:2014   \n",
       " Median :25.44   Median :2017   \n",
       " Mean   :26.18   Mean   :2017   \n",
       " 3rd Qu.:29.35   3rd Qu.:2019   \n",
       " Max.   :82.13   Max.   :2022   \n",
       " NA's   :1416                   "
      ]
     },
     "metadata": {},
     "output_type": "display_data"
    }
   ],
   "source": [
    "flatiron_train1 <- flatiron_train %>% filter(!is.na(diagnosis_nsclc_year))\n",
    "summary(flatiron_train1)"
   ]
  },
  {
   "cell_type": "code",
   "execution_count": 5,
   "id": "5018bb17-9c73-46f4-afdb-a7bd68e45395",
   "metadata": {},
   "outputs": [],
   "source": [
    "library(\"naniar\", lib.loc=.libPaths(\"/tmp/RtmpopXkDN/downloaded_packages\"))"
   ]
  },
  {
   "cell_type": "code",
   "execution_count": 6,
   "id": "b2ee3546-eb27-4933-b272-f918532b099a",
   "metadata": {},
   "outputs": [],
   "source": [
    "flatiron_train1 <- flatiron_train1 %>% replace_with_na(replace = list(bmi = \"<NA>\"), \n",
    "                                                       (lot_category = \"<NA>\"))"
   ]
  },
  {
   "cell_type": "code",
   "execution_count": 7,
   "id": "566516e0-8489-4e10-a318-8e72b5c400e9",
   "metadata": {},
   "outputs": [],
   "source": [
    "toReplace1 <- which(is.na(flatiron_train1$bmi))\n",
    "flatiron_train1$bmi[toReplace1] <- 19.0"
   ]
  },
  {
   "cell_type": "code",
   "execution_count": 8,
   "id": "6e8bc494-a1d5-4572-9de2-eaf735fe4240",
   "metadata": {},
   "outputs": [
    {
     "name": "stderr",
     "output_type": "stream",
     "text": [
      "Loading required package: R6\n",
      "\n"
     ]
    }
   ],
   "source": [
    "library(\"superml\", lib.loc=.libPaths(\"/tmp/RtmpopXkDN/downloaded_packages\"))"
   ]
  },
  {
   "cell_type": "code",
   "execution_count": 9,
   "id": "4b59c68e-6a89-4cec-bfcd-981c5aa73d6b",
   "metadata": {},
   "outputs": [
    {
     "name": "stdout",
     "output_type": "stream",
     "text": [
      "[1] TRUE\n",
      "[1] TRUE\n",
      "[1] TRUE\n"
     ]
    },
    {
     "name": "stderr",
     "output_type": "stream",
     "text": [
      "The data contains NA values. Imputing NA with 'NA' \n",
      "\n"
     ]
    },
    {
     "name": "stdout",
     "output_type": "stream",
     "text": [
      "[1] TRUE\n"
     ]
    },
    {
     "name": "stderr",
     "output_type": "stream",
     "text": [
      "The data contains NA values. Imputing NA with 'NA' \n",
      "\n",
      "The data contains NA values. Imputing NA with 'NA' \n",
      "\n"
     ]
    },
    {
     "name": "stdout",
     "output_type": "stream",
     "text": [
      "[1] TRUE\n"
     ]
    },
    {
     "name": "stderr",
     "output_type": "stream",
     "text": [
      "The data contains NA values. Imputing NA with 'NA' \n",
      "\n",
      "The data contains NA values. Imputing NA with 'NA' \n",
      "\n"
     ]
    },
    {
     "name": "stdout",
     "output_type": "stream",
     "text": [
      "[1] TRUE\n"
     ]
    },
    {
     "name": "stderr",
     "output_type": "stream",
     "text": [
      "The data contains NA values. Imputing NA with 'NA' \n",
      "\n",
      "The data contains NA values. Imputing NA with 'NA' \n",
      "\n"
     ]
    },
    {
     "name": "stdout",
     "output_type": "stream",
     "text": [
      "[1] TRUE\n"
     ]
    },
    {
     "name": "stderr",
     "output_type": "stream",
     "text": [
      "The data contains NA values. Imputing NA with 'NA' \n",
      "\n",
      "The data contains NA values. Imputing NA with 'NA' \n",
      "\n"
     ]
    },
    {
     "name": "stdout",
     "output_type": "stream",
     "text": [
      "[1] TRUE\n"
     ]
    },
    {
     "name": "stderr",
     "output_type": "stream",
     "text": [
      "The data contains NA values. Imputing NA with 'NA' \n",
      "\n",
      "The data contains NA values. Imputing NA with 'NA' \n",
      "\n"
     ]
    },
    {
     "name": "stdout",
     "output_type": "stream",
     "text": [
      "[1] TRUE\n"
     ]
    },
    {
     "name": "stderr",
     "output_type": "stream",
     "text": [
      "The data contains NA values. Imputing NA with 'NA' \n",
      "\n",
      "The data contains NA values. Imputing NA with 'NA' \n",
      "\n"
     ]
    },
    {
     "name": "stdout",
     "output_type": "stream",
     "text": [
      "[1] TRUE\n"
     ]
    },
    {
     "name": "stderr",
     "output_type": "stream",
     "text": [
      "The data contains NA values. Imputing NA with 'NA' \n",
      "\n",
      "The data contains NA values. Imputing NA with 'NA' \n",
      "\n"
     ]
    },
    {
     "name": "stdout",
     "output_type": "stream",
     "text": [
      "[1] TRUE\n"
     ]
    },
    {
     "name": "stderr",
     "output_type": "stream",
     "text": [
      "The data contains NA values. Imputing NA with 'NA' \n",
      "\n",
      "The data contains NA values. Imputing NA with 'NA' \n",
      "\n"
     ]
    },
    {
     "name": "stdout",
     "output_type": "stream",
     "text": [
      "[1] TRUE\n"
     ]
    },
    {
     "name": "stderr",
     "output_type": "stream",
     "text": [
      "The data contains NA values. Imputing NA with 'NA' \n",
      "\n",
      "The data contains NA values. Imputing NA with 'NA' \n",
      "\n"
     ]
    },
    {
     "name": "stdout",
     "output_type": "stream",
     "text": [
      "[1] TRUE\n"
     ]
    },
    {
     "name": "stderr",
     "output_type": "stream",
     "text": [
      "The data contains NA values. Imputing NA with 'NA' \n",
      "\n"
     ]
    }
   ],
   "source": [
    "label <- LabelEncoder$new()\n",
    "print(label$fit(flatiron_train1$ecog))\n",
    "flatiron_train1$ecog <- label$fit_transform(flatiron_train1$ecog)\n",
    "\n",
    "label <- LabelEncoder$new()\n",
    "print(label$fit(flatiron_train1$groupstage))\n",
    "flatiron_train1$groupstage <- label$fit_transform(flatiron_train1$groupstage)\n",
    "\n",
    "label <- LabelEncoder$new()\n",
    "print(label$fit(flatiron_train1$smokingstatus))\n",
    "flatiron_train1$smokingstatus <- label$fit_transform(flatiron_train1$smokingstatus)\n",
    "\n",
    "label <- LabelEncoder$new()\n",
    "print(label$fit(flatiron_train1$gender))\n",
    "flatiron_train1$gender <- label$fit_transform(flatiron_train1$gender)\n",
    "\n",
    "label <- LabelEncoder$new()\n",
    "print(label$fit(flatiron_train1$lab_ldh))\n",
    "flatiron_train1$lab_ldh <- label$fit_transform(flatiron_train1$lab_ldh)\n",
    "\n",
    "label <- LabelEncoder$new()\n",
    "print(label$fit(flatiron_train1$lab_alanineaminotransferase))\n",
    "flatiron_train1$lab_alanineaminotransferase <- label$fit_transform(flatiron_train1$lab_alanineaminotransferase)\n",
    "\n",
    "label <- LabelEncoder$new()\n",
    "print(label$fit(flatiron_train1$lab_creatinine))\n",
    "flatiron_train1$lab_creatinine <- label$fit_transform(flatiron_train1$lab_creatinine)\n",
    "\n",
    "label <- LabelEncoder$new()\n",
    "print(label$fit(flatiron_train1$biomarker_pdl1))\n",
    "flatiron_train1$biomarker_pdl1 <- label$fit_transform(flatiron_train1$biomarker_pdl1)\n",
    "\n",
    "label <- LabelEncoder$new()\n",
    "print(label$fit(flatiron_train1$biomarker_alk))\n",
    "flatiron_train1$biomarker_alk <- label$fit_transform(flatiron_train1$biomarker_alk)\n",
    "\n",
    "label <- LabelEncoder$new()\n",
    "print(label$fit(flatiron_train1$biomarker_ros1))\n",
    "flatiron_train1$biomarker_ros1 <- label$fit_transform(flatiron_train1$biomarker_ros1)\n",
    "\n",
    "label <- LabelEncoder$new()\n",
    "print(label$fit(flatiron_train1$biomarker_braf))\n",
    "flatiron_train1$biomarker_braf <- label$fit_transform(flatiron_train1$biomarker_braf)\n",
    "\n",
    "label <- LabelEncoder$new()\n",
    "print(label$fit(flatiron_train1$biomarker_egfr))\n",
    "flatiron_train1$biomarker_egfr <- label$fit_transform(flatiron_train1$biomarker_egfr)\n",
    "\n",
    "label <- LabelEncoder$new()\n",
    "print(label$fit(flatiron_train1$biomarker_kras))\n",
    "flatiron_train1$biomarker_kras <- label$fit_transform(flatiron_train1$biomarker_kras)"
   ]
  },
  {
   "cell_type": "code",
   "execution_count": 10,
   "id": "bc652978-097a-41ca-8cbd-1282f1e9c745",
   "metadata": {},
   "outputs": [
    {
     "data": {
      "text/html": [
       "<table class=\"dataframe\">\n",
       "<caption>A tibble: 6 × 29</caption>\n",
       "<thead>\n",
       "\t<tr><th scope=col>patientid</th><th scope=col>daysto_event</th><th scope=col>event_died</th><th scope=col>diagnosis_nsclc_year</th><th scope=col>diagnosis_ansclc_year</th><th scope=col>ecog</th><th scope=col>histology</th><th scope=col>groupstage</th><th scope=col>smokingstatus</th><th scope=col>birthyear</th><th scope=col>⋯</th><th scope=col>biomarker_kras</th><th scope=col>lab_creatinine</th><th scope=col>lab_alanineaminotransferase</th><th scope=col>lab_ldh</th><th scope=col>bmi</th><th scope=col>index_lot1_year</th><th scope=col>ageAtdiagnosis</th><th scope=col>yrsToprogress</th><th scope=col>TimetoTx</th><th scope=col>TxtoFail</th></tr>\n",
       "\t<tr><th scope=col>&lt;chr&gt;</th><th scope=col>&lt;dbl&gt;</th><th scope=col>&lt;dbl&gt;</th><th scope=col>&lt;dbl&gt;</th><th scope=col>&lt;dbl&gt;</th><th scope=col>&lt;dbl&gt;</th><th scope=col>&lt;chr&gt;</th><th scope=col>&lt;dbl&gt;</th><th scope=col>&lt;dbl&gt;</th><th scope=col>&lt;dbl&gt;</th><th scope=col>⋯</th><th scope=col>&lt;dbl&gt;</th><th scope=col>&lt;dbl&gt;</th><th scope=col>&lt;dbl&gt;</th><th scope=col>&lt;dbl&gt;</th><th scope=col>&lt;dbl&gt;</th><th scope=col>&lt;dbl&gt;</th><th scope=col>&lt;dbl&gt;</th><th scope=col>&lt;dbl&gt;</th><th scope=col>&lt;dbl&gt;</th><th scope=col>&lt;dbl&gt;</th></tr>\n",
       "</thead>\n",
       "<tbody>\n",
       "\t<tr><td>PHARML000001</td><td>156</td><td>0</td><td>2002</td><td>2019</td><td>0</td><td>Squamous cell carcinoma    </td><td>0</td><td>0</td><td>1951</td><td>⋯</td><td>0</td><td>0</td><td>0</td><td>0</td><td>19.34262</td><td>2019</td><td>51</td><td>17</td><td>17</td><td>0</td></tr>\n",
       "\t<tr><td>PHARML000003</td><td>190</td><td>1</td><td>2013</td><td>2014</td><td>1</td><td>Non-squamous cell carcinoma</td><td>1</td><td>0</td><td>1946</td><td>⋯</td><td>0</td><td>1</td><td>0</td><td>0</td><td>22.41903</td><td>2014</td><td>67</td><td> 1</td><td> 1</td><td>0</td></tr>\n",
       "\t<tr><td>PHARML000004</td><td> 74</td><td>1</td><td>2020</td><td>2020</td><td>1</td><td>Non-squamous cell carcinoma</td><td>2</td><td>0</td><td>1944</td><td>⋯</td><td>0</td><td>1</td><td>1</td><td>0</td><td>26.63880</td><td>2020</td><td>76</td><td> 0</td><td> 0</td><td>0</td></tr>\n",
       "\t<tr><td>PHARML000008</td><td> 52</td><td>1</td><td>2020</td><td>2020</td><td>0</td><td>Non-squamous cell carcinoma</td><td>3</td><td>0</td><td>1937</td><td>⋯</td><td>0</td><td>0</td><td>2</td><td>0</td><td>18.94848</td><td>2020</td><td>83</td><td> 0</td><td> 0</td><td>0</td></tr>\n",
       "\t<tr><td>PHARML000009</td><td>392</td><td>0</td><td>2021</td><td>2021</td><td>2</td><td>Non-squamous cell carcinoma</td><td>4</td><td>0</td><td>1966</td><td>⋯</td><td>0</td><td>0</td><td>0</td><td>1</td><td>21.33351</td><td>2021</td><td>55</td><td> 0</td><td> 0</td><td>0</td></tr>\n",
       "\t<tr><td>PHARML000011</td><td> 39</td><td>1</td><td>2017</td><td>2017</td><td>1</td><td>Non-squamous cell carcinoma</td><td>3</td><td>0</td><td>1943</td><td>⋯</td><td>0</td><td>0</td><td>0</td><td>2</td><td>16.65117</td><td>2017</td><td>74</td><td> 0</td><td> 0</td><td>0</td></tr>\n",
       "</tbody>\n",
       "</table>\n"
      ],
      "text/latex": [
       "A tibble: 6 × 29\n",
       "\\begin{tabular}{lllllllllllllllllllll}\n",
       " patientid & daysto\\_event & event\\_died & diagnosis\\_nsclc\\_year & diagnosis\\_ansclc\\_year & ecog & histology & groupstage & smokingstatus & birthyear & ⋯ & biomarker\\_kras & lab\\_creatinine & lab\\_alanineaminotransferase & lab\\_ldh & bmi & index\\_lot1\\_year & ageAtdiagnosis & yrsToprogress & TimetoTx & TxtoFail\\\\\n",
       " <chr> & <dbl> & <dbl> & <dbl> & <dbl> & <dbl> & <chr> & <dbl> & <dbl> & <dbl> & ⋯ & <dbl> & <dbl> & <dbl> & <dbl> & <dbl> & <dbl> & <dbl> & <dbl> & <dbl> & <dbl>\\\\\n",
       "\\hline\n",
       "\t PHARML000001 & 156 & 0 & 2002 & 2019 & 0 & Squamous cell carcinoma     & 0 & 0 & 1951 & ⋯ & 0 & 0 & 0 & 0 & 19.34262 & 2019 & 51 & 17 & 17 & 0\\\\\n",
       "\t PHARML000003 & 190 & 1 & 2013 & 2014 & 1 & Non-squamous cell carcinoma & 1 & 0 & 1946 & ⋯ & 0 & 1 & 0 & 0 & 22.41903 & 2014 & 67 &  1 &  1 & 0\\\\\n",
       "\t PHARML000004 &  74 & 1 & 2020 & 2020 & 1 & Non-squamous cell carcinoma & 2 & 0 & 1944 & ⋯ & 0 & 1 & 1 & 0 & 26.63880 & 2020 & 76 &  0 &  0 & 0\\\\\n",
       "\t PHARML000008 &  52 & 1 & 2020 & 2020 & 0 & Non-squamous cell carcinoma & 3 & 0 & 1937 & ⋯ & 0 & 0 & 2 & 0 & 18.94848 & 2020 & 83 &  0 &  0 & 0\\\\\n",
       "\t PHARML000009 & 392 & 0 & 2021 & 2021 & 2 & Non-squamous cell carcinoma & 4 & 0 & 1966 & ⋯ & 0 & 0 & 0 & 1 & 21.33351 & 2021 & 55 &  0 &  0 & 0\\\\\n",
       "\t PHARML000011 &  39 & 1 & 2017 & 2017 & 1 & Non-squamous cell carcinoma & 3 & 0 & 1943 & ⋯ & 0 & 0 & 0 & 2 & 16.65117 & 2017 & 74 &  0 &  0 & 0\\\\\n",
       "\\end{tabular}\n"
      ],
      "text/markdown": [
       "\n",
       "A tibble: 6 × 29\n",
       "\n",
       "| patientid &lt;chr&gt; | daysto_event &lt;dbl&gt; | event_died &lt;dbl&gt; | diagnosis_nsclc_year &lt;dbl&gt; | diagnosis_ansclc_year &lt;dbl&gt; | ecog &lt;dbl&gt; | histology &lt;chr&gt; | groupstage &lt;dbl&gt; | smokingstatus &lt;dbl&gt; | birthyear &lt;dbl&gt; | ⋯ ⋯ | biomarker_kras &lt;dbl&gt; | lab_creatinine &lt;dbl&gt; | lab_alanineaminotransferase &lt;dbl&gt; | lab_ldh &lt;dbl&gt; | bmi &lt;dbl&gt; | index_lot1_year &lt;dbl&gt; | ageAtdiagnosis &lt;dbl&gt; | yrsToprogress &lt;dbl&gt; | TimetoTx &lt;dbl&gt; | TxtoFail &lt;dbl&gt; |\n",
       "|---|---|---|---|---|---|---|---|---|---|---|---|---|---|---|---|---|---|---|---|---|\n",
       "| PHARML000001 | 156 | 0 | 2002 | 2019 | 0 | Squamous cell carcinoma     | 0 | 0 | 1951 | ⋯ | 0 | 0 | 0 | 0 | 19.34262 | 2019 | 51 | 17 | 17 | 0 |\n",
       "| PHARML000003 | 190 | 1 | 2013 | 2014 | 1 | Non-squamous cell carcinoma | 1 | 0 | 1946 | ⋯ | 0 | 1 | 0 | 0 | 22.41903 | 2014 | 67 |  1 |  1 | 0 |\n",
       "| PHARML000004 |  74 | 1 | 2020 | 2020 | 1 | Non-squamous cell carcinoma | 2 | 0 | 1944 | ⋯ | 0 | 1 | 1 | 0 | 26.63880 | 2020 | 76 |  0 |  0 | 0 |\n",
       "| PHARML000008 |  52 | 1 | 2020 | 2020 | 0 | Non-squamous cell carcinoma | 3 | 0 | 1937 | ⋯ | 0 | 0 | 2 | 0 | 18.94848 | 2020 | 83 |  0 |  0 | 0 |\n",
       "| PHARML000009 | 392 | 0 | 2021 | 2021 | 2 | Non-squamous cell carcinoma | 4 | 0 | 1966 | ⋯ | 0 | 0 | 0 | 1 | 21.33351 | 2021 | 55 |  0 |  0 | 0 |\n",
       "| PHARML000011 |  39 | 1 | 2017 | 2017 | 1 | Non-squamous cell carcinoma | 3 | 0 | 1943 | ⋯ | 0 | 0 | 0 | 2 | 16.65117 | 2017 | 74 |  0 |  0 | 0 |\n",
       "\n"
      ],
      "text/plain": [
       "  patientid    daysto_event event_died diagnosis_nsclc_year\n",
       "1 PHARML000001 156          0          2002                \n",
       "2 PHARML000003 190          1          2013                \n",
       "3 PHARML000004  74          1          2020                \n",
       "4 PHARML000008  52          1          2020                \n",
       "5 PHARML000009 392          0          2021                \n",
       "6 PHARML000011  39          1          2017                \n",
       "  diagnosis_ansclc_year ecog histology                   groupstage\n",
       "1 2019                  0    Squamous cell carcinoma     0         \n",
       "2 2014                  1    Non-squamous cell carcinoma 1         \n",
       "3 2020                  1    Non-squamous cell carcinoma 2         \n",
       "4 2020                  0    Non-squamous cell carcinoma 3         \n",
       "5 2021                  2    Non-squamous cell carcinoma 4         \n",
       "6 2017                  1    Non-squamous cell carcinoma 3         \n",
       "  smokingstatus birthyear ⋯ biomarker_kras lab_creatinine\n",
       "1 0             1951      ⋯ 0              0             \n",
       "2 0             1946      ⋯ 0              1             \n",
       "3 0             1944      ⋯ 0              1             \n",
       "4 0             1937      ⋯ 0              0             \n",
       "5 0             1966      ⋯ 0              0             \n",
       "6 0             1943      ⋯ 0              0             \n",
       "  lab_alanineaminotransferase lab_ldh bmi      index_lot1_year ageAtdiagnosis\n",
       "1 0                           0       19.34262 2019            51            \n",
       "2 0                           0       22.41903 2014            67            \n",
       "3 1                           0       26.63880 2020            76            \n",
       "4 2                           0       18.94848 2020            83            \n",
       "5 0                           1       21.33351 2021            55            \n",
       "6 0                           2       16.65117 2017            74            \n",
       "  yrsToprogress TimetoTx TxtoFail\n",
       "1 17            17       0       \n",
       "2  1             1       0       \n",
       "3  0             0       0       \n",
       "4  0             0       0       \n",
       "5  0             0       0       \n",
       "6  0             0       0       "
      ]
     },
     "metadata": {},
     "output_type": "display_data"
    }
   ],
   "source": [
    "flatiron_train2 <- flatiron_train1 %>% mutate(ageAtdiagnosis = diagnosis_nsclc_year - birthyear, \n",
    "    yrsToprogress = diagnosis_ansclc_year - diagnosis_nsclc_year, \n",
    "                                              TimetoTx = index_lot1_year - diagnosis_nsclc_year, \n",
    "                                            TxtoFail = diagnosis_ansclc_year - index_lot1_year)\n",
    "head(flatiron_train2)"
   ]
  },
  {
   "cell_type": "code",
   "execution_count": 11,
   "id": "99746625-7511-4a5b-8365-5d17440a868e",
   "metadata": {},
   "outputs": [
    {
     "data": {
      "text/html": [
       "<table class=\"dataframe\">\n",
       "<caption>A tibble: 6 × 29</caption>\n",
       "<thead>\n",
       "\t<tr><th scope=col>patientid</th><th scope=col>daysto_event</th><th scope=col>event_died</th><th scope=col>diagnosis_nsclc_year</th><th scope=col>diagnosis_ansclc_year</th><th scope=col>ecog</th><th scope=col>histology</th><th scope=col>groupstage</th><th scope=col>smokingstatus</th><th scope=col>birthyear</th><th scope=col>⋯</th><th scope=col>biomarker_kras</th><th scope=col>lab_creatinine</th><th scope=col>lab_alanineaminotransferase</th><th scope=col>lab_ldh</th><th scope=col>bmi</th><th scope=col>index_lot1_year</th><th scope=col>ageAtdiagnosis</th><th scope=col>yrsToprogress</th><th scope=col>TimetoTx</th><th scope=col>TxtoFail</th></tr>\n",
       "\t<tr><th scope=col>&lt;chr&gt;</th><th scope=col>&lt;dbl&gt;</th><th scope=col>&lt;dbl&gt;</th><th scope=col>&lt;dbl&gt;</th><th scope=col>&lt;dbl&gt;</th><th scope=col>&lt;dbl&gt;</th><th scope=col>&lt;chr&gt;</th><th scope=col>&lt;dbl&gt;</th><th scope=col>&lt;dbl&gt;</th><th scope=col>&lt;dbl&gt;</th><th scope=col>⋯</th><th scope=col>&lt;dbl&gt;</th><th scope=col>&lt;dbl&gt;</th><th scope=col>&lt;dbl&gt;</th><th scope=col>&lt;dbl&gt;</th><th scope=col>&lt;dbl&gt;</th><th scope=col>&lt;dbl&gt;</th><th scope=col>&lt;dbl&gt;</th><th scope=col>&lt;dbl&gt;</th><th scope=col>&lt;dbl&gt;</th><th scope=col>&lt;dbl&gt;</th></tr>\n",
       "</thead>\n",
       "<tbody>\n",
       "\t<tr><td>PHARML000001</td><td>156</td><td>0</td><td>2002</td><td>2019</td><td>0</td><td>Squamous cell carcinoma    </td><td>0</td><td>0</td><td>1951</td><td>⋯</td><td>0</td><td>0</td><td>0</td><td>0</td><td>19.34262</td><td>2019</td><td>51</td><td>17</td><td>17</td><td>0</td></tr>\n",
       "\t<tr><td>PHARML000003</td><td>190</td><td>1</td><td>2013</td><td>2014</td><td>1</td><td>Non-squamous cell carcinoma</td><td>1</td><td>0</td><td>1946</td><td>⋯</td><td>0</td><td>1</td><td>0</td><td>0</td><td>22.41903</td><td>2014</td><td>67</td><td> 1</td><td> 1</td><td>0</td></tr>\n",
       "\t<tr><td>PHARML000004</td><td> 74</td><td>1</td><td>2020</td><td>2020</td><td>1</td><td>Non-squamous cell carcinoma</td><td>2</td><td>0</td><td>1944</td><td>⋯</td><td>0</td><td>1</td><td>1</td><td>0</td><td>26.63880</td><td>2020</td><td>76</td><td> 0</td><td> 0</td><td>0</td></tr>\n",
       "\t<tr><td>PHARML000008</td><td> 52</td><td>1</td><td>2020</td><td>2020</td><td>0</td><td>Non-squamous cell carcinoma</td><td>3</td><td>0</td><td>1937</td><td>⋯</td><td>0</td><td>0</td><td>2</td><td>0</td><td>18.94848</td><td>2020</td><td>83</td><td> 0</td><td> 0</td><td>0</td></tr>\n",
       "\t<tr><td>PHARML000009</td><td>392</td><td>0</td><td>2021</td><td>2021</td><td>2</td><td>Non-squamous cell carcinoma</td><td>4</td><td>0</td><td>1966</td><td>⋯</td><td>0</td><td>0</td><td>0</td><td>1</td><td>21.33351</td><td>2021</td><td>55</td><td> 0</td><td> 0</td><td>0</td></tr>\n",
       "\t<tr><td>PHARML000011</td><td> 39</td><td>1</td><td>2017</td><td>2017</td><td>1</td><td>Non-squamous cell carcinoma</td><td>3</td><td>0</td><td>1943</td><td>⋯</td><td>0</td><td>0</td><td>0</td><td>2</td><td>16.65117</td><td>2017</td><td>74</td><td> 0</td><td> 0</td><td>0</td></tr>\n",
       "</tbody>\n",
       "</table>\n"
      ],
      "text/latex": [
       "A tibble: 6 × 29\n",
       "\\begin{tabular}{lllllllllllllllllllll}\n",
       " patientid & daysto\\_event & event\\_died & diagnosis\\_nsclc\\_year & diagnosis\\_ansclc\\_year & ecog & histology & groupstage & smokingstatus & birthyear & ⋯ & biomarker\\_kras & lab\\_creatinine & lab\\_alanineaminotransferase & lab\\_ldh & bmi & index\\_lot1\\_year & ageAtdiagnosis & yrsToprogress & TimetoTx & TxtoFail\\\\\n",
       " <chr> & <dbl> & <dbl> & <dbl> & <dbl> & <dbl> & <chr> & <dbl> & <dbl> & <dbl> & ⋯ & <dbl> & <dbl> & <dbl> & <dbl> & <dbl> & <dbl> & <dbl> & <dbl> & <dbl> & <dbl>\\\\\n",
       "\\hline\n",
       "\t PHARML000001 & 156 & 0 & 2002 & 2019 & 0 & Squamous cell carcinoma     & 0 & 0 & 1951 & ⋯ & 0 & 0 & 0 & 0 & 19.34262 & 2019 & 51 & 17 & 17 & 0\\\\\n",
       "\t PHARML000003 & 190 & 1 & 2013 & 2014 & 1 & Non-squamous cell carcinoma & 1 & 0 & 1946 & ⋯ & 0 & 1 & 0 & 0 & 22.41903 & 2014 & 67 &  1 &  1 & 0\\\\\n",
       "\t PHARML000004 &  74 & 1 & 2020 & 2020 & 1 & Non-squamous cell carcinoma & 2 & 0 & 1944 & ⋯ & 0 & 1 & 1 & 0 & 26.63880 & 2020 & 76 &  0 &  0 & 0\\\\\n",
       "\t PHARML000008 &  52 & 1 & 2020 & 2020 & 0 & Non-squamous cell carcinoma & 3 & 0 & 1937 & ⋯ & 0 & 0 & 2 & 0 & 18.94848 & 2020 & 83 &  0 &  0 & 0\\\\\n",
       "\t PHARML000009 & 392 & 0 & 2021 & 2021 & 2 & Non-squamous cell carcinoma & 4 & 0 & 1966 & ⋯ & 0 & 0 & 0 & 1 & 21.33351 & 2021 & 55 &  0 &  0 & 0\\\\\n",
       "\t PHARML000011 &  39 & 1 & 2017 & 2017 & 1 & Non-squamous cell carcinoma & 3 & 0 & 1943 & ⋯ & 0 & 0 & 0 & 2 & 16.65117 & 2017 & 74 &  0 &  0 & 0\\\\\n",
       "\\end{tabular}\n"
      ],
      "text/markdown": [
       "\n",
       "A tibble: 6 × 29\n",
       "\n",
       "| patientid &lt;chr&gt; | daysto_event &lt;dbl&gt; | event_died &lt;dbl&gt; | diagnosis_nsclc_year &lt;dbl&gt; | diagnosis_ansclc_year &lt;dbl&gt; | ecog &lt;dbl&gt; | histology &lt;chr&gt; | groupstage &lt;dbl&gt; | smokingstatus &lt;dbl&gt; | birthyear &lt;dbl&gt; | ⋯ ⋯ | biomarker_kras &lt;dbl&gt; | lab_creatinine &lt;dbl&gt; | lab_alanineaminotransferase &lt;dbl&gt; | lab_ldh &lt;dbl&gt; | bmi &lt;dbl&gt; | index_lot1_year &lt;dbl&gt; | ageAtdiagnosis &lt;dbl&gt; | yrsToprogress &lt;dbl&gt; | TimetoTx &lt;dbl&gt; | TxtoFail &lt;dbl&gt; |\n",
       "|---|---|---|---|---|---|---|---|---|---|---|---|---|---|---|---|---|---|---|---|---|\n",
       "| PHARML000001 | 156 | 0 | 2002 | 2019 | 0 | Squamous cell carcinoma     | 0 | 0 | 1951 | ⋯ | 0 | 0 | 0 | 0 | 19.34262 | 2019 | 51 | 17 | 17 | 0 |\n",
       "| PHARML000003 | 190 | 1 | 2013 | 2014 | 1 | Non-squamous cell carcinoma | 1 | 0 | 1946 | ⋯ | 0 | 1 | 0 | 0 | 22.41903 | 2014 | 67 |  1 |  1 | 0 |\n",
       "| PHARML000004 |  74 | 1 | 2020 | 2020 | 1 | Non-squamous cell carcinoma | 2 | 0 | 1944 | ⋯ | 0 | 1 | 1 | 0 | 26.63880 | 2020 | 76 |  0 |  0 | 0 |\n",
       "| PHARML000008 |  52 | 1 | 2020 | 2020 | 0 | Non-squamous cell carcinoma | 3 | 0 | 1937 | ⋯ | 0 | 0 | 2 | 0 | 18.94848 | 2020 | 83 |  0 |  0 | 0 |\n",
       "| PHARML000009 | 392 | 0 | 2021 | 2021 | 2 | Non-squamous cell carcinoma | 4 | 0 | 1966 | ⋯ | 0 | 0 | 0 | 1 | 21.33351 | 2021 | 55 |  0 |  0 | 0 |\n",
       "| PHARML000011 |  39 | 1 | 2017 | 2017 | 1 | Non-squamous cell carcinoma | 3 | 0 | 1943 | ⋯ | 0 | 0 | 0 | 2 | 16.65117 | 2017 | 74 |  0 |  0 | 0 |\n",
       "\n"
      ],
      "text/plain": [
       "  patientid    daysto_event event_died diagnosis_nsclc_year\n",
       "1 PHARML000001 156          0          2002                \n",
       "2 PHARML000003 190          1          2013                \n",
       "3 PHARML000004  74          1          2020                \n",
       "4 PHARML000008  52          1          2020                \n",
       "5 PHARML000009 392          0          2021                \n",
       "6 PHARML000011  39          1          2017                \n",
       "  diagnosis_ansclc_year ecog histology                   groupstage\n",
       "1 2019                  0    Squamous cell carcinoma     0         \n",
       "2 2014                  1    Non-squamous cell carcinoma 1         \n",
       "3 2020                  1    Non-squamous cell carcinoma 2         \n",
       "4 2020                  0    Non-squamous cell carcinoma 3         \n",
       "5 2021                  2    Non-squamous cell carcinoma 4         \n",
       "6 2017                  1    Non-squamous cell carcinoma 3         \n",
       "  smokingstatus birthyear ⋯ biomarker_kras lab_creatinine\n",
       "1 0             1951      ⋯ 0              0             \n",
       "2 0             1946      ⋯ 0              1             \n",
       "3 0             1944      ⋯ 0              1             \n",
       "4 0             1937      ⋯ 0              0             \n",
       "5 0             1966      ⋯ 0              0             \n",
       "6 0             1943      ⋯ 0              0             \n",
       "  lab_alanineaminotransferase lab_ldh bmi      index_lot1_year ageAtdiagnosis\n",
       "1 0                           0       19.34262 2019            51            \n",
       "2 0                           0       22.41903 2014            67            \n",
       "3 1                           0       26.63880 2020            76            \n",
       "4 2                           0       18.94848 2020            83            \n",
       "5 0                           1       21.33351 2021            55            \n",
       "6 0                           2       16.65117 2017            74            \n",
       "  yrsToprogress TimetoTx TxtoFail\n",
       "1 17            17       0       \n",
       "2  1             1       0       \n",
       "3  0             0       0       \n",
       "4  0             0       0       \n",
       "5  0             0       0       \n",
       "6  0             0       0       "
      ]
     },
     "metadata": {},
     "output_type": "display_data"
    }
   ],
   "source": [
    "flatiron_train3 <- flatiron_train2 %>% \n",
    "                        mutate(squam_cells = ifelse(histology == \"Squamous cell carcinoma\", 1, 0), \n",
    "                        non_squamCells = ifelse(histology == \"Non-squamous cell carcinoma\", 1, 0), \n",
    "                        NSCLC = ifelse(histology == \"NSCLC histology NOS\", 1, 0), \n",
    "                        Hisp_Latino = ifelse(raceethnicity == \"Hispanic or Latino (any)\", 1, 0), \n",
    "                        White = ifelse(raceethnicity == \"Non-Hispanic White\", 1, 0), \n",
    "                        Black = ifelse(raceethnicity == \"Non-Hispanic Black\", 1, 0), \n",
    "                        Asian = ifelse(raceethnicity == \"Non-Hispanic Asian\", 1, 0), \n",
    "                        Other_Race = ifelse(raceethnicity == \"Other Race\", 1, 0),\n",
    "                        Midwest = ifelse(region == \"Midwest\", 1, 0),\n",
    "                        Northeast = ifelse(region == \"Northeast\", 1, 0),\n",
    "                        South = ifelse(region == \"South\", 1, 0),\n",
    "                        West = ifelse(region == \"West\", 1, 0),\n",
    "                        Other = ifelse(region == \"0\", 1, 0),\n",
    "                        Chemotherapy = ifelse(lot_category == \"Chemotherapy\", 1, 0),\n",
    "                        Immunotherapy = ifelse(lot_category == \"Immunotherapy\", 1, 0),\n",
    "                        TargBiologic = ifelse(lot_category == \"Targeted/Biologic\", 1, 0),\n",
    "                        TargNonBiologic = ifelse(lot_category == \"Targeted/Non-Biologic\", 1, 0),\n",
    "                        Hormone = ifelse(lot_category == \"Hormone\", 1, 0),\n",
    "                        AntibodyConj = ifelse(lot_category == \"Antibody-Conjugate\", 1, 0),\n",
    "                        Cytoprotective = ifelse(lot_category == \"Cytoprotective\", 1, 0))\n",
    "                               \n",
    "head(flatiron_train2)"
   ]
  },
  {
   "cell_type": "code",
   "execution_count": 12,
   "id": "3a099a95-794d-407f-a1a2-dbb736c58ac0",
   "metadata": {},
   "outputs": [],
   "source": [
    "flatiron_select <- flatiron_train3 %>% select(-diagnosis_nsclc_year, -diagnosis_ansclc_year, -histology, \n",
    "                            -raceethnicity, -region, -lot_category, -index_lot1_year, -Midwest, -South,\n",
    "                               -Other_Race, -Northeast, -West, -Other, -lab_ldh, -birthyear, -TxtoFail,\n",
    "                            -lab_alanineaminotransferase, -lab_creatinine, -patientid, -Cytoprotective, \n",
    "                            -Other, -Other_Race, -NSCLC)"
   ]
  },
  {
   "cell_type": "code",
   "execution_count": 13,
   "id": "aae7f818-289b-4eb6-8ed3-68869b6c420c",
   "metadata": {},
   "outputs": [
    {
     "name": "stderr",
     "output_type": "stream",
     "text": [
      "\n",
      "Attaching package: ‘survival’\n",
      "\n",
      "\n",
      "The following object is masked from ‘package:caret’:\n",
      "\n",
      "    cluster\n",
      "\n",
      "\n"
     ]
    }
   ],
   "source": [
    "library(\"survival\", lib.loc=.libPaths(\"/tmp/RtmpopXkDN/downloaded_packages\"))"
   ]
  },
  {
   "cell_type": "code",
   "execution_count": 14,
   "id": "9acf49ad-522e-43b7-9126-12498b40249e",
   "metadata": {},
   "outputs": [],
   "source": [
    "flatiron_select1 <- na.exclude(flatiron_select)"
   ]
  },
  {
   "cell_type": "code",
   "execution_count": 15,
   "id": "5fe03035-7a9e-468e-a615-894c61b91252",
   "metadata": {},
   "outputs": [
    {
     "name": "stdout",
     "output_type": "stream",
     "text": [
      "+ Fold1: intercept=TRUE \n",
      "- Fold1: intercept=TRUE \n",
      "+ Fold2: intercept=TRUE \n",
      "- Fold2: intercept=TRUE \n",
      "+ Fold3: intercept=TRUE \n",
      "- Fold3: intercept=TRUE \n",
      "+ Fold4: intercept=TRUE \n",
      "- Fold4: intercept=TRUE \n",
      "+ Fold5: intercept=TRUE \n",
      "- Fold5: intercept=TRUE \n",
      "Aggregating results\n",
      "Fitting final model on full training set\n"
     ]
    },
    {
     "data": {
      "text/plain": [
       "Linear Regression \n",
       "\n",
       "30471 samples\n",
       "   27 predictor\n",
       "\n",
       "No pre-processing\n",
       "Resampling: Cross-Validated (5 fold) \n",
       "Summary of sample sizes: 24377, 24376, 24377, 24377, 24377 \n",
       "Resampling results:\n",
       "\n",
       "  RMSE      Rsquared  MAE     \n",
       "  528.5786  0.110594  372.1656\n",
       "\n",
       "Tuning parameter 'intercept' was held constant at a value of TRUE"
      ]
     },
     "metadata": {},
     "output_type": "display_data"
    }
   ],
   "source": [
    "#5 fold cross validation\n",
    "# Fit lm model using 5-fold CV: model\n",
    "\n",
    "\n",
    "#set seed for model reproducibility\n",
    "set.seed(42)\n",
    "model <- train(\n",
    "  daysto_event ~ ., \n",
    "  flatiron_select1,\n",
    "  method = \"lm\",\n",
    "  trControl = trainControl(\n",
    "    method = \"cv\", \n",
    "    number = 5,\n",
    "    verboseIter = TRUE\n",
    "    \n",
    "  )\n",
    ")\n",
    "\n",
    "# Print model to console\n",
    "model"
   ]
  },
  {
   "cell_type": "code",
   "execution_count": 16,
   "id": "5d0d9178-2ce0-480d-8984-76b00adb5ebc",
   "metadata": {},
   "outputs": [
    {
     "data": {
      "text/html": [
       "30471"
      ],
      "text/latex": [
       "30471"
      ],
      "text/markdown": [
       "30471"
      ],
      "text/plain": [
       "[1] 30471"
      ]
     },
     "metadata": {},
     "output_type": "display_data"
    },
    {
     "data": {
      "text/html": [
       "22853"
      ],
      "text/latex": [
       "22853"
      ],
      "text/markdown": [
       "22853"
      ],
      "text/plain": [
       "[1] 22853"
      ]
     },
     "metadata": {},
     "output_type": "display_data"
    },
    {
     "data": {
      "text/html": [
       "22808"
      ],
      "text/latex": [
       "22808"
      ],
      "text/markdown": [
       "22808"
      ],
      "text/plain": [
       "[1] 22808"
      ]
     },
     "metadata": {},
     "output_type": "display_data"
    },
    {
     "data": {
      "text/html": [
       "7663"
      ],
      "text/latex": [
       "7663"
      ],
      "text/markdown": [
       "7663"
      ],
      "text/plain": [
       "[1] 7663"
      ]
     },
     "metadata": {},
     "output_type": "display_data"
    }
   ],
   "source": [
    "#Split datasets into Train/Predict sets\n",
    "N_UK <- nrow(flatiron_select1)\n",
    "N_UK\n",
    "\n",
    "#Number of rows of training data required for model\n",
    "target_UK <- round(N_UK * 0.75)\n",
    "target_UK\n",
    "\n",
    "#Creating vector of N_UK uniform variables\n",
    "gp_UK <- runif(N_UK)\n",
    "\n",
    "#Create training set flatiron_trainSet (75% of data) & flatiron_predictSet (25% of data)\n",
    "flatiron_trainSet <- flatiron_select1[gp_UK < 0.75, ]\n",
    "flatiron_validSet <- flatiron_select1[gp_UK >= 0.75, ]\n",
    "\n",
    "#Examine flatiron_trainSet and flatiron_predictSet datasets\n",
    "nrow(flatiron_trainSet)\n",
    "nrow(flatiron_validSet)"
   ]
  },
  {
   "cell_type": "code",
   "execution_count": 17,
   "id": "79ebcab4-8dc0-4660-a260-94e60ab848ab",
   "metadata": {},
   "outputs": [
    {
     "name": "stderr",
     "output_type": "stream",
     "text": [
      "Loading required package: Hmisc\n",
      "\n",
      "Loading required package: Formula\n",
      "\n",
      "\n",
      "Attaching package: ‘Hmisc’\n",
      "\n",
      "\n",
      "The following objects are masked from ‘package:dplyr’:\n",
      "\n",
      "    src, summarize\n",
      "\n",
      "\n",
      "The following objects are masked from ‘package:base’:\n",
      "\n",
      "    format.pval, units\n",
      "\n",
      "\n",
      "Loading required package: SparseM\n",
      "\n",
      "\n",
      "Attaching package: ‘SparseM’\n",
      "\n",
      "\n",
      "The following object is masked from ‘package:base’:\n",
      "\n",
      "    backsolve\n",
      "\n",
      "\n"
     ]
    }
   ],
   "source": [
    "library(\"rms\", lib.loc=.libPaths(\"/tmp/RtmpopXkDN/downloaded_packages\"))"
   ]
  },
  {
   "cell_type": "code",
   "execution_count": 21,
   "id": "5690bd99-4ded-4a92-8af6-acd73841db1e",
   "metadata": {},
   "outputs": [],
   "source": [
    "#Fit a Multivariate COX PH regression analysis model\n",
    "units(flatiron_trainSet$daysto_event) <- \"Days\"\n",
    "dd <- datadist(flatiron_trainSet)\n",
    "options(datadist = \"dd\")\n",
    "fitCPH1 <- cph(Surv(daysto_event, event_died) ~ \n",
    "               biomarker_pdl1 + biomarker_egfr + biomarker_alk + biomarker_ros1  + ecog + bmi + \n",
    "               ageAtdiagnosis + biomarker_braf + biomarker_kras + yrsToprogress + TimetoTx + gender + \n",
    "               groupstage + smokingstatus + ecog + squam_cells + non_squamCells +  + Hisp_Latino + Black + \n",
    "               White + Asian + Chemotherapy + Immunotherapy + Hormone + TargBiologic + TargNonBiologic +\n",
    "               AntibodyConj, \n",
    "               data = flatiron_trainSet, x = TRUE, y = TRUE, surv = TRUE, time.inc = 1) "
   ]
  },
  {
   "cell_type": "code",
   "execution_count": 22,
   "id": "32ebc364-616d-4624-9ad8-f13727ecd78c",
   "metadata": {},
   "outputs": [
    {
     "name": "stdout",
     "output_type": "stream",
     "text": [
      "Cox Proportional Hazards Model\n",
      " \n",
      " cph(formula = Surv(daysto_event, event_died) ~ biomarker_pdl1 + \n",
      "     biomarker_egfr + biomarker_alk + biomarker_ros1 + ecog + \n",
      "     bmi + ageAtdiagnosis + biomarker_braf + biomarker_kras + \n",
      "     yrsToprogress + TimetoTx + gender + groupstage + smokingstatus + \n",
      "     ecog + squam_cells + non_squamCells + +Hisp_Latino + Black + \n",
      "     White + Asian + Chemotherapy + Immunotherapy + Hormone + \n",
      "     TargBiologic + TargNonBiologic + AntibodyConj, data = flatiron_trainSet, \n",
      "     x = TRUE, y = TRUE, surv = TRUE, time.inc = 1)\n",
      " \n",
      "                          Model Tests       Discrimination    \n",
      "                                                   Indexes    \n",
      " Obs      22808    LR chi2    1403.60       R2       0.060    \n",
      " Events   16582    d.f.            26    R2(26,22808)0.059    \n",
      " Center -0.2998    Pr(> chi2)  0.0000    R2(26,16582)0.080    \n",
      "                   Score chi2 1377.56       Dxy      0.190    \n",
      "                   Pr(> chi2)  0.0000                         \n",
      " \n",
      "                 Coef    S.E.   Wald Z Pr(>|Z|)\n",
      " biomarker_pdl1  -0.0091 0.0597  -0.15 0.8792  \n",
      " biomarker_egfr   0.0385 0.0900   0.43 0.6690  \n",
      " biomarker_alk   -0.0894 0.1194  -0.75 0.4543  \n",
      " biomarker_ros1  -0.3158 0.1292  -2.44 0.0145  \n",
      " ecog             0.0799 0.0070  11.47 <0.0001 \n",
      " bmi             -0.0144 0.0014 -10.25 <0.0001 \n",
      " ageAtdiagnosis   0.0100 0.0009  11.29 <0.0001 \n",
      " biomarker_braf   0.3874 0.1317   2.94 0.0033  \n",
      " biomarker_kras  -0.0075 0.1018  -0.07 0.9412  \n",
      " yrsToprogress    0.0272 0.0278   0.98 0.3281  \n",
      " TimetoTx        -0.0661 0.0272  -2.43 0.0151  \n",
      " gender          -0.1925 0.0160 -12.06 <0.0001 \n",
      " groupstage      -0.0169 0.0032  -5.34 <0.0001 \n",
      " smokingstatus   -0.1394 0.0249  -5.59 <0.0001 \n",
      " squam_cells     -0.2686 0.0370  -7.25 <0.0001 \n",
      " non_squamCells  -0.3310 0.0352  -9.42 <0.0001 \n",
      " Hisp_Latino     -0.1989 0.0252  -7.89 <0.0001 \n",
      " Black           -0.0965 0.0771  -1.25 0.2107  \n",
      " White           -0.0834 0.0363  -2.30 0.0215  \n",
      " Asian           -0.5712 0.1557  -3.67 0.0002  \n",
      " Chemotherapy     0.4001 0.0391  10.24 <0.0001 \n",
      " Immunotherapy   -0.0639 0.0262  -2.44 0.0146  \n",
      " Hormone          0.1117 0.1465   0.76 0.4460  \n",
      " TargBiologic     0.4231 0.2892   1.46 0.1434  \n",
      " TargNonBiologic -0.3748 0.0298 -12.58 <0.0001 \n",
      " AntibodyConj    -0.7577 0.9844  -0.77 0.4414  \n",
      " \n"
     ]
    }
   ],
   "source": [
    "print(fitCPH1)"
   ]
  },
  {
   "cell_type": "code",
   "execution_count": 23,
   "id": "32f3f197-42f0-449f-acd4-10b2ddc3c767",
   "metadata": {},
   "outputs": [],
   "source": [
    "#Fit a Multivariate COX PH regression analysis model\n",
    "units(flatiron_trainSet$daysto_event) <- \"Days\"\n",
    "dd <- datadist(flatiron_trainSet)\n",
    "options(datadist = \"dd\")\n",
    "fitCPH2 <- cph(Surv(daysto_event, event_died) ~ \n",
    "               biomarker_pdl1 + biomarker_egfr + biomarker_alk + biomarker_ros1  + ecog + bmi + \n",
    "               ageAtdiagnosis + biomarker_braf + biomarker_kras + yrsToprogress + TimetoTx + gender + \n",
    "               groupstage + smokingstatus + ecog + squam_cells + non_squamCells +  + Hisp_Latino + Black + \n",
    "               White + Asian + Chemotherapy + Immunotherapy + Hormone + TargBiologic + TargNonBiologic +\n",
    "               AntibodyConj + groupstage * bmi + smokingstatus * ecog + ageAtdiagnosis * smokingstatus +\n",
    "               biomarker_egfr * groupstage, \n",
    "               data = flatiron_trainSet, x = TRUE, y = TRUE, surv = TRUE, time.inc = 1) "
   ]
  },
  {
   "cell_type": "code",
   "execution_count": 24,
   "id": "e9fa0438-c26e-4dd7-b44b-ef3c021e6ad6",
   "metadata": {},
   "outputs": [
    {
     "name": "stdout",
     "output_type": "stream",
     "text": [
      "Cox Proportional Hazards Model\n",
      " \n",
      " cph(formula = Surv(daysto_event, event_died) ~ biomarker_pdl1 + \n",
      "     biomarker_egfr + biomarker_alk + biomarker_ros1 + ecog + \n",
      "     bmi + ageAtdiagnosis + biomarker_braf + biomarker_kras + \n",
      "     yrsToprogress + TimetoTx + gender + groupstage + smokingstatus + \n",
      "     ecog + squam_cells + non_squamCells + +Hisp_Latino + Black + \n",
      "     White + Asian + Chemotherapy + Immunotherapy + Hormone + \n",
      "     TargBiologic + TargNonBiologic + AntibodyConj + groupstage * \n",
      "     bmi + smokingstatus * ecog + ageAtdiagnosis * smokingstatus + \n",
      "     biomarker_egfr * groupstage, data = flatiron_trainSet, x = TRUE, \n",
      "     y = TRUE, surv = TRUE, time.inc = 1)\n",
      " \n",
      "                          Model Tests       Discrimination    \n",
      "                                                   Indexes    \n",
      " Obs      22808    LR chi2    1418.19       R2       0.060    \n",
      " Events   16582    d.f.            30    R2(30,22808)0.059    \n",
      " Center -0.3797    Pr(> chi2)  0.0000    R2(30,16582)0.080    \n",
      "                   Score chi2 1383.61       Dxy      0.191    \n",
      "                   Pr(> chi2)  0.0000                         \n",
      " \n",
      "                                Coef    S.E.   Wald Z Pr(>|Z|)\n",
      " biomarker_pdl1                 -0.0087 0.0598  -0.15 0.8842  \n",
      " biomarker_egfr                 -0.0713 0.1148  -0.62 0.5346  \n",
      " biomarker_alk                  -0.0956 0.1200  -0.80 0.4256  \n",
      " biomarker_ros1                 -0.3297 0.1299  -2.54 0.0112  \n",
      " ecog                            0.0801 0.0074  10.86 <0.0001 \n",
      " bmi                            -0.0139 0.0026  -5.46 <0.0001 \n",
      " ageAtdiagnosis                  0.0086 0.0010   8.95 <0.0001 \n",
      " biomarker_braf                  0.4018 0.1314   3.06 0.0022  \n",
      " biomarker_kras                  0.0018 0.1010   0.02 0.9859  \n",
      " yrsToprogress                   0.0274 0.0278   0.98 0.3251  \n",
      " TimetoTx                       -0.0664 0.0272  -2.44 0.0146  \n",
      " gender                         -0.1934 0.0160 -12.11 <0.0001 \n",
      " groupstage                     -0.0147 0.0142  -1.03 0.3028  \n",
      " smokingstatus                  -0.6718 0.1610  -4.17 <0.0001 \n",
      " squam_cells                    -0.2670 0.0371  -7.20 <0.0001 \n",
      " non_squamCells                 -0.3303 0.0352  -9.39 <0.0001 \n",
      " Hisp_Latino                    -0.1982 0.0252  -7.86 <0.0001 \n",
      " Black                          -0.0911 0.0771  -1.18 0.2376  \n",
      " White                          -0.0822 0.0363  -2.27 0.0234  \n",
      " Asian                          -0.5828 0.1565  -3.72 0.0002  \n",
      " Chemotherapy                    0.3944 0.0392  10.07 <0.0001 \n",
      " Immunotherapy                  -0.0622 0.0262  -2.38 0.0175  \n",
      " Hormone                         0.1133 0.1465   0.77 0.4392  \n",
      " TargBiologic                    0.4327 0.2892   1.50 0.1346  \n",
      " TargNonBiologic                -0.3741 0.0298 -12.55 <0.0001 \n",
      " AntibodyConj                   -0.8124 1.0001  -0.81 0.4166  \n",
      " bmi * groupstage               -0.0001 0.0005  -0.23 0.8210  \n",
      " ecog * smokingstatus           -0.0001 0.0217   0.00 0.9968  \n",
      " ageAtdiagnosis * smokingstatus  0.0079 0.0023   3.40 0.0007  \n",
      " biomarker_egfr * groupstage     0.0223 0.0134   1.67 0.0952  \n",
      " \n"
     ]
    }
   ],
   "source": [
    "print(fitCPH2)"
   ]
  },
  {
   "cell_type": "code",
   "execution_count": 25,
   "id": "81fac4e9-82e1-45ce-ae61-ffd8173d95fd",
   "metadata": {},
   "outputs": [
    {
     "data": {
      "text/plain": [
       "      index.orig training   test optimism index.corrected  n\n",
       "Dxy       0.1912   0.1913 0.1883   0.0029          0.1882 10\n",
       "R2        0.0603   0.0604 0.0586   0.0019          0.0584 10\n",
       "Slope     1.0000   1.0000 0.9799   0.0201          0.9799 10\n",
       "D         0.0046   0.0047 0.0060  -0.0013          0.0059 10\n",
       "U         0.0000   0.0000 0.0001  -0.0001          0.0001 10\n",
       "Q         0.0047   0.0047 0.0059  -0.0012          0.0058 10\n",
       "g         0.3353   0.3357 0.3287   0.0069          0.3283 10"
      ]
     },
     "metadata": {},
     "output_type": "display_data"
    }
   ],
   "source": [
    "#Validating the model\n",
    "\n",
    "validate(fitCPH2, method = \"crossvalidation\", B = 10, pr = FALSE)"
   ]
  },
  {
   "cell_type": "code",
   "execution_count": 26,
   "id": "dbd6f80c-75ad-4ab7-8566-c40a9b0c6146",
   "metadata": {},
   "outputs": [],
   "source": [
    "library(\"dynpred\", \"/tmp/RtmpopXkDN/downloaded_packages\")"
   ]
  },
  {
   "cell_type": "code",
   "execution_count": 27,
   "id": "36359fdd-73e3-4380-bfb1-bd46e7a01715",
   "metadata": {},
   "outputs": [
    {
     "data": {
      "text/html": [
       "<dl>\n",
       "\t<dt>$concordant</dt>\n",
       "\t\t<dd>12252270</dd>\n",
       "\t<dt>$total</dt>\n",
       "\t\t<dd>22637044</dd>\n",
       "\t<dt>$cindex</dt>\n",
       "\t\t<dd>0.541248671867228</dd>\n",
       "</dl>\n"
      ],
      "text/latex": [
       "\\begin{description}\n",
       "\\item[\\$concordant] 12252270\n",
       "\\item[\\$total] 22637044\n",
       "\\item[\\$cindex] 0.541248671867228\n",
       "\\end{description}\n"
      ],
      "text/markdown": [
       "$concordant\n",
       ":   12252270\n",
       "$total\n",
       ":   22637044\n",
       "$cindex\n",
       ":   0.541248671867228\n",
       "\n",
       "\n"
      ],
      "text/plain": [
       "$concordant\n",
       "[1] 12252270\n",
       "\n",
       "$total\n",
       "[1] 22637044\n",
       "\n",
       "$cindex\n",
       "[1] 0.5412487\n"
      ]
     },
     "metadata": {},
     "output_type": "display_data"
    }
   ],
   "source": [
    "#Compute concordance index on validation set\n",
    "cindex(Surv(daysto_event, event_died) ~ yrsToprogress + bmi, data = flatiron_validSet)"
   ]
  },
  {
   "cell_type": "code",
   "execution_count": 28,
   "id": "f422c130-3d3b-4b3b-8ef0-dd5ce6772ea0",
   "metadata": {},
   "outputs": [
    {
     "name": "stderr",
     "output_type": "stream",
     "text": [
      "Loading required package: prodlim\n",
      "\n",
      "\n",
      "Attaching package: ‘pec’\n",
      "\n",
      "\n",
      "The following object is masked from ‘package:dynpred’:\n",
      "\n",
      "    cindex\n",
      "\n",
      "\n",
      "The following object is masked from ‘package:caret’:\n",
      "\n",
      "    R2\n",
      "\n",
      "\n"
     ]
    }
   ],
   "source": [
    "library(\"pec\", \"/tmp/RtmpopXkDN/downloaded_packages\")"
   ]
  },
  {
   "cell_type": "code",
   "execution_count": 29,
   "id": "88d18b0d-6269-43e8-beab-6915967af5b0",
   "metadata": {},
   "outputs": [],
   "source": [
    "A1 <- pec::cindex(list(\"Cox X1\"=fitCPH2),\n",
    "formula=Surv(daysto_event, event_died) ~ ecog + groupstage + smokingstatus + \n",
    "               squam_cells + non_squamCells + biomarker_pdl1 + biomarker_egfr + biomarker_alk \n",
    "               + biomarker_braf + biomarker_ros1 + biomarker_kras + bmi + ageAtdiagnosis + yrsToprogress + \n",
    "                TimetoTx + gender + Hisp_Latino + Black + White + Asian,\n",
    "data=flatiron_select1,\n",
    "eval.times=1)"
   ]
  },
  {
   "cell_type": "code",
   "execution_count": 30,
   "id": "02c25e87-1002-4bbd-beed-99cebd29bb72",
   "metadata": {},
   "outputs": [
    {
     "data": {
      "text/plain": [
       "$AppCindex\n",
       "$AppCindex$`Cox X1`\n",
       "[1] 0.6930943\n",
       "\n",
       "\n",
       "$Pairs\n",
       "$Pairs$`Cox X1`\n",
       "[1] 1219622\n",
       "\n",
       "\n",
       "$Concordant\n",
       "$Concordant$`Cox X1`\n",
       "[1] 845312.8\n",
       "\n",
       "\n",
       "$call\n",
       "pec::cindex(object = list(`Cox X1` = fitCPH2), formula = Surv(daysto_event, \n",
       "    event_died) ~ ecog + groupstage + smokingstatus + squam_cells + \n",
       "    non_squamCells + biomarker_pdl1 + biomarker_egfr + biomarker_alk + \n",
       "    biomarker_braf + biomarker_ros1 + biomarker_kras + bmi + \n",
       "    ageAtdiagnosis + yrsToprogress + TimetoTx + gender + Hisp_Latino + \n",
       "    Black + White + Asian, data = flatiron_select1, eval.times = 1)\n",
       "\n",
       "$time\n",
       "[1] 1\n",
       "\n",
       "$pred.time\n",
       "[1] 1\n"
      ]
     },
     "metadata": {},
     "output_type": "display_data"
    }
   ],
   "source": [
    "head(A1)"
   ]
  },
  {
   "cell_type": "code",
   "execution_count": null,
   "id": "58ba7056-e618-45c2-82bb-6817acfba402",
   "metadata": {},
   "outputs": [],
   "source": []
  }
 ],
 "metadata": {
  "kernelspec": {
   "display_name": "R",
   "language": "R",
   "name": "ir"
  },
  "language_info": {
   "codemirror_mode": "r",
   "file_extension": ".r",
   "mimetype": "text/x-r-source",
   "name": "R",
   "pygments_lexer": "r",
   "version": "4.1.2"
  }
 },
 "nbformat": 4,
 "nbformat_minor": 5
}
