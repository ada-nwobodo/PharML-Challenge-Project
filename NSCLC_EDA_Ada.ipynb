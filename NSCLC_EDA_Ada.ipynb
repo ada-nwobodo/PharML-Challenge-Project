{
 "cells": [
  {
   "cell_type": "markdown",
   "id": "0031d30e-7b44-42cc-ac84-d0944d28412a",
   "metadata": {},
   "source": [
    "__PHARML 2022 CHALLENGE - EDA SECTION__\n",
    "\n",
    "Prognostic models have a wide-array of applications and are used in academic and clinical settings. Lung cancer is newly diagnosed in 2.3 million people per year and is divided in Non-Small Cell Lung Cancer (NSCLC) and Small Cell Lung Cancer (SCLC). NSCLC accounts for 84% of the total cases. The 5-year survival rate for patients with NSCLC is 25%, but prognosis can vary depending on many factors including demographics, clinical characteristics, and genomic mutations, among others. Survival Machine Learning models could enable us to make much better prognosis prediction, which in turn has real world clinical applications. Prognostic models could be used to help us identify the most predictive and novel biomarkers influencing the risk of mortality in NSCLC. Additionally, representations learned by fitting Survival Machine Learning models on NSCLC data could be used to stratify patients and obtain clinical clusters or phenotypes that give us insights on disease heterogeneity. Yet another promising application for these models is the potential use of covariate adjustment methods to increase the power of clinical trials and achieve significant results with fewer patients. Finally, it should be noted that there are many other potential relevant real-world applications for these methods."
   ]
  },
  {
   "cell_type": "markdown",
   "id": "a60e08be-71bb-4fde-b5d2-1843ac0e772e",
   "metadata": {},
   "source": [
    "__FEATURES USED:-__ \n",
    "\n",
    "- patientid: unique identifier for the patient\n",
    "- daysto_event: Days from index (First line starting) to event or loss to follow up\n",
    "- event_died: Whether the patient experienced death (1) or lost to followup (0)\n",
    "- diagnosis_nsclc_year: Calendar year the patient was diagnosed with NSCLC\n",
    "- diagnosis_ansclc_year: Calendar year the patient was diagnosed with aNSCLC\n",
    "- ecog: Most recent ECOG score before first line treatment was started\n",
    "- histology: Cancer histology\n",
    "- groupstage: Cancer stage\n",
    "- smokingstatus: Patient’s smoking history\n",
    "- birthyear: Calendar year the patient was born in - note, for privacy reasons individuals with early birth years are merged into the 1937 group\n",
    "- gender: Gender values are either “M” for male or “F” for female. Genders other than ‘M’ or ‘F’ are unavailable.\n",
    "- raceethnicity: As race and ethnicity are not universally recorded, internal rules are used to combine. Data entry errors may have occurred in clinical sites.\n",
    "- region: US region\n",
    "- lot_category: What types of drugs were present in the first line. A value like Chemotherapy,Chemotherapy means the first line was two drugs, both being chemotherapies. Assumption made here that same drugs given if similar groupings observed for patients with same cancer histology\n",
    "- biomarker_pdl1: PDL1 status if measured\n",
    "- biomarker_alk: ALK status if measured\n",
    "- biomarker_ros1: ROS1 status if measured\n",
    "- biomarker_braf: BRAF status if measured\n",
    "- biomarker_egfr: EGFR status if measured\n",
    "- biomarker_kras: KRAS status if measured\n",
    "- lab_creatinine: Most recent Creatinine lab before index\n",
    "- lab_alanineaminotransferase: Most recent ALT lab before index\n",
    "- lab_ldh: Most recent LDH lab before index\n",
    "- bmi: Most recent BMI recorded before index\n",
    "- index_lot1_year: Calendar year that index (first line start) occurred in\n",
    "- ageAtdiagnosis: age of patient on diagnosis with cancer (dx_nsclc_year - birth_year)\n",
    "- timeToprogress: time duration between initial diagnosis and prgression to advanced stage (dx_ansclc_year - dx_nsclc_year)\n",
    "- TimetoTx: time duration between initial cancer diagnosis and commencement of treatment(index_lot1_year - dx_nsclc_year)\n",
    "- TxtoFail: time duration between commencing treatment and progression to advanced stage (dx_ansclc_year - index_lot1_year)"
   ]
  },
  {
   "cell_type": "code",
   "execution_count": 12,
   "id": "8be8a6ec-0996-404b-97c4-bcee789de003",
   "metadata": {},
   "outputs": [
    {
     "name": "stdout",
     "output_type": "stream",
     "text": [
      "function(filename) {\n",
      "    #loads csv into dataframe\n",
      "    return (read_csv(filename))\n",
      "}\n"
     ]
    }
   ],
   "source": [
    "#Define Helper function \n",
    "load_file <- function(filename) {\n",
    "    #loads csv into dataframe\n",
    "    return (read_csv(filename))\n",
    "}\n",
    "    \n",
    "print(load_file)"
   ]
  },
  {
   "cell_type": "code",
   "execution_count": 18,
   "id": "a6dec3da-050f-41d7-8f25-5c46349258fc",
   "metadata": {},
   "outputs": [
    {
     "name": "stderr",
     "output_type": "stream",
     "text": [
      "\n",
      "Attaching package: ‘lubridate’\n",
      "\n",
      "\n",
      "The following objects are masked from ‘package:base’:\n",
      "\n",
      "    date, intersect, setdiff, union\n",
      "\n",
      "\n",
      "\n",
      "Attaching package: ‘purrr’\n",
      "\n",
      "\n",
      "The following object is masked from ‘package:caret’:\n",
      "\n",
      "    lift\n",
      "\n",
      "\n",
      "Warning message:\n",
      "“package ‘mgcv’ was built under R version 4.1.3”\n",
      "Loading required package: nlme\n",
      "\n",
      "\n",
      "Attaching package: ‘nlme’\n",
      "\n",
      "\n",
      "The following object is masked from ‘package:dplyr’:\n",
      "\n",
      "    collapse\n",
      "\n",
      "\n",
      "This is mgcv 1.8-40. For overview type 'help(\"mgcv-package\")'.\n",
      "\n",
      "── \u001b[1mAttaching packages\u001b[22m ─────────────────────────────────────── tidyverse 1.3.1 ──\n",
      "\n",
      "\u001b[32m✔\u001b[39m \u001b[34mtibble \u001b[39m 3.1.6     \u001b[32m✔\u001b[39m \u001b[34mstringr\u001b[39m 1.4.0\n",
      "\u001b[32m✔\u001b[39m \u001b[34mreadr  \u001b[39m 2.1.2     \u001b[32m✔\u001b[39m \u001b[34mforcats\u001b[39m 0.5.1\n",
      "\n",
      "── \u001b[1mConflicts\u001b[22m ────────────────────────────────────────── tidyverse_conflicts() ──\n",
      "\u001b[31m✖\u001b[39m \u001b[34mlubridate\u001b[39m::\u001b[32mas.difftime()\u001b[39m masks \u001b[34mbase\u001b[39m::as.difftime()\n",
      "\u001b[31m✖\u001b[39m \u001b[34mnlme\u001b[39m::\u001b[32mcollapse()\u001b[39m         masks \u001b[34mdplyr\u001b[39m::collapse()\n",
      "\u001b[31m✖\u001b[39m \u001b[34mlubridate\u001b[39m::\u001b[32mdate()\u001b[39m        masks \u001b[34mbase\u001b[39m::date()\n",
      "\u001b[31m✖\u001b[39m \u001b[34mdplyr\u001b[39m::\u001b[32mfilter()\u001b[39m          masks \u001b[34mstats\u001b[39m::filter()\n",
      "\u001b[31m✖\u001b[39m \u001b[34mlubridate\u001b[39m::\u001b[32mintersect()\u001b[39m   masks \u001b[34mbase\u001b[39m::intersect()\n",
      "\u001b[31m✖\u001b[39m \u001b[34mdplyr\u001b[39m::\u001b[32mlag()\u001b[39m             masks \u001b[34mstats\u001b[39m::lag()\n",
      "\u001b[31m✖\u001b[39m \u001b[34mpurrr\u001b[39m::\u001b[32mlift()\u001b[39m            masks \u001b[34mcaret\u001b[39m::lift()\n",
      "\u001b[31m✖\u001b[39m \u001b[34mlubridate\u001b[39m::\u001b[32msetdiff()\u001b[39m     masks \u001b[34mbase\u001b[39m::setdiff()\n",
      "\u001b[31m✖\u001b[39m \u001b[34mlubridate\u001b[39m::\u001b[32munion()\u001b[39m       masks \u001b[34mbase\u001b[39m::union()\n",
      "\n"
     ]
    },
    {
     "ename": "ERROR",
     "evalue": "Error in library(tidymodels): there is no package called ‘tidymodels’\n",
     "output_type": "error",
     "traceback": [
      "Error in library(tidymodels): there is no package called ‘tidymodels’\nTraceback:\n",
      "1. library(tidymodels)"
     ]
    }
   ],
   "source": [
    "#Import Library\n",
    "library(dplyr)\n",
    "library(ggplot2)\n",
    "library(tidyr)\n",
    "library(caret)\n",
    "library(lubridate)\n",
    "library(purrr)\n",
    "library(mgcv)\n",
    "library(rpart)\n",
    "library(tidyverse)\n",
    "library(tidymodels)\n",
    "library(utils)\n",
    "library(broom)\n",
    "library(ellipsis)\n",
    "library(highr)\n",
    "library(lattice)\n",
    "library(methods)\n",
    "library(nlme)\n",
    "library(readr)\n",
    "library(readxl)\n",
    "library(stats)\n",
    "library(stringr)\n",
    "library(ranger)\n",
    "library(tibble)\n",
    "library(xgboost)\n",
    "library(randomforest)\n",
    "library(magrittr)\n",
    "library(lubridate)\n",
    "library(xts)\n",
    "library(hms)"
   ]
  },
  {
   "cell_type": "code",
   "execution_count": 37,
   "id": "1a501783-3972-4789-be0f-85e3a2c4b5ca",
   "metadata": {},
   "outputs": [
    {
     "name": "stderr",
     "output_type": "stream",
     "text": [
      "\u001b[1mRows: \u001b[22m\u001b[34m31334\u001b[39m \u001b[1mColumns: \u001b[22m\u001b[34m25\u001b[39m\n",
      "\u001b[36m──\u001b[39m \u001b[1mColumn specification\u001b[22m \u001b[36m────────────────────────────────────────────────────────\u001b[39m\n",
      "\u001b[1mDelimiter:\u001b[22m \",\"\n",
      "\u001b[31mchr\u001b[39m (12): patientid, ecog, histology, groupstage, smokingstatus, gender, rac...\n",
      "\u001b[32mdbl\u001b[39m  (7): daysto_event, event_died, diagnosis_nsclc_year, diagnosis_ansclc_y...\n",
      "\u001b[33mlgl\u001b[39m  (6): biomarker_pdl1, biomarker_alk, biomarker_ros1, biomarker_braf, bio...\n",
      "\n",
      "\u001b[36mℹ\u001b[39m Use `spec()` to retrieve the full column specification for this data.\n",
      "\u001b[36mℹ\u001b[39m Specify the column types or set `show_col_types = FALSE` to quiet this message.\n"
     ]
    }
   ],
   "source": [
    "#Load in dataframe\n",
    "flatiron_train <- read_csv(\"/pharml/data/flatiron_training.csv\")"
   ]
  },
  {
   "cell_type": "code",
   "execution_count": 38,
   "id": "42c273ab-43a2-4853-b2ac-06036d226510",
   "metadata": {},
   "outputs": [
    {
     "data": {
      "text/html": [
       "<table class=\"dataframe\">\n",
       "<caption>A tibble: 6 × 25</caption>\n",
       "<thead>\n",
       "\t<tr><th scope=col>patientid</th><th scope=col>daysto_event</th><th scope=col>event_died</th><th scope=col>diagnosis_nsclc_year</th><th scope=col>diagnosis_ansclc_year</th><th scope=col>ecog</th><th scope=col>histology</th><th scope=col>groupstage</th><th scope=col>smokingstatus</th><th scope=col>birthyear</th><th scope=col>⋯</th><th scope=col>biomarker_alk</th><th scope=col>biomarker_ros1</th><th scope=col>biomarker_braf</th><th scope=col>biomarker_egfr</th><th scope=col>biomarker_kras</th><th scope=col>lab_creatinine</th><th scope=col>lab_alanineaminotransferase</th><th scope=col>lab_ldh</th><th scope=col>bmi</th><th scope=col>index_lot1_year</th></tr>\n",
       "\t<tr><th scope=col>&lt;chr&gt;</th><th scope=col>&lt;dbl&gt;</th><th scope=col>&lt;dbl&gt;</th><th scope=col>&lt;dbl&gt;</th><th scope=col>&lt;dbl&gt;</th><th scope=col>&lt;chr&gt;</th><th scope=col>&lt;chr&gt;</th><th scope=col>&lt;chr&gt;</th><th scope=col>&lt;chr&gt;</th><th scope=col>&lt;dbl&gt;</th><th scope=col>⋯</th><th scope=col>&lt;lgl&gt;</th><th scope=col>&lt;lgl&gt;</th><th scope=col>&lt;lgl&gt;</th><th scope=col>&lt;lgl&gt;</th><th scope=col>&lt;lgl&gt;</th><th scope=col>&lt;chr&gt;</th><th scope=col>&lt;chr&gt;</th><th scope=col>&lt;chr&gt;</th><th scope=col>&lt;dbl&gt;</th><th scope=col>&lt;dbl&gt;</th></tr>\n",
       "</thead>\n",
       "<tbody>\n",
       "\t<tr><td>PHARML000001</td><td>156</td><td>0</td><td>2002</td><td>2019</td><td>1      </td><td>Squamous cell carcinoma    </td><td>Stage IIA </td><td>History of smoking</td><td>1951</td><td>⋯</td><td>NA</td><td>NA</td><td>NA</td><td>NA</td><td>NA</td><td>normal</td><td>normal  </td><td>NA      </td><td>19.34262</td><td>2019</td></tr>\n",
       "\t<tr><td>PHARML000003</td><td>190</td><td>1</td><td>2013</td><td>2014</td><td>Unknown</td><td>Non-squamous cell carcinoma</td><td>Stage IIIA</td><td>History of smoking</td><td>1946</td><td>⋯</td><td>NA</td><td>NA</td><td>NA</td><td>NA</td><td>NA</td><td>NA    </td><td>normal  </td><td>NA      </td><td>22.41903</td><td>2014</td></tr>\n",
       "\t<tr><td>PHARML000004</td><td> 74</td><td>1</td><td>2020</td><td>2020</td><td>Unknown</td><td>Non-squamous cell carcinoma</td><td>Stage IIIC</td><td>History of smoking</td><td>1944</td><td>⋯</td><td>NA</td><td>NA</td><td>NA</td><td>NA</td><td>NA</td><td>NA    </td><td>NA      </td><td>NA      </td><td>26.63880</td><td>2020</td></tr>\n",
       "\t<tr><td>PHARML000008</td><td> 52</td><td>1</td><td>2020</td><td>2020</td><td>1      </td><td>Non-squamous cell carcinoma</td><td>Stage IV  </td><td>History of smoking</td><td>1937</td><td>⋯</td><td>NA</td><td>NA</td><td>NA</td><td>NA</td><td>NA</td><td>normal</td><td>abnormal</td><td>NA      </td><td>18.94848</td><td>2020</td></tr>\n",
       "\t<tr><td>PHARML000009</td><td>392</td><td>0</td><td>2021</td><td>2021</td><td>0      </td><td>Non-squamous cell carcinoma</td><td>Stage IIIB</td><td>History of smoking</td><td>1966</td><td>⋯</td><td>NA</td><td>NA</td><td>NA</td><td>NA</td><td>NA</td><td>normal</td><td>normal  </td><td>abnormal</td><td>21.33351</td><td>2021</td></tr>\n",
       "\t<tr><td>PHARML000011</td><td> 39</td><td>1</td><td>2017</td><td>2017</td><td>Unknown</td><td>Non-squamous cell carcinoma</td><td>Stage IV  </td><td>History of smoking</td><td>1943</td><td>⋯</td><td>NA</td><td>NA</td><td>NA</td><td>NA</td><td>NA</td><td>normal</td><td>normal  </td><td>normal  </td><td>16.65117</td><td>2017</td></tr>\n",
       "</tbody>\n",
       "</table>\n"
      ],
      "text/latex": [
       "A tibble: 6 × 25\n",
       "\\begin{tabular}{lllllllllllllllllllll}\n",
       " patientid & daysto\\_event & event\\_died & diagnosis\\_nsclc\\_year & diagnosis\\_ansclc\\_year & ecog & histology & groupstage & smokingstatus & birthyear & ⋯ & biomarker\\_alk & biomarker\\_ros1 & biomarker\\_braf & biomarker\\_egfr & biomarker\\_kras & lab\\_creatinine & lab\\_alanineaminotransferase & lab\\_ldh & bmi & index\\_lot1\\_year\\\\\n",
       " <chr> & <dbl> & <dbl> & <dbl> & <dbl> & <chr> & <chr> & <chr> & <chr> & <dbl> & ⋯ & <lgl> & <lgl> & <lgl> & <lgl> & <lgl> & <chr> & <chr> & <chr> & <dbl> & <dbl>\\\\\n",
       "\\hline\n",
       "\t PHARML000001 & 156 & 0 & 2002 & 2019 & 1       & Squamous cell carcinoma     & Stage IIA  & History of smoking & 1951 & ⋯ & NA & NA & NA & NA & NA & normal & normal   & NA       & 19.34262 & 2019\\\\\n",
       "\t PHARML000003 & 190 & 1 & 2013 & 2014 & Unknown & Non-squamous cell carcinoma & Stage IIIA & History of smoking & 1946 & ⋯ & NA & NA & NA & NA & NA & NA     & normal   & NA       & 22.41903 & 2014\\\\\n",
       "\t PHARML000004 &  74 & 1 & 2020 & 2020 & Unknown & Non-squamous cell carcinoma & Stage IIIC & History of smoking & 1944 & ⋯ & NA & NA & NA & NA & NA & NA     & NA       & NA       & 26.63880 & 2020\\\\\n",
       "\t PHARML000008 &  52 & 1 & 2020 & 2020 & 1       & Non-squamous cell carcinoma & Stage IV   & History of smoking & 1937 & ⋯ & NA & NA & NA & NA & NA & normal & abnormal & NA       & 18.94848 & 2020\\\\\n",
       "\t PHARML000009 & 392 & 0 & 2021 & 2021 & 0       & Non-squamous cell carcinoma & Stage IIIB & History of smoking & 1966 & ⋯ & NA & NA & NA & NA & NA & normal & normal   & abnormal & 21.33351 & 2021\\\\\n",
       "\t PHARML000011 &  39 & 1 & 2017 & 2017 & Unknown & Non-squamous cell carcinoma & Stage IV   & History of smoking & 1943 & ⋯ & NA & NA & NA & NA & NA & normal & normal   & normal   & 16.65117 & 2017\\\\\n",
       "\\end{tabular}\n"
      ],
      "text/markdown": [
       "\n",
       "A tibble: 6 × 25\n",
       "\n",
       "| patientid &lt;chr&gt; | daysto_event &lt;dbl&gt; | event_died &lt;dbl&gt; | diagnosis_nsclc_year &lt;dbl&gt; | diagnosis_ansclc_year &lt;dbl&gt; | ecog &lt;chr&gt; | histology &lt;chr&gt; | groupstage &lt;chr&gt; | smokingstatus &lt;chr&gt; | birthyear &lt;dbl&gt; | ⋯ ⋯ | biomarker_alk &lt;lgl&gt; | biomarker_ros1 &lt;lgl&gt; | biomarker_braf &lt;lgl&gt; | biomarker_egfr &lt;lgl&gt; | biomarker_kras &lt;lgl&gt; | lab_creatinine &lt;chr&gt; | lab_alanineaminotransferase &lt;chr&gt; | lab_ldh &lt;chr&gt; | bmi &lt;dbl&gt; | index_lot1_year &lt;dbl&gt; |\n",
       "|---|---|---|---|---|---|---|---|---|---|---|---|---|---|---|---|---|---|---|---|---|\n",
       "| PHARML000001 | 156 | 0 | 2002 | 2019 | 1       | Squamous cell carcinoma     | Stage IIA  | History of smoking | 1951 | ⋯ | NA | NA | NA | NA | NA | normal | normal   | NA       | 19.34262 | 2019 |\n",
       "| PHARML000003 | 190 | 1 | 2013 | 2014 | Unknown | Non-squamous cell carcinoma | Stage IIIA | History of smoking | 1946 | ⋯ | NA | NA | NA | NA | NA | NA     | normal   | NA       | 22.41903 | 2014 |\n",
       "| PHARML000004 |  74 | 1 | 2020 | 2020 | Unknown | Non-squamous cell carcinoma | Stage IIIC | History of smoking | 1944 | ⋯ | NA | NA | NA | NA | NA | NA     | NA       | NA       | 26.63880 | 2020 |\n",
       "| PHARML000008 |  52 | 1 | 2020 | 2020 | 1       | Non-squamous cell carcinoma | Stage IV   | History of smoking | 1937 | ⋯ | NA | NA | NA | NA | NA | normal | abnormal | NA       | 18.94848 | 2020 |\n",
       "| PHARML000009 | 392 | 0 | 2021 | 2021 | 0       | Non-squamous cell carcinoma | Stage IIIB | History of smoking | 1966 | ⋯ | NA | NA | NA | NA | NA | normal | normal   | abnormal | 21.33351 | 2021 |\n",
       "| PHARML000011 |  39 | 1 | 2017 | 2017 | Unknown | Non-squamous cell carcinoma | Stage IV   | History of smoking | 1943 | ⋯ | NA | NA | NA | NA | NA | normal | normal   | normal   | 16.65117 | 2017 |\n",
       "\n"
      ],
      "text/plain": [
       "  patientid    daysto_event event_died diagnosis_nsclc_year\n",
       "1 PHARML000001 156          0          2002                \n",
       "2 PHARML000003 190          1          2013                \n",
       "3 PHARML000004  74          1          2020                \n",
       "4 PHARML000008  52          1          2020                \n",
       "5 PHARML000009 392          0          2021                \n",
       "6 PHARML000011  39          1          2017                \n",
       "  diagnosis_ansclc_year ecog    histology                   groupstage\n",
       "1 2019                  1       Squamous cell carcinoma     Stage IIA \n",
       "2 2014                  Unknown Non-squamous cell carcinoma Stage IIIA\n",
       "3 2020                  Unknown Non-squamous cell carcinoma Stage IIIC\n",
       "4 2020                  1       Non-squamous cell carcinoma Stage IV  \n",
       "5 2021                  0       Non-squamous cell carcinoma Stage IIIB\n",
       "6 2017                  Unknown Non-squamous cell carcinoma Stage IV  \n",
       "  smokingstatus      birthyear ⋯ biomarker_alk biomarker_ros1 biomarker_braf\n",
       "1 History of smoking 1951      ⋯ NA            NA             NA            \n",
       "2 History of smoking 1946      ⋯ NA            NA             NA            \n",
       "3 History of smoking 1944      ⋯ NA            NA             NA            \n",
       "4 History of smoking 1937      ⋯ NA            NA             NA            \n",
       "5 History of smoking 1966      ⋯ NA            NA             NA            \n",
       "6 History of smoking 1943      ⋯ NA            NA             NA            \n",
       "  biomarker_egfr biomarker_kras lab_creatinine lab_alanineaminotransferase\n",
       "1 NA             NA             normal         normal                     \n",
       "2 NA             NA             NA             normal                     \n",
       "3 NA             NA             NA             NA                         \n",
       "4 NA             NA             normal         abnormal                   \n",
       "5 NA             NA             normal         normal                     \n",
       "6 NA             NA             normal         normal                     \n",
       "  lab_ldh  bmi      index_lot1_year\n",
       "1 NA       19.34262 2019           \n",
       "2 NA       22.41903 2014           \n",
       "3 NA       26.63880 2020           \n",
       "4 NA       18.94848 2020           \n",
       "5 abnormal 21.33351 2021           \n",
       "6 normal   16.65117 2017           "
      ]
     },
     "metadata": {},
     "output_type": "display_data"
    }
   ],
   "source": [
    "head(flatiron_train)"
   ]
  },
  {
   "cell_type": "code",
   "execution_count": 39,
   "id": "ce26bcdf-7203-42cd-a9fc-5d7913601cca",
   "metadata": {},
   "outputs": [
    {
     "data": {
      "text/plain": [
       "  patientid          daysto_event      event_died     diagnosis_nsclc_year\n",
       " Length:31334       Min.   :   1.0   Min.   :0.0000   Min.   :1990        \n",
       " Class :character   1st Qu.: 112.0   1st Qu.:0.0000   1st Qu.:2014        \n",
       " Mode  :character   Median : 280.0   Median :1.0000   Median :2016        \n",
       "                    Mean   : 484.2   Mean   :0.7273   Mean   :2016        \n",
       "                    3rd Qu.: 639.0   3rd Qu.:1.0000   3rd Qu.:2019        \n",
       "                    Max.   :3948.0   Max.   :1.0000   Max.   :2022        \n",
       "                                                      NA's   :5           \n",
       " diagnosis_ansclc_year     ecog            histology          groupstage       \n",
       " Min.   :2011          Length:31334       Length:31334       Length:31334      \n",
       " 1st Qu.:2014          Class :character   Class :character   Class :character  \n",
       " Median :2017          Mode  :character   Mode  :character   Mode  :character  \n",
       " Mean   :2016                                                                  \n",
       " 3rd Qu.:2019                                                                  \n",
       " Max.   :2022                                                                  \n",
       "                                                                               \n",
       " smokingstatus        birthyear       gender          raceethnicity     \n",
       " Length:31334       Min.   :1937   Length:31334       Length:31334      \n",
       " Class :character   1st Qu.:1941   Class :character   Class :character  \n",
       " Mode  :character   Median :1947   Mode  :character   Mode  :character  \n",
       "                    Mean   :1949                                        \n",
       "                    3rd Qu.:1955                                        \n",
       "                    Max.   :2002                                        \n",
       "                                                                        \n",
       "    region          lot_category       biomarker_pdl1  biomarker_alk  \n",
       " Length:31334       Length:31334       Mode :logical   Mode :logical  \n",
       " Class :character   Class :character   FALSE:96        FALSE:549      \n",
       " Mode  :character   Mode  :character   TRUE :182       TRUE :8        \n",
       "                                       NA's :31056     NA's :30777    \n",
       "                                                                      \n",
       "                                                                      \n",
       "                                                                      \n",
       " biomarker_ros1  biomarker_braf  biomarker_egfr  biomarker_kras \n",
       " Mode :logical   Mode :logical   Mode :logical   Mode :logical  \n",
       " FALSE:426       FALSE:330       FALSE:533       FALSE:263      \n",
       " TRUE :2         TRUE :8         TRUE :67        TRUE :95       \n",
       " NA's :30906     NA's :30996     NA's :30734     NA's :30976    \n",
       "                                                                \n",
       "                                                                \n",
       "                                                                \n",
       " lab_creatinine     lab_alanineaminotransferase   lab_ldh         \n",
       " Length:31334       Length:31334                Length:31334      \n",
       " Class :character   Class :character            Class :character  \n",
       " Mode  :character   Mode  :character            Mode  :character  \n",
       "                                                                  \n",
       "                                                                  \n",
       "                                                                  \n",
       "                                                                  \n",
       "      bmi        index_lot1_year\n",
       " Min.   :10.50   Min.   :2011   \n",
       " 1st Qu.:22.14   1st Qu.:2014   \n",
       " Median :25.44   Median :2017   \n",
       " Mean   :26.18   Mean   :2017   \n",
       " 3rd Qu.:29.35   3rd Qu.:2019   \n",
       " Max.   :82.13   Max.   :2022   \n",
       " NA's   :1416                   "
      ]
     },
     "metadata": {},
     "output_type": "display_data"
    }
   ],
   "source": [
    "summary(flatiron_train)"
   ]
  },
  {
   "cell_type": "code",
   "execution_count": 49,
   "id": "d38fbbf1-d18d-40ab-b44b-f43623d1e066",
   "metadata": {},
   "outputs": [
    {
     "data": {
      "text/html": [
       "<table class=\"dataframe\">\n",
       "<caption>A tibble: 6 × 28</caption>\n",
       "<thead>\n",
       "\t<tr><th scope=col>patientid</th><th scope=col>daysto_event</th><th scope=col>event_died</th><th scope=col>diagnosis_nsclc_year</th><th scope=col>diagnosis_ansclc_year</th><th scope=col>ecog</th><th scope=col>histology</th><th scope=col>groupstage</th><th scope=col>smokingstatus</th><th scope=col>birthyear</th><th scope=col>⋯</th><th scope=col>biomarker_egfr</th><th scope=col>biomarker_kras</th><th scope=col>lab_creatinine</th><th scope=col>lab_alanineaminotransferase</th><th scope=col>lab_ldh</th><th scope=col>bmi</th><th scope=col>index_lot1_year</th><th scope=col>ageAtdiagnosis</th><th scope=col>yrsToprogress</th><th scope=col>TimetoTx</th></tr>\n",
       "\t<tr><th scope=col>&lt;chr&gt;</th><th scope=col>&lt;dbl&gt;</th><th scope=col>&lt;dbl&gt;</th><th scope=col>&lt;dbl&gt;</th><th scope=col>&lt;dbl&gt;</th><th scope=col>&lt;chr&gt;</th><th scope=col>&lt;chr&gt;</th><th scope=col>&lt;chr&gt;</th><th scope=col>&lt;chr&gt;</th><th scope=col>&lt;dbl&gt;</th><th scope=col>⋯</th><th scope=col>&lt;lgl&gt;</th><th scope=col>&lt;lgl&gt;</th><th scope=col>&lt;chr&gt;</th><th scope=col>&lt;chr&gt;</th><th scope=col>&lt;chr&gt;</th><th scope=col>&lt;dbl&gt;</th><th scope=col>&lt;dbl&gt;</th><th scope=col>&lt;dbl&gt;</th><th scope=col>&lt;dbl&gt;</th><th scope=col>&lt;dbl&gt;</th></tr>\n",
       "</thead>\n",
       "<tbody>\n",
       "\t<tr><td>PHARML000001</td><td>156</td><td>0</td><td>2002</td><td>2019</td><td>1      </td><td>Squamous cell carcinoma    </td><td>Stage IIA </td><td>History of smoking</td><td>1951</td><td>⋯</td><td>NA</td><td>NA</td><td>normal</td><td>normal  </td><td>NA      </td><td>19.34262</td><td>2019</td><td>51</td><td>17</td><td>17</td></tr>\n",
       "\t<tr><td>PHARML000003</td><td>190</td><td>1</td><td>2013</td><td>2014</td><td>Unknown</td><td>Non-squamous cell carcinoma</td><td>Stage IIIA</td><td>History of smoking</td><td>1946</td><td>⋯</td><td>NA</td><td>NA</td><td>NA    </td><td>normal  </td><td>NA      </td><td>22.41903</td><td>2014</td><td>67</td><td> 1</td><td> 1</td></tr>\n",
       "\t<tr><td>PHARML000004</td><td> 74</td><td>1</td><td>2020</td><td>2020</td><td>Unknown</td><td>Non-squamous cell carcinoma</td><td>Stage IIIC</td><td>History of smoking</td><td>1944</td><td>⋯</td><td>NA</td><td>NA</td><td>NA    </td><td>NA      </td><td>NA      </td><td>26.63880</td><td>2020</td><td>76</td><td> 0</td><td> 0</td></tr>\n",
       "\t<tr><td>PHARML000008</td><td> 52</td><td>1</td><td>2020</td><td>2020</td><td>1      </td><td>Non-squamous cell carcinoma</td><td>Stage IV  </td><td>History of smoking</td><td>1937</td><td>⋯</td><td>NA</td><td>NA</td><td>normal</td><td>abnormal</td><td>NA      </td><td>18.94848</td><td>2020</td><td>83</td><td> 0</td><td> 0</td></tr>\n",
       "\t<tr><td>PHARML000009</td><td>392</td><td>0</td><td>2021</td><td>2021</td><td>0      </td><td>Non-squamous cell carcinoma</td><td>Stage IIIB</td><td>History of smoking</td><td>1966</td><td>⋯</td><td>NA</td><td>NA</td><td>normal</td><td>normal  </td><td>abnormal</td><td>21.33351</td><td>2021</td><td>55</td><td> 0</td><td> 0</td></tr>\n",
       "\t<tr><td>PHARML000011</td><td> 39</td><td>1</td><td>2017</td><td>2017</td><td>Unknown</td><td>Non-squamous cell carcinoma</td><td>Stage IV  </td><td>History of smoking</td><td>1943</td><td>⋯</td><td>NA</td><td>NA</td><td>normal</td><td>normal  </td><td>normal  </td><td>16.65117</td><td>2017</td><td>74</td><td> 0</td><td> 0</td></tr>\n",
       "</tbody>\n",
       "</table>\n"
      ],
      "text/latex": [
       "A tibble: 6 × 28\n",
       "\\begin{tabular}{lllllllllllllllllllll}\n",
       " patientid & daysto\\_event & event\\_died & diagnosis\\_nsclc\\_year & diagnosis\\_ansclc\\_year & ecog & histology & groupstage & smokingstatus & birthyear & ⋯ & biomarker\\_egfr & biomarker\\_kras & lab\\_creatinine & lab\\_alanineaminotransferase & lab\\_ldh & bmi & index\\_lot1\\_year & ageAtdiagnosis & yrsToprogress & TimetoTx\\\\\n",
       " <chr> & <dbl> & <dbl> & <dbl> & <dbl> & <chr> & <chr> & <chr> & <chr> & <dbl> & ⋯ & <lgl> & <lgl> & <chr> & <chr> & <chr> & <dbl> & <dbl> & <dbl> & <dbl> & <dbl>\\\\\n",
       "\\hline\n",
       "\t PHARML000001 & 156 & 0 & 2002 & 2019 & 1       & Squamous cell carcinoma     & Stage IIA  & History of smoking & 1951 & ⋯ & NA & NA & normal & normal   & NA       & 19.34262 & 2019 & 51 & 17 & 17\\\\\n",
       "\t PHARML000003 & 190 & 1 & 2013 & 2014 & Unknown & Non-squamous cell carcinoma & Stage IIIA & History of smoking & 1946 & ⋯ & NA & NA & NA     & normal   & NA       & 22.41903 & 2014 & 67 &  1 &  1\\\\\n",
       "\t PHARML000004 &  74 & 1 & 2020 & 2020 & Unknown & Non-squamous cell carcinoma & Stage IIIC & History of smoking & 1944 & ⋯ & NA & NA & NA     & NA       & NA       & 26.63880 & 2020 & 76 &  0 &  0\\\\\n",
       "\t PHARML000008 &  52 & 1 & 2020 & 2020 & 1       & Non-squamous cell carcinoma & Stage IV   & History of smoking & 1937 & ⋯ & NA & NA & normal & abnormal & NA       & 18.94848 & 2020 & 83 &  0 &  0\\\\\n",
       "\t PHARML000009 & 392 & 0 & 2021 & 2021 & 0       & Non-squamous cell carcinoma & Stage IIIB & History of smoking & 1966 & ⋯ & NA & NA & normal & normal   & abnormal & 21.33351 & 2021 & 55 &  0 &  0\\\\\n",
       "\t PHARML000011 &  39 & 1 & 2017 & 2017 & Unknown & Non-squamous cell carcinoma & Stage IV   & History of smoking & 1943 & ⋯ & NA & NA & normal & normal   & normal   & 16.65117 & 2017 & 74 &  0 &  0\\\\\n",
       "\\end{tabular}\n"
      ],
      "text/markdown": [
       "\n",
       "A tibble: 6 × 28\n",
       "\n",
       "| patientid &lt;chr&gt; | daysto_event &lt;dbl&gt; | event_died &lt;dbl&gt; | diagnosis_nsclc_year &lt;dbl&gt; | diagnosis_ansclc_year &lt;dbl&gt; | ecog &lt;chr&gt; | histology &lt;chr&gt; | groupstage &lt;chr&gt; | smokingstatus &lt;chr&gt; | birthyear &lt;dbl&gt; | ⋯ ⋯ | biomarker_egfr &lt;lgl&gt; | biomarker_kras &lt;lgl&gt; | lab_creatinine &lt;chr&gt; | lab_alanineaminotransferase &lt;chr&gt; | lab_ldh &lt;chr&gt; | bmi &lt;dbl&gt; | index_lot1_year &lt;dbl&gt; | ageAtdiagnosis &lt;dbl&gt; | yrsToprogress &lt;dbl&gt; | TimetoTx &lt;dbl&gt; |\n",
       "|---|---|---|---|---|---|---|---|---|---|---|---|---|---|---|---|---|---|---|---|---|\n",
       "| PHARML000001 | 156 | 0 | 2002 | 2019 | 1       | Squamous cell carcinoma     | Stage IIA  | History of smoking | 1951 | ⋯ | NA | NA | normal | normal   | NA       | 19.34262 | 2019 | 51 | 17 | 17 |\n",
       "| PHARML000003 | 190 | 1 | 2013 | 2014 | Unknown | Non-squamous cell carcinoma | Stage IIIA | History of smoking | 1946 | ⋯ | NA | NA | NA     | normal   | NA       | 22.41903 | 2014 | 67 |  1 |  1 |\n",
       "| PHARML000004 |  74 | 1 | 2020 | 2020 | Unknown | Non-squamous cell carcinoma | Stage IIIC | History of smoking | 1944 | ⋯ | NA | NA | NA     | NA       | NA       | 26.63880 | 2020 | 76 |  0 |  0 |\n",
       "| PHARML000008 |  52 | 1 | 2020 | 2020 | 1       | Non-squamous cell carcinoma | Stage IV   | History of smoking | 1937 | ⋯ | NA | NA | normal | abnormal | NA       | 18.94848 | 2020 | 83 |  0 |  0 |\n",
       "| PHARML000009 | 392 | 0 | 2021 | 2021 | 0       | Non-squamous cell carcinoma | Stage IIIB | History of smoking | 1966 | ⋯ | NA | NA | normal | normal   | abnormal | 21.33351 | 2021 | 55 |  0 |  0 |\n",
       "| PHARML000011 |  39 | 1 | 2017 | 2017 | Unknown | Non-squamous cell carcinoma | Stage IV   | History of smoking | 1943 | ⋯ | NA | NA | normal | normal   | normal   | 16.65117 | 2017 | 74 |  0 |  0 |\n",
       "\n"
      ],
      "text/plain": [
       "  patientid    daysto_event event_died diagnosis_nsclc_year\n",
       "1 PHARML000001 156          0          2002                \n",
       "2 PHARML000003 190          1          2013                \n",
       "3 PHARML000004  74          1          2020                \n",
       "4 PHARML000008  52          1          2020                \n",
       "5 PHARML000009 392          0          2021                \n",
       "6 PHARML000011  39          1          2017                \n",
       "  diagnosis_ansclc_year ecog    histology                   groupstage\n",
       "1 2019                  1       Squamous cell carcinoma     Stage IIA \n",
       "2 2014                  Unknown Non-squamous cell carcinoma Stage IIIA\n",
       "3 2020                  Unknown Non-squamous cell carcinoma Stage IIIC\n",
       "4 2020                  1       Non-squamous cell carcinoma Stage IV  \n",
       "5 2021                  0       Non-squamous cell carcinoma Stage IIIB\n",
       "6 2017                  Unknown Non-squamous cell carcinoma Stage IV  \n",
       "  smokingstatus      birthyear ⋯ biomarker_egfr biomarker_kras lab_creatinine\n",
       "1 History of smoking 1951      ⋯ NA             NA             normal        \n",
       "2 History of smoking 1946      ⋯ NA             NA             NA            \n",
       "3 History of smoking 1944      ⋯ NA             NA             NA            \n",
       "4 History of smoking 1937      ⋯ NA             NA             normal        \n",
       "5 History of smoking 1966      ⋯ NA             NA             normal        \n",
       "6 History of smoking 1943      ⋯ NA             NA             normal        \n",
       "  lab_alanineaminotransferase lab_ldh  bmi      index_lot1_year ageAtdiagnosis\n",
       "1 normal                      NA       19.34262 2019            51            \n",
       "2 normal                      NA       22.41903 2014            67            \n",
       "3 NA                          NA       26.63880 2020            76            \n",
       "4 abnormal                    NA       18.94848 2020            83            \n",
       "5 normal                      abnormal 21.33351 2021            55            \n",
       "6 normal                      normal   16.65117 2017            74            \n",
       "  yrsToprogress TimetoTx\n",
       "1 17            17      \n",
       "2  1             1      \n",
       "3  0             0      \n",
       "4  0             0      \n",
       "5  0             0      \n",
       "6  0             0      "
      ]
     },
     "metadata": {},
     "output_type": "display_data"
    }
   ],
   "source": [
    "#Include in new columns - age at diagnosis, time to progress to advanced cancer & time to start treatment\n",
    "flatiron_train <- flatiron_train %>% mutate(ageAtdiagnosis = diagnosis_nsclc_year - birthyear, \n",
    "    yrsToprogress = diagnosis_ansclc_year - diagnosis_nsclc_year, \n",
    "                                              TimetoTx = index_lot1_year - diagnosis_nsclc_year)\n",
    "head(flatiron_train)"
   ]
  },
  {
   "cell_type": "code",
   "execution_count": 77,
   "id": "06f87a1f-7b24-4d66-be89-c8f84b1d8b6a",
   "metadata": {},
   "outputs": [
    {
     "name": "stderr",
     "output_type": "stream",
     "text": [
      "also installing the dependencies ‘gridExtra’, ‘norm’, ‘visdat’, ‘viridis’, ‘UpSetR’\n",
      "\n",
      "\n"
     ]
    }
   ],
   "source": [
    "install.packages(\"naniar\", \"/tmp/RtmpopXkDN/downloaded_packages\")"
   ]
  },
  {
   "cell_type": "code",
   "execution_count": 104,
   "id": "a926b603-2dd5-46a6-ae78-d7ba7ec185f5",
   "metadata": {},
   "outputs": [],
   "source": [
    "library(\"naniar\", lib.loc=.libPaths(\"/tmp/RtmpopXkDN/downloaded_packages\"))"
   ]
  },
  {
   "cell_type": "code",
   "execution_count": 120,
   "id": "58de3257-b044-4239-a916-a56d32c30f80",
   "metadata": {},
   "outputs": [
    {
     "data": {
      "text/html": [
       "<table class=\"dataframe\">\n",
       "<caption>A tibble: 6 × 28</caption>\n",
       "<thead>\n",
       "\t<tr><th scope=col>patientid</th><th scope=col>daysto_event</th><th scope=col>event_died</th><th scope=col>diagnosis_nsclc_year</th><th scope=col>diagnosis_ansclc_year</th><th scope=col>ecog</th><th scope=col>histology</th><th scope=col>groupstage</th><th scope=col>smokingstatus</th><th scope=col>birthyear</th><th scope=col>⋯</th><th scope=col>biomarker_egfr</th><th scope=col>biomarker_kras</th><th scope=col>lab_creatinine</th><th scope=col>lab_alanineaminotransferase</th><th scope=col>lab_ldh</th><th scope=col>bmi</th><th scope=col>index_lot1_year</th><th scope=col>ageAtdiagnosis</th><th scope=col>yrsToprogress</th><th scope=col>TimetoTx</th></tr>\n",
       "\t<tr><th scope=col>&lt;chr&gt;</th><th scope=col>&lt;dbl&gt;</th><th scope=col>&lt;dbl&gt;</th><th scope=col>&lt;dbl&gt;</th><th scope=col>&lt;dbl&gt;</th><th scope=col>&lt;chr&gt;</th><th scope=col>&lt;chr&gt;</th><th scope=col>&lt;chr&gt;</th><th scope=col>&lt;chr&gt;</th><th scope=col>&lt;dbl&gt;</th><th scope=col>⋯</th><th scope=col>&lt;lgl&gt;</th><th scope=col>&lt;lgl&gt;</th><th scope=col>&lt;chr&gt;</th><th scope=col>&lt;chr&gt;</th><th scope=col>&lt;chr&gt;</th><th scope=col>&lt;dbl&gt;</th><th scope=col>&lt;dbl&gt;</th><th scope=col>&lt;dbl&gt;</th><th scope=col>&lt;dbl&gt;</th><th scope=col>&lt;dbl&gt;</th></tr>\n",
       "</thead>\n",
       "<tbody>\n",
       "\t<tr><td>PHARML000001</td><td>156</td><td>0</td><td>2002</td><td>2019</td><td>1</td><td>Squamous cell carcinoma    </td><td>Stage IIA </td><td>History of smoking</td><td>1951</td><td>⋯</td><td>NA</td><td>NA</td><td>normal</td><td>normal  </td><td>NA      </td><td>19.34262</td><td>2019</td><td>51</td><td>17</td><td>17</td></tr>\n",
       "\t<tr><td>PHARML000003</td><td>190</td><td>1</td><td>2013</td><td>2014</td><td>0</td><td>Non-squamous cell carcinoma</td><td>Stage IIIA</td><td>History of smoking</td><td>1946</td><td>⋯</td><td>NA</td><td>NA</td><td>NA    </td><td>normal  </td><td>NA      </td><td>22.41903</td><td>2014</td><td>67</td><td> 1</td><td> 1</td></tr>\n",
       "\t<tr><td>PHARML000004</td><td> 74</td><td>1</td><td>2020</td><td>2020</td><td>0</td><td>Non-squamous cell carcinoma</td><td>Stage IIIC</td><td>History of smoking</td><td>1944</td><td>⋯</td><td>NA</td><td>NA</td><td>NA    </td><td>NA      </td><td>NA      </td><td>26.63880</td><td>2020</td><td>76</td><td> 0</td><td> 0</td></tr>\n",
       "\t<tr><td>PHARML000008</td><td> 52</td><td>1</td><td>2020</td><td>2020</td><td>1</td><td>Non-squamous cell carcinoma</td><td>Stage IV  </td><td>History of smoking</td><td>1937</td><td>⋯</td><td>NA</td><td>NA</td><td>normal</td><td>abnormal</td><td>NA      </td><td>18.94848</td><td>2020</td><td>83</td><td> 0</td><td> 0</td></tr>\n",
       "\t<tr><td>PHARML000009</td><td>392</td><td>0</td><td>2021</td><td>2021</td><td>0</td><td>Non-squamous cell carcinoma</td><td>Stage IIIB</td><td>History of smoking</td><td>1966</td><td>⋯</td><td>NA</td><td>NA</td><td>normal</td><td>normal  </td><td>abnormal</td><td>21.33351</td><td>2021</td><td>55</td><td> 0</td><td> 0</td></tr>\n",
       "\t<tr><td>PHARML000011</td><td> 39</td><td>1</td><td>2017</td><td>2017</td><td>0</td><td>Non-squamous cell carcinoma</td><td>Stage IV  </td><td>History of smoking</td><td>1943</td><td>⋯</td><td>NA</td><td>NA</td><td>normal</td><td>normal  </td><td>normal  </td><td>16.65117</td><td>2017</td><td>74</td><td> 0</td><td> 0</td></tr>\n",
       "</tbody>\n",
       "</table>\n"
      ],
      "text/latex": [
       "A tibble: 6 × 28\n",
       "\\begin{tabular}{lllllllllllllllllllll}\n",
       " patientid & daysto\\_event & event\\_died & diagnosis\\_nsclc\\_year & diagnosis\\_ansclc\\_year & ecog & histology & groupstage & smokingstatus & birthyear & ⋯ & biomarker\\_egfr & biomarker\\_kras & lab\\_creatinine & lab\\_alanineaminotransferase & lab\\_ldh & bmi & index\\_lot1\\_year & ageAtdiagnosis & yrsToprogress & TimetoTx\\\\\n",
       " <chr> & <dbl> & <dbl> & <dbl> & <dbl> & <chr> & <chr> & <chr> & <chr> & <dbl> & ⋯ & <lgl> & <lgl> & <chr> & <chr> & <chr> & <dbl> & <dbl> & <dbl> & <dbl> & <dbl>\\\\\n",
       "\\hline\n",
       "\t PHARML000001 & 156 & 0 & 2002 & 2019 & 1 & Squamous cell carcinoma     & Stage IIA  & History of smoking & 1951 & ⋯ & NA & NA & normal & normal   & NA       & 19.34262 & 2019 & 51 & 17 & 17\\\\\n",
       "\t PHARML000003 & 190 & 1 & 2013 & 2014 & 0 & Non-squamous cell carcinoma & Stage IIIA & History of smoking & 1946 & ⋯ & NA & NA & NA     & normal   & NA       & 22.41903 & 2014 & 67 &  1 &  1\\\\\n",
       "\t PHARML000004 &  74 & 1 & 2020 & 2020 & 0 & Non-squamous cell carcinoma & Stage IIIC & History of smoking & 1944 & ⋯ & NA & NA & NA     & NA       & NA       & 26.63880 & 2020 & 76 &  0 &  0\\\\\n",
       "\t PHARML000008 &  52 & 1 & 2020 & 2020 & 1 & Non-squamous cell carcinoma & Stage IV   & History of smoking & 1937 & ⋯ & NA & NA & normal & abnormal & NA       & 18.94848 & 2020 & 83 &  0 &  0\\\\\n",
       "\t PHARML000009 & 392 & 0 & 2021 & 2021 & 0 & Non-squamous cell carcinoma & Stage IIIB & History of smoking & 1966 & ⋯ & NA & NA & normal & normal   & abnormal & 21.33351 & 2021 & 55 &  0 &  0\\\\\n",
       "\t PHARML000011 &  39 & 1 & 2017 & 2017 & 0 & Non-squamous cell carcinoma & Stage IV   & History of smoking & 1943 & ⋯ & NA & NA & normal & normal   & normal   & 16.65117 & 2017 & 74 &  0 &  0\\\\\n",
       "\\end{tabular}\n"
      ],
      "text/markdown": [
       "\n",
       "A tibble: 6 × 28\n",
       "\n",
       "| patientid &lt;chr&gt; | daysto_event &lt;dbl&gt; | event_died &lt;dbl&gt; | diagnosis_nsclc_year &lt;dbl&gt; | diagnosis_ansclc_year &lt;dbl&gt; | ecog &lt;chr&gt; | histology &lt;chr&gt; | groupstage &lt;chr&gt; | smokingstatus &lt;chr&gt; | birthyear &lt;dbl&gt; | ⋯ ⋯ | biomarker_egfr &lt;lgl&gt; | biomarker_kras &lt;lgl&gt; | lab_creatinine &lt;chr&gt; | lab_alanineaminotransferase &lt;chr&gt; | lab_ldh &lt;chr&gt; | bmi &lt;dbl&gt; | index_lot1_year &lt;dbl&gt; | ageAtdiagnosis &lt;dbl&gt; | yrsToprogress &lt;dbl&gt; | TimetoTx &lt;dbl&gt; |\n",
       "|---|---|---|---|---|---|---|---|---|---|---|---|---|---|---|---|---|---|---|---|---|\n",
       "| PHARML000001 | 156 | 0 | 2002 | 2019 | 1 | Squamous cell carcinoma     | Stage IIA  | History of smoking | 1951 | ⋯ | NA | NA | normal | normal   | NA       | 19.34262 | 2019 | 51 | 17 | 17 |\n",
       "| PHARML000003 | 190 | 1 | 2013 | 2014 | 0 | Non-squamous cell carcinoma | Stage IIIA | History of smoking | 1946 | ⋯ | NA | NA | NA     | normal   | NA       | 22.41903 | 2014 | 67 |  1 |  1 |\n",
       "| PHARML000004 |  74 | 1 | 2020 | 2020 | 0 | Non-squamous cell carcinoma | Stage IIIC | History of smoking | 1944 | ⋯ | NA | NA | NA     | NA       | NA       | 26.63880 | 2020 | 76 |  0 |  0 |\n",
       "| PHARML000008 |  52 | 1 | 2020 | 2020 | 1 | Non-squamous cell carcinoma | Stage IV   | History of smoking | 1937 | ⋯ | NA | NA | normal | abnormal | NA       | 18.94848 | 2020 | 83 |  0 |  0 |\n",
       "| PHARML000009 | 392 | 0 | 2021 | 2021 | 0 | Non-squamous cell carcinoma | Stage IIIB | History of smoking | 1966 | ⋯ | NA | NA | normal | normal   | abnormal | 21.33351 | 2021 | 55 |  0 |  0 |\n",
       "| PHARML000011 |  39 | 1 | 2017 | 2017 | 0 | Non-squamous cell carcinoma | Stage IV   | History of smoking | 1943 | ⋯ | NA | NA | normal | normal   | normal   | 16.65117 | 2017 | 74 |  0 |  0 |\n",
       "\n"
      ],
      "text/plain": [
       "  patientid    daysto_event event_died diagnosis_nsclc_year\n",
       "1 PHARML000001 156          0          2002                \n",
       "2 PHARML000003 190          1          2013                \n",
       "3 PHARML000004  74          1          2020                \n",
       "4 PHARML000008  52          1          2020                \n",
       "5 PHARML000009 392          0          2021                \n",
       "6 PHARML000011  39          1          2017                \n",
       "  diagnosis_ansclc_year ecog histology                   groupstage\n",
       "1 2019                  1    Squamous cell carcinoma     Stage IIA \n",
       "2 2014                  0    Non-squamous cell carcinoma Stage IIIA\n",
       "3 2020                  0    Non-squamous cell carcinoma Stage IIIC\n",
       "4 2020                  1    Non-squamous cell carcinoma Stage IV  \n",
       "5 2021                  0    Non-squamous cell carcinoma Stage IIIB\n",
       "6 2017                  0    Non-squamous cell carcinoma Stage IV  \n",
       "  smokingstatus      birthyear ⋯ biomarker_egfr biomarker_kras lab_creatinine\n",
       "1 History of smoking 1951      ⋯ NA             NA             normal        \n",
       "2 History of smoking 1946      ⋯ NA             NA             NA            \n",
       "3 History of smoking 1944      ⋯ NA             NA             NA            \n",
       "4 History of smoking 1937      ⋯ NA             NA             normal        \n",
       "5 History of smoking 1966      ⋯ NA             NA             normal        \n",
       "6 History of smoking 1943      ⋯ NA             NA             normal        \n",
       "  lab_alanineaminotransferase lab_ldh  bmi      index_lot1_year ageAtdiagnosis\n",
       "1 normal                      NA       19.34262 2019            51            \n",
       "2 normal                      NA       22.41903 2014            67            \n",
       "3 NA                          NA       26.63880 2020            76            \n",
       "4 abnormal                    NA       18.94848 2020            83            \n",
       "5 normal                      abnormal 21.33351 2021            55            \n",
       "6 normal                      normal   16.65117 2017            74            \n",
       "  yrsToprogress TimetoTx\n",
       "1 17            17      \n",
       "2  1             1      \n",
       "3  0             0      \n",
       "4  0             0      \n",
       "5  0             0      \n",
       "6  0             0      "
      ]
     },
     "metadata": {},
     "output_type": "display_data"
    }
   ],
   "source": [
    "#Replace 'unknown' values in ecog & smokingstatus columns with 'NA'\n",
    "flatiron_train <- flatiron_train %>% replace_with_na(replace = list(ecog = \"Unknown\", smokingstatus = \n",
    "                \"Unknown\", gender = \"Unknown\", raceethnicity = \"Unknown\", region = \"Unknown\", \n",
    "                                                                    lot_category = \"Unknown\"))\n",
    "head(flatiron_train)"
   ]
  },
  {
   "cell_type": "code",
   "execution_count": 223,
   "id": "6d850b95-7450-45e4-ad65-6524a9712313",
   "metadata": {},
   "outputs": [],
   "source": [
    "flatiron_train1 <- flatiron_train"
   ]
  },
  {
   "cell_type": "code",
   "execution_count": 224,
   "id": "495f4429-0ce9-4f49-9fd2-26b9bde80eef",
   "metadata": {},
   "outputs": [],
   "source": [
    "#Track missing values - to id post imputation\n",
    "flatiron_sh <- bind_shadow(flatiron_train1, only_miss = TRUE)"
   ]
  },
  {
   "cell_type": "code",
   "execution_count": 225,
   "id": "12384202-df0b-4155-8197-b3f586a1e593",
   "metadata": {},
   "outputs": [
    {
     "data": {
      "text/html": [
       "<table class=\"dataframe\">\n",
       "<caption>A tibble: 6 × 28</caption>\n",
       "<thead>\n",
       "\t<tr><th scope=col>patientid</th><th scope=col>daysto_event</th><th scope=col>event_died</th><th scope=col>diagnosis_nsclc_year</th><th scope=col>diagnosis_ansclc_year</th><th scope=col>ecog</th><th scope=col>histology</th><th scope=col>groupstage</th><th scope=col>smokingstatus</th><th scope=col>birthyear</th><th scope=col>⋯</th><th scope=col>biomarker_egfr</th><th scope=col>biomarker_kras</th><th scope=col>lab_creatinine</th><th scope=col>lab_alanineaminotransferase</th><th scope=col>lab_ldh</th><th scope=col>bmi</th><th scope=col>index_lot1_year</th><th scope=col>ageAtdiagnosis</th><th scope=col>yrsToprogress</th><th scope=col>TimetoTx</th></tr>\n",
       "\t<tr><th scope=col>&lt;chr&gt;</th><th scope=col>&lt;dbl&gt;</th><th scope=col>&lt;dbl&gt;</th><th scope=col>&lt;dbl&gt;</th><th scope=col>&lt;dbl&gt;</th><th scope=col>&lt;chr&gt;</th><th scope=col>&lt;chr&gt;</th><th scope=col>&lt;dbl&gt;</th><th scope=col>&lt;dbl&gt;</th><th scope=col>&lt;dbl&gt;</th><th scope=col>⋯</th><th scope=col>&lt;dbl&gt;</th><th scope=col>&lt;dbl&gt;</th><th scope=col>&lt;chr&gt;</th><th scope=col>&lt;chr&gt;</th><th scope=col>&lt;chr&gt;</th><th scope=col>&lt;dbl&gt;</th><th scope=col>&lt;dbl&gt;</th><th scope=col>&lt;dbl&gt;</th><th scope=col>&lt;dbl&gt;</th><th scope=col>&lt;dbl&gt;</th></tr>\n",
       "</thead>\n",
       "<tbody>\n",
       "\t<tr><td>PHARML000001</td><td>156</td><td>0</td><td>2002</td><td>2019</td><td>1</td><td>Squamous cell carcinoma    </td><td>0</td><td>0</td><td>1951</td><td>⋯</td><td>0</td><td>0</td><td>normal</td><td>normal  </td><td>0       </td><td>19.34262</td><td>2019</td><td>51</td><td>17</td><td>17</td></tr>\n",
       "\t<tr><td>PHARML000003</td><td>190</td><td>1</td><td>2013</td><td>2014</td><td>0</td><td>Non-squamous cell carcinoma</td><td>1</td><td>0</td><td>1946</td><td>⋯</td><td>0</td><td>0</td><td>0     </td><td>normal  </td><td>0       </td><td>22.41903</td><td>2014</td><td>67</td><td> 1</td><td> 1</td></tr>\n",
       "\t<tr><td>PHARML000004</td><td> 74</td><td>1</td><td>2020</td><td>2020</td><td>0</td><td>Non-squamous cell carcinoma</td><td>2</td><td>0</td><td>1944</td><td>⋯</td><td>0</td><td>0</td><td>0     </td><td>0       </td><td>0       </td><td>26.63880</td><td>2020</td><td>76</td><td> 0</td><td> 0</td></tr>\n",
       "\t<tr><td>PHARML000008</td><td> 52</td><td>1</td><td>2020</td><td>2020</td><td>1</td><td>Non-squamous cell carcinoma</td><td>3</td><td>0</td><td>1937</td><td>⋯</td><td>0</td><td>0</td><td>normal</td><td>abnormal</td><td>0       </td><td>18.94848</td><td>2020</td><td>83</td><td> 0</td><td> 0</td></tr>\n",
       "\t<tr><td>PHARML000009</td><td>392</td><td>0</td><td>2021</td><td>2021</td><td>0</td><td>Non-squamous cell carcinoma</td><td>4</td><td>0</td><td>1966</td><td>⋯</td><td>0</td><td>0</td><td>normal</td><td>normal  </td><td>abnormal</td><td>21.33351</td><td>2021</td><td>55</td><td> 0</td><td> 0</td></tr>\n",
       "\t<tr><td>PHARML000011</td><td> 39</td><td>1</td><td>2017</td><td>2017</td><td>0</td><td>Non-squamous cell carcinoma</td><td>3</td><td>0</td><td>1943</td><td>⋯</td><td>0</td><td>0</td><td>normal</td><td>normal  </td><td>normal  </td><td>16.65117</td><td>2017</td><td>74</td><td> 0</td><td> 0</td></tr>\n",
       "</tbody>\n",
       "</table>\n"
      ],
      "text/latex": [
       "A tibble: 6 × 28\n",
       "\\begin{tabular}{lllllllllllllllllllll}\n",
       " patientid & daysto\\_event & event\\_died & diagnosis\\_nsclc\\_year & diagnosis\\_ansclc\\_year & ecog & histology & groupstage & smokingstatus & birthyear & ⋯ & biomarker\\_egfr & biomarker\\_kras & lab\\_creatinine & lab\\_alanineaminotransferase & lab\\_ldh & bmi & index\\_lot1\\_year & ageAtdiagnosis & yrsToprogress & TimetoTx\\\\\n",
       " <chr> & <dbl> & <dbl> & <dbl> & <dbl> & <chr> & <chr> & <dbl> & <dbl> & <dbl> & ⋯ & <dbl> & <dbl> & <chr> & <chr> & <chr> & <dbl> & <dbl> & <dbl> & <dbl> & <dbl>\\\\\n",
       "\\hline\n",
       "\t PHARML000001 & 156 & 0 & 2002 & 2019 & 1 & Squamous cell carcinoma     & 0 & 0 & 1951 & ⋯ & 0 & 0 & normal & normal   & 0        & 19.34262 & 2019 & 51 & 17 & 17\\\\\n",
       "\t PHARML000003 & 190 & 1 & 2013 & 2014 & 0 & Non-squamous cell carcinoma & 1 & 0 & 1946 & ⋯ & 0 & 0 & 0      & normal   & 0        & 22.41903 & 2014 & 67 &  1 &  1\\\\\n",
       "\t PHARML000004 &  74 & 1 & 2020 & 2020 & 0 & Non-squamous cell carcinoma & 2 & 0 & 1944 & ⋯ & 0 & 0 & 0      & 0        & 0        & 26.63880 & 2020 & 76 &  0 &  0\\\\\n",
       "\t PHARML000008 &  52 & 1 & 2020 & 2020 & 1 & Non-squamous cell carcinoma & 3 & 0 & 1937 & ⋯ & 0 & 0 & normal & abnormal & 0        & 18.94848 & 2020 & 83 &  0 &  0\\\\\n",
       "\t PHARML000009 & 392 & 0 & 2021 & 2021 & 0 & Non-squamous cell carcinoma & 4 & 0 & 1966 & ⋯ & 0 & 0 & normal & normal   & abnormal & 21.33351 & 2021 & 55 &  0 &  0\\\\\n",
       "\t PHARML000011 &  39 & 1 & 2017 & 2017 & 0 & Non-squamous cell carcinoma & 3 & 0 & 1943 & ⋯ & 0 & 0 & normal & normal   & normal   & 16.65117 & 2017 & 74 &  0 &  0\\\\\n",
       "\\end{tabular}\n"
      ],
      "text/markdown": [
       "\n",
       "A tibble: 6 × 28\n",
       "\n",
       "| patientid &lt;chr&gt; | daysto_event &lt;dbl&gt; | event_died &lt;dbl&gt; | diagnosis_nsclc_year &lt;dbl&gt; | diagnosis_ansclc_year &lt;dbl&gt; | ecog &lt;chr&gt; | histology &lt;chr&gt; | groupstage &lt;dbl&gt; | smokingstatus &lt;dbl&gt; | birthyear &lt;dbl&gt; | ⋯ ⋯ | biomarker_egfr &lt;dbl&gt; | biomarker_kras &lt;dbl&gt; | lab_creatinine &lt;chr&gt; | lab_alanineaminotransferase &lt;chr&gt; | lab_ldh &lt;chr&gt; | bmi &lt;dbl&gt; | index_lot1_year &lt;dbl&gt; | ageAtdiagnosis &lt;dbl&gt; | yrsToprogress &lt;dbl&gt; | TimetoTx &lt;dbl&gt; |\n",
       "|---|---|---|---|---|---|---|---|---|---|---|---|---|---|---|---|---|---|---|---|---|\n",
       "| PHARML000001 | 156 | 0 | 2002 | 2019 | 1 | Squamous cell carcinoma     | 0 | 0 | 1951 | ⋯ | 0 | 0 | normal | normal   | 0        | 19.34262 | 2019 | 51 | 17 | 17 |\n",
       "| PHARML000003 | 190 | 1 | 2013 | 2014 | 0 | Non-squamous cell carcinoma | 1 | 0 | 1946 | ⋯ | 0 | 0 | 0      | normal   | 0        | 22.41903 | 2014 | 67 |  1 |  1 |\n",
       "| PHARML000004 |  74 | 1 | 2020 | 2020 | 0 | Non-squamous cell carcinoma | 2 | 0 | 1944 | ⋯ | 0 | 0 | 0      | 0        | 0        | 26.63880 | 2020 | 76 |  0 |  0 |\n",
       "| PHARML000008 |  52 | 1 | 2020 | 2020 | 1 | Non-squamous cell carcinoma | 3 | 0 | 1937 | ⋯ | 0 | 0 | normal | abnormal | 0        | 18.94848 | 2020 | 83 |  0 |  0 |\n",
       "| PHARML000009 | 392 | 0 | 2021 | 2021 | 0 | Non-squamous cell carcinoma | 4 | 0 | 1966 | ⋯ | 0 | 0 | normal | normal   | abnormal | 21.33351 | 2021 | 55 |  0 |  0 |\n",
       "| PHARML000011 |  39 | 1 | 2017 | 2017 | 0 | Non-squamous cell carcinoma | 3 | 0 | 1943 | ⋯ | 0 | 0 | normal | normal   | normal   | 16.65117 | 2017 | 74 |  0 |  0 |\n",
       "\n"
      ],
      "text/plain": [
       "  patientid    daysto_event event_died diagnosis_nsclc_year\n",
       "1 PHARML000001 156          0          2002                \n",
       "2 PHARML000003 190          1          2013                \n",
       "3 PHARML000004  74          1          2020                \n",
       "4 PHARML000008  52          1          2020                \n",
       "5 PHARML000009 392          0          2021                \n",
       "6 PHARML000011  39          1          2017                \n",
       "  diagnosis_ansclc_year ecog histology                   groupstage\n",
       "1 2019                  1    Squamous cell carcinoma     0         \n",
       "2 2014                  0    Non-squamous cell carcinoma 1         \n",
       "3 2020                  0    Non-squamous cell carcinoma 2         \n",
       "4 2020                  1    Non-squamous cell carcinoma 3         \n",
       "5 2021                  0    Non-squamous cell carcinoma 4         \n",
       "6 2017                  0    Non-squamous cell carcinoma 3         \n",
       "  smokingstatus birthyear ⋯ biomarker_egfr biomarker_kras lab_creatinine\n",
       "1 0             1951      ⋯ 0              0              normal        \n",
       "2 0             1946      ⋯ 0              0              0             \n",
       "3 0             1944      ⋯ 0              0              0             \n",
       "4 0             1937      ⋯ 0              0              normal        \n",
       "5 0             1966      ⋯ 0              0              normal        \n",
       "6 0             1943      ⋯ 0              0              normal        \n",
       "  lab_alanineaminotransferase lab_ldh  bmi      index_lot1_year ageAtdiagnosis\n",
       "1 normal                      0        19.34262 2019            51            \n",
       "2 normal                      0        22.41903 2014            67            \n",
       "3 0                           0        26.63880 2020            76            \n",
       "4 abnormal                    0        18.94848 2020            83            \n",
       "5 normal                      abnormal 21.33351 2021            55            \n",
       "6 normal                      normal   16.65117 2017            74            \n",
       "  yrsToprogress TimetoTx\n",
       "1 17            17      \n",
       "2  1             1      \n",
       "3  0             0      \n",
       "4  0             0      \n",
       "5  0             0      \n",
       "6  0             0      "
      ]
     },
     "metadata": {},
     "output_type": "display_data"
    }
   ],
   "source": [
    "head(flatiron_train1)"
   ]
  },
  {
   "cell_type": "markdown",
   "id": "c9475a53-25bc-4b6a-a6e9-fb35eb752fb1",
   "metadata": {},
   "source": [
    "#Assumption for baseline model = all NA values equal absence of disease or abnormal result = 0"
   ]
  },
  {
   "cell_type": "code",
   "execution_count": 115,
   "id": "a37fd662-3538-4ca2-a0d1-2ae99269987a",
   "metadata": {},
   "outputs": [
    {
     "data": {
      "text/html": [
       "FALSE"
      ],
      "text/latex": [
       "FALSE"
      ],
      "text/markdown": [
       "FALSE"
      ],
      "text/plain": [
       "[1] FALSE"
      ]
     },
     "metadata": {},
     "output_type": "display_data"
    },
    {
     "data": {
      "text/html": [
       "FALSE"
      ],
      "text/latex": [
       "FALSE"
      ],
      "text/markdown": [
       "FALSE"
      ],
      "text/plain": [
       "[1] FALSE"
      ]
     },
     "metadata": {},
     "output_type": "display_data"
    },
    {
     "data": {
      "text/html": [
       "TRUE"
      ],
      "text/latex": [
       "TRUE"
      ],
      "text/markdown": [
       "TRUE"
      ],
      "text/plain": [
       "[1] TRUE"
      ]
     },
     "metadata": {},
     "output_type": "display_data"
    },
    {
     "data": {
      "text/html": [
       "FALSE"
      ],
      "text/latex": [
       "FALSE"
      ],
      "text/markdown": [
       "FALSE"
      ],
      "text/plain": [
       "[1] FALSE"
      ]
     },
     "metadata": {},
     "output_type": "display_data"
    },
    {
     "data": {
      "text/html": [
       "FALSE"
      ],
      "text/latex": [
       "FALSE"
      ],
      "text/markdown": [
       "FALSE"
      ],
      "text/plain": [
       "[1] FALSE"
      ]
     },
     "metadata": {},
     "output_type": "display_data"
    },
    {
     "data": {
      "text/html": [
       "FALSE"
      ],
      "text/latex": [
       "FALSE"
      ],
      "text/markdown": [
       "FALSE"
      ],
      "text/plain": [
       "[1] FALSE"
      ]
     },
     "metadata": {},
     "output_type": "display_data"
    },
    {
     "data": {
      "text/html": [
       "TRUE"
      ],
      "text/latex": [
       "TRUE"
      ],
      "text/markdown": [
       "TRUE"
      ],
      "text/plain": [
       "[1] TRUE"
      ]
     },
     "metadata": {},
     "output_type": "display_data"
    },
    {
     "data": {
      "text/html": [
       "TRUE"
      ],
      "text/latex": [
       "TRUE"
      ],
      "text/markdown": [
       "TRUE"
      ],
      "text/plain": [
       "[1] TRUE"
      ]
     },
     "metadata": {},
     "output_type": "display_data"
    },
    {
     "data": {
      "text/html": [
       "TRUE"
      ],
      "text/latex": [
       "TRUE"
      ],
      "text/markdown": [
       "TRUE"
      ],
      "text/plain": [
       "[1] TRUE"
      ]
     },
     "metadata": {},
     "output_type": "display_data"
    },
    {
     "data": {
      "text/html": [
       "TRUE"
      ],
      "text/latex": [
       "TRUE"
      ],
      "text/markdown": [
       "TRUE"
      ],
      "text/plain": [
       "[1] TRUE"
      ]
     },
     "metadata": {},
     "output_type": "display_data"
    }
   ],
   "source": [
    "#Check for NA values in the dataframe with 0\n",
    "any_na(flatiron_train$daysto_event)\n",
    "any_na(flatiron_train$event_died)\n",
    "any_na(flatiron_train$ecog)\n",
    "any_na(flatiron_train$histology)\n",
    "any_na(flatiron_train$groupstage)\n",
    "any_na(flatiron_train$smokingstatus)\n",
    "any_na(flatiron_train$bmi)\n",
    "any_na(flatiron_train$ageAtdiagnosis)\n",
    "any_na(flatiron_train$yrsToprogress)\n",
    "any_na(flatiron_train$TimetoTx)"
   ]
  },
  {
   "cell_type": "code",
   "execution_count": 168,
   "id": "42352d62-1070-4755-a27e-a5b33988ebb8",
   "metadata": {},
   "outputs": [],
   "source": [
    "#Replace all NA values with 0\n",
    "toReplace1 <- which(is.na(flatiron_train$ecog))\n",
    "\n",
    "flatiron_train$ecog[toReplace1] <- 0\n",
    "\n",
    "#BMI\n",
    "toReplace2 <- which(is.na(flatiron_train$bmi))\n",
    "flatiron_train$bmi[toReplace2] <- 0\n",
    "\n",
    "#Age at Diagnosis\n",
    "toReplace3 <- which(is.na(flatiron_train$ageAtdiagnosis))\n",
    "flatiron_train$ageAtdiagnosis[toReplace3] <- 0\n",
    "\n",
    "#yrs to progress\n",
    "toReplace4 <- which(is.na(flatiron_train$yrsToprogress))\n",
    "flatiron_train$yrsToprogress[toReplace4] <- 0\n",
    "\n",
    "#Time to treatment\n",
    "toReplace5 <- which(is.na(flatiron_train$TimetoTx))\n",
    "flatiron_train$TimetoTx[toReplace5] <- 0\n",
    "\n",
    "#Gender \n",
    "toReplace6 <- which(is.na(flatiron_train$gender))\n",
    "flatiron_train$gender[toReplace6] <- 0\n",
    "\n",
    "#Raceethnicity\n",
    "toReplace7 <- which(is.na(flatiron_train$raceethnicity))\n",
    "flatiron_train$raceethnicity[toReplace7] <- 0\n",
    "\n",
    "#Region\n",
    "toReplace8 <- which(is.na(flatiron_train$region))\n",
    "flatiron_train$region[toReplace8] <- 0\n",
    "\n",
    "#Lotcategory\n",
    "toReplace9 <- which(is.na(flatiron_train$lot_category))\n",
    "flatiron_train$lot_category[toReplace9] <- 0\n",
    "\n",
    "#biomarker_pdl1\n",
    "toReplace10 <- which(is.na(flatiron_train$biomarker_pdl1))\n",
    "flatiron_train$biomarker_pdl1[toReplace10] <- 0\n",
    "\n",
    "#biomarker_alk\n",
    "toReplace11 <- which(is.na(flatiron_train$biomarker_alk))\n",
    "flatiron_train$biomarker_alk[toReplace11] <- 0\n",
    "\n",
    "#biomarker_egfr\n",
    "toReplace12 <- which(is.na(flatiron_train$biomarker_egfr))\n",
    "flatiron_train$biomarker_egfr[toReplace12] <- 0\n",
    "\n",
    "#biomarker_kras\n",
    "toReplace13 <- which(is.na(flatiron_train$biomarker_kras))\n",
    "flatiron_train$biomarker_kras[toReplace13] <- 0\n",
    "\n",
    "#biomrker_ros1\n",
    "toReplace14 <- which(is.na(flatiron_train$biomarker_ros1))\n",
    "flatiron_train$biomarker_ros1[toReplace14] <- 0\n",
    "\n",
    "#lab_creatinine\n",
    "toReplace15 <- which(is.na(flatiron_train$lab_creatinine))\n",
    "flatiron_train$lab_creatinine[toReplace15] <- 0\n",
    "\n",
    "#lab_alt\n",
    "toReplace16 <- which(is.na(flatiron_train$lab_alanineaminotransferase))\n",
    "flatiron_train$lab_alanineaminotransferase[toReplace16] <- 0\n",
    "\n",
    "#lab_ldh\n",
    "toReplace17 <- which(is.na(flatiron_train$lab_ldh))\n",
    "flatiron_train$lab_ldh[toReplace17] <- 0\n",
    "\n",
    "#biomarker_braf\n",
    "toReplace18 <- which(is.na(flatiron_train$biomarker_braf))\n",
    "flatiron_train$biomarker_braf[toReplace18] <- 0"
   ]
  },
  {
   "cell_type": "code",
   "execution_count": 169,
   "id": "12846ad4-2bab-4f3c-bf7c-1166d49f8d9b",
   "metadata": {},
   "outputs": [],
   "source": [
    "#Select only relevant columns and check if any NA values persist\n",
    "\n",
    "flatiron_select <- flatiron_train %>% select(daysto_event, event_died, ecog, histology, groupstage, \n",
    "        smokingstatus, gender, raceethnicity, region, lot_category, biomarker_pdl1, biomarker_egfr, \n",
    "        biomarker_alk, biomarker_ros1, biomarker_braf, biomarker_kras, lab_creatinine, \n",
    "        lab_alanineaminotransferase, lab_ldh, bmi, ageAtdiagnosis, yrsToprogress, TimetoTx)                                       "
   ]
  },
  {
   "cell_type": "code",
   "execution_count": 170,
   "id": "0855cba2-6daa-40e7-8728-2fb49486fafa",
   "metadata": {},
   "outputs": [
    {
     "data": {
      "text/html": [
       "<table class=\"dataframe\">\n",
       "<caption>A tibble: 6 × 23</caption>\n",
       "<thead>\n",
       "\t<tr><th scope=col>daysto_event</th><th scope=col>event_died</th><th scope=col>ecog</th><th scope=col>histology</th><th scope=col>groupstage</th><th scope=col>smokingstatus</th><th scope=col>gender</th><th scope=col>raceethnicity</th><th scope=col>region</th><th scope=col>lot_category</th><th scope=col>⋯</th><th scope=col>biomarker_ros1</th><th scope=col>biomarker_braf</th><th scope=col>biomarker_kras</th><th scope=col>lab_creatinine</th><th scope=col>lab_alanineaminotransferase</th><th scope=col>lab_ldh</th><th scope=col>bmi</th><th scope=col>ageAtdiagnosis</th><th scope=col>yrsToprogress</th><th scope=col>TimetoTx</th></tr>\n",
       "\t<tr><th scope=col>&lt;dbl&gt;</th><th scope=col>&lt;dbl&gt;</th><th scope=col>&lt;chr&gt;</th><th scope=col>&lt;chr&gt;</th><th scope=col>&lt;chr&gt;</th><th scope=col>&lt;chr&gt;</th><th scope=col>&lt;chr&gt;</th><th scope=col>&lt;chr&gt;</th><th scope=col>&lt;chr&gt;</th><th scope=col>&lt;chr&gt;</th><th scope=col>⋯</th><th scope=col>&lt;dbl&gt;</th><th scope=col>&lt;dbl&gt;</th><th scope=col>&lt;dbl&gt;</th><th scope=col>&lt;chr&gt;</th><th scope=col>&lt;chr&gt;</th><th scope=col>&lt;chr&gt;</th><th scope=col>&lt;dbl&gt;</th><th scope=col>&lt;dbl&gt;</th><th scope=col>&lt;dbl&gt;</th><th scope=col>&lt;dbl&gt;</th></tr>\n",
       "</thead>\n",
       "<tbody>\n",
       "\t<tr><td>156</td><td>0</td><td>1</td><td>Squamous cell carcinoma    </td><td>Stage IIA </td><td>History of smoking</td><td>M</td><td>Hispanic or Latino (any)</td><td>South    </td><td>Chemotherapy,Chemotherapy,Immunotherapy              </td><td>⋯</td><td>0</td><td>0</td><td>0</td><td>normal</td><td>normal  </td><td>0       </td><td>19.34262</td><td>51</td><td>17</td><td>17</td></tr>\n",
       "\t<tr><td>190</td><td>1</td><td>0</td><td>Non-squamous cell carcinoma</td><td>Stage IIIA</td><td>History of smoking</td><td>F</td><td>Hispanic or Latino (any)</td><td>Midwest  </td><td>Chemotherapy                                         </td><td>⋯</td><td>0</td><td>0</td><td>0</td><td>0     </td><td>normal  </td><td>0       </td><td>22.41903</td><td>67</td><td> 1</td><td> 1</td></tr>\n",
       "\t<tr><td> 74</td><td>1</td><td>0</td><td>Non-squamous cell carcinoma</td><td>Stage IIIC</td><td>History of smoking</td><td>M</td><td>Hispanic or Latino (any)</td><td>Midwest  </td><td>Chemotherapy,Immunotherapy,Immunotherapy,Chemotherapy</td><td>⋯</td><td>0</td><td>0</td><td>0</td><td>0     </td><td>0       </td><td>0       </td><td>26.63880</td><td>76</td><td> 0</td><td> 0</td></tr>\n",
       "\t<tr><td> 52</td><td>1</td><td>1</td><td>Non-squamous cell carcinoma</td><td>Stage IV  </td><td>History of smoking</td><td>F</td><td>Hispanic or Latino (any)</td><td>Northeast</td><td>Immunotherapy                                        </td><td>⋯</td><td>0</td><td>0</td><td>0</td><td>normal</td><td>abnormal</td><td>0       </td><td>18.94848</td><td>83</td><td> 0</td><td> 0</td></tr>\n",
       "\t<tr><td>392</td><td>0</td><td>0</td><td>Non-squamous cell carcinoma</td><td>Stage IIIB</td><td>History of smoking</td><td>M</td><td>Non-Hispanic White      </td><td>Northeast</td><td>Chemotherapy,Chemotherapy                            </td><td>⋯</td><td>0</td><td>0</td><td>0</td><td>normal</td><td>normal  </td><td>abnormal</td><td>21.33351</td><td>55</td><td> 0</td><td> 0</td></tr>\n",
       "\t<tr><td> 39</td><td>1</td><td>0</td><td>Non-squamous cell carcinoma</td><td>Stage IV  </td><td>History of smoking</td><td>F</td><td>Hispanic or Latino (any)</td><td>West     </td><td>Immunotherapy                                        </td><td>⋯</td><td>0</td><td>0</td><td>0</td><td>normal</td><td>normal  </td><td>normal  </td><td>16.65117</td><td>74</td><td> 0</td><td> 0</td></tr>\n",
       "</tbody>\n",
       "</table>\n"
      ],
      "text/latex": [
       "A tibble: 6 × 23\n",
       "\\begin{tabular}{lllllllllllllllllllll}\n",
       " daysto\\_event & event\\_died & ecog & histology & groupstage & smokingstatus & gender & raceethnicity & region & lot\\_category & ⋯ & biomarker\\_ros1 & biomarker\\_braf & biomarker\\_kras & lab\\_creatinine & lab\\_alanineaminotransferase & lab\\_ldh & bmi & ageAtdiagnosis & yrsToprogress & TimetoTx\\\\\n",
       " <dbl> & <dbl> & <chr> & <chr> & <chr> & <chr> & <chr> & <chr> & <chr> & <chr> & ⋯ & <dbl> & <dbl> & <dbl> & <chr> & <chr> & <chr> & <dbl> & <dbl> & <dbl> & <dbl>\\\\\n",
       "\\hline\n",
       "\t 156 & 0 & 1 & Squamous cell carcinoma     & Stage IIA  & History of smoking & M & Hispanic or Latino (any) & South     & Chemotherapy,Chemotherapy,Immunotherapy               & ⋯ & 0 & 0 & 0 & normal & normal   & 0        & 19.34262 & 51 & 17 & 17\\\\\n",
       "\t 190 & 1 & 0 & Non-squamous cell carcinoma & Stage IIIA & History of smoking & F & Hispanic or Latino (any) & Midwest   & Chemotherapy                                          & ⋯ & 0 & 0 & 0 & 0      & normal   & 0        & 22.41903 & 67 &  1 &  1\\\\\n",
       "\t  74 & 1 & 0 & Non-squamous cell carcinoma & Stage IIIC & History of smoking & M & Hispanic or Latino (any) & Midwest   & Chemotherapy,Immunotherapy,Immunotherapy,Chemotherapy & ⋯ & 0 & 0 & 0 & 0      & 0        & 0        & 26.63880 & 76 &  0 &  0\\\\\n",
       "\t  52 & 1 & 1 & Non-squamous cell carcinoma & Stage IV   & History of smoking & F & Hispanic or Latino (any) & Northeast & Immunotherapy                                         & ⋯ & 0 & 0 & 0 & normal & abnormal & 0        & 18.94848 & 83 &  0 &  0\\\\\n",
       "\t 392 & 0 & 0 & Non-squamous cell carcinoma & Stage IIIB & History of smoking & M & Non-Hispanic White       & Northeast & Chemotherapy,Chemotherapy                             & ⋯ & 0 & 0 & 0 & normal & normal   & abnormal & 21.33351 & 55 &  0 &  0\\\\\n",
       "\t  39 & 1 & 0 & Non-squamous cell carcinoma & Stage IV   & History of smoking & F & Hispanic or Latino (any) & West      & Immunotherapy                                         & ⋯ & 0 & 0 & 0 & normal & normal   & normal   & 16.65117 & 74 &  0 &  0\\\\\n",
       "\\end{tabular}\n"
      ],
      "text/markdown": [
       "\n",
       "A tibble: 6 × 23\n",
       "\n",
       "| daysto_event &lt;dbl&gt; | event_died &lt;dbl&gt; | ecog &lt;chr&gt; | histology &lt;chr&gt; | groupstage &lt;chr&gt; | smokingstatus &lt;chr&gt; | gender &lt;chr&gt; | raceethnicity &lt;chr&gt; | region &lt;chr&gt; | lot_category &lt;chr&gt; | ⋯ ⋯ | biomarker_ros1 &lt;dbl&gt; | biomarker_braf &lt;dbl&gt; | biomarker_kras &lt;dbl&gt; | lab_creatinine &lt;chr&gt; | lab_alanineaminotransferase &lt;chr&gt; | lab_ldh &lt;chr&gt; | bmi &lt;dbl&gt; | ageAtdiagnosis &lt;dbl&gt; | yrsToprogress &lt;dbl&gt; | TimetoTx &lt;dbl&gt; |\n",
       "|---|---|---|---|---|---|---|---|---|---|---|---|---|---|---|---|---|---|---|---|---|\n",
       "| 156 | 0 | 1 | Squamous cell carcinoma     | Stage IIA  | History of smoking | M | Hispanic or Latino (any) | South     | Chemotherapy,Chemotherapy,Immunotherapy               | ⋯ | 0 | 0 | 0 | normal | normal   | 0        | 19.34262 | 51 | 17 | 17 |\n",
       "| 190 | 1 | 0 | Non-squamous cell carcinoma | Stage IIIA | History of smoking | F | Hispanic or Latino (any) | Midwest   | Chemotherapy                                          | ⋯ | 0 | 0 | 0 | 0      | normal   | 0        | 22.41903 | 67 |  1 |  1 |\n",
       "|  74 | 1 | 0 | Non-squamous cell carcinoma | Stage IIIC | History of smoking | M | Hispanic or Latino (any) | Midwest   | Chemotherapy,Immunotherapy,Immunotherapy,Chemotherapy | ⋯ | 0 | 0 | 0 | 0      | 0        | 0        | 26.63880 | 76 |  0 |  0 |\n",
       "|  52 | 1 | 1 | Non-squamous cell carcinoma | Stage IV   | History of smoking | F | Hispanic or Latino (any) | Northeast | Immunotherapy                                         | ⋯ | 0 | 0 | 0 | normal | abnormal | 0        | 18.94848 | 83 |  0 |  0 |\n",
       "| 392 | 0 | 0 | Non-squamous cell carcinoma | Stage IIIB | History of smoking | M | Non-Hispanic White       | Northeast | Chemotherapy,Chemotherapy                             | ⋯ | 0 | 0 | 0 | normal | normal   | abnormal | 21.33351 | 55 |  0 |  0 |\n",
       "|  39 | 1 | 0 | Non-squamous cell carcinoma | Stage IV   | History of smoking | F | Hispanic or Latino (any) | West      | Immunotherapy                                         | ⋯ | 0 | 0 | 0 | normal | normal   | normal   | 16.65117 | 74 |  0 |  0 |\n",
       "\n"
      ],
      "text/plain": [
       "  daysto_event event_died ecog histology                   groupstage\n",
       "1 156          0          1    Squamous cell carcinoma     Stage IIA \n",
       "2 190          1          0    Non-squamous cell carcinoma Stage IIIA\n",
       "3  74          1          0    Non-squamous cell carcinoma Stage IIIC\n",
       "4  52          1          1    Non-squamous cell carcinoma Stage IV  \n",
       "5 392          0          0    Non-squamous cell carcinoma Stage IIIB\n",
       "6  39          1          0    Non-squamous cell carcinoma Stage IV  \n",
       "  smokingstatus      gender raceethnicity            region   \n",
       "1 History of smoking M      Hispanic or Latino (any) South    \n",
       "2 History of smoking F      Hispanic or Latino (any) Midwest  \n",
       "3 History of smoking M      Hispanic or Latino (any) Midwest  \n",
       "4 History of smoking F      Hispanic or Latino (any) Northeast\n",
       "5 History of smoking M      Non-Hispanic White       Northeast\n",
       "6 History of smoking F      Hispanic or Latino (any) West     \n",
       "  lot_category                                          ⋯ biomarker_ros1\n",
       "1 Chemotherapy,Chemotherapy,Immunotherapy               ⋯ 0             \n",
       "2 Chemotherapy                                          ⋯ 0             \n",
       "3 Chemotherapy,Immunotherapy,Immunotherapy,Chemotherapy ⋯ 0             \n",
       "4 Immunotherapy                                         ⋯ 0             \n",
       "5 Chemotherapy,Chemotherapy                             ⋯ 0             \n",
       "6 Immunotherapy                                         ⋯ 0             \n",
       "  biomarker_braf biomarker_kras lab_creatinine lab_alanineaminotransferase\n",
       "1 0              0              normal         normal                     \n",
       "2 0              0              0              normal                     \n",
       "3 0              0              0              0                          \n",
       "4 0              0              normal         abnormal                   \n",
       "5 0              0              normal         normal                     \n",
       "6 0              0              normal         normal                     \n",
       "  lab_ldh  bmi      ageAtdiagnosis yrsToprogress TimetoTx\n",
       "1 0        19.34262 51             17            17      \n",
       "2 0        22.41903 67              1             1      \n",
       "3 0        26.63880 76              0             0      \n",
       "4 0        18.94848 83              0             0      \n",
       "5 abnormal 21.33351 55              0             0      \n",
       "6 normal   16.65117 74              0             0      "
      ]
     },
     "metadata": {},
     "output_type": "display_data"
    }
   ],
   "source": [
    "head(flatiron_select)"
   ]
  },
  {
   "cell_type": "markdown",
   "id": "f0cb5ae4-a087-4330-99b3-4598d990fba1",
   "metadata": {},
   "source": [
    "__EXPLORATORY DATA ANALYSIS__"
   ]
  },
  {
   "cell_type": "code",
   "execution_count": 148,
   "id": "1de6ef9e-91e5-4220-ba90-14b1441238d0",
   "metadata": {},
   "outputs": [
    {
     "data": {
      "text/html": [
       "8046"
      ],
      "text/latex": [
       "8046"
      ],
      "text/markdown": [
       "8046"
      ],
      "text/plain": [
       "[1] 8046"
      ]
     },
     "metadata": {},
     "output_type": "display_data"
    },
    {
     "data": {
      "text/html": [
       "21832"
      ],
      "text/latex": [
       "21832"
      ],
      "text/markdown": [
       "21832"
      ],
      "text/plain": [
       "[1] 21832"
      ]
     },
     "metadata": {},
     "output_type": "display_data"
    }
   ],
   "source": [
    "#Filter out datasets according to histology type\n",
    "\n",
    "squamous_cellca <- flatiron_train %>% filter(histology == \"Squamous cell carcinoma\")\n",
    "nrow(squamous_cellca)\n",
    "\n",
    "nonsquam_cellca <- flatiron_train %>% filter(histology == \"Non-squamous cell carcinoma\")\n",
    "nrow(nonsquam_cellca)"
   ]
  },
  {
   "cell_type": "code",
   "execution_count": 155,
   "id": "c8ba5631-eb50-41e5-bf15-621e8665f8dc",
   "metadata": {},
   "outputs": [
    {
     "data": {
      "text/html": [
       "<table class=\"dataframe\">\n",
       "<caption>A tibble: 3 × 5</caption>\n",
       "<thead>\n",
       "\t<tr><th scope=col>histology</th><th scope=col>mean(ageAtdiagnosis)</th><th scope=col>mean(yrsToprogress)</th><th scope=col>mean(TimetoTx)</th><th scope=col>n()</th></tr>\n",
       "\t<tr><th scope=col>&lt;dbl&gt;</th><th scope=col>&lt;dbl&gt;</th><th scope=col>&lt;dbl&gt;</th><th scope=col>&lt;dbl&gt;</th><th scope=col>&lt;int&gt;</th></tr>\n",
       "</thead>\n",
       "<tbody>\n",
       "\t<tr><td>0</td><td>68.45029</td><td>0.4516530</td><td>0.5397713</td><td> 8046</td></tr>\n",
       "\t<tr><td>1</td><td>67.01415</td><td>0.4210791</td><td>0.5162605</td><td>21832</td></tr>\n",
       "\t<tr><td>2</td><td>66.73352</td><td>0.3337912</td><td>0.4395604</td><td> 1456</td></tr>\n",
       "</tbody>\n",
       "</table>\n"
      ],
      "text/latex": [
       "A tibble: 3 × 5\n",
       "\\begin{tabular}{lllll}\n",
       " histology & mean(ageAtdiagnosis) & mean(yrsToprogress) & mean(TimetoTx) & n()\\\\\n",
       " <dbl> & <dbl> & <dbl> & <dbl> & <int>\\\\\n",
       "\\hline\n",
       "\t 0 & 68.45029 & 0.4516530 & 0.5397713 &  8046\\\\\n",
       "\t 1 & 67.01415 & 0.4210791 & 0.5162605 & 21832\\\\\n",
       "\t 2 & 66.73352 & 0.3337912 & 0.4395604 &  1456\\\\\n",
       "\\end{tabular}\n"
      ],
      "text/markdown": [
       "\n",
       "A tibble: 3 × 5\n",
       "\n",
       "| histology &lt;dbl&gt; | mean(ageAtdiagnosis) &lt;dbl&gt; | mean(yrsToprogress) &lt;dbl&gt; | mean(TimetoTx) &lt;dbl&gt; | n() &lt;int&gt; |\n",
       "|---|---|---|---|---|\n",
       "| 0 | 68.45029 | 0.4516530 | 0.5397713 |  8046 |\n",
       "| 1 | 67.01415 | 0.4210791 | 0.5162605 | 21832 |\n",
       "| 2 | 66.73352 | 0.3337912 | 0.4395604 |  1456 |\n",
       "\n"
      ],
      "text/plain": [
       "  histology mean(ageAtdiagnosis) mean(yrsToprogress) mean(TimetoTx) n()  \n",
       "1 0         68.45029             0.4516530           0.5397713       8046\n",
       "2 1         67.01415             0.4210791           0.5162605      21832\n",
       "3 2         66.73352             0.3337912           0.4395604       1456"
      ]
     },
     "metadata": {},
     "output_type": "display_data"
    }
   ],
   "source": [
    "#What's AVG(age at diagnosis), (timetoprogress to advancedcancer) & (timeto start treatment) by histology?\n",
    "flatiron_select %>% group_by(histology) %>% summarise(mean(ageAtdiagnosis), mean(yrsToprogress), \n",
    "                                                      mean(TimetoTx), n())\n"
   ]
  },
  {
   "cell_type": "markdown",
   "id": "58811b61-47a9-4f72-b902-ce2a04bd50e8",
   "metadata": {},
   "source": [
    "__Nil significant age differences between the 3 groups with the squamous cell ca patients on average being the oldest cohort at diagnosis, with the NSCLC-NOS group being the youngest. This group (NSCLC-NOS) also appear to have the most aggressive tumours (with the least amount of time to progress to advanced cancer). The Non squamous cell ca group is the largest group, comprising over 21,000 patients in the dataset__"
   ]
  },
  {
   "cell_type": "code",
   "execution_count": 156,
   "id": "fd3fa0c5-bbb4-4aea-8055-a94b8bdd17e9",
   "metadata": {},
   "outputs": [
    {
     "data": {
      "text/html": [
       "<table class=\"dataframe\">\n",
       "<caption>A tibble: 5 × 5</caption>\n",
       "<thead>\n",
       "\t<tr><th scope=col>region</th><th scope=col>mean(ageAtdiagnosis)</th><th scope=col>mean(yrsToprogress)</th><th scope=col>mean(TimetoTx)</th><th scope=col>n()</th></tr>\n",
       "\t<tr><th scope=col>&lt;chr&gt;</th><th scope=col>&lt;dbl&gt;</th><th scope=col>&lt;dbl&gt;</th><th scope=col>&lt;dbl&gt;</th><th scope=col>&lt;int&gt;</th></tr>\n",
       "</thead>\n",
       "<tbody>\n",
       "\t<tr><td>0        </td><td>66.59640</td><td>0.4615047</td><td>0.5602106</td><td> 4559</td></tr>\n",
       "\t<tr><td>Midwest  </td><td>66.91762</td><td>0.4549944</td><td>0.5499439</td><td> 4455</td></tr>\n",
       "\t<tr><td>Northeast</td><td>67.78751</td><td>0.4473684</td><td>0.5355460</td><td> 5092</td></tr>\n",
       "\t<tr><td>South    </td><td>67.20043</td><td>0.3964929</td><td>0.4896453</td><td>12603</td></tr>\n",
       "\t<tr><td>West     </td><td>68.56995</td><td>0.4123243</td><td>0.5085405</td><td> 4625</td></tr>\n",
       "</tbody>\n",
       "</table>\n"
      ],
      "text/latex": [
       "A tibble: 5 × 5\n",
       "\\begin{tabular}{lllll}\n",
       " region & mean(ageAtdiagnosis) & mean(yrsToprogress) & mean(TimetoTx) & n()\\\\\n",
       " <chr> & <dbl> & <dbl> & <dbl> & <int>\\\\\n",
       "\\hline\n",
       "\t 0         & 66.59640 & 0.4615047 & 0.5602106 &  4559\\\\\n",
       "\t Midwest   & 66.91762 & 0.4549944 & 0.5499439 &  4455\\\\\n",
       "\t Northeast & 67.78751 & 0.4473684 & 0.5355460 &  5092\\\\\n",
       "\t South     & 67.20043 & 0.3964929 & 0.4896453 & 12603\\\\\n",
       "\t West      & 68.56995 & 0.4123243 & 0.5085405 &  4625\\\\\n",
       "\\end{tabular}\n"
      ],
      "text/markdown": [
       "\n",
       "A tibble: 5 × 5\n",
       "\n",
       "| region &lt;chr&gt; | mean(ageAtdiagnosis) &lt;dbl&gt; | mean(yrsToprogress) &lt;dbl&gt; | mean(TimetoTx) &lt;dbl&gt; | n() &lt;int&gt; |\n",
       "|---|---|---|---|---|\n",
       "| 0         | 66.59640 | 0.4615047 | 0.5602106 |  4559 |\n",
       "| Midwest   | 66.91762 | 0.4549944 | 0.5499439 |  4455 |\n",
       "| Northeast | 67.78751 | 0.4473684 | 0.5355460 |  5092 |\n",
       "| South     | 67.20043 | 0.3964929 | 0.4896453 | 12603 |\n",
       "| West      | 68.56995 | 0.4123243 | 0.5085405 |  4625 |\n",
       "\n"
      ],
      "text/plain": [
       "  region    mean(ageAtdiagnosis) mean(yrsToprogress) mean(TimetoTx) n()  \n",
       "1 0         66.59640             0.4615047           0.5602106       4559\n",
       "2 Midwest   66.91762             0.4549944           0.5499439       4455\n",
       "3 Northeast 67.78751             0.4473684           0.5355460       5092\n",
       "4 South     67.20043             0.3964929           0.4896453      12603\n",
       "5 West      68.56995             0.4123243           0.5085405       4625"
      ]
     },
     "metadata": {},
     "output_type": "display_data"
    }
   ],
   "source": [
    "#What's AVG(age at diagnosis), (timetoprogress to advancedcancer) & (timeto start treatment) by region?\n",
    "flatiron_select %>% group_by(region) %>% summarise(mean(ageAtdiagnosis), mean(yrsToprogress), \n",
    "                                                      mean(TimetoTx), n())"
   ]
  },
  {
   "cell_type": "markdown",
   "id": "2c887ce4-0068-40c3-946f-ed62ab08c329",
   "metadata": {},
   "source": [
    "__Nil significant age differences by US region for average age at diagnosis, with the South region showing the least average time to progress to advanced cancer. All appear to take longer to start treatment than to progress to advanced cancer (?implication being that treatment is starting later than required)__"
   ]
  },
  {
   "cell_type": "code",
   "execution_count": 159,
   "id": "ebe52028-8ab1-453c-9345-fb1c4e433718",
   "metadata": {},
   "outputs": [
    {
     "data": {
      "text/html": [
       "<table class=\"dataframe\">\n",
       "<caption>A tibble: 5 × 5</caption>\n",
       "<thead>\n",
       "\t<tr><th scope=col>raceethnicity</th><th scope=col>mean(ageAtdiagnosis)</th><th scope=col>mean(yrsToprogress)</th><th scope=col>mean(TimetoTx)</th><th scope=col>n()</th></tr>\n",
       "\t<tr><th scope=col>&lt;chr&gt;</th><th scope=col>&lt;dbl&gt;</th><th scope=col>&lt;dbl&gt;</th><th scope=col>&lt;dbl&gt;</th><th scope=col>&lt;int&gt;</th></tr>\n",
       "</thead>\n",
       "<tbody>\n",
       "\t<tr><td>Hispanic or Latino (any)</td><td>67.25275</td><td>0.4561013</td><td>0.5497249</td><td>24716</td></tr>\n",
       "\t<tr><td>Non-Hispanic Asian      </td><td>65.22794</td><td>0.4117647</td><td>0.5220588</td><td>  136</td></tr>\n",
       "\t<tr><td>Non-Hispanic Black      </td><td>65.44715</td><td>0.3685637</td><td>0.4471545</td><td>  369</td></tr>\n",
       "\t<tr><td>Non-Hispanic White      </td><td>67.91375</td><td>0.3177933</td><td>0.4168609</td><td> 2574</td></tr>\n",
       "\t<tr><td>Other Race              </td><td>68.07516</td><td>0.2910427</td><td>0.3837242</td><td> 3539</td></tr>\n",
       "</tbody>\n",
       "</table>\n"
      ],
      "text/latex": [
       "A tibble: 5 × 5\n",
       "\\begin{tabular}{lllll}\n",
       " raceethnicity & mean(ageAtdiagnosis) & mean(yrsToprogress) & mean(TimetoTx) & n()\\\\\n",
       " <chr> & <dbl> & <dbl> & <dbl> & <int>\\\\\n",
       "\\hline\n",
       "\t Hispanic or Latino (any) & 67.25275 & 0.4561013 & 0.5497249 & 24716\\\\\n",
       "\t Non-Hispanic Asian       & 65.22794 & 0.4117647 & 0.5220588 &   136\\\\\n",
       "\t Non-Hispanic Black       & 65.44715 & 0.3685637 & 0.4471545 &   369\\\\\n",
       "\t Non-Hispanic White       & 67.91375 & 0.3177933 & 0.4168609 &  2574\\\\\n",
       "\t Other Race               & 68.07516 & 0.2910427 & 0.3837242 &  3539\\\\\n",
       "\\end{tabular}\n"
      ],
      "text/markdown": [
       "\n",
       "A tibble: 5 × 5\n",
       "\n",
       "| raceethnicity &lt;chr&gt; | mean(ageAtdiagnosis) &lt;dbl&gt; | mean(yrsToprogress) &lt;dbl&gt; | mean(TimetoTx) &lt;dbl&gt; | n() &lt;int&gt; |\n",
       "|---|---|---|---|---|\n",
       "| Hispanic or Latino (any) | 67.25275 | 0.4561013 | 0.5497249 | 24716 |\n",
       "| Non-Hispanic Asian       | 65.22794 | 0.4117647 | 0.5220588 |   136 |\n",
       "| Non-Hispanic Black       | 65.44715 | 0.3685637 | 0.4471545 |   369 |\n",
       "| Non-Hispanic White       | 67.91375 | 0.3177933 | 0.4168609 |  2574 |\n",
       "| Other Race               | 68.07516 | 0.2910427 | 0.3837242 |  3539 |\n",
       "\n"
      ],
      "text/plain": [
       "  raceethnicity            mean(ageAtdiagnosis) mean(yrsToprogress)\n",
       "1 Hispanic or Latino (any) 67.25275             0.4561013          \n",
       "2 Non-Hispanic Asian       65.22794             0.4117647          \n",
       "3 Non-Hispanic Black       65.44715             0.3685637          \n",
       "4 Non-Hispanic White       67.91375             0.3177933          \n",
       "5 Other Race               68.07516             0.2910427          \n",
       "  mean(TimetoTx) n()  \n",
       "1 0.5497249      24716\n",
       "2 0.5220588        136\n",
       "3 0.4471545        369\n",
       "4 0.4168609       2574\n",
       "5 0.3837242       3539"
      ]
     },
     "metadata": {},
     "output_type": "display_data"
    }
   ],
   "source": [
    "#What's AVG(age at diagnosis), (timetoprogress to advancedcancer) & (timeto start treatment) by raceethn?\n",
    "flatiron_select %>% group_by(raceethnicity) %>% summarise(mean(ageAtdiagnosis), mean(yrsToprogress), \n",
    "                                                      mean(TimetoTx), n())"
   ]
  },
  {
   "cell_type": "markdown",
   "id": "677716eb-021e-4eff-87d1-bd4e9b8a5a0e",
   "metadata": {},
   "source": [
    "__Similar age at diagnosis across all racial/ethnic groups, with slightly higher mean age of 67yrs for Hispanic or Latino group vs Asians, Blacks and Whites. The Hispanic or Latinol group also make up the vast majority of the patients in the dataset (at 24,716)__"
   ]
  },
  {
   "cell_type": "code",
   "execution_count": 161,
   "id": "d7c9ddd8-769a-4ca0-ab64-626d167b8fb5",
   "metadata": {},
   "outputs": [
    {
     "name": "stderr",
     "output_type": "stream",
     "text": [
      "\u001b[1m\u001b[22m`summarise()` has grouped output by 'raceethnicity'. You can override using the\n",
      "`.groups` argument.\n"
     ]
    },
    {
     "data": {
      "text/html": [
       "<table class=\"dataframe\">\n",
       "<caption>A grouped_df: 11 × 6</caption>\n",
       "<thead>\n",
       "\t<tr><th scope=col>raceethnicity</th><th scope=col>gender</th><th scope=col>mean(ageAtdiagnosis)</th><th scope=col>mean(yrsToprogress)</th><th scope=col>mean(TimetoTx)</th><th scope=col>n()</th></tr>\n",
       "\t<tr><th scope=col>&lt;chr&gt;</th><th scope=col>&lt;chr&gt;</th><th scope=col>&lt;dbl&gt;</th><th scope=col>&lt;dbl&gt;</th><th scope=col>&lt;dbl&gt;</th><th scope=col>&lt;int&gt;</th></tr>\n",
       "</thead>\n",
       "<tbody>\n",
       "\t<tr><td>Hispanic or Latino (any)</td><td>F</td><td>66.90562</td><td>0.5075098</td><td>0.6059908</td><td>11718</td></tr>\n",
       "\t<tr><td>Hispanic or Latino (any)</td><td>M</td><td>67.56570</td><td>0.4097553</td><td>0.4989998</td><td>12998</td></tr>\n",
       "\t<tr><td>Non-Hispanic Asian      </td><td>F</td><td>64.95161</td><td>0.2096774</td><td>0.3064516</td><td>   62</td></tr>\n",
       "\t<tr><td>Non-Hispanic Asian      </td><td>M</td><td>65.45946</td><td>0.5810811</td><td>0.7027027</td><td>   74</td></tr>\n",
       "\t<tr><td>Non-Hispanic Black      </td><td>F</td><td>65.61818</td><td>0.4545455</td><td>0.5272727</td><td>  165</td></tr>\n",
       "\t<tr><td>Non-Hispanic Black      </td><td>M</td><td>65.30882</td><td>0.2990196</td><td>0.3823529</td><td>  204</td></tr>\n",
       "\t<tr><td>Non-Hispanic White      </td><td>F</td><td>67.69829</td><td>0.3427350</td><td>0.4487179</td><td> 1170</td></tr>\n",
       "\t<tr><td>Non-Hispanic White      </td><td>M</td><td>68.09330</td><td>0.2970085</td><td>0.3903134</td><td> 1404</td></tr>\n",
       "\t<tr><td>Other Race              </td><td>0</td><td>50.00000</td><td>0.0000000</td><td>0.0000000</td><td>    1</td></tr>\n",
       "\t<tr><td>Other Race              </td><td>F</td><td>67.97401</td><td>0.2964109</td><td>0.3904703</td><td> 1616</td></tr>\n",
       "\t<tr><td>Other Race              </td><td>M</td><td>68.16961</td><td>0.2866805</td><td>0.3782518</td><td> 1922</td></tr>\n",
       "</tbody>\n",
       "</table>\n"
      ],
      "text/latex": [
       "A grouped\\_df: 11 × 6\n",
       "\\begin{tabular}{llllll}\n",
       " raceethnicity & gender & mean(ageAtdiagnosis) & mean(yrsToprogress) & mean(TimetoTx) & n()\\\\\n",
       " <chr> & <chr> & <dbl> & <dbl> & <dbl> & <int>\\\\\n",
       "\\hline\n",
       "\t Hispanic or Latino (any) & F & 66.90562 & 0.5075098 & 0.6059908 & 11718\\\\\n",
       "\t Hispanic or Latino (any) & M & 67.56570 & 0.4097553 & 0.4989998 & 12998\\\\\n",
       "\t Non-Hispanic Asian       & F & 64.95161 & 0.2096774 & 0.3064516 &    62\\\\\n",
       "\t Non-Hispanic Asian       & M & 65.45946 & 0.5810811 & 0.7027027 &    74\\\\\n",
       "\t Non-Hispanic Black       & F & 65.61818 & 0.4545455 & 0.5272727 &   165\\\\\n",
       "\t Non-Hispanic Black       & M & 65.30882 & 0.2990196 & 0.3823529 &   204\\\\\n",
       "\t Non-Hispanic White       & F & 67.69829 & 0.3427350 & 0.4487179 &  1170\\\\\n",
       "\t Non-Hispanic White       & M & 68.09330 & 0.2970085 & 0.3903134 &  1404\\\\\n",
       "\t Other Race               & 0 & 50.00000 & 0.0000000 & 0.0000000 &     1\\\\\n",
       "\t Other Race               & F & 67.97401 & 0.2964109 & 0.3904703 &  1616\\\\\n",
       "\t Other Race               & M & 68.16961 & 0.2866805 & 0.3782518 &  1922\\\\\n",
       "\\end{tabular}\n"
      ],
      "text/markdown": [
       "\n",
       "A grouped_df: 11 × 6\n",
       "\n",
       "| raceethnicity &lt;chr&gt; | gender &lt;chr&gt; | mean(ageAtdiagnosis) &lt;dbl&gt; | mean(yrsToprogress) &lt;dbl&gt; | mean(TimetoTx) &lt;dbl&gt; | n() &lt;int&gt; |\n",
       "|---|---|---|---|---|---|\n",
       "| Hispanic or Latino (any) | F | 66.90562 | 0.5075098 | 0.6059908 | 11718 |\n",
       "| Hispanic or Latino (any) | M | 67.56570 | 0.4097553 | 0.4989998 | 12998 |\n",
       "| Non-Hispanic Asian       | F | 64.95161 | 0.2096774 | 0.3064516 |    62 |\n",
       "| Non-Hispanic Asian       | M | 65.45946 | 0.5810811 | 0.7027027 |    74 |\n",
       "| Non-Hispanic Black       | F | 65.61818 | 0.4545455 | 0.5272727 |   165 |\n",
       "| Non-Hispanic Black       | M | 65.30882 | 0.2990196 | 0.3823529 |   204 |\n",
       "| Non-Hispanic White       | F | 67.69829 | 0.3427350 | 0.4487179 |  1170 |\n",
       "| Non-Hispanic White       | M | 68.09330 | 0.2970085 | 0.3903134 |  1404 |\n",
       "| Other Race               | 0 | 50.00000 | 0.0000000 | 0.0000000 |     1 |\n",
       "| Other Race               | F | 67.97401 | 0.2964109 | 0.3904703 |  1616 |\n",
       "| Other Race               | M | 68.16961 | 0.2866805 | 0.3782518 |  1922 |\n",
       "\n"
      ],
      "text/plain": [
       "   raceethnicity            gender mean(ageAtdiagnosis) mean(yrsToprogress)\n",
       "1  Hispanic or Latino (any) F      66.90562             0.5075098          \n",
       "2  Hispanic or Latino (any) M      67.56570             0.4097553          \n",
       "3  Non-Hispanic Asian       F      64.95161             0.2096774          \n",
       "4  Non-Hispanic Asian       M      65.45946             0.5810811          \n",
       "5  Non-Hispanic Black       F      65.61818             0.4545455          \n",
       "6  Non-Hispanic Black       M      65.30882             0.2990196          \n",
       "7  Non-Hispanic White       F      67.69829             0.3427350          \n",
       "8  Non-Hispanic White       M      68.09330             0.2970085          \n",
       "9  Other Race               0      50.00000             0.0000000          \n",
       "10 Other Race               F      67.97401             0.2964109          \n",
       "11 Other Race               M      68.16961             0.2866805          \n",
       "   mean(TimetoTx) n()  \n",
       "1  0.6059908      11718\n",
       "2  0.4989998      12998\n",
       "3  0.3064516         62\n",
       "4  0.7027027         74\n",
       "5  0.5272727        165\n",
       "6  0.3823529        204\n",
       "7  0.4487179       1170\n",
       "8  0.3903134       1404\n",
       "9  0.0000000          1\n",
       "10 0.3904703       1616\n",
       "11 0.3782518       1922"
      ]
     },
     "metadata": {},
     "output_type": "display_data"
    }
   ],
   "source": [
    "#What's AVG(age at diagnosis), (timetoprogress to advancedcancer) & (timeto start treatment) by raceethn\n",
    "#icity & gender?\n",
    "flatiron_select %>% group_by(raceethnicity, gender) %>% summarise(mean(ageAtdiagnosis), mean(yrsToprogress), \n",
    "                                                      mean(TimetoTx), n())"
   ]
  },
  {
   "cell_type": "markdown",
   "id": "7fe93466-52fe-452a-81d9-a711b0cb6ad2",
   "metadata": {},
   "source": [
    "__For all identified races (besides \"Other Race\"), similar ages at diagnosis. \"Non-Hispanic Asian\" males demonstrated the least time to progress to advanced stages of cancer, with Hispanic or Latino females taking the longest time to progress to advanced cancer.__ "
   ]
  },
  {
   "cell_type": "code",
   "execution_count": 164,
   "id": "3355831d-6d93-446b-b40a-d4a60db2805a",
   "metadata": {},
   "outputs": [
    {
     "data": {
      "text/html": [
       "<table class=\"dataframe\">\n",
       "<caption>A tibble: 3 × 5</caption>\n",
       "<thead>\n",
       "\t<tr><th scope=col>smokingstatus</th><th scope=col>mean(ageAtdiagnosis)</th><th scope=col>mean(yrsToprogress)</th><th scope=col>mean(TimetoTx)</th><th scope=col>n()</th></tr>\n",
       "\t<tr><th scope=col>&lt;chr&gt;</th><th scope=col>&lt;dbl&gt;</th><th scope=col>&lt;dbl&gt;</th><th scope=col>&lt;dbl&gt;</th><th scope=col>&lt;int&gt;</th></tr>\n",
       "</thead>\n",
       "<tbody>\n",
       "\t<tr><td>History of smoking    </td><td>67.48496</td><td>0.4272841</td><td>0.5219214</td><td>27188</td></tr>\n",
       "\t<tr><td>No history of smoking </td><td>66.58207</td><td>0.4086103</td><td>0.4989930</td><td> 3972</td></tr>\n",
       "\t<tr><td>Unknown/Not documented</td><td>67.37356</td><td>0.4195402</td><td>0.4712644</td><td>  174</td></tr>\n",
       "</tbody>\n",
       "</table>\n"
      ],
      "text/latex": [
       "A tibble: 3 × 5\n",
       "\\begin{tabular}{lllll}\n",
       " smokingstatus & mean(ageAtdiagnosis) & mean(yrsToprogress) & mean(TimetoTx) & n()\\\\\n",
       " <chr> & <dbl> & <dbl> & <dbl> & <int>\\\\\n",
       "\\hline\n",
       "\t History of smoking     & 67.48496 & 0.4272841 & 0.5219214 & 27188\\\\\n",
       "\t No history of smoking  & 66.58207 & 0.4086103 & 0.4989930 &  3972\\\\\n",
       "\t Unknown/Not documented & 67.37356 & 0.4195402 & 0.4712644 &   174\\\\\n",
       "\\end{tabular}\n"
      ],
      "text/markdown": [
       "\n",
       "A tibble: 3 × 5\n",
       "\n",
       "| smokingstatus &lt;chr&gt; | mean(ageAtdiagnosis) &lt;dbl&gt; | mean(yrsToprogress) &lt;dbl&gt; | mean(TimetoTx) &lt;dbl&gt; | n() &lt;int&gt; |\n",
       "|---|---|---|---|---|\n",
       "| History of smoking     | 67.48496 | 0.4272841 | 0.5219214 | 27188 |\n",
       "| No history of smoking  | 66.58207 | 0.4086103 | 0.4989930 |  3972 |\n",
       "| Unknown/Not documented | 67.37356 | 0.4195402 | 0.4712644 |   174 |\n",
       "\n"
      ],
      "text/plain": [
       "  smokingstatus          mean(ageAtdiagnosis) mean(yrsToprogress)\n",
       "1 History of smoking     67.48496             0.4272841          \n",
       "2 No history of smoking  66.58207             0.4086103          \n",
       "3 Unknown/Not documented 67.37356             0.4195402          \n",
       "  mean(TimetoTx) n()  \n",
       "1 0.5219214      27188\n",
       "2 0.4989930       3972\n",
       "3 0.4712644        174"
      ]
     },
     "metadata": {},
     "output_type": "display_data"
    }
   ],
   "source": [
    "#Sub-segmenting patients by smoking status\n",
    "flatiron_select %>% group_by(smokingstatus) %>% summarise(mean(ageAtdiagnosis), mean(yrsToprogress), mean(TimetoTx), n())"
   ]
  },
  {
   "cell_type": "markdown",
   "id": "6cfd5dae-f69d-4439-905d-e802b4059b15",
   "metadata": {},
   "source": [
    "__The vast majority of patients in the dataset were smokers, with 86.8% identified as smokers, and 12.7% identified as non-smokers__"
   ]
  },
  {
   "cell_type": "code",
   "execution_count": 178,
   "id": "dc23850c-e94c-47cc-b5bc-b5986db7aaab",
   "metadata": {},
   "outputs": [
    {
     "name": "stderr",
     "output_type": "stream",
     "text": [
      "\u001b[1m\u001b[22m`summarise()` has grouped output by 'smokingstatus'. You can override using the\n",
      "`.groups` argument.\n"
     ]
    },
    {
     "data": {
      "text/html": [
       "<table class=\"dataframe\">\n",
       "<caption>A grouped_df: 7 × 6</caption>\n",
       "<thead>\n",
       "\t<tr><th scope=col>smokingstatus</th><th scope=col>gender</th><th scope=col>mean(ageAtdiagnosis)</th><th scope=col>mean(yrsToprogress)</th><th scope=col>mean(TimetoTx)</th><th scope=col>n()</th></tr>\n",
       "\t<tr><th scope=col>&lt;chr&gt;</th><th scope=col>&lt;chr&gt;</th><th scope=col>&lt;dbl&gt;</th><th scope=col>&lt;dbl&gt;</th><th scope=col>&lt;dbl&gt;</th><th scope=col>&lt;int&gt;</th></tr>\n",
       "</thead>\n",
       "<tbody>\n",
       "\t<tr><td>History of smoking    </td><td>0</td><td>50.00000</td><td>0.0000000</td><td>0.0000000</td><td>    1</td></tr>\n",
       "\t<tr><td>History of smoking    </td><td>F</td><td>67.08786</td><td>0.4789692</td><td>0.5790524</td><td>12030</td></tr>\n",
       "\t<tr><td>History of smoking    </td><td>M</td><td>67.80128</td><td>0.3862902</td><td>0.4766115</td><td>15157</td></tr>\n",
       "\t<tr><td>No history of smoking </td><td>F</td><td>66.94444</td><td>0.4284627</td><td>0.5197869</td><td> 2628</td></tr>\n",
       "\t<tr><td>No history of smoking </td><td>M</td><td>65.87351</td><td>0.3697917</td><td>0.4583333</td><td> 1344</td></tr>\n",
       "\t<tr><td>Unknown/Not documented</td><td>F</td><td>67.26027</td><td>0.3698630</td><td>0.4246575</td><td>   73</td></tr>\n",
       "\t<tr><td>Unknown/Not documented</td><td>M</td><td>67.45545</td><td>0.4554455</td><td>0.5049505</td><td>  101</td></tr>\n",
       "</tbody>\n",
       "</table>\n"
      ],
      "text/latex": [
       "A grouped\\_df: 7 × 6\n",
       "\\begin{tabular}{llllll}\n",
       " smokingstatus & gender & mean(ageAtdiagnosis) & mean(yrsToprogress) & mean(TimetoTx) & n()\\\\\n",
       " <chr> & <chr> & <dbl> & <dbl> & <dbl> & <int>\\\\\n",
       "\\hline\n",
       "\t History of smoking     & 0 & 50.00000 & 0.0000000 & 0.0000000 &     1\\\\\n",
       "\t History of smoking     & F & 67.08786 & 0.4789692 & 0.5790524 & 12030\\\\\n",
       "\t History of smoking     & M & 67.80128 & 0.3862902 & 0.4766115 & 15157\\\\\n",
       "\t No history of smoking  & F & 66.94444 & 0.4284627 & 0.5197869 &  2628\\\\\n",
       "\t No history of smoking  & M & 65.87351 & 0.3697917 & 0.4583333 &  1344\\\\\n",
       "\t Unknown/Not documented & F & 67.26027 & 0.3698630 & 0.4246575 &    73\\\\\n",
       "\t Unknown/Not documented & M & 67.45545 & 0.4554455 & 0.5049505 &   101\\\\\n",
       "\\end{tabular}\n"
      ],
      "text/markdown": [
       "\n",
       "A grouped_df: 7 × 6\n",
       "\n",
       "| smokingstatus &lt;chr&gt; | gender &lt;chr&gt; | mean(ageAtdiagnosis) &lt;dbl&gt; | mean(yrsToprogress) &lt;dbl&gt; | mean(TimetoTx) &lt;dbl&gt; | n() &lt;int&gt; |\n",
       "|---|---|---|---|---|---|\n",
       "| History of smoking     | 0 | 50.00000 | 0.0000000 | 0.0000000 |     1 |\n",
       "| History of smoking     | F | 67.08786 | 0.4789692 | 0.5790524 | 12030 |\n",
       "| History of smoking     | M | 67.80128 | 0.3862902 | 0.4766115 | 15157 |\n",
       "| No history of smoking  | F | 66.94444 | 0.4284627 | 0.5197869 |  2628 |\n",
       "| No history of smoking  | M | 65.87351 | 0.3697917 | 0.4583333 |  1344 |\n",
       "| Unknown/Not documented | F | 67.26027 | 0.3698630 | 0.4246575 |    73 |\n",
       "| Unknown/Not documented | M | 67.45545 | 0.4554455 | 0.5049505 |   101 |\n",
       "\n"
      ],
      "text/plain": [
       "  smokingstatus          gender mean(ageAtdiagnosis) mean(yrsToprogress)\n",
       "1 History of smoking     0      50.00000             0.0000000          \n",
       "2 History of smoking     F      67.08786             0.4789692          \n",
       "3 History of smoking     M      67.80128             0.3862902          \n",
       "4 No history of smoking  F      66.94444             0.4284627          \n",
       "5 No history of smoking  M      65.87351             0.3697917          \n",
       "6 Unknown/Not documented F      67.26027             0.3698630          \n",
       "7 Unknown/Not documented M      67.45545             0.4554455          \n",
       "  mean(TimetoTx) n()  \n",
       "1 0.0000000          1\n",
       "2 0.5790524      12030\n",
       "3 0.4766115      15157\n",
       "4 0.5197869       2628\n",
       "5 0.4583333       1344\n",
       "6 0.4246575         73\n",
       "7 0.5049505        101"
      ]
     },
     "metadata": {},
     "output_type": "display_data"
    }
   ],
   "source": [
    "#Sub-segmenting patients by smoking status & gender\n",
    "flatiron_select %>% group_by(smokingstatus, gender) %>% summarise(mean(ageAtdiagnosis), \n",
    "                                                    mean(yrsToprogress), mean(TimetoTx), n())"
   ]
  },
  {
   "cell_type": "markdown",
   "id": "25d2aaa7-5896-4c49-a611-d714bcbe75f1",
   "metadata": {},
   "source": [
    "__38.3% of all females in the dataset were smokers, 48.3% were male smokers, 8.4% were female non-smokers and 4.3% were male non-smokers__"
   ]
  },
  {
   "cell_type": "code",
   "execution_count": 171,
   "id": "88569ac8-7f08-41a5-97a3-1833f42a9348",
   "metadata": {},
   "outputs": [
    {
     "name": "stderr",
     "output_type": "stream",
     "text": [
      "\u001b[1m\u001b[22m`summarise()` has grouped output by 'biomarker_ros1', 'biomarker_braf',\n",
      "'biomarker_pdl1', 'biomarker_egfr', 'biomarker_alk'. You can override using the\n",
      "`.groups` argument.\n"
     ]
    },
    {
     "data": {
      "text/html": [
       "<table class=\"dataframe\">\n",
       "<caption>A grouped_df: 15 × 10</caption>\n",
       "<thead>\n",
       "\t<tr><th scope=col>biomarker_ros1</th><th scope=col>biomarker_braf</th><th scope=col>biomarker_pdl1</th><th scope=col>biomarker_egfr</th><th scope=col>biomarker_alk</th><th scope=col>biomarker_kras</th><th scope=col>mean(ageAtdiagnosis)</th><th scope=col>mean(yrsToprogress)</th><th scope=col>mean(TimetoTx)</th><th scope=col>n()</th></tr>\n",
       "\t<tr><th scope=col>&lt;dbl&gt;</th><th scope=col>&lt;dbl&gt;</th><th scope=col>&lt;dbl&gt;</th><th scope=col>&lt;dbl&gt;</th><th scope=col>&lt;dbl&gt;</th><th scope=col>&lt;dbl&gt;</th><th scope=col>&lt;dbl&gt;</th><th scope=col>&lt;dbl&gt;</th><th scope=col>&lt;dbl&gt;</th><th scope=col>&lt;int&gt;</th></tr>\n",
       "</thead>\n",
       "<tbody>\n",
       "\t<tr><td>0</td><td>0</td><td>0</td><td>0</td><td>0</td><td>0</td><td>67.35956</td><td>0.4215092</td><td>0.5155756</td><td>31010</td></tr>\n",
       "\t<tr><td>0</td><td>0</td><td>0</td><td>0</td><td>0</td><td>1</td><td>68.57143</td><td>0.7571429</td><td>0.8285714</td><td>   70</td></tr>\n",
       "\t<tr><td>0</td><td>0</td><td>0</td><td>0</td><td>1</td><td>0</td><td>51.75000</td><td>0.5000000</td><td>0.5000000</td><td>    4</td></tr>\n",
       "\t<tr><td>0</td><td>0</td><td>0</td><td>0</td><td>1</td><td>1</td><td>71.00000</td><td>2.0000000</td><td>2.0000000</td><td>    1</td></tr>\n",
       "\t<tr><td>0</td><td>0</td><td>0</td><td>1</td><td>0</td><td>0</td><td>68.40351</td><td>0.8596491</td><td>0.8596491</td><td>   57</td></tr>\n",
       "\t<tr><td>0</td><td>0</td><td>0</td><td>1</td><td>1</td><td>0</td><td>66.50000</td><td>1.0000000</td><td>1.5000000</td><td>    2</td></tr>\n",
       "\t<tr><td>0</td><td>0</td><td>1</td><td>0</td><td>0</td><td>0</td><td>69.16107</td><td>0.6375839</td><td>0.7382550</td><td>  149</td></tr>\n",
       "\t<tr><td>0</td><td>0</td><td>1</td><td>0</td><td>0</td><td>1</td><td>66.91304</td><td>1.3478261</td><td>1.4347826</td><td>   23</td></tr>\n",
       "\t<tr><td>0</td><td>0</td><td>1</td><td>0</td><td>1</td><td>0</td><td>49.00000</td><td>0.0000000</td><td>0.0000000</td><td>    1</td></tr>\n",
       "\t<tr><td>0</td><td>0</td><td>1</td><td>1</td><td>0</td><td>0</td><td>65.14286</td><td>0.4285714</td><td>0.5714286</td><td>    7</td></tr>\n",
       "\t<tr><td>0</td><td>1</td><td>0</td><td>0</td><td>0</td><td>0</td><td>67.66667</td><td>0.3333333</td><td>0.3333333</td><td>    6</td></tr>\n",
       "\t<tr><td>0</td><td>1</td><td>1</td><td>0</td><td>0</td><td>0</td><td>75.00000</td><td>1.0000000</td><td>1.0000000</td><td>    1</td></tr>\n",
       "\t<tr><td>0</td><td>1</td><td>1</td><td>0</td><td>0</td><td>1</td><td>71.00000</td><td>1.0000000</td><td>1.0000000</td><td>    1</td></tr>\n",
       "\t<tr><td>1</td><td>0</td><td>0</td><td>0</td><td>0</td><td>0</td><td>70.00000</td><td>0.0000000</td><td>0.0000000</td><td>    1</td></tr>\n",
       "\t<tr><td>1</td><td>0</td><td>0</td><td>1</td><td>0</td><td>0</td><td>67.00000</td><td>1.0000000</td><td>1.0000000</td><td>    1</td></tr>\n",
       "</tbody>\n",
       "</table>\n"
      ],
      "text/latex": [
       "A grouped\\_df: 15 × 10\n",
       "\\begin{tabular}{llllllllll}\n",
       " biomarker\\_ros1 & biomarker\\_braf & biomarker\\_pdl1 & biomarker\\_egfr & biomarker\\_alk & biomarker\\_kras & mean(ageAtdiagnosis) & mean(yrsToprogress) & mean(TimetoTx) & n()\\\\\n",
       " <dbl> & <dbl> & <dbl> & <dbl> & <dbl> & <dbl> & <dbl> & <dbl> & <dbl> & <int>\\\\\n",
       "\\hline\n",
       "\t 0 & 0 & 0 & 0 & 0 & 0 & 67.35956 & 0.4215092 & 0.5155756 & 31010\\\\\n",
       "\t 0 & 0 & 0 & 0 & 0 & 1 & 68.57143 & 0.7571429 & 0.8285714 &    70\\\\\n",
       "\t 0 & 0 & 0 & 0 & 1 & 0 & 51.75000 & 0.5000000 & 0.5000000 &     4\\\\\n",
       "\t 0 & 0 & 0 & 0 & 1 & 1 & 71.00000 & 2.0000000 & 2.0000000 &     1\\\\\n",
       "\t 0 & 0 & 0 & 1 & 0 & 0 & 68.40351 & 0.8596491 & 0.8596491 &    57\\\\\n",
       "\t 0 & 0 & 0 & 1 & 1 & 0 & 66.50000 & 1.0000000 & 1.5000000 &     2\\\\\n",
       "\t 0 & 0 & 1 & 0 & 0 & 0 & 69.16107 & 0.6375839 & 0.7382550 &   149\\\\\n",
       "\t 0 & 0 & 1 & 0 & 0 & 1 & 66.91304 & 1.3478261 & 1.4347826 &    23\\\\\n",
       "\t 0 & 0 & 1 & 0 & 1 & 0 & 49.00000 & 0.0000000 & 0.0000000 &     1\\\\\n",
       "\t 0 & 0 & 1 & 1 & 0 & 0 & 65.14286 & 0.4285714 & 0.5714286 &     7\\\\\n",
       "\t 0 & 1 & 0 & 0 & 0 & 0 & 67.66667 & 0.3333333 & 0.3333333 &     6\\\\\n",
       "\t 0 & 1 & 1 & 0 & 0 & 0 & 75.00000 & 1.0000000 & 1.0000000 &     1\\\\\n",
       "\t 0 & 1 & 1 & 0 & 0 & 1 & 71.00000 & 1.0000000 & 1.0000000 &     1\\\\\n",
       "\t 1 & 0 & 0 & 0 & 0 & 0 & 70.00000 & 0.0000000 & 0.0000000 &     1\\\\\n",
       "\t 1 & 0 & 0 & 1 & 0 & 0 & 67.00000 & 1.0000000 & 1.0000000 &     1\\\\\n",
       "\\end{tabular}\n"
      ],
      "text/markdown": [
       "\n",
       "A grouped_df: 15 × 10\n",
       "\n",
       "| biomarker_ros1 &lt;dbl&gt; | biomarker_braf &lt;dbl&gt; | biomarker_pdl1 &lt;dbl&gt; | biomarker_egfr &lt;dbl&gt; | biomarker_alk &lt;dbl&gt; | biomarker_kras &lt;dbl&gt; | mean(ageAtdiagnosis) &lt;dbl&gt; | mean(yrsToprogress) &lt;dbl&gt; | mean(TimetoTx) &lt;dbl&gt; | n() &lt;int&gt; |\n",
       "|---|---|---|---|---|---|---|---|---|---|\n",
       "| 0 | 0 | 0 | 0 | 0 | 0 | 67.35956 | 0.4215092 | 0.5155756 | 31010 |\n",
       "| 0 | 0 | 0 | 0 | 0 | 1 | 68.57143 | 0.7571429 | 0.8285714 |    70 |\n",
       "| 0 | 0 | 0 | 0 | 1 | 0 | 51.75000 | 0.5000000 | 0.5000000 |     4 |\n",
       "| 0 | 0 | 0 | 0 | 1 | 1 | 71.00000 | 2.0000000 | 2.0000000 |     1 |\n",
       "| 0 | 0 | 0 | 1 | 0 | 0 | 68.40351 | 0.8596491 | 0.8596491 |    57 |\n",
       "| 0 | 0 | 0 | 1 | 1 | 0 | 66.50000 | 1.0000000 | 1.5000000 |     2 |\n",
       "| 0 | 0 | 1 | 0 | 0 | 0 | 69.16107 | 0.6375839 | 0.7382550 |   149 |\n",
       "| 0 | 0 | 1 | 0 | 0 | 1 | 66.91304 | 1.3478261 | 1.4347826 |    23 |\n",
       "| 0 | 0 | 1 | 0 | 1 | 0 | 49.00000 | 0.0000000 | 0.0000000 |     1 |\n",
       "| 0 | 0 | 1 | 1 | 0 | 0 | 65.14286 | 0.4285714 | 0.5714286 |     7 |\n",
       "| 0 | 1 | 0 | 0 | 0 | 0 | 67.66667 | 0.3333333 | 0.3333333 |     6 |\n",
       "| 0 | 1 | 1 | 0 | 0 | 0 | 75.00000 | 1.0000000 | 1.0000000 |     1 |\n",
       "| 0 | 1 | 1 | 0 | 0 | 1 | 71.00000 | 1.0000000 | 1.0000000 |     1 |\n",
       "| 1 | 0 | 0 | 0 | 0 | 0 | 70.00000 | 0.0000000 | 0.0000000 |     1 |\n",
       "| 1 | 0 | 0 | 1 | 0 | 0 | 67.00000 | 1.0000000 | 1.0000000 |     1 |\n",
       "\n"
      ],
      "text/plain": [
       "   biomarker_ros1 biomarker_braf biomarker_pdl1 biomarker_egfr biomarker_alk\n",
       "1  0              0              0              0              0            \n",
       "2  0              0              0              0              0            \n",
       "3  0              0              0              0              1            \n",
       "4  0              0              0              0              1            \n",
       "5  0              0              0              1              0            \n",
       "6  0              0              0              1              1            \n",
       "7  0              0              1              0              0            \n",
       "8  0              0              1              0              0            \n",
       "9  0              0              1              0              1            \n",
       "10 0              0              1              1              0            \n",
       "11 0              1              0              0              0            \n",
       "12 0              1              1              0              0            \n",
       "13 0              1              1              0              0            \n",
       "14 1              0              0              0              0            \n",
       "15 1              0              0              1              0            \n",
       "   biomarker_kras mean(ageAtdiagnosis) mean(yrsToprogress) mean(TimetoTx) n()  \n",
       "1  0              67.35956             0.4215092           0.5155756      31010\n",
       "2  1              68.57143             0.7571429           0.8285714         70\n",
       "3  0              51.75000             0.5000000           0.5000000          4\n",
       "4  1              71.00000             2.0000000           2.0000000          1\n",
       "5  0              68.40351             0.8596491           0.8596491         57\n",
       "6  0              66.50000             1.0000000           1.5000000          2\n",
       "7  0              69.16107             0.6375839           0.7382550        149\n",
       "8  1              66.91304             1.3478261           1.4347826         23\n",
       "9  0              49.00000             0.0000000           0.0000000          1\n",
       "10 0              65.14286             0.4285714           0.5714286          7\n",
       "11 0              67.66667             0.3333333           0.3333333          6\n",
       "12 0              75.00000             1.0000000           1.0000000          1\n",
       "13 1              71.00000             1.0000000           1.0000000          1\n",
       "14 0              70.00000             0.0000000           0.0000000          1\n",
       "15 0              67.00000             1.0000000           1.0000000          1"
      ]
     },
     "metadata": {},
     "output_type": "display_data"
    }
   ],
   "source": [
    "#For genetic component\n",
    "flatiron_select %>% group_by(biomarker_ros1, biomarker_braf, biomarker_pdl1, biomarker_egfr, \n",
    "                             biomarker_alk, biomarker_kras) %>% summarise(mean(ageAtdiagnosis), \n",
    "                                                            mean(yrsToprogress), mean(TimetoTx), n())"
   ]
  },
  {
   "cell_type": "code",
   "execution_count": 172,
   "id": "69e4ab11-66ce-45f7-945c-d744a4600955",
   "metadata": {},
   "outputs": [
    {
     "data": {
      "text/html": [
       "<table class=\"dataframe\">\n",
       "<caption>A tibble: 2 × 5</caption>\n",
       "<thead>\n",
       "\t<tr><th scope=col>biomarker_ros1</th><th scope=col>mean(ageAtdiagnosis)</th><th scope=col>mean(yrsToprogress)</th><th scope=col>mean(TimetoTx)</th><th scope=col>n()</th></tr>\n",
       "\t<tr><th scope=col>&lt;dbl&gt;</th><th scope=col>&lt;dbl&gt;</th><th scope=col>&lt;dbl&gt;</th><th scope=col>&lt;dbl&gt;</th><th scope=col>&lt;int&gt;</th></tr>\n",
       "</thead>\n",
       "<tbody>\n",
       "\t<tr><td>0</td><td>67.36981</td><td>0.4248691</td><td>0.5187348</td><td>31332</td></tr>\n",
       "\t<tr><td>1</td><td>68.50000</td><td>0.5000000</td><td>0.5000000</td><td>    2</td></tr>\n",
       "</tbody>\n",
       "</table>\n"
      ],
      "text/latex": [
       "A tibble: 2 × 5\n",
       "\\begin{tabular}{lllll}\n",
       " biomarker\\_ros1 & mean(ageAtdiagnosis) & mean(yrsToprogress) & mean(TimetoTx) & n()\\\\\n",
       " <dbl> & <dbl> & <dbl> & <dbl> & <int>\\\\\n",
       "\\hline\n",
       "\t 0 & 67.36981 & 0.4248691 & 0.5187348 & 31332\\\\\n",
       "\t 1 & 68.50000 & 0.5000000 & 0.5000000 &     2\\\\\n",
       "\\end{tabular}\n"
      ],
      "text/markdown": [
       "\n",
       "A tibble: 2 × 5\n",
       "\n",
       "| biomarker_ros1 &lt;dbl&gt; | mean(ageAtdiagnosis) &lt;dbl&gt; | mean(yrsToprogress) &lt;dbl&gt; | mean(TimetoTx) &lt;dbl&gt; | n() &lt;int&gt; |\n",
       "|---|---|---|---|---|\n",
       "| 0 | 67.36981 | 0.4248691 | 0.5187348 | 31332 |\n",
       "| 1 | 68.50000 | 0.5000000 | 0.5000000 |     2 |\n",
       "\n"
      ],
      "text/plain": [
       "  biomarker_ros1 mean(ageAtdiagnosis) mean(yrsToprogress) mean(TimetoTx) n()  \n",
       "1 0              67.36981             0.4248691           0.5187348      31332\n",
       "2 1              68.50000             0.5000000           0.5000000          2"
      ]
     },
     "metadata": {},
     "output_type": "display_data"
    }
   ],
   "source": [
    "#Biomarker_ros1\n",
    "flatiron_select %>% group_by(biomarker_ros1) %>% summarise(mean(ageAtdiagnosis), \n",
    "                                                            mean(yrsToprogress), mean(TimetoTx), n())"
   ]
  },
  {
   "cell_type": "code",
   "execution_count": 179,
   "id": "356d715a-6f93-4e05-9e42-fde1fdb61dfa",
   "metadata": {},
   "outputs": [
    {
     "name": "stderr",
     "output_type": "stream",
     "text": [
      "\u001b[1m\u001b[22m`summarise()` has grouped output by 'biomarker_ros1'. You can override using\n",
      "the `.groups` argument.\n"
     ]
    },
    {
     "data": {
      "text/html": [
       "<table class=\"dataframe\">\n",
       "<caption>A grouped_df: 4 × 6</caption>\n",
       "<thead>\n",
       "\t<tr><th scope=col>biomarker_ros1</th><th scope=col>smokingstatus</th><th scope=col>mean(ageAtdiagnosis)</th><th scope=col>mean(yrsToprogress)</th><th scope=col>mean(TimetoTx)</th><th scope=col>n()</th></tr>\n",
       "\t<tr><th scope=col>&lt;dbl&gt;</th><th scope=col>&lt;chr&gt;</th><th scope=col>&lt;dbl&gt;</th><th scope=col>&lt;dbl&gt;</th><th scope=col>&lt;dbl&gt;</th><th scope=col>&lt;int&gt;</th></tr>\n",
       "</thead>\n",
       "<tbody>\n",
       "\t<tr><td>0</td><td>History of smoking    </td><td>67.48496</td><td>0.4272841</td><td>0.5219214</td><td>27188</td></tr>\n",
       "\t<tr><td>0</td><td>No history of smoking </td><td>66.58111</td><td>0.4085642</td><td>0.4989924</td><td> 3970</td></tr>\n",
       "\t<tr><td>0</td><td>Unknown/Not documented</td><td>67.37356</td><td>0.4195402</td><td>0.4712644</td><td>  174</td></tr>\n",
       "\t<tr><td>1</td><td>No history of smoking </td><td>68.50000</td><td>0.5000000</td><td>0.5000000</td><td>    2</td></tr>\n",
       "</tbody>\n",
       "</table>\n"
      ],
      "text/latex": [
       "A grouped\\_df: 4 × 6\n",
       "\\begin{tabular}{llllll}\n",
       " biomarker\\_ros1 & smokingstatus & mean(ageAtdiagnosis) & mean(yrsToprogress) & mean(TimetoTx) & n()\\\\\n",
       " <dbl> & <chr> & <dbl> & <dbl> & <dbl> & <int>\\\\\n",
       "\\hline\n",
       "\t 0 & History of smoking     & 67.48496 & 0.4272841 & 0.5219214 & 27188\\\\\n",
       "\t 0 & No history of smoking  & 66.58111 & 0.4085642 & 0.4989924 &  3970\\\\\n",
       "\t 0 & Unknown/Not documented & 67.37356 & 0.4195402 & 0.4712644 &   174\\\\\n",
       "\t 1 & No history of smoking  & 68.50000 & 0.5000000 & 0.5000000 &     2\\\\\n",
       "\\end{tabular}\n"
      ],
      "text/markdown": [
       "\n",
       "A grouped_df: 4 × 6\n",
       "\n",
       "| biomarker_ros1 &lt;dbl&gt; | smokingstatus &lt;chr&gt; | mean(ageAtdiagnosis) &lt;dbl&gt; | mean(yrsToprogress) &lt;dbl&gt; | mean(TimetoTx) &lt;dbl&gt; | n() &lt;int&gt; |\n",
       "|---|---|---|---|---|---|\n",
       "| 0 | History of smoking     | 67.48496 | 0.4272841 | 0.5219214 | 27188 |\n",
       "| 0 | No history of smoking  | 66.58111 | 0.4085642 | 0.4989924 |  3970 |\n",
       "| 0 | Unknown/Not documented | 67.37356 | 0.4195402 | 0.4712644 |   174 |\n",
       "| 1 | No history of smoking  | 68.50000 | 0.5000000 | 0.5000000 |     2 |\n",
       "\n"
      ],
      "text/plain": [
       "  biomarker_ros1 smokingstatus          mean(ageAtdiagnosis)\n",
       "1 0              History of smoking     67.48496            \n",
       "2 0              No history of smoking  66.58111            \n",
       "3 0              Unknown/Not documented 67.37356            \n",
       "4 1              No history of smoking  68.50000            \n",
       "  mean(yrsToprogress) mean(TimetoTx) n()  \n",
       "1 0.4272841           0.5219214      27188\n",
       "2 0.4085642           0.4989924       3970\n",
       "3 0.4195402           0.4712644        174\n",
       "4 0.5000000           0.5000000          2"
      ]
     },
     "metadata": {},
     "output_type": "display_data"
    }
   ],
   "source": [
    "#Biomarker_ros1 + smoking status\n",
    "flatiron_select %>% group_by(biomarker_ros1, smokingstatus) %>% summarise(mean(ageAtdiagnosis), \n",
    "                                                            mean(yrsToprogress), mean(TimetoTx), n())"
   ]
  },
  {
   "cell_type": "markdown",
   "id": "e1119282-d11b-481d-a527-3c8a0585b97b",
   "metadata": {},
   "source": [
    "Only 2 patients were identified as biomarker_ros1 POSITIVE with an average age of 68, neither of whom smoked."
   ]
  },
  {
   "cell_type": "code",
   "execution_count": 180,
   "id": "33dc66ba-1bf0-4471-9f72-d57bfede3a8c",
   "metadata": {},
   "outputs": [
    {
     "name": "stderr",
     "output_type": "stream",
     "text": [
      "\u001b[1m\u001b[22m`summarise()` has grouped output by 'biomarker_braf'. You can override using\n",
      "the `.groups` argument.\n"
     ]
    },
    {
     "data": {
      "text/html": [
       "<table class=\"dataframe\">\n",
       "<caption>A grouped_df: 5 × 6</caption>\n",
       "<thead>\n",
       "\t<tr><th scope=col>biomarker_braf</th><th scope=col>smokingstatus</th><th scope=col>mean(ageAtdiagnosis)</th><th scope=col>mean(yrsToprogress)</th><th scope=col>mean(TimetoTx)</th><th scope=col>n()</th></tr>\n",
       "\t<tr><th scope=col>&lt;dbl&gt;</th><th scope=col>&lt;chr&gt;</th><th scope=col>&lt;dbl&gt;</th><th scope=col>&lt;dbl&gt;</th><th scope=col>&lt;dbl&gt;</th><th scope=col>&lt;int&gt;</th></tr>\n",
       "</thead>\n",
       "<tbody>\n",
       "\t<tr><td>0</td><td>History of smoking    </td><td>67.48475</td><td>0.4272470</td><td>0.5219087</td><td>27181</td></tr>\n",
       "\t<tr><td>0</td><td>No history of smoking </td><td>66.58021</td><td>0.4087132</td><td>0.4991186</td><td> 3971</td></tr>\n",
       "\t<tr><td>0</td><td>Unknown/Not documented</td><td>67.37356</td><td>0.4195402</td><td>0.4712644</td><td>  174</td></tr>\n",
       "\t<tr><td>1</td><td>History of smoking    </td><td>68.28571</td><td>0.5714286</td><td>0.5714286</td><td>    7</td></tr>\n",
       "\t<tr><td>1</td><td>No history of smoking </td><td>74.00000</td><td>0.0000000</td><td>0.0000000</td><td>    1</td></tr>\n",
       "</tbody>\n",
       "</table>\n"
      ],
      "text/latex": [
       "A grouped\\_df: 5 × 6\n",
       "\\begin{tabular}{llllll}\n",
       " biomarker\\_braf & smokingstatus & mean(ageAtdiagnosis) & mean(yrsToprogress) & mean(TimetoTx) & n()\\\\\n",
       " <dbl> & <chr> & <dbl> & <dbl> & <dbl> & <int>\\\\\n",
       "\\hline\n",
       "\t 0 & History of smoking     & 67.48475 & 0.4272470 & 0.5219087 & 27181\\\\\n",
       "\t 0 & No history of smoking  & 66.58021 & 0.4087132 & 0.4991186 &  3971\\\\\n",
       "\t 0 & Unknown/Not documented & 67.37356 & 0.4195402 & 0.4712644 &   174\\\\\n",
       "\t 1 & History of smoking     & 68.28571 & 0.5714286 & 0.5714286 &     7\\\\\n",
       "\t 1 & No history of smoking  & 74.00000 & 0.0000000 & 0.0000000 &     1\\\\\n",
       "\\end{tabular}\n"
      ],
      "text/markdown": [
       "\n",
       "A grouped_df: 5 × 6\n",
       "\n",
       "| biomarker_braf &lt;dbl&gt; | smokingstatus &lt;chr&gt; | mean(ageAtdiagnosis) &lt;dbl&gt; | mean(yrsToprogress) &lt;dbl&gt; | mean(TimetoTx) &lt;dbl&gt; | n() &lt;int&gt; |\n",
       "|---|---|---|---|---|---|\n",
       "| 0 | History of smoking     | 67.48475 | 0.4272470 | 0.5219087 | 27181 |\n",
       "| 0 | No history of smoking  | 66.58021 | 0.4087132 | 0.4991186 |  3971 |\n",
       "| 0 | Unknown/Not documented | 67.37356 | 0.4195402 | 0.4712644 |   174 |\n",
       "| 1 | History of smoking     | 68.28571 | 0.5714286 | 0.5714286 |     7 |\n",
       "| 1 | No history of smoking  | 74.00000 | 0.0000000 | 0.0000000 |     1 |\n",
       "\n"
      ],
      "text/plain": [
       "  biomarker_braf smokingstatus          mean(ageAtdiagnosis)\n",
       "1 0              History of smoking     67.48475            \n",
       "2 0              No history of smoking  66.58021            \n",
       "3 0              Unknown/Not documented 67.37356            \n",
       "4 1              History of smoking     68.28571            \n",
       "5 1              No history of smoking  74.00000            \n",
       "  mean(yrsToprogress) mean(TimetoTx) n()  \n",
       "1 0.4272470           0.5219087      27181\n",
       "2 0.4087132           0.4991186       3971\n",
       "3 0.4195402           0.4712644        174\n",
       "4 0.5714286           0.5714286          7\n",
       "5 0.0000000           0.0000000          1"
      ]
     },
     "metadata": {},
     "output_type": "display_data"
    }
   ],
   "source": [
    "#Biomarker_braf + smoking status\n",
    "flatiron_select %>% group_by(biomarker_braf, smokingstatus) %>% summarise(mean(ageAtdiagnosis), \n",
    "                                                            mean(yrsToprogress), mean(TimetoTx), n())"
   ]
  },
  {
   "cell_type": "markdown",
   "id": "04e8f203-f20c-49ac-9baa-a07903635e45",
   "metadata": {},
   "source": [
    "__8 patients tested positive for biomarker braf, with 7 identified as smokers and 1 being a non-smoker__"
   ]
  },
  {
   "cell_type": "code",
   "execution_count": 181,
   "id": "66a22224-fc8a-4de4-b5fa-08c6b1b87f47",
   "metadata": {},
   "outputs": [
    {
     "name": "stderr",
     "output_type": "stream",
     "text": [
      "\u001b[1m\u001b[22m`summarise()` has grouped output by 'biomarker_pdl1'. You can override using\n",
      "the `.groups` argument.\n"
     ]
    },
    {
     "data": {
      "text/html": [
       "<table class=\"dataframe\">\n",
       "<caption>A grouped_df: 5 × 6</caption>\n",
       "<thead>\n",
       "\t<tr><th scope=col>biomarker_pdl1</th><th scope=col>smokingstatus</th><th scope=col>mean(ageAtdiagnosis)</th><th scope=col>mean(yrsToprogress)</th><th scope=col>mean(TimetoTx)</th><th scope=col>n()</th></tr>\n",
       "\t<tr><th scope=col>&lt;dbl&gt;</th><th scope=col>&lt;chr&gt;</th><th scope=col>&lt;dbl&gt;</th><th scope=col>&lt;dbl&gt;</th><th scope=col>&lt;dbl&gt;</th><th scope=col>&lt;int&gt;</th></tr>\n",
       "</thead>\n",
       "<tbody>\n",
       "\t<tr><td>0</td><td>History of smoking    </td><td>67.47781</td><td>0.4253358</td><td>0.5199660</td><td>27021</td></tr>\n",
       "\t<tr><td>0</td><td>No history of smoking </td><td>66.57367</td><td>0.4083902</td><td>0.4986101</td><td> 3957</td></tr>\n",
       "\t<tr><td>0</td><td>Unknown/Not documented</td><td>67.37356</td><td>0.4195402</td><td>0.4712644</td><td>  174</td></tr>\n",
       "\t<tr><td>1</td><td>History of smoking    </td><td>68.64072</td><td>0.7425150</td><td>0.8383234</td><td>  167</td></tr>\n",
       "\t<tr><td>1</td><td>No history of smoking </td><td>68.80000</td><td>0.4666667</td><td>0.6000000</td><td>   15</td></tr>\n",
       "</tbody>\n",
       "</table>\n"
      ],
      "text/latex": [
       "A grouped\\_df: 5 × 6\n",
       "\\begin{tabular}{llllll}\n",
       " biomarker\\_pdl1 & smokingstatus & mean(ageAtdiagnosis) & mean(yrsToprogress) & mean(TimetoTx) & n()\\\\\n",
       " <dbl> & <chr> & <dbl> & <dbl> & <dbl> & <int>\\\\\n",
       "\\hline\n",
       "\t 0 & History of smoking     & 67.47781 & 0.4253358 & 0.5199660 & 27021\\\\\n",
       "\t 0 & No history of smoking  & 66.57367 & 0.4083902 & 0.4986101 &  3957\\\\\n",
       "\t 0 & Unknown/Not documented & 67.37356 & 0.4195402 & 0.4712644 &   174\\\\\n",
       "\t 1 & History of smoking     & 68.64072 & 0.7425150 & 0.8383234 &   167\\\\\n",
       "\t 1 & No history of smoking  & 68.80000 & 0.4666667 & 0.6000000 &    15\\\\\n",
       "\\end{tabular}\n"
      ],
      "text/markdown": [
       "\n",
       "A grouped_df: 5 × 6\n",
       "\n",
       "| biomarker_pdl1 &lt;dbl&gt; | smokingstatus &lt;chr&gt; | mean(ageAtdiagnosis) &lt;dbl&gt; | mean(yrsToprogress) &lt;dbl&gt; | mean(TimetoTx) &lt;dbl&gt; | n() &lt;int&gt; |\n",
       "|---|---|---|---|---|---|\n",
       "| 0 | History of smoking     | 67.47781 | 0.4253358 | 0.5199660 | 27021 |\n",
       "| 0 | No history of smoking  | 66.57367 | 0.4083902 | 0.4986101 |  3957 |\n",
       "| 0 | Unknown/Not documented | 67.37356 | 0.4195402 | 0.4712644 |   174 |\n",
       "| 1 | History of smoking     | 68.64072 | 0.7425150 | 0.8383234 |   167 |\n",
       "| 1 | No history of smoking  | 68.80000 | 0.4666667 | 0.6000000 |    15 |\n",
       "\n"
      ],
      "text/plain": [
       "  biomarker_pdl1 smokingstatus          mean(ageAtdiagnosis)\n",
       "1 0              History of smoking     67.47781            \n",
       "2 0              No history of smoking  66.57367            \n",
       "3 0              Unknown/Not documented 67.37356            \n",
       "4 1              History of smoking     68.64072            \n",
       "5 1              No history of smoking  68.80000            \n",
       "  mean(yrsToprogress) mean(TimetoTx) n()  \n",
       "1 0.4253358           0.5199660      27021\n",
       "2 0.4083902           0.4986101       3957\n",
       "3 0.4195402           0.4712644        174\n",
       "4 0.7425150           0.8383234        167\n",
       "5 0.4666667           0.6000000         15"
      ]
     },
     "metadata": {},
     "output_type": "display_data"
    }
   ],
   "source": [
    "#Biomarker_pdl1 + smoking status\n",
    "flatiron_select %>% group_by(biomarker_pdl1, smokingstatus) %>% summarise(mean(ageAtdiagnosis), \n",
    "                                                            mean(yrsToprogress), mean(TimetoTx), n())"
   ]
  },
  {
   "cell_type": "markdown",
   "id": "07250372-dada-4df0-a477-c47b3a42fe24",
   "metadata": {},
   "source": [
    "__182 patients tesed positive for biomarker_pdl1, with 91.8% of the pdl1+ve patients being smokers__"
   ]
  },
  {
   "cell_type": "code",
   "execution_count": 182,
   "id": "7f79430c-1273-4179-a23c-71a6bdd85403",
   "metadata": {},
   "outputs": [
    {
     "name": "stderr",
     "output_type": "stream",
     "text": [
      "\u001b[1m\u001b[22m`summarise()` has grouped output by 'biomarker_egfr'. You can override using\n",
      "the `.groups` argument.\n"
     ]
    },
    {
     "data": {
      "text/html": [
       "<table class=\"dataframe\">\n",
       "<caption>A grouped_df: 5 × 6</caption>\n",
       "<thead>\n",
       "\t<tr><th scope=col>biomarker_egfr</th><th scope=col>smokingstatus</th><th scope=col>mean(ageAtdiagnosis)</th><th scope=col>mean(yrsToprogress)</th><th scope=col>mean(TimetoTx)</th><th scope=col>n()</th></tr>\n",
       "\t<tr><th scope=col>&lt;dbl&gt;</th><th scope=col>&lt;chr&gt;</th><th scope=col>&lt;dbl&gt;</th><th scope=col>&lt;dbl&gt;</th><th scope=col>&lt;dbl&gt;</th><th scope=col>&lt;int&gt;</th></tr>\n",
       "</thead>\n",
       "<tbody>\n",
       "\t<tr><td>0</td><td>History of smoking    </td><td>67.48128</td><td>0.4268989</td><td>0.5215566</td><td>27161</td></tr>\n",
       "\t<tr><td>0</td><td>No history of smoking </td><td>66.58978</td><td>0.4043744</td><td>0.4956765</td><td> 3932</td></tr>\n",
       "\t<tr><td>0</td><td>Unknown/Not documented</td><td>67.37356</td><td>0.4195402</td><td>0.4712644</td><td>  174</td></tr>\n",
       "\t<tr><td>1</td><td>History of smoking    </td><td>71.18519</td><td>0.8148148</td><td>0.8888889</td><td>   27</td></tr>\n",
       "\t<tr><td>1</td><td>No history of smoking </td><td>65.82500</td><td>0.8250000</td><td>0.8250000</td><td>   40</td></tr>\n",
       "</tbody>\n",
       "</table>\n"
      ],
      "text/latex": [
       "A grouped\\_df: 5 × 6\n",
       "\\begin{tabular}{llllll}\n",
       " biomarker\\_egfr & smokingstatus & mean(ageAtdiagnosis) & mean(yrsToprogress) & mean(TimetoTx) & n()\\\\\n",
       " <dbl> & <chr> & <dbl> & <dbl> & <dbl> & <int>\\\\\n",
       "\\hline\n",
       "\t 0 & History of smoking     & 67.48128 & 0.4268989 & 0.5215566 & 27161\\\\\n",
       "\t 0 & No history of smoking  & 66.58978 & 0.4043744 & 0.4956765 &  3932\\\\\n",
       "\t 0 & Unknown/Not documented & 67.37356 & 0.4195402 & 0.4712644 &   174\\\\\n",
       "\t 1 & History of smoking     & 71.18519 & 0.8148148 & 0.8888889 &    27\\\\\n",
       "\t 1 & No history of smoking  & 65.82500 & 0.8250000 & 0.8250000 &    40\\\\\n",
       "\\end{tabular}\n"
      ],
      "text/markdown": [
       "\n",
       "A grouped_df: 5 × 6\n",
       "\n",
       "| biomarker_egfr &lt;dbl&gt; | smokingstatus &lt;chr&gt; | mean(ageAtdiagnosis) &lt;dbl&gt; | mean(yrsToprogress) &lt;dbl&gt; | mean(TimetoTx) &lt;dbl&gt; | n() &lt;int&gt; |\n",
       "|---|---|---|---|---|---|\n",
       "| 0 | History of smoking     | 67.48128 | 0.4268989 | 0.5215566 | 27161 |\n",
       "| 0 | No history of smoking  | 66.58978 | 0.4043744 | 0.4956765 |  3932 |\n",
       "| 0 | Unknown/Not documented | 67.37356 | 0.4195402 | 0.4712644 |   174 |\n",
       "| 1 | History of smoking     | 71.18519 | 0.8148148 | 0.8888889 |    27 |\n",
       "| 1 | No history of smoking  | 65.82500 | 0.8250000 | 0.8250000 |    40 |\n",
       "\n"
      ],
      "text/plain": [
       "  biomarker_egfr smokingstatus          mean(ageAtdiagnosis)\n",
       "1 0              History of smoking     67.48128            \n",
       "2 0              No history of smoking  66.58978            \n",
       "3 0              Unknown/Not documented 67.37356            \n",
       "4 1              History of smoking     71.18519            \n",
       "5 1              No history of smoking  65.82500            \n",
       "  mean(yrsToprogress) mean(TimetoTx) n()  \n",
       "1 0.4268989           0.5215566      27161\n",
       "2 0.4043744           0.4956765       3932\n",
       "3 0.4195402           0.4712644        174\n",
       "4 0.8148148           0.8888889         27\n",
       "5 0.8250000           0.8250000         40"
      ]
     },
     "metadata": {},
     "output_type": "display_data"
    }
   ],
   "source": [
    "#Biomarker_egfr + smoking status\n",
    "flatiron_select %>% group_by(biomarker_egfr, smokingstatus) %>% summarise(mean(ageAtdiagnosis), \n",
    "                                                            mean(yrsToprogress), mean(TimetoTx), n())"
   ]
  },
  {
   "cell_type": "markdown",
   "id": "e318bfaa-edd0-4122-9de2-9881e6643ccc",
   "metadata": {},
   "source": [
    "__67 patients tested egfr +ve, with approximately 60% of these egfr +ve patients identified as non-smokers. Egfr is historically more commonly seen in patients with NSCLC that are non-smokers than in those that smoke.__"
   ]
  },
  {
   "cell_type": "code",
   "execution_count": 183,
   "id": "e187d3bb-4d49-4e8c-bae7-e1856feff5de",
   "metadata": {},
   "outputs": [
    {
     "name": "stderr",
     "output_type": "stream",
     "text": [
      "\u001b[1m\u001b[22m`summarise()` has grouped output by 'biomarker_alk'. You can override using the\n",
      "`.groups` argument.\n"
     ]
    },
    {
     "data": {
      "text/html": [
       "<table class=\"dataframe\">\n",
       "<caption>A grouped_df: 5 × 6</caption>\n",
       "<thead>\n",
       "\t<tr><th scope=col>biomarker_alk</th><th scope=col>smokingstatus</th><th scope=col>mean(ageAtdiagnosis)</th><th scope=col>mean(yrsToprogress)</th><th scope=col>mean(TimetoTx)</th><th scope=col>n()</th></tr>\n",
       "\t<tr><th scope=col>&lt;dbl&gt;</th><th scope=col>&lt;chr&gt;</th><th scope=col>&lt;dbl&gt;</th><th scope=col>&lt;dbl&gt;</th><th scope=col>&lt;dbl&gt;</th><th scope=col>&lt;int&gt;</th></tr>\n",
       "</thead>\n",
       "<tbody>\n",
       "\t<tr><td>0</td><td>History of smoking    </td><td>67.48626</td><td>0.4271788</td><td>0.5217967</td><td>27183</td></tr>\n",
       "\t<tr><td>0</td><td>No history of smoking </td><td>66.59259</td><td>0.4086672</td><td>0.4991182</td><td> 3969</td></tr>\n",
       "\t<tr><td>0</td><td>Unknown/Not documented</td><td>67.37356</td><td>0.4195402</td><td>0.4712644</td><td>  174</td></tr>\n",
       "\t<tr><td>1</td><td>History of smoking    </td><td>60.40000</td><td>1.0000000</td><td>1.2000000</td><td>    5</td></tr>\n",
       "\t<tr><td>1</td><td>No history of smoking </td><td>52.66667</td><td>0.3333333</td><td>0.3333333</td><td>    3</td></tr>\n",
       "</tbody>\n",
       "</table>\n"
      ],
      "text/latex": [
       "A grouped\\_df: 5 × 6\n",
       "\\begin{tabular}{llllll}\n",
       " biomarker\\_alk & smokingstatus & mean(ageAtdiagnosis) & mean(yrsToprogress) & mean(TimetoTx) & n()\\\\\n",
       " <dbl> & <chr> & <dbl> & <dbl> & <dbl> & <int>\\\\\n",
       "\\hline\n",
       "\t 0 & History of smoking     & 67.48626 & 0.4271788 & 0.5217967 & 27183\\\\\n",
       "\t 0 & No history of smoking  & 66.59259 & 0.4086672 & 0.4991182 &  3969\\\\\n",
       "\t 0 & Unknown/Not documented & 67.37356 & 0.4195402 & 0.4712644 &   174\\\\\n",
       "\t 1 & History of smoking     & 60.40000 & 1.0000000 & 1.2000000 &     5\\\\\n",
       "\t 1 & No history of smoking  & 52.66667 & 0.3333333 & 0.3333333 &     3\\\\\n",
       "\\end{tabular}\n"
      ],
      "text/markdown": [
       "\n",
       "A grouped_df: 5 × 6\n",
       "\n",
       "| biomarker_alk &lt;dbl&gt; | smokingstatus &lt;chr&gt; | mean(ageAtdiagnosis) &lt;dbl&gt; | mean(yrsToprogress) &lt;dbl&gt; | mean(TimetoTx) &lt;dbl&gt; | n() &lt;int&gt; |\n",
       "|---|---|---|---|---|---|\n",
       "| 0 | History of smoking     | 67.48626 | 0.4271788 | 0.5217967 | 27183 |\n",
       "| 0 | No history of smoking  | 66.59259 | 0.4086672 | 0.4991182 |  3969 |\n",
       "| 0 | Unknown/Not documented | 67.37356 | 0.4195402 | 0.4712644 |   174 |\n",
       "| 1 | History of smoking     | 60.40000 | 1.0000000 | 1.2000000 |     5 |\n",
       "| 1 | No history of smoking  | 52.66667 | 0.3333333 | 0.3333333 |     3 |\n",
       "\n"
      ],
      "text/plain": [
       "  biomarker_alk smokingstatus          mean(ageAtdiagnosis) mean(yrsToprogress)\n",
       "1 0             History of smoking     67.48626             0.4271788          \n",
       "2 0             No history of smoking  66.59259             0.4086672          \n",
       "3 0             Unknown/Not documented 67.37356             0.4195402          \n",
       "4 1             History of smoking     60.40000             1.0000000          \n",
       "5 1             No history of smoking  52.66667             0.3333333          \n",
       "  mean(TimetoTx) n()  \n",
       "1 0.5217967      27183\n",
       "2 0.4991182       3969\n",
       "3 0.4712644        174\n",
       "4 1.2000000          5\n",
       "5 0.3333333          3"
      ]
     },
     "metadata": {},
     "output_type": "display_data"
    }
   ],
   "source": [
    "#Biomarker_alk + smoking status\n",
    "flatiron_select %>% group_by(biomarker_alk, smokingstatus) %>% summarise(mean(ageAtdiagnosis), \n",
    "                                                            mean(yrsToprogress), mean(TimetoTx), n())"
   ]
  },
  {
   "cell_type": "markdown",
   "id": "6bd40c25-13d0-4836-b513-39c00138efa9",
   "metadata": {},
   "source": [
    "__8 patients tested positive for biomarker_alk, with 5 patients of these patients identified as smokers and 3 as non-smokers. This tumour marker is also commonly associated with non-smokers that develop NSCLC__"
   ]
  },
  {
   "cell_type": "code",
   "execution_count": 184,
   "id": "c51393ae-05d7-49e0-9c18-42eabd2fe7a6",
   "metadata": {},
   "outputs": [
    {
     "name": "stderr",
     "output_type": "stream",
     "text": [
      "\u001b[1m\u001b[22m`summarise()` has grouped output by 'biomarker_kras'. You can override using\n",
      "the `.groups` argument.\n"
     ]
    },
    {
     "data": {
      "text/html": [
       "<table class=\"dataframe\">\n",
       "<caption>A grouped_df: 5 × 6</caption>\n",
       "<thead>\n",
       "\t<tr><th scope=col>biomarker_kras</th><th scope=col>smokingstatus</th><th scope=col>mean(ageAtdiagnosis)</th><th scope=col>mean(yrsToprogress)</th><th scope=col>mean(TimetoTx)</th><th scope=col>n()</th></tr>\n",
       "\t<tr><th scope=col>&lt;dbl&gt;</th><th scope=col>&lt;chr&gt;</th><th scope=col>&lt;dbl&gt;</th><th scope=col>&lt;dbl&gt;</th><th scope=col>&lt;dbl&gt;</th><th scope=col>&lt;int&gt;</th></tr>\n",
       "</thead>\n",
       "<tbody>\n",
       "\t<tr><td>0</td><td>History of smoking    </td><td>67.48328</td><td>0.4257565</td><td>0.5204797</td><td>27100</td></tr>\n",
       "\t<tr><td>0</td><td>No history of smoking </td><td>66.57427</td><td>0.4073140</td><td>0.4976040</td><td> 3965</td></tr>\n",
       "\t<tr><td>0</td><td>Unknown/Not documented</td><td>67.37356</td><td>0.4195402</td><td>0.4712644</td><td>  174</td></tr>\n",
       "\t<tr><td>1</td><td>History of smoking    </td><td>68.00000</td><td>0.8977273</td><td>0.9659091</td><td>   88</td></tr>\n",
       "\t<tr><td>1</td><td>No history of smoking </td><td>71.00000</td><td>1.1428571</td><td>1.2857143</td><td>    7</td></tr>\n",
       "</tbody>\n",
       "</table>\n"
      ],
      "text/latex": [
       "A grouped\\_df: 5 × 6\n",
       "\\begin{tabular}{llllll}\n",
       " biomarker\\_kras & smokingstatus & mean(ageAtdiagnosis) & mean(yrsToprogress) & mean(TimetoTx) & n()\\\\\n",
       " <dbl> & <chr> & <dbl> & <dbl> & <dbl> & <int>\\\\\n",
       "\\hline\n",
       "\t 0 & History of smoking     & 67.48328 & 0.4257565 & 0.5204797 & 27100\\\\\n",
       "\t 0 & No history of smoking  & 66.57427 & 0.4073140 & 0.4976040 &  3965\\\\\n",
       "\t 0 & Unknown/Not documented & 67.37356 & 0.4195402 & 0.4712644 &   174\\\\\n",
       "\t 1 & History of smoking     & 68.00000 & 0.8977273 & 0.9659091 &    88\\\\\n",
       "\t 1 & No history of smoking  & 71.00000 & 1.1428571 & 1.2857143 &     7\\\\\n",
       "\\end{tabular}\n"
      ],
      "text/markdown": [
       "\n",
       "A grouped_df: 5 × 6\n",
       "\n",
       "| biomarker_kras &lt;dbl&gt; | smokingstatus &lt;chr&gt; | mean(ageAtdiagnosis) &lt;dbl&gt; | mean(yrsToprogress) &lt;dbl&gt; | mean(TimetoTx) &lt;dbl&gt; | n() &lt;int&gt; |\n",
       "|---|---|---|---|---|---|\n",
       "| 0 | History of smoking     | 67.48328 | 0.4257565 | 0.5204797 | 27100 |\n",
       "| 0 | No history of smoking  | 66.57427 | 0.4073140 | 0.4976040 |  3965 |\n",
       "| 0 | Unknown/Not documented | 67.37356 | 0.4195402 | 0.4712644 |   174 |\n",
       "| 1 | History of smoking     | 68.00000 | 0.8977273 | 0.9659091 |    88 |\n",
       "| 1 | No history of smoking  | 71.00000 | 1.1428571 | 1.2857143 |     7 |\n",
       "\n"
      ],
      "text/plain": [
       "  biomarker_kras smokingstatus          mean(ageAtdiagnosis)\n",
       "1 0              History of smoking     67.48328            \n",
       "2 0              No history of smoking  66.57427            \n",
       "3 0              Unknown/Not documented 67.37356            \n",
       "4 1              History of smoking     68.00000            \n",
       "5 1              No history of smoking  71.00000            \n",
       "  mean(yrsToprogress) mean(TimetoTx) n()  \n",
       "1 0.4257565           0.5204797      27100\n",
       "2 0.4073140           0.4976040       3965\n",
       "3 0.4195402           0.4712644        174\n",
       "4 0.8977273           0.9659091         88\n",
       "5 1.1428571           1.2857143          7"
      ]
     },
     "metadata": {},
     "output_type": "display_data"
    }
   ],
   "source": [
    "#Biomarker_kras + smoking status\n",
    "flatiron_select %>% group_by(biomarker_kras, smokingstatus) %>% summarise(mean(ageAtdiagnosis), \n",
    "                                                            mean(yrsToprogress), mean(TimetoTx), n())"
   ]
  },
  {
   "cell_type": "markdown",
   "id": "0a008201-bef8-45bc-a075-38abcefb609a",
   "metadata": {},
   "source": [
    "__95 patients tested positive for biomarker_kras, with the overwhelming majority identified as smokers (92.6%)__"
   ]
  },
  {
   "cell_type": "code",
   "execution_count": 189,
   "id": "c0189a8a-35d5-43df-88ce-039cb74c04c0",
   "metadata": {},
   "outputs": [
    {
     "data": {
      "image/png": "[encoded data removed]",
      "text/plain": [
       "plot without title"
      ]
     },
     "metadata": {
      "image/png": {
       "height": 420,
       "width": 420
      }
     },
     "output_type": "display_data"
    }
   ],
   "source": [
    "#Faceted histogram plot of bmi faceted by histology\n",
    "ggplot(flatiron_select, aes(x = bmi)) + geom_histogram(binwidth = 60) + facet_wrap(~ histology)"
   ]
  },
  {
   "cell_type": "code",
   "execution_count": 195,
   "id": "327a3b6b-9183-4fce-9a07-1b78daa54fdd",
   "metadata": {},
   "outputs": [
    {
     "data": {
      "image/png": "[encoded data removed]",
      "text/plain": [
       "plot without title"
      ]
     },
     "metadata": {
      "image/png": {
       "height": 420,
       "width": 420
      }
     },
     "output_type": "display_data"
    }
   ],
   "source": [
    "#Faceted histogram plot of number of \"daystoevent\" faceted by ecog\n",
    "ggplot(flatiron_select, aes(x = daysto_event)) + geom_histogram(binwidth = 1000) + facet_wrap(~ ecog)"
   ]
  },
  {
   "cell_type": "markdown",
   "id": "32f11512-75d0-4f63-a4ca-54e030c7e0de",
   "metadata": {},
   "source": [
    "__Time to event decreases significantly as the ecog score increases (i.e. as the patient's performance score gets worse__)"
   ]
  },
  {
   "cell_type": "code",
   "execution_count": 200,
   "id": "b4e88fe9-2e8f-4dff-b748-74274d2d38a0",
   "metadata": {},
   "outputs": [
    {
     "data": {
      "image/png": "[encoded data removed]",
      "text/plain": [
       "plot without title"
      ]
     },
     "metadata": {
      "image/png": {
       "height": 420,
       "width": 420
      }
     },
     "output_type": "display_data"
    }
   ],
   "source": [
    "#Faceted histogram plot of number of eventoutcome faceted by ecog - REMOVE., NOT VERY USEFUL\n",
    "ggplot(flatiron_select, aes(x = event_died)) + geom_histogram(binwidth = 1000) + facet_wrap(~ ecog)"
   ]
  },
  {
   "cell_type": "code",
   "execution_count": 198,
   "id": "e167d99a-a669-4195-8ce9-a32c5b19c4ec",
   "metadata": {},
   "outputs": [
    {
     "data": {
      "image/png": "[encoded data removed]",
      "text/plain": [
       "plot without title"
      ]
     },
     "metadata": {
      "image/png": {
       "height": 420,
       "width": 420
      }
     },
     "output_type": "display_data"
    }
   ],
   "source": [
    "#Boxplot of pt performance status (ecog) against time to event\n",
    "ggplot(flatiron_select, aes(x = as.factor(ecog), y = daysto_event)) + geom_boxplot()"
   ]
  },
  {
   "cell_type": "code",
   "execution_count": null,
   "id": "56376831-bf53-4079-bfe4-36f84a5ebd5b",
   "metadata": {},
   "outputs": [],
   "source": []
  }
 ],
 "metadata": {
  "kernelspec": {
   "display_name": "R",
   "language": "R",
   "name": "ir"
  },
  "language_info": {
   "codemirror_mode": "r",
   "file_extension": ".r",
   "mimetype": "text/x-r-source",
   "name": "R",
   "pygments_lexer": "r",
   "version": "4.1.2"
  }
 },
 "nbformat": 4,
 "nbformat_minor": 5
}
