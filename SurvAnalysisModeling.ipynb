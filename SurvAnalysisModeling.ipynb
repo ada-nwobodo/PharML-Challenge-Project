{
 "cells": [
  {
   "cell_type": "markdown",
   "id": "f37118fe-7456-4007-9169-a92a80c93f67",
   "metadata": {},
   "source": [
    "__PHARML 2022 CHALLENGE - SURVIVAL ANALYSIS MODELING SECTION \n",
    "\n",
    "Prognostic models have a wide-array of applications and are used in academic and clinical settings. Lung cancer is newly diagnosed in 2.3 million people per year and is divided in Non-Small Cell Lung Cancer (NSCLC) and Small Cell Lung Cancer (SCLC). NSCLC accounts for 84% of the total cases. The 5-year survival rate for patients with NSCLC is 25%, but prognosis can vary depending on many factors including demographics, clinical characteristics, and genomic mutations, among others. Survival Machine Learning models could enable us to make much better prognosis prediction, which in turn has real world clinical applications. Prognostic models could be used to help us identify the most predictive and novel biomarkers influencing the risk of mortality in NSCLC. Additionally, representations learned by fitting Survival Machine Learning models on NSCLC data could be used to stratify patients and obtain clinical clusters or phenotypes that give us insights on disease heterogeneity. Yet another promising application for these models is the potential use of covariate adjustment methods to increase the power of clinical trials and achieve significant results with fewer patients. Finally, it should be noted that there are many other potential relevant real-world applications for these methods."
   ]
  },
  {
   "cell_type": "code",
   "execution_count": 2,
   "id": "4c443ff1-e290-485e-bfe0-a4a2d1f8401f",
   "metadata": {},
   "outputs": [
    {
     "name": "stderr",
     "output_type": "stream",
     "text": [
      "\n",
      "Attaching package: ‘dplyr’\n",
      "\n",
      "\n",
      "The following objects are masked from ‘package:stats’:\n",
      "\n",
      "    filter, lag\n",
      "\n",
      "\n",
      "The following objects are masked from ‘package:base’:\n",
      "\n",
      "    intersect, setdiff, setequal, union\n",
      "\n",
      "\n",
      "Loading required package: lattice\n",
      "\n",
      "Warning message in system(\"timedatectl\", intern = TRUE):\n",
      "“running command 'timedatectl' had status 1”\n",
      "\n",
      "Attaching package: ‘lubridate’\n",
      "\n",
      "\n",
      "The following objects are masked from ‘package:base’:\n",
      "\n",
      "    date, intersect, setdiff, union\n",
      "\n",
      "\n",
      "\n",
      "Attaching package: ‘purrr’\n",
      "\n",
      "\n",
      "The following object is masked from ‘package:caret’:\n",
      "\n",
      "    lift\n",
      "\n",
      "\n",
      "Warning message:\n",
      "“package ‘mgcv’ was built under R version 4.1.3”\n",
      "Loading required package: nlme\n",
      "\n",
      "\n",
      "Attaching package: ‘nlme’\n",
      "\n",
      "\n",
      "The following object is masked from ‘package:dplyr’:\n",
      "\n",
      "    collapse\n",
      "\n",
      "\n",
      "This is mgcv 1.8-40. For overview type 'help(\"mgcv-package\")'.\n",
      "\n",
      "── \u001b[1mAttaching packages\u001b[22m ─────────────────────────────────────── tidyverse 1.3.1 ──\n",
      "\n",
      "\u001b[32m✔\u001b[39m \u001b[34mtibble \u001b[39m 3.1.6     \u001b[32m✔\u001b[39m \u001b[34mstringr\u001b[39m 1.4.0\n",
      "\u001b[32m✔\u001b[39m \u001b[34mreadr  \u001b[39m 2.1.2     \u001b[32m✔\u001b[39m \u001b[34mforcats\u001b[39m 0.5.1\n",
      "\n",
      "── \u001b[1mConflicts\u001b[22m ────────────────────────────────────────── tidyverse_conflicts() ──\n",
      "\u001b[31m✖\u001b[39m \u001b[34mlubridate\u001b[39m::\u001b[32mas.difftime()\u001b[39m masks \u001b[34mbase\u001b[39m::as.difftime()\n",
      "\u001b[31m✖\u001b[39m \u001b[34mnlme\u001b[39m::\u001b[32mcollapse()\u001b[39m         masks \u001b[34mdplyr\u001b[39m::collapse()\n",
      "\u001b[31m✖\u001b[39m \u001b[34mlubridate\u001b[39m::\u001b[32mdate()\u001b[39m        masks \u001b[34mbase\u001b[39m::date()\n",
      "\u001b[31m✖\u001b[39m \u001b[34mdplyr\u001b[39m::\u001b[32mfilter()\u001b[39m          masks \u001b[34mstats\u001b[39m::filter()\n",
      "\u001b[31m✖\u001b[39m \u001b[34mlubridate\u001b[39m::\u001b[32mintersect()\u001b[39m   masks \u001b[34mbase\u001b[39m::intersect()\n",
      "\u001b[31m✖\u001b[39m \u001b[34mdplyr\u001b[39m::\u001b[32mlag()\u001b[39m             masks \u001b[34mstats\u001b[39m::lag()\n",
      "\u001b[31m✖\u001b[39m \u001b[34mpurrr\u001b[39m::\u001b[32mlift()\u001b[39m            masks \u001b[34mcaret\u001b[39m::lift()\n",
      "\u001b[31m✖\u001b[39m \u001b[34mlubridate\u001b[39m::\u001b[32msetdiff()\u001b[39m     masks \u001b[34mbase\u001b[39m::setdiff()\n",
      "\u001b[31m✖\u001b[39m \u001b[34mlubridate\u001b[39m::\u001b[32munion()\u001b[39m       masks \u001b[34mbase\u001b[39m::union()\n",
      "\n",
      "Warning message:\n",
      "“package ‘readxl’ was built under R version 4.1.3”\n",
      "\n",
      "Attaching package: ‘xgboost’\n",
      "\n",
      "\n",
      "The following object is masked from ‘package:dplyr’:\n",
      "\n",
      "    slice\n",
      "\n",
      "\n",
      "Warning message:\n",
      "“package ‘magrittr’ was built under R version 4.1.3”\n",
      "\n",
      "Attaching package: ‘magrittr’\n",
      "\n",
      "\n",
      "The following object is masked from ‘package:purrr’:\n",
      "\n",
      "    set_names\n",
      "\n",
      "\n",
      "The following object is masked from ‘package:tidyr’:\n",
      "\n",
      "    extract\n",
      "\n",
      "\n",
      "Loading required package: zoo\n",
      "\n",
      "\n",
      "Attaching package: ‘zoo’\n",
      "\n",
      "\n",
      "The following objects are masked from ‘package:base’:\n",
      "\n",
      "    as.Date, as.Date.numeric\n",
      "\n",
      "\n",
      "\n",
      "Attaching package: ‘xts’\n",
      "\n",
      "\n",
      "The following objects are masked from ‘package:dplyr’:\n",
      "\n",
      "    first, last\n",
      "\n",
      "\n",
      "\n",
      "Attaching package: ‘hms’\n",
      "\n",
      "\n",
      "The following object is masked from ‘package:lubridate’:\n",
      "\n",
      "    hms\n",
      "\n",
      "\n"
     ]
    }
   ],
   "source": [
    "#Import Library\n",
    "library(dplyr)\n",
    "library(ggplot2)\n",
    "library(tidyr)\n",
    "library(caret)\n",
    "library(lubridate)\n",
    "library(purrr)\n",
    "library(mgcv)\n",
    "library(rpart)\n",
    "library(tidyverse)\n",
    "library(utils)\n",
    "library(broom)\n",
    "library(ellipsis)\n",
    "library(highr)\n",
    "library(lattice)\n",
    "library(methods)\n",
    "library(nlme)\n",
    "library(readr)\n",
    "library(readxl)\n",
    "library(stats)\n",
    "library(stringr)\n",
    "library(ranger)\n",
    "library(tibble)\n",
    "library(xgboost)\n",
    "library(magrittr)\n",
    "library(lubridate)\n",
    "library(xts)\n",
    "library(hms)"
   ]
  },
  {
   "cell_type": "code",
   "execution_count": 3,
   "id": "8dafe05a-2267-47ea-a9ad-2d8a81c534fa",
   "metadata": {},
   "outputs": [
    {
     "name": "stderr",
     "output_type": "stream",
     "text": [
      "\u001b[1mRows: \u001b[22m\u001b[34m31334\u001b[39m \u001b[1mColumns: \u001b[22m\u001b[34m25\u001b[39m\n",
      "\u001b[36m──\u001b[39m \u001b[1mColumn specification\u001b[22m \u001b[36m────────────────────────────────────────────────────────\u001b[39m\n",
      "\u001b[1mDelimiter:\u001b[22m \",\"\n",
      "\u001b[31mchr\u001b[39m (12): patientid, ecog, histology, groupstage, smokingstatus, gender, rac...\n",
      "\u001b[32mdbl\u001b[39m  (7): daysto_event, event_died, diagnosis_nsclc_year, diagnosis_ansclc_y...\n",
      "\u001b[33mlgl\u001b[39m  (6): biomarker_pdl1, biomarker_alk, biomarker_ros1, biomarker_braf, bio...\n",
      "\n",
      "\u001b[36mℹ\u001b[39m Use `spec()` to retrieve the full column specification for this data.\n",
      "\u001b[36mℹ\u001b[39m Specify the column types or set `show_col_types = FALSE` to quiet this message.\n"
     ]
    },
    {
     "data": {
      "text/html": [
       "<table class=\"dataframe\">\n",
       "<caption>A tibble: 6 × 25</caption>\n",
       "<thead>\n",
       "\t<tr><th scope=col>patientid</th><th scope=col>daysto_event</th><th scope=col>event_died</th><th scope=col>diagnosis_nsclc_year</th><th scope=col>diagnosis_ansclc_year</th><th scope=col>ecog</th><th scope=col>histology</th><th scope=col>groupstage</th><th scope=col>smokingstatus</th><th scope=col>birthyear</th><th scope=col>⋯</th><th scope=col>biomarker_alk</th><th scope=col>biomarker_ros1</th><th scope=col>biomarker_braf</th><th scope=col>biomarker_egfr</th><th scope=col>biomarker_kras</th><th scope=col>lab_creatinine</th><th scope=col>lab_alanineaminotransferase</th><th scope=col>lab_ldh</th><th scope=col>bmi</th><th scope=col>index_lot1_year</th></tr>\n",
       "\t<tr><th scope=col>&lt;chr&gt;</th><th scope=col>&lt;dbl&gt;</th><th scope=col>&lt;dbl&gt;</th><th scope=col>&lt;dbl&gt;</th><th scope=col>&lt;dbl&gt;</th><th scope=col>&lt;chr&gt;</th><th scope=col>&lt;chr&gt;</th><th scope=col>&lt;chr&gt;</th><th scope=col>&lt;chr&gt;</th><th scope=col>&lt;dbl&gt;</th><th scope=col>⋯</th><th scope=col>&lt;lgl&gt;</th><th scope=col>&lt;lgl&gt;</th><th scope=col>&lt;lgl&gt;</th><th scope=col>&lt;lgl&gt;</th><th scope=col>&lt;lgl&gt;</th><th scope=col>&lt;chr&gt;</th><th scope=col>&lt;chr&gt;</th><th scope=col>&lt;chr&gt;</th><th scope=col>&lt;dbl&gt;</th><th scope=col>&lt;dbl&gt;</th></tr>\n",
       "</thead>\n",
       "<tbody>\n",
       "\t<tr><td>PHARML000001</td><td>156</td><td>0</td><td>2002</td><td>2019</td><td>1      </td><td>Squamous cell carcinoma    </td><td>Stage IIA </td><td>History of smoking</td><td>1951</td><td>⋯</td><td>NA</td><td>NA</td><td>NA</td><td>NA</td><td>NA</td><td>normal</td><td>normal  </td><td>NA      </td><td>19.34262</td><td>2019</td></tr>\n",
       "\t<tr><td>PHARML000003</td><td>190</td><td>1</td><td>2013</td><td>2014</td><td>Unknown</td><td>Non-squamous cell carcinoma</td><td>Stage IIIA</td><td>History of smoking</td><td>1946</td><td>⋯</td><td>NA</td><td>NA</td><td>NA</td><td>NA</td><td>NA</td><td>NA    </td><td>normal  </td><td>NA      </td><td>22.41903</td><td>2014</td></tr>\n",
       "\t<tr><td>PHARML000004</td><td> 74</td><td>1</td><td>2020</td><td>2020</td><td>Unknown</td><td>Non-squamous cell carcinoma</td><td>Stage IIIC</td><td>History of smoking</td><td>1944</td><td>⋯</td><td>NA</td><td>NA</td><td>NA</td><td>NA</td><td>NA</td><td>NA    </td><td>NA      </td><td>NA      </td><td>26.63880</td><td>2020</td></tr>\n",
       "\t<tr><td>PHARML000008</td><td> 52</td><td>1</td><td>2020</td><td>2020</td><td>1      </td><td>Non-squamous cell carcinoma</td><td>Stage IV  </td><td>History of smoking</td><td>1937</td><td>⋯</td><td>NA</td><td>NA</td><td>NA</td><td>NA</td><td>NA</td><td>normal</td><td>abnormal</td><td>NA      </td><td>18.94848</td><td>2020</td></tr>\n",
       "\t<tr><td>PHARML000009</td><td>392</td><td>0</td><td>2021</td><td>2021</td><td>0      </td><td>Non-squamous cell carcinoma</td><td>Stage IIIB</td><td>History of smoking</td><td>1966</td><td>⋯</td><td>NA</td><td>NA</td><td>NA</td><td>NA</td><td>NA</td><td>normal</td><td>normal  </td><td>abnormal</td><td>21.33351</td><td>2021</td></tr>\n",
       "\t<tr><td>PHARML000011</td><td> 39</td><td>1</td><td>2017</td><td>2017</td><td>Unknown</td><td>Non-squamous cell carcinoma</td><td>Stage IV  </td><td>History of smoking</td><td>1943</td><td>⋯</td><td>NA</td><td>NA</td><td>NA</td><td>NA</td><td>NA</td><td>normal</td><td>normal  </td><td>normal  </td><td>16.65117</td><td>2017</td></tr>\n",
       "</tbody>\n",
       "</table>\n"
      ],
      "text/latex": [
       "A tibble: 6 × 25\n",
       "\\begin{tabular}{lllllllllllllllllllll}\n",
       " patientid & daysto\\_event & event\\_died & diagnosis\\_nsclc\\_year & diagnosis\\_ansclc\\_year & ecog & histology & groupstage & smokingstatus & birthyear & ⋯ & biomarker\\_alk & biomarker\\_ros1 & biomarker\\_braf & biomarker\\_egfr & biomarker\\_kras & lab\\_creatinine & lab\\_alanineaminotransferase & lab\\_ldh & bmi & index\\_lot1\\_year\\\\\n",
       " <chr> & <dbl> & <dbl> & <dbl> & <dbl> & <chr> & <chr> & <chr> & <chr> & <dbl> & ⋯ & <lgl> & <lgl> & <lgl> & <lgl> & <lgl> & <chr> & <chr> & <chr> & <dbl> & <dbl>\\\\\n",
       "\\hline\n",
       "\t PHARML000001 & 156 & 0 & 2002 & 2019 & 1       & Squamous cell carcinoma     & Stage IIA  & History of smoking & 1951 & ⋯ & NA & NA & NA & NA & NA & normal & normal   & NA       & 19.34262 & 2019\\\\\n",
       "\t PHARML000003 & 190 & 1 & 2013 & 2014 & Unknown & Non-squamous cell carcinoma & Stage IIIA & History of smoking & 1946 & ⋯ & NA & NA & NA & NA & NA & NA     & normal   & NA       & 22.41903 & 2014\\\\\n",
       "\t PHARML000004 &  74 & 1 & 2020 & 2020 & Unknown & Non-squamous cell carcinoma & Stage IIIC & History of smoking & 1944 & ⋯ & NA & NA & NA & NA & NA & NA     & NA       & NA       & 26.63880 & 2020\\\\\n",
       "\t PHARML000008 &  52 & 1 & 2020 & 2020 & 1       & Non-squamous cell carcinoma & Stage IV   & History of smoking & 1937 & ⋯ & NA & NA & NA & NA & NA & normal & abnormal & NA       & 18.94848 & 2020\\\\\n",
       "\t PHARML000009 & 392 & 0 & 2021 & 2021 & 0       & Non-squamous cell carcinoma & Stage IIIB & History of smoking & 1966 & ⋯ & NA & NA & NA & NA & NA & normal & normal   & abnormal & 21.33351 & 2021\\\\\n",
       "\t PHARML000011 &  39 & 1 & 2017 & 2017 & Unknown & Non-squamous cell carcinoma & Stage IV   & History of smoking & 1943 & ⋯ & NA & NA & NA & NA & NA & normal & normal   & normal   & 16.65117 & 2017\\\\\n",
       "\\end{tabular}\n"
      ],
      "text/markdown": [
       "\n",
       "A tibble: 6 × 25\n",
       "\n",
       "| patientid &lt;chr&gt; | daysto_event &lt;dbl&gt; | event_died &lt;dbl&gt; | diagnosis_nsclc_year &lt;dbl&gt; | diagnosis_ansclc_year &lt;dbl&gt; | ecog &lt;chr&gt; | histology &lt;chr&gt; | groupstage &lt;chr&gt; | smokingstatus &lt;chr&gt; | birthyear &lt;dbl&gt; | ⋯ ⋯ | biomarker_alk &lt;lgl&gt; | biomarker_ros1 &lt;lgl&gt; | biomarker_braf &lt;lgl&gt; | biomarker_egfr &lt;lgl&gt; | biomarker_kras &lt;lgl&gt; | lab_creatinine &lt;chr&gt; | lab_alanineaminotransferase &lt;chr&gt; | lab_ldh &lt;chr&gt; | bmi &lt;dbl&gt; | index_lot1_year &lt;dbl&gt; |\n",
       "|---|---|---|---|---|---|---|---|---|---|---|---|---|---|---|---|---|---|---|---|---|\n",
       "| PHARML000001 | 156 | 0 | 2002 | 2019 | 1       | Squamous cell carcinoma     | Stage IIA  | History of smoking | 1951 | ⋯ | NA | NA | NA | NA | NA | normal | normal   | NA       | 19.34262 | 2019 |\n",
       "| PHARML000003 | 190 | 1 | 2013 | 2014 | Unknown | Non-squamous cell carcinoma | Stage IIIA | History of smoking | 1946 | ⋯ | NA | NA | NA | NA | NA | NA     | normal   | NA       | 22.41903 | 2014 |\n",
       "| PHARML000004 |  74 | 1 | 2020 | 2020 | Unknown | Non-squamous cell carcinoma | Stage IIIC | History of smoking | 1944 | ⋯ | NA | NA | NA | NA | NA | NA     | NA       | NA       | 26.63880 | 2020 |\n",
       "| PHARML000008 |  52 | 1 | 2020 | 2020 | 1       | Non-squamous cell carcinoma | Stage IV   | History of smoking | 1937 | ⋯ | NA | NA | NA | NA | NA | normal | abnormal | NA       | 18.94848 | 2020 |\n",
       "| PHARML000009 | 392 | 0 | 2021 | 2021 | 0       | Non-squamous cell carcinoma | Stage IIIB | History of smoking | 1966 | ⋯ | NA | NA | NA | NA | NA | normal | normal   | abnormal | 21.33351 | 2021 |\n",
       "| PHARML000011 |  39 | 1 | 2017 | 2017 | Unknown | Non-squamous cell carcinoma | Stage IV   | History of smoking | 1943 | ⋯ | NA | NA | NA | NA | NA | normal | normal   | normal   | 16.65117 | 2017 |\n",
       "\n"
      ],
      "text/plain": [
       "  patientid    daysto_event event_died diagnosis_nsclc_year\n",
       "1 PHARML000001 156          0          2002                \n",
       "2 PHARML000003 190          1          2013                \n",
       "3 PHARML000004  74          1          2020                \n",
       "4 PHARML000008  52          1          2020                \n",
       "5 PHARML000009 392          0          2021                \n",
       "6 PHARML000011  39          1          2017                \n",
       "  diagnosis_ansclc_year ecog    histology                   groupstage\n",
       "1 2019                  1       Squamous cell carcinoma     Stage IIA \n",
       "2 2014                  Unknown Non-squamous cell carcinoma Stage IIIA\n",
       "3 2020                  Unknown Non-squamous cell carcinoma Stage IIIC\n",
       "4 2020                  1       Non-squamous cell carcinoma Stage IV  \n",
       "5 2021                  0       Non-squamous cell carcinoma Stage IIIB\n",
       "6 2017                  Unknown Non-squamous cell carcinoma Stage IV  \n",
       "  smokingstatus      birthyear ⋯ biomarker_alk biomarker_ros1 biomarker_braf\n",
       "1 History of smoking 1951      ⋯ NA            NA             NA            \n",
       "2 History of smoking 1946      ⋯ NA            NA             NA            \n",
       "3 History of smoking 1944      ⋯ NA            NA             NA            \n",
       "4 History of smoking 1937      ⋯ NA            NA             NA            \n",
       "5 History of smoking 1966      ⋯ NA            NA             NA            \n",
       "6 History of smoking 1943      ⋯ NA            NA             NA            \n",
       "  biomarker_egfr biomarker_kras lab_creatinine lab_alanineaminotransferase\n",
       "1 NA             NA             normal         normal                     \n",
       "2 NA             NA             NA             normal                     \n",
       "3 NA             NA             NA             NA                         \n",
       "4 NA             NA             normal         abnormal                   \n",
       "5 NA             NA             normal         normal                     \n",
       "6 NA             NA             normal         normal                     \n",
       "  lab_ldh  bmi      index_lot1_year\n",
       "1 NA       19.34262 2019           \n",
       "2 NA       22.41903 2014           \n",
       "3 NA       26.63880 2020           \n",
       "4 NA       18.94848 2020           \n",
       "5 abnormal 21.33351 2021           \n",
       "6 normal   16.65117 2017           "
      ]
     },
     "metadata": {},
     "output_type": "display_data"
    }
   ],
   "source": [
    "#Load in dataframe\n",
    "flatiron_train <- read_csv(\"/pharml/data/flatiron_training.csv\")\n",
    "head(flatiron_train)"
   ]
  },
  {
   "cell_type": "code",
   "execution_count": 4,
   "id": "456c824c-f956-42e8-8988-97a9ff985164",
   "metadata": {},
   "outputs": [
    {
     "data": {
      "text/plain": [
       "  patientid          daysto_event      event_died     diagnosis_nsclc_year\n",
       " Length:31334       Min.   :   1.0   Min.   :0.0000   Min.   :1990        \n",
       " Class :character   1st Qu.: 112.0   1st Qu.:0.0000   1st Qu.:2014        \n",
       " Mode  :character   Median : 280.0   Median :1.0000   Median :2016        \n",
       "                    Mean   : 484.2   Mean   :0.7273   Mean   :2016        \n",
       "                    3rd Qu.: 639.0   3rd Qu.:1.0000   3rd Qu.:2019        \n",
       "                    Max.   :3948.0   Max.   :1.0000   Max.   :2022        \n",
       "                                                      NA's   :5           \n",
       " diagnosis_ansclc_year     ecog            histology          groupstage       \n",
       " Min.   :2011          Length:31334       Length:31334       Length:31334      \n",
       " 1st Qu.:2014          Class :character   Class :character   Class :character  \n",
       " Median :2017          Mode  :character   Mode  :character   Mode  :character  \n",
       " Mean   :2016                                                                  \n",
       " 3rd Qu.:2019                                                                  \n",
       " Max.   :2022                                                                  \n",
       "                                                                               \n",
       " smokingstatus        birthyear       gender          raceethnicity     \n",
       " Length:31334       Min.   :1937   Length:31334       Length:31334      \n",
       " Class :character   1st Qu.:1941   Class :character   Class :character  \n",
       " Mode  :character   Median :1947   Mode  :character   Mode  :character  \n",
       "                    Mean   :1949                                        \n",
       "                    3rd Qu.:1955                                        \n",
       "                    Max.   :2002                                        \n",
       "                                                                        \n",
       "    region          lot_category       biomarker_pdl1  biomarker_alk  \n",
       " Length:31334       Length:31334       Mode :logical   Mode :logical  \n",
       " Class :character   Class :character   FALSE:96        FALSE:549      \n",
       " Mode  :character   Mode  :character   TRUE :182       TRUE :8        \n",
       "                                       NA's :31056     NA's :30777    \n",
       "                                                                      \n",
       "                                                                      \n",
       "                                                                      \n",
       " biomarker_ros1  biomarker_braf  biomarker_egfr  biomarker_kras \n",
       " Mode :logical   Mode :logical   Mode :logical   Mode :logical  \n",
       " FALSE:426       FALSE:330       FALSE:533       FALSE:263      \n",
       " TRUE :2         TRUE :8         TRUE :67        TRUE :95       \n",
       " NA's :30906     NA's :30996     NA's :30734     NA's :30976    \n",
       "                                                                \n",
       "                                                                \n",
       "                                                                \n",
       " lab_creatinine     lab_alanineaminotransferase   lab_ldh         \n",
       " Length:31334       Length:31334                Length:31334      \n",
       " Class :character   Class :character            Class :character  \n",
       " Mode  :character   Mode  :character            Mode  :character  \n",
       "                                                                  \n",
       "                                                                  \n",
       "                                                                  \n",
       "                                                                  \n",
       "      bmi        index_lot1_year\n",
       " Min.   :10.50   Min.   :2011   \n",
       " 1st Qu.:22.14   1st Qu.:2014   \n",
       " Median :25.44   Median :2017   \n",
       " Mean   :26.18   Mean   :2017   \n",
       " 3rd Qu.:29.35   3rd Qu.:2019   \n",
       " Max.   :82.13   Max.   :2022   \n",
       " NA's   :1416                   "
      ]
     },
     "metadata": {},
     "output_type": "display_data"
    }
   ],
   "source": [
    "summary(flatiron_train)"
   ]
  },
  {
   "cell_type": "code",
   "execution_count": 5,
   "id": "613de046-6559-4f1d-94fe-c2b8ce500365",
   "metadata": {},
   "outputs": [
    {
     "data": {
      "text/plain": [
       "  patientid          daysto_event      event_died     diagnosis_nsclc_year\n",
       " Length:31329       Min.   :   1.0   Min.   :0.0000   Min.   :1990        \n",
       " Class :character   1st Qu.: 112.0   1st Qu.:0.0000   1st Qu.:2014        \n",
       " Mode  :character   Median : 280.0   Median :1.0000   Median :2016        \n",
       "                    Mean   : 484.2   Mean   :0.7273   Mean   :2016        \n",
       "                    3rd Qu.: 639.0   3rd Qu.:1.0000   3rd Qu.:2019        \n",
       "                    Max.   :3948.0   Max.   :1.0000   Max.   :2022        \n",
       "                                                                          \n",
       " diagnosis_ansclc_year     ecog            histology          groupstage       \n",
       " Min.   :2011          Length:31329       Length:31329       Length:31329      \n",
       " 1st Qu.:2014          Class :character   Class :character   Class :character  \n",
       " Median :2017          Mode  :character   Mode  :character   Mode  :character  \n",
       " Mean   :2016                                                                  \n",
       " 3rd Qu.:2019                                                                  \n",
       " Max.   :2022                                                                  \n",
       "                                                                               \n",
       " smokingstatus        birthyear       gender          raceethnicity     \n",
       " Length:31329       Min.   :1937   Length:31329       Length:31329      \n",
       " Class :character   1st Qu.:1941   Class :character   Class :character  \n",
       " Mode  :character   Median :1947   Mode  :character   Mode  :character  \n",
       "                    Mean   :1949                                        \n",
       "                    3rd Qu.:1955                                        \n",
       "                    Max.   :2002                                        \n",
       "                                                                        \n",
       "    region          lot_category       biomarker_pdl1  biomarker_alk  \n",
       " Length:31329       Length:31329       Mode :logical   Mode :logical  \n",
       " Class :character   Class :character   FALSE:96        FALSE:549      \n",
       " Mode  :character   Mode  :character   TRUE :182       TRUE :8        \n",
       "                                       NA's :31051     NA's :30772    \n",
       "                                                                      \n",
       "                                                                      \n",
       "                                                                      \n",
       " biomarker_ros1  biomarker_braf  biomarker_egfr  biomarker_kras \n",
       " Mode :logical   Mode :logical   Mode :logical   Mode :logical  \n",
       " FALSE:426       FALSE:330       FALSE:533       FALSE:263      \n",
       " TRUE :2         TRUE :8         TRUE :67        TRUE :95       \n",
       " NA's :30901     NA's :30991     NA's :30729     NA's :30971    \n",
       "                                                                \n",
       "                                                                \n",
       "                                                                \n",
       " lab_creatinine     lab_alanineaminotransferase   lab_ldh         \n",
       " Length:31329       Length:31329                Length:31329      \n",
       " Class :character   Class :character            Class :character  \n",
       " Mode  :character   Mode  :character            Mode  :character  \n",
       "                                                                  \n",
       "                                                                  \n",
       "                                                                  \n",
       "                                                                  \n",
       "      bmi        index_lot1_year\n",
       " Min.   :10.50   Min.   :2011   \n",
       " 1st Qu.:22.14   1st Qu.:2014   \n",
       " Median :25.44   Median :2017   \n",
       " Mean   :26.18   Mean   :2017   \n",
       " 3rd Qu.:29.35   3rd Qu.:2019   \n",
       " Max.   :82.13   Max.   :2022   \n",
       " NA's   :1416                   "
      ]
     },
     "metadata": {},
     "output_type": "display_data"
    }
   ],
   "source": [
    "#Filter to remove the 5 rows with missing values for diagnosis_nsclc_year\n",
    "flatiron_train1 <- flatiron_train %>% filter(!is.na(diagnosis_nsclc_year))\n",
    "summary(flatiron_train1)"
   ]
  },
  {
   "cell_type": "code",
   "execution_count": 6,
   "id": "8cbc8d52-ead7-4e44-85e4-3c2d710eeb8f",
   "metadata": {},
   "outputs": [
    {
     "name": "stdout",
     "output_type": "stream",
     "text": [
      "Rows: 31,329\n",
      "Columns: 25\n",
      "$ patientid                   \u001b[3m\u001b[90m<chr>\u001b[39m\u001b[23m \"PHARML000001\", \"PHARML000003\", \"PHARML000…\n",
      "$ daysto_event                \u001b[3m\u001b[90m<dbl>\u001b[39m\u001b[23m 156, 190, 74, 52, 392, 39, 1302, 181, 761,…\n",
      "$ event_died                  \u001b[3m\u001b[90m<dbl>\u001b[39m\u001b[23m 0, 1, 1, 1, 0, 1, 0, 1, 1, 1, 0, 0, 0, 1, …\n",
      "$ diagnosis_nsclc_year        \u001b[3m\u001b[90m<dbl>\u001b[39m\u001b[23m 2002, 2013, 2020, 2020, 2021, 2017, 2018, …\n",
      "$ diagnosis_ansclc_year       \u001b[3m\u001b[90m<dbl>\u001b[39m\u001b[23m 2019, 2014, 2020, 2020, 2021, 2017, 2018, …\n",
      "$ ecog                        \u001b[3m\u001b[90m<chr>\u001b[39m\u001b[23m \"1\", \"Unknown\", \"Unknown\", \"1\", \"0\", \"Unkn…\n",
      "$ histology                   \u001b[3m\u001b[90m<chr>\u001b[39m\u001b[23m \"Squamous cell carcinoma\", \"Non-squamous c…\n",
      "$ groupstage                  \u001b[3m\u001b[90m<chr>\u001b[39m\u001b[23m \"Stage IIA\", \"Stage IIIA\", \"Stage IIIC\", \"…\n",
      "$ smokingstatus               \u001b[3m\u001b[90m<chr>\u001b[39m\u001b[23m \"History of smoking\", \"History of smoking\"…\n",
      "$ birthyear                   \u001b[3m\u001b[90m<dbl>\u001b[39m\u001b[23m 1951, 1946, 1944, 1937, 1966, 1943, 1946, …\n",
      "$ gender                      \u001b[3m\u001b[90m<chr>\u001b[39m\u001b[23m \"M\", \"F\", \"M\", \"F\", \"M\", \"F\", \"F\", \"F\", \"M…\n",
      "$ raceethnicity               \u001b[3m\u001b[90m<chr>\u001b[39m\u001b[23m \"Hispanic or Latino (any)\", \"Hispanic or L…\n",
      "$ region                      \u001b[3m\u001b[90m<chr>\u001b[39m\u001b[23m \"South\", \"Midwest\", \"Midwest\", \"Northeast\"…\n",
      "$ lot_category                \u001b[3m\u001b[90m<chr>\u001b[39m\u001b[23m \"Chemotherapy,Chemotherapy,Immunotherapy\",…\n",
      "$ biomarker_pdl1              \u001b[3m\u001b[90m<lgl>\u001b[39m\u001b[23m NA, NA, NA, NA, NA, NA, NA, NA, NA, NA, NA…\n",
      "$ biomarker_alk               \u001b[3m\u001b[90m<lgl>\u001b[39m\u001b[23m NA, NA, NA, NA, NA, NA, NA, NA, NA, NA, NA…\n",
      "$ biomarker_ros1              \u001b[3m\u001b[90m<lgl>\u001b[39m\u001b[23m NA, NA, NA, NA, NA, NA, NA, NA, NA, NA, NA…\n",
      "$ biomarker_braf              \u001b[3m\u001b[90m<lgl>\u001b[39m\u001b[23m NA, NA, NA, NA, NA, NA, NA, NA, NA, NA, NA…\n",
      "$ biomarker_egfr              \u001b[3m\u001b[90m<lgl>\u001b[39m\u001b[23m NA, NA, NA, NA, NA, NA, NA, NA, NA, NA, NA…\n",
      "$ biomarker_kras              \u001b[3m\u001b[90m<lgl>\u001b[39m\u001b[23m NA, NA, NA, NA, NA, NA, NA, NA, NA, NA, NA…\n",
      "$ lab_creatinine              \u001b[3m\u001b[90m<chr>\u001b[39m\u001b[23m \"normal\", NA, NA, \"normal\", \"normal\", \"nor…\n",
      "$ lab_alanineaminotransferase \u001b[3m\u001b[90m<chr>\u001b[39m\u001b[23m \"normal\", \"normal\", NA, \"abnormal\", \"norma…\n",
      "$ lab_ldh                     \u001b[3m\u001b[90m<chr>\u001b[39m\u001b[23m NA, NA, NA, NA, \"abnormal\", \"normal\", NA, …\n",
      "$ bmi                         \u001b[3m\u001b[90m<dbl>\u001b[39m\u001b[23m 19.34262, 22.41903, 26.63880, 18.94848, 21…\n",
      "$ index_lot1_year             \u001b[3m\u001b[90m<dbl>\u001b[39m\u001b[23m 2019, 2014, 2020, 2020, 2021, 2017, 2018, …\n"
     ]
    }
   ],
   "source": [
    "glimpse(flatiron_train1)"
   ]
  },
  {
   "cell_type": "code",
   "execution_count": 7,
   "id": "9c9e1362-e177-4248-8c38-555ee838295e",
   "metadata": {},
   "outputs": [],
   "source": [
    "install.packages(\"naniar\", \"/tmp/RtmpopXkDN/downloaded_packages\")"
   ]
  },
  {
   "cell_type": "code",
   "execution_count": 7,
   "id": "0915bab9-6bc1-4a95-8ab9-dc6a3e0244fb",
   "metadata": {},
   "outputs": [],
   "source": [
    "library(\"naniar\", lib.loc=.libPaths(\"/tmp/RtmpopXkDN/downloaded_packages\"))"
   ]
  },
  {
   "cell_type": "code",
   "execution_count": 8,
   "id": "0fa379db-532e-4cd0-8ef8-c35b81561608",
   "metadata": {},
   "outputs": [],
   "source": [
    "#Replace '<NA>' values in bmi & smokingstatus columns with NA\n",
    "flatiron_train1 <- flatiron_train1 %>% replace_with_na(replace = list(bmi = \"<NA>\"), \n",
    "                                                       (lot_category = \"<NA>\"))\n"
   ]
  },
  {
   "cell_type": "code",
   "execution_count": 9,
   "id": "656ae547-b63b-4fa9-b797-f5e5e1b656b7",
   "metadata": {},
   "outputs": [],
   "source": [
    "#Replace all NA values in BMI with 19.0\n",
    "toReplace1 <- which(is.na(flatiron_train1$bmi))\n",
    "flatiron_train1$bmi[toReplace1] <- 19.0"
   ]
  },
  {
   "cell_type": "code",
   "execution_count": 10,
   "id": "6a2bc8b3-98ac-4a76-b025-0dcf32b55c67",
   "metadata": {},
   "outputs": [],
   "source": [
    "install.packages(\"superml\", \"/tmp/RtmpopXkDN/downloaded_packages\")"
   ]
  },
  {
   "cell_type": "code",
   "execution_count": 11,
   "id": "49efcd80-2ae3-4d46-8e4a-d1b1d886c4d0",
   "metadata": {},
   "outputs": [
    {
     "name": "stderr",
     "output_type": "stream",
     "text": [
      "Loading required package: R6\n",
      "\n"
     ]
    }
   ],
   "source": [
    "library(\"superml\", lib.loc=.libPaths(\"/tmp/RtmpopXkDN/downloaded_packages\"))"
   ]
  },
  {
   "cell_type": "code",
   "execution_count": 12,
   "id": "154f295a-3a93-4173-829f-410744305017",
   "metadata": {},
   "outputs": [
    {
     "name": "stdout",
     "output_type": "stream",
     "text": [
      "[1] TRUE\n"
     ]
    }
   ],
   "source": [
    "#Label encode the following categorical variables - groupstage, ecog, smoking status, gender, lab results\n",
    "# & biomarkers\n",
    "\n",
    "label <- LabelEncoder$new()\n",
    "print(label$fit(flatiron_train1$ecog))\n",
    "flatiron_train1$ecog <- label$fit_transform(flatiron_train1$ecog)"
   ]
  },
  {
   "cell_type": "code",
   "execution_count": 13,
   "id": "cc4dde9d-01cc-4397-b085-d536a79ae8b1",
   "metadata": {},
   "outputs": [
    {
     "name": "stdout",
     "output_type": "stream",
     "text": [
      "[1] TRUE\n",
      "[1] TRUE\n"
     ]
    },
    {
     "name": "stderr",
     "output_type": "stream",
     "text": [
      "The data contains NA values. Imputing NA with 'NA' \n",
      "\n"
     ]
    },
    {
     "name": "stdout",
     "output_type": "stream",
     "text": [
      "[1] TRUE\n"
     ]
    },
    {
     "name": "stderr",
     "output_type": "stream",
     "text": [
      "The data contains NA values. Imputing NA with 'NA' \n",
      "\n",
      "The data contains NA values. Imputing NA with 'NA' \n",
      "\n"
     ]
    },
    {
     "name": "stdout",
     "output_type": "stream",
     "text": [
      "[1] TRUE\n"
     ]
    },
    {
     "name": "stderr",
     "output_type": "stream",
     "text": [
      "The data contains NA values. Imputing NA with 'NA' \n",
      "\n",
      "The data contains NA values. Imputing NA with 'NA' \n",
      "\n"
     ]
    },
    {
     "name": "stdout",
     "output_type": "stream",
     "text": [
      "[1] TRUE\n"
     ]
    },
    {
     "name": "stderr",
     "output_type": "stream",
     "text": [
      "The data contains NA values. Imputing NA with 'NA' \n",
      "\n",
      "The data contains NA values. Imputing NA with 'NA' \n",
      "\n"
     ]
    },
    {
     "name": "stdout",
     "output_type": "stream",
     "text": [
      "[1] TRUE\n"
     ]
    },
    {
     "name": "stderr",
     "output_type": "stream",
     "text": [
      "The data contains NA values. Imputing NA with 'NA' \n",
      "\n",
      "The data contains NA values. Imputing NA with 'NA' \n",
      "\n"
     ]
    },
    {
     "name": "stdout",
     "output_type": "stream",
     "text": [
      "[1] TRUE\n"
     ]
    },
    {
     "name": "stderr",
     "output_type": "stream",
     "text": [
      "The data contains NA values. Imputing NA with 'NA' \n",
      "\n",
      "The data contains NA values. Imputing NA with 'NA' \n",
      "\n"
     ]
    },
    {
     "name": "stdout",
     "output_type": "stream",
     "text": [
      "[1] TRUE\n"
     ]
    },
    {
     "name": "stderr",
     "output_type": "stream",
     "text": [
      "The data contains NA values. Imputing NA with 'NA' \n",
      "\n",
      "The data contains NA values. Imputing NA with 'NA' \n",
      "\n"
     ]
    },
    {
     "name": "stdout",
     "output_type": "stream",
     "text": [
      "[1] TRUE\n"
     ]
    },
    {
     "name": "stderr",
     "output_type": "stream",
     "text": [
      "The data contains NA values. Imputing NA with 'NA' \n",
      "\n",
      "The data contains NA values. Imputing NA with 'NA' \n",
      "\n"
     ]
    },
    {
     "name": "stdout",
     "output_type": "stream",
     "text": [
      "[1] TRUE\n"
     ]
    },
    {
     "name": "stderr",
     "output_type": "stream",
     "text": [
      "The data contains NA values. Imputing NA with 'NA' \n",
      "\n",
      "The data contains NA values. Imputing NA with 'NA' \n",
      "\n"
     ]
    },
    {
     "name": "stdout",
     "output_type": "stream",
     "text": [
      "[1] TRUE\n"
     ]
    },
    {
     "name": "stderr",
     "output_type": "stream",
     "text": [
      "The data contains NA values. Imputing NA with 'NA' \n",
      "\n",
      "The data contains NA values. Imputing NA with 'NA' \n",
      "\n"
     ]
    },
    {
     "name": "stdout",
     "output_type": "stream",
     "text": [
      "[1] TRUE\n"
     ]
    },
    {
     "name": "stderr",
     "output_type": "stream",
     "text": [
      "The data contains NA values. Imputing NA with 'NA' \n",
      "\n"
     ]
    }
   ],
   "source": [
    "#encode groupstage\n",
    "label <- LabelEncoder$new()\n",
    "print(label$fit(flatiron_train1$groupstage))\n",
    "flatiron_train1$groupstage <- label$fit_transform(flatiron_train1$groupstage)\n",
    "\n",
    "label <- LabelEncoder$new()\n",
    "print(label$fit(flatiron_train1$smokingstatus))\n",
    "flatiron_train1$smokingstatus <- label$fit_transform(flatiron_train1$smokingstatus)\n",
    "\n",
    "label <- LabelEncoder$new()\n",
    "print(label$fit(flatiron_train1$gender))\n",
    "flatiron_train1$gender <- label$fit_transform(flatiron_train1$gender)\n",
    "\n",
    "label <- LabelEncoder$new()\n",
    "print(label$fit(flatiron_train1$lab_ldh))\n",
    "flatiron_train1$lab_ldh <- label$fit_transform(flatiron_train1$lab_ldh)\n",
    "\n",
    "label <- LabelEncoder$new()\n",
    "print(label$fit(flatiron_train1$lab_alanineaminotransferase))\n",
    "flatiron_train1$lab_alanineaminotransferase <- label$fit_transform(flatiron_train1$lab_alanineaminotransferase)\n",
    "\n",
    "label <- LabelEncoder$new()\n",
    "print(label$fit(flatiron_train1$lab_creatinine))\n",
    "flatiron_train1$lab_creatinine <- label$fit_transform(flatiron_train1$lab_creatinine)\n",
    "\n",
    "label <- LabelEncoder$new()\n",
    "print(label$fit(flatiron_train1$biomarker_pdl1))\n",
    "flatiron_train1$biomarker_pdl1 <- label$fit_transform(flatiron_train1$biomarker_pdl1)\n",
    "\n",
    "label <- LabelEncoder$new()\n",
    "print(label$fit(flatiron_train1$biomarker_alk))\n",
    "flatiron_train1$biomarker_alk <- label$fit_transform(flatiron_train1$biomarker_alk)\n",
    "\n",
    "label <- LabelEncoder$new()\n",
    "print(label$fit(flatiron_train1$biomarker_ros1))\n",
    "flatiron_train1$biomarker_ros1 <- label$fit_transform(flatiron_train1$biomarker_ros1)\n",
    "\n",
    "label <- LabelEncoder$new()\n",
    "print(label$fit(flatiron_train1$biomarker_braf))\n",
    "flatiron_train1$biomarker_braf <- label$fit_transform(flatiron_train1$biomarker_braf)\n",
    "\n",
    "label <- LabelEncoder$new()\n",
    "print(label$fit(flatiron_train1$biomarker_egfr))\n",
    "flatiron_train1$biomarker_egfr <- label$fit_transform(flatiron_train1$biomarker_egfr)\n",
    "\n",
    "label <- LabelEncoder$new()\n",
    "print(label$fit(flatiron_train1$biomarker_kras))\n",
    "flatiron_train1$biomarker_kras <- label$fit_transform(flatiron_train1$biomarker_kras)"
   ]
  },
  {
   "cell_type": "code",
   "execution_count": 14,
   "id": "4a5bb56f-4499-446d-a214-8a6bd3f1286c",
   "metadata": {},
   "outputs": [
    {
     "data": {
      "text/html": [
       "<style>\n",
       ".list-inline {list-style: none; margin:0; padding: 0}\n",
       ".list-inline>li {display: inline-block}\n",
       ".list-inline>li:not(:last-child)::after {content: \"\\00b7\"; padding: 0 .5ex}\n",
       "</style>\n",
       "<ol class=list-inline><li>0</li><li>1</li><li>2</li><li>3</li><li>4</li><li>5</li></ol>\n"
      ],
      "text/latex": [
       "\\begin{enumerate*}\n",
       "\\item 0\n",
       "\\item 1\n",
       "\\item 2\n",
       "\\item 3\n",
       "\\item 4\n",
       "\\item 5\n",
       "\\end{enumerate*}\n"
      ],
      "text/markdown": [
       "1. 0\n",
       "2. 1\n",
       "3. 2\n",
       "4. 3\n",
       "5. 4\n",
       "6. 5\n",
       "\n",
       "\n"
      ],
      "text/plain": [
       "[1] 0 1 2 3 4 5"
      ]
     },
     "metadata": {},
     "output_type": "display_data"
    }
   ],
   "source": [
    "unique(flatiron_train1$ecog)"
   ]
  },
  {
   "cell_type": "code",
   "execution_count": 15,
   "id": "f18fb1b9-f9ce-40d8-8f0e-a82eb65d5515",
   "metadata": {},
   "outputs": [
    {
     "data": {
      "text/html": [
       "<style>\n",
       ".list-inline {list-style: none; margin:0; padding: 0}\n",
       ".list-inline>li {display: inline-block}\n",
       ".list-inline>li:not(:last-child)::after {content: \"\\00b7\"; padding: 0 .5ex}\n",
       "</style>\n",
       "<ol class=list-inline><li>2019</li><li>2014</li><li>2020</li><li>2021</li><li>2017</li><li>2018</li><li>2016</li><li>2012</li><li>2015</li><li>2011</li><li>2013</li><li>2022</li></ol>\n"
      ],
      "text/latex": [
       "\\begin{enumerate*}\n",
       "\\item 2019\n",
       "\\item 2014\n",
       "\\item 2020\n",
       "\\item 2021\n",
       "\\item 2017\n",
       "\\item 2018\n",
       "\\item 2016\n",
       "\\item 2012\n",
       "\\item 2015\n",
       "\\item 2011\n",
       "\\item 2013\n",
       "\\item 2022\n",
       "\\end{enumerate*}\n"
      ],
      "text/markdown": [
       "1. 2019\n",
       "2. 2014\n",
       "3. 2020\n",
       "4. 2021\n",
       "5. 2017\n",
       "6. 2018\n",
       "7. 2016\n",
       "8. 2012\n",
       "9. 2015\n",
       "10. 2011\n",
       "11. 2013\n",
       "12. 2022\n",
       "\n",
       "\n"
      ],
      "text/plain": [
       " [1] 2019 2014 2020 2021 2017 2018 2016 2012 2015 2011 2013 2022"
      ]
     },
     "metadata": {},
     "output_type": "display_data"
    }
   ],
   "source": [
    "unique(flatiron_train1$diagnosis_ansclc_year)"
   ]
  },
  {
   "cell_type": "code",
   "execution_count": 16,
   "id": "f184e255-ee5b-427d-8273-330ebd2c4e74",
   "metadata": {},
   "outputs": [
    {
     "data": {
      "text/html": [
       "<table class=\"dataframe\">\n",
       "<caption>A tibble: 6 × 25</caption>\n",
       "<thead>\n",
       "\t<tr><th scope=col>patientid</th><th scope=col>daysto_event</th><th scope=col>event_died</th><th scope=col>diagnosis_nsclc_year</th><th scope=col>diagnosis_ansclc_year</th><th scope=col>ecog</th><th scope=col>histology</th><th scope=col>groupstage</th><th scope=col>smokingstatus</th><th scope=col>birthyear</th><th scope=col>⋯</th><th scope=col>biomarker_alk</th><th scope=col>biomarker_ros1</th><th scope=col>biomarker_braf</th><th scope=col>biomarker_egfr</th><th scope=col>biomarker_kras</th><th scope=col>lab_creatinine</th><th scope=col>lab_alanineaminotransferase</th><th scope=col>lab_ldh</th><th scope=col>bmi</th><th scope=col>index_lot1_year</th></tr>\n",
       "\t<tr><th scope=col>&lt;chr&gt;</th><th scope=col>&lt;dbl&gt;</th><th scope=col>&lt;dbl&gt;</th><th scope=col>&lt;dbl&gt;</th><th scope=col>&lt;dbl&gt;</th><th scope=col>&lt;dbl&gt;</th><th scope=col>&lt;chr&gt;</th><th scope=col>&lt;dbl&gt;</th><th scope=col>&lt;dbl&gt;</th><th scope=col>&lt;dbl&gt;</th><th scope=col>⋯</th><th scope=col>&lt;dbl&gt;</th><th scope=col>&lt;dbl&gt;</th><th scope=col>&lt;dbl&gt;</th><th scope=col>&lt;dbl&gt;</th><th scope=col>&lt;dbl&gt;</th><th scope=col>&lt;dbl&gt;</th><th scope=col>&lt;dbl&gt;</th><th scope=col>&lt;dbl&gt;</th><th scope=col>&lt;dbl&gt;</th><th scope=col>&lt;dbl&gt;</th></tr>\n",
       "</thead>\n",
       "<tbody>\n",
       "\t<tr><td>PHARML000001</td><td>156</td><td>0</td><td>2002</td><td>2019</td><td>0</td><td>Squamous cell carcinoma    </td><td>0</td><td>0</td><td>1951</td><td>⋯</td><td>0</td><td>0</td><td>0</td><td>0</td><td>0</td><td>0</td><td>0</td><td>0</td><td>19.34262</td><td>2019</td></tr>\n",
       "\t<tr><td>PHARML000003</td><td>190</td><td>1</td><td>2013</td><td>2014</td><td>1</td><td>Non-squamous cell carcinoma</td><td>1</td><td>0</td><td>1946</td><td>⋯</td><td>0</td><td>0</td><td>0</td><td>0</td><td>0</td><td>1</td><td>0</td><td>0</td><td>22.41903</td><td>2014</td></tr>\n",
       "\t<tr><td>PHARML000004</td><td> 74</td><td>1</td><td>2020</td><td>2020</td><td>1</td><td>Non-squamous cell carcinoma</td><td>2</td><td>0</td><td>1944</td><td>⋯</td><td>0</td><td>0</td><td>0</td><td>0</td><td>0</td><td>1</td><td>1</td><td>0</td><td>26.63880</td><td>2020</td></tr>\n",
       "\t<tr><td>PHARML000008</td><td> 52</td><td>1</td><td>2020</td><td>2020</td><td>0</td><td>Non-squamous cell carcinoma</td><td>3</td><td>0</td><td>1937</td><td>⋯</td><td>0</td><td>0</td><td>0</td><td>0</td><td>0</td><td>0</td><td>2</td><td>0</td><td>18.94848</td><td>2020</td></tr>\n",
       "\t<tr><td>PHARML000009</td><td>392</td><td>0</td><td>2021</td><td>2021</td><td>2</td><td>Non-squamous cell carcinoma</td><td>4</td><td>0</td><td>1966</td><td>⋯</td><td>0</td><td>0</td><td>0</td><td>0</td><td>0</td><td>0</td><td>0</td><td>1</td><td>21.33351</td><td>2021</td></tr>\n",
       "\t<tr><td>PHARML000011</td><td> 39</td><td>1</td><td>2017</td><td>2017</td><td>1</td><td>Non-squamous cell carcinoma</td><td>3</td><td>0</td><td>1943</td><td>⋯</td><td>0</td><td>0</td><td>0</td><td>0</td><td>0</td><td>0</td><td>0</td><td>2</td><td>16.65117</td><td>2017</td></tr>\n",
       "</tbody>\n",
       "</table>\n"
      ],
      "text/latex": [
       "A tibble: 6 × 25\n",
       "\\begin{tabular}{lllllllllllllllllllll}\n",
       " patientid & daysto\\_event & event\\_died & diagnosis\\_nsclc\\_year & diagnosis\\_ansclc\\_year & ecog & histology & groupstage & smokingstatus & birthyear & ⋯ & biomarker\\_alk & biomarker\\_ros1 & biomarker\\_braf & biomarker\\_egfr & biomarker\\_kras & lab\\_creatinine & lab\\_alanineaminotransferase & lab\\_ldh & bmi & index\\_lot1\\_year\\\\\n",
       " <chr> & <dbl> & <dbl> & <dbl> & <dbl> & <dbl> & <chr> & <dbl> & <dbl> & <dbl> & ⋯ & <dbl> & <dbl> & <dbl> & <dbl> & <dbl> & <dbl> & <dbl> & <dbl> & <dbl> & <dbl>\\\\\n",
       "\\hline\n",
       "\t PHARML000001 & 156 & 0 & 2002 & 2019 & 0 & Squamous cell carcinoma     & 0 & 0 & 1951 & ⋯ & 0 & 0 & 0 & 0 & 0 & 0 & 0 & 0 & 19.34262 & 2019\\\\\n",
       "\t PHARML000003 & 190 & 1 & 2013 & 2014 & 1 & Non-squamous cell carcinoma & 1 & 0 & 1946 & ⋯ & 0 & 0 & 0 & 0 & 0 & 1 & 0 & 0 & 22.41903 & 2014\\\\\n",
       "\t PHARML000004 &  74 & 1 & 2020 & 2020 & 1 & Non-squamous cell carcinoma & 2 & 0 & 1944 & ⋯ & 0 & 0 & 0 & 0 & 0 & 1 & 1 & 0 & 26.63880 & 2020\\\\\n",
       "\t PHARML000008 &  52 & 1 & 2020 & 2020 & 0 & Non-squamous cell carcinoma & 3 & 0 & 1937 & ⋯ & 0 & 0 & 0 & 0 & 0 & 0 & 2 & 0 & 18.94848 & 2020\\\\\n",
       "\t PHARML000009 & 392 & 0 & 2021 & 2021 & 2 & Non-squamous cell carcinoma & 4 & 0 & 1966 & ⋯ & 0 & 0 & 0 & 0 & 0 & 0 & 0 & 1 & 21.33351 & 2021\\\\\n",
       "\t PHARML000011 &  39 & 1 & 2017 & 2017 & 1 & Non-squamous cell carcinoma & 3 & 0 & 1943 & ⋯ & 0 & 0 & 0 & 0 & 0 & 0 & 0 & 2 & 16.65117 & 2017\\\\\n",
       "\\end{tabular}\n"
      ],
      "text/markdown": [
       "\n",
       "A tibble: 6 × 25\n",
       "\n",
       "| patientid &lt;chr&gt; | daysto_event &lt;dbl&gt; | event_died &lt;dbl&gt; | diagnosis_nsclc_year &lt;dbl&gt; | diagnosis_ansclc_year &lt;dbl&gt; | ecog &lt;dbl&gt; | histology &lt;chr&gt; | groupstage &lt;dbl&gt; | smokingstatus &lt;dbl&gt; | birthyear &lt;dbl&gt; | ⋯ ⋯ | biomarker_alk &lt;dbl&gt; | biomarker_ros1 &lt;dbl&gt; | biomarker_braf &lt;dbl&gt; | biomarker_egfr &lt;dbl&gt; | biomarker_kras &lt;dbl&gt; | lab_creatinine &lt;dbl&gt; | lab_alanineaminotransferase &lt;dbl&gt; | lab_ldh &lt;dbl&gt; | bmi &lt;dbl&gt; | index_lot1_year &lt;dbl&gt; |\n",
       "|---|---|---|---|---|---|---|---|---|---|---|---|---|---|---|---|---|---|---|---|---|\n",
       "| PHARML000001 | 156 | 0 | 2002 | 2019 | 0 | Squamous cell carcinoma     | 0 | 0 | 1951 | ⋯ | 0 | 0 | 0 | 0 | 0 | 0 | 0 | 0 | 19.34262 | 2019 |\n",
       "| PHARML000003 | 190 | 1 | 2013 | 2014 | 1 | Non-squamous cell carcinoma | 1 | 0 | 1946 | ⋯ | 0 | 0 | 0 | 0 | 0 | 1 | 0 | 0 | 22.41903 | 2014 |\n",
       "| PHARML000004 |  74 | 1 | 2020 | 2020 | 1 | Non-squamous cell carcinoma | 2 | 0 | 1944 | ⋯ | 0 | 0 | 0 | 0 | 0 | 1 | 1 | 0 | 26.63880 | 2020 |\n",
       "| PHARML000008 |  52 | 1 | 2020 | 2020 | 0 | Non-squamous cell carcinoma | 3 | 0 | 1937 | ⋯ | 0 | 0 | 0 | 0 | 0 | 0 | 2 | 0 | 18.94848 | 2020 |\n",
       "| PHARML000009 | 392 | 0 | 2021 | 2021 | 2 | Non-squamous cell carcinoma | 4 | 0 | 1966 | ⋯ | 0 | 0 | 0 | 0 | 0 | 0 | 0 | 1 | 21.33351 | 2021 |\n",
       "| PHARML000011 |  39 | 1 | 2017 | 2017 | 1 | Non-squamous cell carcinoma | 3 | 0 | 1943 | ⋯ | 0 | 0 | 0 | 0 | 0 | 0 | 0 | 2 | 16.65117 | 2017 |\n",
       "\n"
      ],
      "text/plain": [
       "  patientid    daysto_event event_died diagnosis_nsclc_year\n",
       "1 PHARML000001 156          0          2002                \n",
       "2 PHARML000003 190          1          2013                \n",
       "3 PHARML000004  74          1          2020                \n",
       "4 PHARML000008  52          1          2020                \n",
       "5 PHARML000009 392          0          2021                \n",
       "6 PHARML000011  39          1          2017                \n",
       "  diagnosis_ansclc_year ecog histology                   groupstage\n",
       "1 2019                  0    Squamous cell carcinoma     0         \n",
       "2 2014                  1    Non-squamous cell carcinoma 1         \n",
       "3 2020                  1    Non-squamous cell carcinoma 2         \n",
       "4 2020                  0    Non-squamous cell carcinoma 3         \n",
       "5 2021                  2    Non-squamous cell carcinoma 4         \n",
       "6 2017                  1    Non-squamous cell carcinoma 3         \n",
       "  smokingstatus birthyear ⋯ biomarker_alk biomarker_ros1 biomarker_braf\n",
       "1 0             1951      ⋯ 0             0              0             \n",
       "2 0             1946      ⋯ 0             0              0             \n",
       "3 0             1944      ⋯ 0             0              0             \n",
       "4 0             1937      ⋯ 0             0              0             \n",
       "5 0             1966      ⋯ 0             0              0             \n",
       "6 0             1943      ⋯ 0             0              0             \n",
       "  biomarker_egfr biomarker_kras lab_creatinine lab_alanineaminotransferase\n",
       "1 0              0              0              0                          \n",
       "2 0              0              1              0                          \n",
       "3 0              0              1              1                          \n",
       "4 0              0              0              2                          \n",
       "5 0              0              0              0                          \n",
       "6 0              0              0              0                          \n",
       "  lab_ldh bmi      index_lot1_year\n",
       "1 0       19.34262 2019           \n",
       "2 0       22.41903 2014           \n",
       "3 0       26.63880 2020           \n",
       "4 0       18.94848 2020           \n",
       "5 1       21.33351 2021           \n",
       "6 2       16.65117 2017           "
      ]
     },
     "metadata": {},
     "output_type": "display_data"
    }
   ],
   "source": [
    "head(flatiron_train1)"
   ]
  },
  {
   "cell_type": "code",
   "execution_count": 17,
   "id": "4ce87ca0-5d4e-42ed-9b67-6ae09a8e3312",
   "metadata": {},
   "outputs": [
    {
     "data": {
      "text/html": [
       "<table class=\"dataframe\">\n",
       "<caption>A tibble: 6 × 29</caption>\n",
       "<thead>\n",
       "\t<tr><th scope=col>patientid</th><th scope=col>daysto_event</th><th scope=col>event_died</th><th scope=col>diagnosis_nsclc_year</th><th scope=col>diagnosis_ansclc_year</th><th scope=col>ecog</th><th scope=col>histology</th><th scope=col>groupstage</th><th scope=col>smokingstatus</th><th scope=col>birthyear</th><th scope=col>⋯</th><th scope=col>biomarker_kras</th><th scope=col>lab_creatinine</th><th scope=col>lab_alanineaminotransferase</th><th scope=col>lab_ldh</th><th scope=col>bmi</th><th scope=col>index_lot1_year</th><th scope=col>ageAtdiagnosis</th><th scope=col>yrsToprogress</th><th scope=col>TimetoTx</th><th scope=col>TxtoFail</th></tr>\n",
       "\t<tr><th scope=col>&lt;chr&gt;</th><th scope=col>&lt;dbl&gt;</th><th scope=col>&lt;dbl&gt;</th><th scope=col>&lt;dbl&gt;</th><th scope=col>&lt;dbl&gt;</th><th scope=col>&lt;dbl&gt;</th><th scope=col>&lt;chr&gt;</th><th scope=col>&lt;dbl&gt;</th><th scope=col>&lt;dbl&gt;</th><th scope=col>&lt;dbl&gt;</th><th scope=col>⋯</th><th scope=col>&lt;dbl&gt;</th><th scope=col>&lt;dbl&gt;</th><th scope=col>&lt;dbl&gt;</th><th scope=col>&lt;dbl&gt;</th><th scope=col>&lt;dbl&gt;</th><th scope=col>&lt;dbl&gt;</th><th scope=col>&lt;dbl&gt;</th><th scope=col>&lt;dbl&gt;</th><th scope=col>&lt;dbl&gt;</th><th scope=col>&lt;dbl&gt;</th></tr>\n",
       "</thead>\n",
       "<tbody>\n",
       "\t<tr><td>PHARML000001</td><td>156</td><td>0</td><td>2002</td><td>2019</td><td>0</td><td>Squamous cell carcinoma    </td><td>0</td><td>0</td><td>1951</td><td>⋯</td><td>0</td><td>0</td><td>0</td><td>0</td><td>19.34262</td><td>2019</td><td>51</td><td>17</td><td>17</td><td>0</td></tr>\n",
       "\t<tr><td>PHARML000003</td><td>190</td><td>1</td><td>2013</td><td>2014</td><td>1</td><td>Non-squamous cell carcinoma</td><td>1</td><td>0</td><td>1946</td><td>⋯</td><td>0</td><td>1</td><td>0</td><td>0</td><td>22.41903</td><td>2014</td><td>67</td><td> 1</td><td> 1</td><td>0</td></tr>\n",
       "\t<tr><td>PHARML000004</td><td> 74</td><td>1</td><td>2020</td><td>2020</td><td>1</td><td>Non-squamous cell carcinoma</td><td>2</td><td>0</td><td>1944</td><td>⋯</td><td>0</td><td>1</td><td>1</td><td>0</td><td>26.63880</td><td>2020</td><td>76</td><td> 0</td><td> 0</td><td>0</td></tr>\n",
       "\t<tr><td>PHARML000008</td><td> 52</td><td>1</td><td>2020</td><td>2020</td><td>0</td><td>Non-squamous cell carcinoma</td><td>3</td><td>0</td><td>1937</td><td>⋯</td><td>0</td><td>0</td><td>2</td><td>0</td><td>18.94848</td><td>2020</td><td>83</td><td> 0</td><td> 0</td><td>0</td></tr>\n",
       "\t<tr><td>PHARML000009</td><td>392</td><td>0</td><td>2021</td><td>2021</td><td>2</td><td>Non-squamous cell carcinoma</td><td>4</td><td>0</td><td>1966</td><td>⋯</td><td>0</td><td>0</td><td>0</td><td>1</td><td>21.33351</td><td>2021</td><td>55</td><td> 0</td><td> 0</td><td>0</td></tr>\n",
       "\t<tr><td>PHARML000011</td><td> 39</td><td>1</td><td>2017</td><td>2017</td><td>1</td><td>Non-squamous cell carcinoma</td><td>3</td><td>0</td><td>1943</td><td>⋯</td><td>0</td><td>0</td><td>0</td><td>2</td><td>16.65117</td><td>2017</td><td>74</td><td> 0</td><td> 0</td><td>0</td></tr>\n",
       "</tbody>\n",
       "</table>\n"
      ],
      "text/latex": [
       "A tibble: 6 × 29\n",
       "\\begin{tabular}{lllllllllllllllllllll}\n",
       " patientid & daysto\\_event & event\\_died & diagnosis\\_nsclc\\_year & diagnosis\\_ansclc\\_year & ecog & histology & groupstage & smokingstatus & birthyear & ⋯ & biomarker\\_kras & lab\\_creatinine & lab\\_alanineaminotransferase & lab\\_ldh & bmi & index\\_lot1\\_year & ageAtdiagnosis & yrsToprogress & TimetoTx & TxtoFail\\\\\n",
       " <chr> & <dbl> & <dbl> & <dbl> & <dbl> & <dbl> & <chr> & <dbl> & <dbl> & <dbl> & ⋯ & <dbl> & <dbl> & <dbl> & <dbl> & <dbl> & <dbl> & <dbl> & <dbl> & <dbl> & <dbl>\\\\\n",
       "\\hline\n",
       "\t PHARML000001 & 156 & 0 & 2002 & 2019 & 0 & Squamous cell carcinoma     & 0 & 0 & 1951 & ⋯ & 0 & 0 & 0 & 0 & 19.34262 & 2019 & 51 & 17 & 17 & 0\\\\\n",
       "\t PHARML000003 & 190 & 1 & 2013 & 2014 & 1 & Non-squamous cell carcinoma & 1 & 0 & 1946 & ⋯ & 0 & 1 & 0 & 0 & 22.41903 & 2014 & 67 &  1 &  1 & 0\\\\\n",
       "\t PHARML000004 &  74 & 1 & 2020 & 2020 & 1 & Non-squamous cell carcinoma & 2 & 0 & 1944 & ⋯ & 0 & 1 & 1 & 0 & 26.63880 & 2020 & 76 &  0 &  0 & 0\\\\\n",
       "\t PHARML000008 &  52 & 1 & 2020 & 2020 & 0 & Non-squamous cell carcinoma & 3 & 0 & 1937 & ⋯ & 0 & 0 & 2 & 0 & 18.94848 & 2020 & 83 &  0 &  0 & 0\\\\\n",
       "\t PHARML000009 & 392 & 0 & 2021 & 2021 & 2 & Non-squamous cell carcinoma & 4 & 0 & 1966 & ⋯ & 0 & 0 & 0 & 1 & 21.33351 & 2021 & 55 &  0 &  0 & 0\\\\\n",
       "\t PHARML000011 &  39 & 1 & 2017 & 2017 & 1 & Non-squamous cell carcinoma & 3 & 0 & 1943 & ⋯ & 0 & 0 & 0 & 2 & 16.65117 & 2017 & 74 &  0 &  0 & 0\\\\\n",
       "\\end{tabular}\n"
      ],
      "text/markdown": [
       "\n",
       "A tibble: 6 × 29\n",
       "\n",
       "| patientid &lt;chr&gt; | daysto_event &lt;dbl&gt; | event_died &lt;dbl&gt; | diagnosis_nsclc_year &lt;dbl&gt; | diagnosis_ansclc_year &lt;dbl&gt; | ecog &lt;dbl&gt; | histology &lt;chr&gt; | groupstage &lt;dbl&gt; | smokingstatus &lt;dbl&gt; | birthyear &lt;dbl&gt; | ⋯ ⋯ | biomarker_kras &lt;dbl&gt; | lab_creatinine &lt;dbl&gt; | lab_alanineaminotransferase &lt;dbl&gt; | lab_ldh &lt;dbl&gt; | bmi &lt;dbl&gt; | index_lot1_year &lt;dbl&gt; | ageAtdiagnosis &lt;dbl&gt; | yrsToprogress &lt;dbl&gt; | TimetoTx &lt;dbl&gt; | TxtoFail &lt;dbl&gt; |\n",
       "|---|---|---|---|---|---|---|---|---|---|---|---|---|---|---|---|---|---|---|---|---|\n",
       "| PHARML000001 | 156 | 0 | 2002 | 2019 | 0 | Squamous cell carcinoma     | 0 | 0 | 1951 | ⋯ | 0 | 0 | 0 | 0 | 19.34262 | 2019 | 51 | 17 | 17 | 0 |\n",
       "| PHARML000003 | 190 | 1 | 2013 | 2014 | 1 | Non-squamous cell carcinoma | 1 | 0 | 1946 | ⋯ | 0 | 1 | 0 | 0 | 22.41903 | 2014 | 67 |  1 |  1 | 0 |\n",
       "| PHARML000004 |  74 | 1 | 2020 | 2020 | 1 | Non-squamous cell carcinoma | 2 | 0 | 1944 | ⋯ | 0 | 1 | 1 | 0 | 26.63880 | 2020 | 76 |  0 |  0 | 0 |\n",
       "| PHARML000008 |  52 | 1 | 2020 | 2020 | 0 | Non-squamous cell carcinoma | 3 | 0 | 1937 | ⋯ | 0 | 0 | 2 | 0 | 18.94848 | 2020 | 83 |  0 |  0 | 0 |\n",
       "| PHARML000009 | 392 | 0 | 2021 | 2021 | 2 | Non-squamous cell carcinoma | 4 | 0 | 1966 | ⋯ | 0 | 0 | 0 | 1 | 21.33351 | 2021 | 55 |  0 |  0 | 0 |\n",
       "| PHARML000011 |  39 | 1 | 2017 | 2017 | 1 | Non-squamous cell carcinoma | 3 | 0 | 1943 | ⋯ | 0 | 0 | 0 | 2 | 16.65117 | 2017 | 74 |  0 |  0 | 0 |\n",
       "\n"
      ],
      "text/plain": [
       "  patientid    daysto_event event_died diagnosis_nsclc_year\n",
       "1 PHARML000001 156          0          2002                \n",
       "2 PHARML000003 190          1          2013                \n",
       "3 PHARML000004  74          1          2020                \n",
       "4 PHARML000008  52          1          2020                \n",
       "5 PHARML000009 392          0          2021                \n",
       "6 PHARML000011  39          1          2017                \n",
       "  diagnosis_ansclc_year ecog histology                   groupstage\n",
       "1 2019                  0    Squamous cell carcinoma     0         \n",
       "2 2014                  1    Non-squamous cell carcinoma 1         \n",
       "3 2020                  1    Non-squamous cell carcinoma 2         \n",
       "4 2020                  0    Non-squamous cell carcinoma 3         \n",
       "5 2021                  2    Non-squamous cell carcinoma 4         \n",
       "6 2017                  1    Non-squamous cell carcinoma 3         \n",
       "  smokingstatus birthyear ⋯ biomarker_kras lab_creatinine\n",
       "1 0             1951      ⋯ 0              0             \n",
       "2 0             1946      ⋯ 0              1             \n",
       "3 0             1944      ⋯ 0              1             \n",
       "4 0             1937      ⋯ 0              0             \n",
       "5 0             1966      ⋯ 0              0             \n",
       "6 0             1943      ⋯ 0              0             \n",
       "  lab_alanineaminotransferase lab_ldh bmi      index_lot1_year ageAtdiagnosis\n",
       "1 0                           0       19.34262 2019            51            \n",
       "2 0                           0       22.41903 2014            67            \n",
       "3 1                           0       26.63880 2020            76            \n",
       "4 2                           0       18.94848 2020            83            \n",
       "5 0                           1       21.33351 2021            55            \n",
       "6 0                           2       16.65117 2017            74            \n",
       "  yrsToprogress TimetoTx TxtoFail\n",
       "1 17            17       0       \n",
       "2  1             1       0       \n",
       "3  0             0       0       \n",
       "4  0             0       0       \n",
       "5  0             0       0       \n",
       "6  0             0       0       "
      ]
     },
     "metadata": {},
     "output_type": "display_data"
    }
   ],
   "source": [
    "#Mutate in rows for age at diagnosis, time to progress, time to start treatment and treatment to fail\n",
    "flatiron_train2 <- flatiron_train1 %>% mutate(ageAtdiagnosis = diagnosis_nsclc_year - birthyear, \n",
    "    yrsToprogress = diagnosis_ansclc_year - diagnosis_nsclc_year, \n",
    "                                              TimetoTx = index_lot1_year - diagnosis_nsclc_year, \n",
    "                                            TxtoFail = diagnosis_ansclc_year - index_lot1_year)\n",
    "head(flatiron_train2)"
   ]
  },
  {
   "cell_type": "code",
   "execution_count": 18,
   "id": "09eaee3d-abf5-4735-9b26-9b3746ad73e9",
   "metadata": {},
   "outputs": [
    {
     "name": "stdout",
     "output_type": "stream",
     "text": [
      "Rows: 31,329\n",
      "Columns: 29\n",
      "$ patientid                   \u001b[3m\u001b[90m<chr>\u001b[39m\u001b[23m \"PHARML000001\", \"PHARML000003\", \"PHARML000…\n",
      "$ daysto_event                \u001b[3m\u001b[90m<dbl>\u001b[39m\u001b[23m 156, 190, 74, 52, 392, 39, 1302, 181, 761,…\n",
      "$ event_died                  \u001b[3m\u001b[90m<dbl>\u001b[39m\u001b[23m 0, 1, 1, 1, 0, 1, 0, 1, 1, 1, 0, 0, 0, 1, …\n",
      "$ diagnosis_nsclc_year        \u001b[3m\u001b[90m<dbl>\u001b[39m\u001b[23m 2002, 2013, 2020, 2020, 2021, 2017, 2018, …\n",
      "$ diagnosis_ansclc_year       \u001b[3m\u001b[90m<dbl>\u001b[39m\u001b[23m 2019, 2014, 2020, 2020, 2021, 2017, 2018, …\n",
      "$ ecog                        \u001b[3m\u001b[90m<dbl>\u001b[39m\u001b[23m 0, 1, 1, 0, 2, 1, 3, 3, 0, 0, 0, 0, 2, 0, …\n",
      "$ histology                   \u001b[3m\u001b[90m<chr>\u001b[39m\u001b[23m \"Squamous cell carcinoma\", \"Non-squamous c…\n",
      "$ groupstage                  \u001b[3m\u001b[90m<dbl>\u001b[39m\u001b[23m 0, 1, 2, 3, 4, 3, 3, 3, 3, 3, 5, 3, 3, 3, …\n",
      "$ smokingstatus               \u001b[3m\u001b[90m<dbl>\u001b[39m\u001b[23m 0, 0, 0, 0, 0, 0, 1, 0, 0, 0, 0, 0, 1, 0, …\n",
      "$ birthyear                   \u001b[3m\u001b[90m<dbl>\u001b[39m\u001b[23m 1951, 1946, 1944, 1937, 1966, 1943, 1946, …\n",
      "$ gender                      \u001b[3m\u001b[90m<dbl>\u001b[39m\u001b[23m 0, 1, 0, 1, 0, 1, 1, 1, 0, 1, 1, 1, 1, 1, …\n",
      "$ raceethnicity               \u001b[3m\u001b[90m<chr>\u001b[39m\u001b[23m \"Hispanic or Latino (any)\", \"Hispanic or L…\n",
      "$ region                      \u001b[3m\u001b[90m<chr>\u001b[39m\u001b[23m \"South\", \"Midwest\", \"Midwest\", \"Northeast\"…\n",
      "$ lot_category                \u001b[3m\u001b[90m<chr>\u001b[39m\u001b[23m \"Chemotherapy,Chemotherapy,Immunotherapy\",…\n",
      "$ biomarker_pdl1              \u001b[3m\u001b[90m<dbl>\u001b[39m\u001b[23m 0, 0, 0, 0, 0, 0, 0, 0, 0, 0, 0, 0, 0, 0, …\n",
      "$ biomarker_alk               \u001b[3m\u001b[90m<dbl>\u001b[39m\u001b[23m 0, 0, 0, 0, 0, 0, 0, 0, 0, 0, 0, 0, 0, 0, …\n",
      "$ biomarker_ros1              \u001b[3m\u001b[90m<dbl>\u001b[39m\u001b[23m 0, 0, 0, 0, 0, 0, 0, 0, 0, 0, 0, 0, 0, 0, …\n",
      "$ biomarker_braf              \u001b[3m\u001b[90m<dbl>\u001b[39m\u001b[23m 0, 0, 0, 0, 0, 0, 0, 0, 0, 0, 0, 0, 0, 0, …\n",
      "$ biomarker_egfr              \u001b[3m\u001b[90m<dbl>\u001b[39m\u001b[23m 0, 0, 0, 0, 0, 0, 0, 0, 0, 0, 0, 0, 0, 0, …\n",
      "$ biomarker_kras              \u001b[3m\u001b[90m<dbl>\u001b[39m\u001b[23m 0, 0, 0, 0, 0, 0, 0, 0, 0, 0, 0, 0, 0, 0, …\n",
      "$ lab_creatinine              \u001b[3m\u001b[90m<dbl>\u001b[39m\u001b[23m 0, 1, 1, 0, 0, 0, 1, 1, 1, 2, 1, 1, 1, 0, …\n",
      "$ lab_alanineaminotransferase \u001b[3m\u001b[90m<dbl>\u001b[39m\u001b[23m 0, 0, 1, 2, 0, 0, 1, 1, 1, 0, 1, 1, 1, 1, …\n",
      "$ lab_ldh                     \u001b[3m\u001b[90m<dbl>\u001b[39m\u001b[23m 0, 0, 0, 0, 1, 2, 0, 0, 0, 2, 0, 0, 0, 0, …\n",
      "$ bmi                         \u001b[3m\u001b[90m<dbl>\u001b[39m\u001b[23m 19.34262, 22.41903, 26.63880, 18.94848, 21…\n",
      "$ index_lot1_year             \u001b[3m\u001b[90m<dbl>\u001b[39m\u001b[23m 2019, 2014, 2020, 2020, 2021, 2017, 2018, …\n",
      "$ ageAtdiagnosis              \u001b[3m\u001b[90m<dbl>\u001b[39m\u001b[23m 51, 67, 76, 83, 55, 74, 72, 78, 75, 57, 80…\n",
      "$ yrsToprogress               \u001b[3m\u001b[90m<dbl>\u001b[39m\u001b[23m 17, 1, 0, 0, 0, 0, 0, 0, 0, 0, 1, 0, 0, 0,…\n",
      "$ TimetoTx                    \u001b[3m\u001b[90m<dbl>\u001b[39m\u001b[23m 17, 1, 0, 0, 0, 0, 0, 0, 0, 0, 1, 1, 0, 0,…\n",
      "$ TxtoFail                    \u001b[3m\u001b[90m<dbl>\u001b[39m\u001b[23m 0, 0, 0, 0, 0, 0, 0, 0, 0, 0, 0, -1, 0, 0,…\n"
     ]
    }
   ],
   "source": [
    "glimpse(flatiron_train2)"
   ]
  },
  {
   "cell_type": "code",
   "execution_count": 19,
   "id": "6b73fd68-4c07-46f5-97cd-b163a36d1d5c",
   "metadata": {},
   "outputs": [
    {
     "data": {
      "text/html": [
       "<table class=\"dataframe\">\n",
       "<caption>A tibble: 6 × 29</caption>\n",
       "<thead>\n",
       "\t<tr><th scope=col>patientid</th><th scope=col>daysto_event</th><th scope=col>event_died</th><th scope=col>diagnosis_nsclc_year</th><th scope=col>diagnosis_ansclc_year</th><th scope=col>ecog</th><th scope=col>histology</th><th scope=col>groupstage</th><th scope=col>smokingstatus</th><th scope=col>birthyear</th><th scope=col>⋯</th><th scope=col>biomarker_kras</th><th scope=col>lab_creatinine</th><th scope=col>lab_alanineaminotransferase</th><th scope=col>lab_ldh</th><th scope=col>bmi</th><th scope=col>index_lot1_year</th><th scope=col>ageAtdiagnosis</th><th scope=col>yrsToprogress</th><th scope=col>TimetoTx</th><th scope=col>TxtoFail</th></tr>\n",
       "\t<tr><th scope=col>&lt;chr&gt;</th><th scope=col>&lt;dbl&gt;</th><th scope=col>&lt;dbl&gt;</th><th scope=col>&lt;dbl&gt;</th><th scope=col>&lt;dbl&gt;</th><th scope=col>&lt;dbl&gt;</th><th scope=col>&lt;chr&gt;</th><th scope=col>&lt;dbl&gt;</th><th scope=col>&lt;dbl&gt;</th><th scope=col>&lt;dbl&gt;</th><th scope=col>⋯</th><th scope=col>&lt;dbl&gt;</th><th scope=col>&lt;dbl&gt;</th><th scope=col>&lt;dbl&gt;</th><th scope=col>&lt;dbl&gt;</th><th scope=col>&lt;dbl&gt;</th><th scope=col>&lt;dbl&gt;</th><th scope=col>&lt;dbl&gt;</th><th scope=col>&lt;dbl&gt;</th><th scope=col>&lt;dbl&gt;</th><th scope=col>&lt;dbl&gt;</th></tr>\n",
       "</thead>\n",
       "<tbody>\n",
       "\t<tr><td>PHARML000001</td><td>156</td><td>0</td><td>2002</td><td>2019</td><td>0</td><td>Squamous cell carcinoma    </td><td>0</td><td>0</td><td>1951</td><td>⋯</td><td>0</td><td>0</td><td>0</td><td>0</td><td>19.34262</td><td>2019</td><td>51</td><td>17</td><td>17</td><td>0</td></tr>\n",
       "\t<tr><td>PHARML000003</td><td>190</td><td>1</td><td>2013</td><td>2014</td><td>1</td><td>Non-squamous cell carcinoma</td><td>1</td><td>0</td><td>1946</td><td>⋯</td><td>0</td><td>1</td><td>0</td><td>0</td><td>22.41903</td><td>2014</td><td>67</td><td> 1</td><td> 1</td><td>0</td></tr>\n",
       "\t<tr><td>PHARML000004</td><td> 74</td><td>1</td><td>2020</td><td>2020</td><td>1</td><td>Non-squamous cell carcinoma</td><td>2</td><td>0</td><td>1944</td><td>⋯</td><td>0</td><td>1</td><td>1</td><td>0</td><td>26.63880</td><td>2020</td><td>76</td><td> 0</td><td> 0</td><td>0</td></tr>\n",
       "\t<tr><td>PHARML000008</td><td> 52</td><td>1</td><td>2020</td><td>2020</td><td>0</td><td>Non-squamous cell carcinoma</td><td>3</td><td>0</td><td>1937</td><td>⋯</td><td>0</td><td>0</td><td>2</td><td>0</td><td>18.94848</td><td>2020</td><td>83</td><td> 0</td><td> 0</td><td>0</td></tr>\n",
       "\t<tr><td>PHARML000009</td><td>392</td><td>0</td><td>2021</td><td>2021</td><td>2</td><td>Non-squamous cell carcinoma</td><td>4</td><td>0</td><td>1966</td><td>⋯</td><td>0</td><td>0</td><td>0</td><td>1</td><td>21.33351</td><td>2021</td><td>55</td><td> 0</td><td> 0</td><td>0</td></tr>\n",
       "\t<tr><td>PHARML000011</td><td> 39</td><td>1</td><td>2017</td><td>2017</td><td>1</td><td>Non-squamous cell carcinoma</td><td>3</td><td>0</td><td>1943</td><td>⋯</td><td>0</td><td>0</td><td>0</td><td>2</td><td>16.65117</td><td>2017</td><td>74</td><td> 0</td><td> 0</td><td>0</td></tr>\n",
       "</tbody>\n",
       "</table>\n"
      ],
      "text/latex": [
       "A tibble: 6 × 29\n",
       "\\begin{tabular}{lllllllllllllllllllll}\n",
       " patientid & daysto\\_event & event\\_died & diagnosis\\_nsclc\\_year & diagnosis\\_ansclc\\_year & ecog & histology & groupstage & smokingstatus & birthyear & ⋯ & biomarker\\_kras & lab\\_creatinine & lab\\_alanineaminotransferase & lab\\_ldh & bmi & index\\_lot1\\_year & ageAtdiagnosis & yrsToprogress & TimetoTx & TxtoFail\\\\\n",
       " <chr> & <dbl> & <dbl> & <dbl> & <dbl> & <dbl> & <chr> & <dbl> & <dbl> & <dbl> & ⋯ & <dbl> & <dbl> & <dbl> & <dbl> & <dbl> & <dbl> & <dbl> & <dbl> & <dbl> & <dbl>\\\\\n",
       "\\hline\n",
       "\t PHARML000001 & 156 & 0 & 2002 & 2019 & 0 & Squamous cell carcinoma     & 0 & 0 & 1951 & ⋯ & 0 & 0 & 0 & 0 & 19.34262 & 2019 & 51 & 17 & 17 & 0\\\\\n",
       "\t PHARML000003 & 190 & 1 & 2013 & 2014 & 1 & Non-squamous cell carcinoma & 1 & 0 & 1946 & ⋯ & 0 & 1 & 0 & 0 & 22.41903 & 2014 & 67 &  1 &  1 & 0\\\\\n",
       "\t PHARML000004 &  74 & 1 & 2020 & 2020 & 1 & Non-squamous cell carcinoma & 2 & 0 & 1944 & ⋯ & 0 & 1 & 1 & 0 & 26.63880 & 2020 & 76 &  0 &  0 & 0\\\\\n",
       "\t PHARML000008 &  52 & 1 & 2020 & 2020 & 0 & Non-squamous cell carcinoma & 3 & 0 & 1937 & ⋯ & 0 & 0 & 2 & 0 & 18.94848 & 2020 & 83 &  0 &  0 & 0\\\\\n",
       "\t PHARML000009 & 392 & 0 & 2021 & 2021 & 2 & Non-squamous cell carcinoma & 4 & 0 & 1966 & ⋯ & 0 & 0 & 0 & 1 & 21.33351 & 2021 & 55 &  0 &  0 & 0\\\\\n",
       "\t PHARML000011 &  39 & 1 & 2017 & 2017 & 1 & Non-squamous cell carcinoma & 3 & 0 & 1943 & ⋯ & 0 & 0 & 0 & 2 & 16.65117 & 2017 & 74 &  0 &  0 & 0\\\\\n",
       "\\end{tabular}\n"
      ],
      "text/markdown": [
       "\n",
       "A tibble: 6 × 29\n",
       "\n",
       "| patientid &lt;chr&gt; | daysto_event &lt;dbl&gt; | event_died &lt;dbl&gt; | diagnosis_nsclc_year &lt;dbl&gt; | diagnosis_ansclc_year &lt;dbl&gt; | ecog &lt;dbl&gt; | histology &lt;chr&gt; | groupstage &lt;dbl&gt; | smokingstatus &lt;dbl&gt; | birthyear &lt;dbl&gt; | ⋯ ⋯ | biomarker_kras &lt;dbl&gt; | lab_creatinine &lt;dbl&gt; | lab_alanineaminotransferase &lt;dbl&gt; | lab_ldh &lt;dbl&gt; | bmi &lt;dbl&gt; | index_lot1_year &lt;dbl&gt; | ageAtdiagnosis &lt;dbl&gt; | yrsToprogress &lt;dbl&gt; | TimetoTx &lt;dbl&gt; | TxtoFail &lt;dbl&gt; |\n",
       "|---|---|---|---|---|---|---|---|---|---|---|---|---|---|---|---|---|---|---|---|---|\n",
       "| PHARML000001 | 156 | 0 | 2002 | 2019 | 0 | Squamous cell carcinoma     | 0 | 0 | 1951 | ⋯ | 0 | 0 | 0 | 0 | 19.34262 | 2019 | 51 | 17 | 17 | 0 |\n",
       "| PHARML000003 | 190 | 1 | 2013 | 2014 | 1 | Non-squamous cell carcinoma | 1 | 0 | 1946 | ⋯ | 0 | 1 | 0 | 0 | 22.41903 | 2014 | 67 |  1 |  1 | 0 |\n",
       "| PHARML000004 |  74 | 1 | 2020 | 2020 | 1 | Non-squamous cell carcinoma | 2 | 0 | 1944 | ⋯ | 0 | 1 | 1 | 0 | 26.63880 | 2020 | 76 |  0 |  0 | 0 |\n",
       "| PHARML000008 |  52 | 1 | 2020 | 2020 | 0 | Non-squamous cell carcinoma | 3 | 0 | 1937 | ⋯ | 0 | 0 | 2 | 0 | 18.94848 | 2020 | 83 |  0 |  0 | 0 |\n",
       "| PHARML000009 | 392 | 0 | 2021 | 2021 | 2 | Non-squamous cell carcinoma | 4 | 0 | 1966 | ⋯ | 0 | 0 | 0 | 1 | 21.33351 | 2021 | 55 |  0 |  0 | 0 |\n",
       "| PHARML000011 |  39 | 1 | 2017 | 2017 | 1 | Non-squamous cell carcinoma | 3 | 0 | 1943 | ⋯ | 0 | 0 | 0 | 2 | 16.65117 | 2017 | 74 |  0 |  0 | 0 |\n",
       "\n"
      ],
      "text/plain": [
       "  patientid    daysto_event event_died diagnosis_nsclc_year\n",
       "1 PHARML000001 156          0          2002                \n",
       "2 PHARML000003 190          1          2013                \n",
       "3 PHARML000004  74          1          2020                \n",
       "4 PHARML000008  52          1          2020                \n",
       "5 PHARML000009 392          0          2021                \n",
       "6 PHARML000011  39          1          2017                \n",
       "  diagnosis_ansclc_year ecog histology                   groupstage\n",
       "1 2019                  0    Squamous cell carcinoma     0         \n",
       "2 2014                  1    Non-squamous cell carcinoma 1         \n",
       "3 2020                  1    Non-squamous cell carcinoma 2         \n",
       "4 2020                  0    Non-squamous cell carcinoma 3         \n",
       "5 2021                  2    Non-squamous cell carcinoma 4         \n",
       "6 2017                  1    Non-squamous cell carcinoma 3         \n",
       "  smokingstatus birthyear ⋯ biomarker_kras lab_creatinine\n",
       "1 0             1951      ⋯ 0              0             \n",
       "2 0             1946      ⋯ 0              1             \n",
       "3 0             1944      ⋯ 0              1             \n",
       "4 0             1937      ⋯ 0              0             \n",
       "5 0             1966      ⋯ 0              0             \n",
       "6 0             1943      ⋯ 0              0             \n",
       "  lab_alanineaminotransferase lab_ldh bmi      index_lot1_year ageAtdiagnosis\n",
       "1 0                           0       19.34262 2019            51            \n",
       "2 0                           0       22.41903 2014            67            \n",
       "3 1                           0       26.63880 2020            76            \n",
       "4 2                           0       18.94848 2020            83            \n",
       "5 0                           1       21.33351 2021            55            \n",
       "6 0                           2       16.65117 2017            74            \n",
       "  yrsToprogress TimetoTx TxtoFail\n",
       "1 17            17       0       \n",
       "2  1             1       0       \n",
       "3  0             0       0       \n",
       "4  0             0       0       \n",
       "5  0             0       0       \n",
       "6  0             0       0       "
      ]
     },
     "metadata": {},
     "output_type": "display_data"
    }
   ],
   "source": [
    "#One hot encode the following features - histology, raceethnicity, region, lotcategory\n",
    "flatiron_train3 <- flatiron_train2 %>% \n",
    "                        mutate(squam_cells = ifelse(histology == \"Squamous cell carcinoma\", 1, 0), \n",
    "                        non_squamCells = ifelse(histology == \"Non-squamous cell carcinoma\", 1, 0), \n",
    "                        NSCLC = ifelse(histology == \"NSCLC histology NOS\", 1, 0), \n",
    "                        Hisp_Latino = ifelse(raceethnicity == \"Hispanic or Latino (any)\", 1, 0), \n",
    "                        White = ifelse(raceethnicity == \"Non-Hispanic White\", 1, 0), \n",
    "                        Black = ifelse(raceethnicity == \"Non-Hispanic Black\", 1, 0), \n",
    "                        Asian = ifelse(raceethnicity == \"Non-Hispanic Asian\", 1, 0), \n",
    "                        Other_Race = ifelse(raceethnicity == \"Other Race\", 1, 0),\n",
    "                        Midwest = ifelse(region == \"Midwest\", 1, 0),\n",
    "                        Northeast = ifelse(region == \"Northeast\", 1, 0),\n",
    "                        South = ifelse(region == \"South\", 1, 0),\n",
    "                        West = ifelse(region == \"West\", 1, 0),\n",
    "                        Other = ifelse(region == \"0\", 1, 0),\n",
    "                        Chemotherapy = ifelse(lot_category == \"Chemotherapy\", 1, 0),\n",
    "                        Immunotherapy = ifelse(lot_category == \"Immunotherapy\", 1, 0),\n",
    "                        TargBiologic = ifelse(lot_category == \"Targeted/Biologic\", 1, 0),\n",
    "                        TargNonBiologic = ifelse(lot_category == \"Targeted/Non-Biologic\", 1, 0),\n",
    "                        Hormone = ifelse(lot_category == \"Hormone\", 1, 0),\n",
    "                        AntibodyConj = ifelse(lot_category == \"Antibody-Conjugate\", 1, 0),\n",
    "                        Cytoprotective = ifelse(lot_category == \"Cytoprotective\", 1, 0))\n",
    "                               \n",
    "head(flatiron_train2)"
   ]
  },
  {
   "cell_type": "code",
   "execution_count": 20,
   "id": "a9a40dff-2a45-41ad-80c9-f47d96006f73",
   "metadata": {},
   "outputs": [
    {
     "name": "stdout",
     "output_type": "stream",
     "text": [
      "Rows: 31,329\n",
      "Columns: 49\n",
      "$ patientid                   \u001b[3m\u001b[90m<chr>\u001b[39m\u001b[23m \"PHARML000001\", \"PHARML000003\", \"PHARML000…\n",
      "$ daysto_event                \u001b[3m\u001b[90m<dbl>\u001b[39m\u001b[23m 156, 190, 74, 52, 392, 39, 1302, 181, 761,…\n",
      "$ event_died                  \u001b[3m\u001b[90m<dbl>\u001b[39m\u001b[23m 0, 1, 1, 1, 0, 1, 0, 1, 1, 1, 0, 0, 0, 1, …\n",
      "$ diagnosis_nsclc_year        \u001b[3m\u001b[90m<dbl>\u001b[39m\u001b[23m 2002, 2013, 2020, 2020, 2021, 2017, 2018, …\n",
      "$ diagnosis_ansclc_year       \u001b[3m\u001b[90m<dbl>\u001b[39m\u001b[23m 2019, 2014, 2020, 2020, 2021, 2017, 2018, …\n",
      "$ ecog                        \u001b[3m\u001b[90m<dbl>\u001b[39m\u001b[23m 0, 1, 1, 0, 2, 1, 3, 3, 0, 0, 0, 0, 2, 0, …\n",
      "$ histology                   \u001b[3m\u001b[90m<chr>\u001b[39m\u001b[23m \"Squamous cell carcinoma\", \"Non-squamous c…\n",
      "$ groupstage                  \u001b[3m\u001b[90m<dbl>\u001b[39m\u001b[23m 0, 1, 2, 3, 4, 3, 3, 3, 3, 3, 5, 3, 3, 3, …\n",
      "$ smokingstatus               \u001b[3m\u001b[90m<dbl>\u001b[39m\u001b[23m 0, 0, 0, 0, 0, 0, 1, 0, 0, 0, 0, 0, 1, 0, …\n",
      "$ birthyear                   \u001b[3m\u001b[90m<dbl>\u001b[39m\u001b[23m 1951, 1946, 1944, 1937, 1966, 1943, 1946, …\n",
      "$ gender                      \u001b[3m\u001b[90m<dbl>\u001b[39m\u001b[23m 0, 1, 0, 1, 0, 1, 1, 1, 0, 1, 1, 1, 1, 1, …\n",
      "$ raceethnicity               \u001b[3m\u001b[90m<chr>\u001b[39m\u001b[23m \"Hispanic or Latino (any)\", \"Hispanic or L…\n",
      "$ region                      \u001b[3m\u001b[90m<chr>\u001b[39m\u001b[23m \"South\", \"Midwest\", \"Midwest\", \"Northeast\"…\n",
      "$ lot_category                \u001b[3m\u001b[90m<chr>\u001b[39m\u001b[23m \"Chemotherapy,Chemotherapy,Immunotherapy\",…\n",
      "$ biomarker_pdl1              \u001b[3m\u001b[90m<dbl>\u001b[39m\u001b[23m 0, 0, 0, 0, 0, 0, 0, 0, 0, 0, 0, 0, 0, 0, …\n",
      "$ biomarker_alk               \u001b[3m\u001b[90m<dbl>\u001b[39m\u001b[23m 0, 0, 0, 0, 0, 0, 0, 0, 0, 0, 0, 0, 0, 0, …\n",
      "$ biomarker_ros1              \u001b[3m\u001b[90m<dbl>\u001b[39m\u001b[23m 0, 0, 0, 0, 0, 0, 0, 0, 0, 0, 0, 0, 0, 0, …\n",
      "$ biomarker_braf              \u001b[3m\u001b[90m<dbl>\u001b[39m\u001b[23m 0, 0, 0, 0, 0, 0, 0, 0, 0, 0, 0, 0, 0, 0, …\n",
      "$ biomarker_egfr              \u001b[3m\u001b[90m<dbl>\u001b[39m\u001b[23m 0, 0, 0, 0, 0, 0, 0, 0, 0, 0, 0, 0, 0, 0, …\n",
      "$ biomarker_kras              \u001b[3m\u001b[90m<dbl>\u001b[39m\u001b[23m 0, 0, 0, 0, 0, 0, 0, 0, 0, 0, 0, 0, 0, 0, …\n",
      "$ lab_creatinine              \u001b[3m\u001b[90m<dbl>\u001b[39m\u001b[23m 0, 1, 1, 0, 0, 0, 1, 1, 1, 2, 1, 1, 1, 0, …\n",
      "$ lab_alanineaminotransferase \u001b[3m\u001b[90m<dbl>\u001b[39m\u001b[23m 0, 0, 1, 2, 0, 0, 1, 1, 1, 0, 1, 1, 1, 1, …\n",
      "$ lab_ldh                     \u001b[3m\u001b[90m<dbl>\u001b[39m\u001b[23m 0, 0, 0, 0, 1, 2, 0, 0, 0, 2, 0, 0, 0, 0, …\n",
      "$ bmi                         \u001b[3m\u001b[90m<dbl>\u001b[39m\u001b[23m 19.34262, 22.41903, 26.63880, 18.94848, 21…\n",
      "$ index_lot1_year             \u001b[3m\u001b[90m<dbl>\u001b[39m\u001b[23m 2019, 2014, 2020, 2020, 2021, 2017, 2018, …\n",
      "$ ageAtdiagnosis              \u001b[3m\u001b[90m<dbl>\u001b[39m\u001b[23m 51, 67, 76, 83, 55, 74, 72, 78, 75, 57, 80…\n",
      "$ yrsToprogress               \u001b[3m\u001b[90m<dbl>\u001b[39m\u001b[23m 17, 1, 0, 0, 0, 0, 0, 0, 0, 0, 1, 0, 0, 0,…\n",
      "$ TimetoTx                    \u001b[3m\u001b[90m<dbl>\u001b[39m\u001b[23m 17, 1, 0, 0, 0, 0, 0, 0, 0, 0, 1, 1, 0, 0,…\n",
      "$ TxtoFail                    \u001b[3m\u001b[90m<dbl>\u001b[39m\u001b[23m 0, 0, 0, 0, 0, 0, 0, 0, 0, 0, 0, -1, 0, 0,…\n",
      "$ squam_cells                 \u001b[3m\u001b[90m<dbl>\u001b[39m\u001b[23m 1, 0, 0, 0, 0, 0, 0, 0, 0, 1, 1, 0, 0, 0, …\n",
      "$ non_squamCells              \u001b[3m\u001b[90m<dbl>\u001b[39m\u001b[23m 0, 1, 1, 1, 1, 1, 1, 1, 1, 0, 0, 1, 1, 1, …\n",
      "$ NSCLC                       \u001b[3m\u001b[90m<dbl>\u001b[39m\u001b[23m 0, 0, 0, 0, 0, 0, 0, 0, 0, 0, 0, 0, 0, 0, …\n",
      "$ Hisp_Latino                 \u001b[3m\u001b[90m<dbl>\u001b[39m\u001b[23m 1, 1, 1, 1, 0, 1, 1, 1, 1, 1, 1, 1, 0, 1, …\n",
      "$ White                       \u001b[3m\u001b[90m<dbl>\u001b[39m\u001b[23m 0, 0, 0, 0, 1, 0, 0, 0, 0, 0, 0, 0, 1, 0, …\n",
      "$ Black                       \u001b[3m\u001b[90m<dbl>\u001b[39m\u001b[23m 0, 0, 0, 0, 0, 0, 0, 0, 0, 0, 0, 0, 0, 0, …\n",
      "$ Asian                       \u001b[3m\u001b[90m<dbl>\u001b[39m\u001b[23m 0, 0, 0, 0, 0, 0, 0, 0, 0, 0, 0, 0, 0, 0, …\n",
      "$ Other_Race                  \u001b[3m\u001b[90m<dbl>\u001b[39m\u001b[23m 0, 0, 0, 0, 0, 0, 0, 0, 0, 0, 0, 0, 0, 0, …\n",
      "$ Midwest                     \u001b[3m\u001b[90m<dbl>\u001b[39m\u001b[23m 0, 1, 1, 0, 0, 0, 0, 0, 0, 0, 0, 0, 0, 0, …\n",
      "$ Northeast                   \u001b[3m\u001b[90m<dbl>\u001b[39m\u001b[23m 0, 0, 0, 1, 1, 0, 0, 0, 1, 0, 0, 0, 0, 0, …\n",
      "$ South                       \u001b[3m\u001b[90m<dbl>\u001b[39m\u001b[23m 1, 0, 0, 0, 0, 0, 1, 1, 0, 1, 1, 1, 1, 0, …\n",
      "$ West                        \u001b[3m\u001b[90m<dbl>\u001b[39m\u001b[23m 0, 0, 0, 0, 0, 1, 0, 0, 0, 0, 0, 0, 0, 1, …\n",
      "$ Other                       \u001b[3m\u001b[90m<dbl>\u001b[39m\u001b[23m 0, 0, 0, 0, 0, 0, 0, 0, 0, 0, 0, 0, 0, 0, …\n",
      "$ Chemotherapy                \u001b[3m\u001b[90m<dbl>\u001b[39m\u001b[23m 0, 1, 0, 0, 0, 0, 0, 0, 0, 0, 0, 0, 0, 0, …\n",
      "$ Immunotherapy               \u001b[3m\u001b[90m<dbl>\u001b[39m\u001b[23m 0, 0, 0, 1, 0, 1, 0, 0, 0, 0, 1, 0, 0, 0, …\n",
      "$ TargBiologic                \u001b[3m\u001b[90m<dbl>\u001b[39m\u001b[23m 0, 0, 0, 0, 0, 0, 0, 0, 0, 0, 0, 0, 0, 0, …\n",
      "$ TargNonBiologic             \u001b[3m\u001b[90m<dbl>\u001b[39m\u001b[23m 0, 0, 0, 0, 0, 0, 0, 0, 0, 0, 0, 0, 0, 0, …\n",
      "$ Hormone                     \u001b[3m\u001b[90m<dbl>\u001b[39m\u001b[23m 0, 0, 0, 0, 0, 0, 0, 0, 0, 0, 0, 0, 0, 0, …\n",
      "$ AntibodyConj                \u001b[3m\u001b[90m<dbl>\u001b[39m\u001b[23m 0, 0, 0, 0, 0, 0, 0, 0, 0, 0, 0, 0, 0, 0, …\n",
      "$ Cytoprotective              \u001b[3m\u001b[90m<dbl>\u001b[39m\u001b[23m 0, 0, 0, 0, 0, 0, 0, 0, 0, 0, 0, 0, 0, 0, …\n"
     ]
    }
   ],
   "source": [
    "glimpse(flatiron_train3)"
   ]
  },
  {
   "cell_type": "code",
   "execution_count": 21,
   "id": "e062bb92-d42d-4f09-99b7-6d906d62a226",
   "metadata": {},
   "outputs": [
    {
     "data": {
      "text/plain": [
       "  patientid          daysto_event      event_died     diagnosis_nsclc_year\n",
       " Length:31329       Min.   :   1.0   Min.   :0.0000   Min.   :1990        \n",
       " Class :character   1st Qu.: 112.0   1st Qu.:0.0000   1st Qu.:2014        \n",
       " Mode  :character   Median : 280.0   Median :1.0000   Median :2016        \n",
       "                    Mean   : 484.2   Mean   :0.7273   Mean   :2016        \n",
       "                    3rd Qu.: 639.0   3rd Qu.:1.0000   3rd Qu.:2019        \n",
       "                    Max.   :3948.0   Max.   :1.0000   Max.   :2022        \n",
       "                                                                          \n",
       " diagnosis_ansclc_year      ecog        histology           groupstage   \n",
       " Min.   :2011          Min.   :0.000   Length:31329       Min.   : 0.00  \n",
       " 1st Qu.:2014          1st Qu.:0.000   Class :character   1st Qu.: 3.00  \n",
       " Median :2017          Median :1.000   Mode  :character   Median : 3.00  \n",
       " Mean   :2016          Mean   :1.249                      Mean   : 4.11  \n",
       " 3rd Qu.:2019          3rd Qu.:2.000                      3rd Qu.: 4.00  \n",
       " Max.   :2022          Max.   :5.000                      Max.   :18.00  \n",
       "                                                                         \n",
       " smokingstatus      birthyear        gender       raceethnicity     \n",
       " Min.   :0.0000   Min.   :1937   Min.   :0.0000   Length:31329      \n",
       " 1st Qu.:0.0000   1st Qu.:1941   1st Qu.:0.0000   Class :character  \n",
       " Median :0.0000   Median :1947   Median :0.0000   Mode  :character  \n",
       " Mean   :0.1379   Mean   :1949   Mean   :0.4702                     \n",
       " 3rd Qu.:0.0000   3rd Qu.:1955   3rd Qu.:1.0000                     \n",
       " Max.   :2.0000   Max.   :2002   Max.   :2.0000                     \n",
       "                                                                    \n",
       "    region          lot_category       biomarker_pdl1    biomarker_alk    \n",
       " Length:31329       Length:31329       Min.   :0.00000   Min.   :0.00000  \n",
       " Class :character   Class :character   1st Qu.:0.00000   1st Qu.:0.00000  \n",
       " Mode  :character   Mode  :character   Median :0.00000   Median :0.00000  \n",
       "                                       Mean   :0.01468   Mean   :0.01803  \n",
       "                                       3rd Qu.:0.00000   3rd Qu.:0.00000  \n",
       "                                       Max.   :2.00000   Max.   :2.00000  \n",
       "                                                                          \n",
       " biomarker_ros1    biomarker_braf    biomarker_egfr    biomarker_kras   \n",
       " Min.   :0.00000   Min.   :0.00000   Min.   :0.00000   Min.   :0.00000  \n",
       " 1st Qu.:0.00000   1st Qu.:0.00000   1st Qu.:0.00000   1st Qu.:0.00000  \n",
       " Median :0.00000   Median :0.00000   Median :0.00000   Median :0.00000  \n",
       " Mean   :0.01373   Mean   :0.01104   Mean   :0.02129   Mean   :0.01446  \n",
       " 3rd Qu.:0.00000   3rd Qu.:0.00000   3rd Qu.:0.00000   3rd Qu.:0.00000  \n",
       " Max.   :2.00000   Max.   :2.00000   Max.   :2.00000   Max.   :2.00000  \n",
       "                                                                        \n",
       " lab_creatinine   lab_alanineaminotransferase    lab_ldh            bmi       \n",
       " Min.   :0.0000   Min.   :0.0000              Min.   :0.0000   Min.   :10.50  \n",
       " 1st Qu.:1.0000   1st Qu.:1.0000              1st Qu.:0.0000   1st Qu.:21.61  \n",
       " Median :1.0000   Median :1.0000              Median :0.0000   Median :25.13  \n",
       " Mean   :0.8516   Mean   :0.8056              Mean   :0.1127   Mean   :25.86  \n",
       " 3rd Qu.:1.0000   3rd Qu.:1.0000              3rd Qu.:0.0000   3rd Qu.:29.11  \n",
       " Max.   :2.0000   Max.   :2.0000              Max.   :2.0000   Max.   :82.13  \n",
       "                                                                              \n",
       " index_lot1_year ageAtdiagnosis  yrsToprogress        TimetoTx      \n",
       " Min.   :2011    Min.   :18.00   Min.   : 0.0000   Min.   : 0.0000  \n",
       " 1st Qu.:2014    1st Qu.:61.00   1st Qu.: 0.0000   1st Qu.: 0.0000  \n",
       " Median :2017    Median :69.00   Median : 0.0000   Median : 0.0000  \n",
       " Mean   :2017    Mean   :67.38   Mean   : 0.4249   Mean   : 0.5188  \n",
       " 3rd Qu.:2019    3rd Qu.:75.00   3rd Qu.: 0.0000   3rd Qu.: 1.0000  \n",
       " Max.   :2022    Max.   :85.00   Max.   :25.0000   Max.   :25.0000  \n",
       "                                                                    \n",
       "    TxtoFail         squam_cells     non_squamCells       NSCLC        \n",
       " Min.   :-1.00000   Min.   :0.0000   Min.   :0.0000   Min.   :0.00000  \n",
       " 1st Qu.: 0.00000   1st Qu.:0.0000   1st Qu.:0.0000   1st Qu.:0.00000  \n",
       " Median : 0.00000   Median :0.0000   Median :1.0000   Median :0.00000  \n",
       " Mean   :-0.09387   Mean   :0.2568   Mean   :0.6968   Mean   :0.04641  \n",
       " 3rd Qu.: 0.00000   3rd Qu.:1.0000   3rd Qu.:1.0000   3rd Qu.:0.00000  \n",
       " Max.   : 0.00000   Max.   :1.0000   Max.   :1.0000   Max.   :1.00000  \n",
       "                                                                       \n",
       "  Hisp_Latino         White             Black             Asian         \n",
       " Min.   :0.0000   Min.   :0.00000   Min.   :0.00000   Min.   :0.000000  \n",
       " 1st Qu.:1.0000   1st Qu.:0.00000   1st Qu.:0.00000   1st Qu.:0.000000  \n",
       " Median :1.0000   Median :0.00000   Median :0.00000   Median :0.000000  \n",
       " Mean   :0.7888   Mean   :0.08213   Mean   :0.01178   Mean   :0.004341  \n",
       " 3rd Qu.:1.0000   3rd Qu.:0.00000   3rd Qu.:0.00000   3rd Qu.:0.000000  \n",
       " Max.   :1.0000   Max.   :1.00000   Max.   :1.00000   Max.   :1.000000  \n",
       "                                                                        \n",
       "   Other_Race       Midwest        Northeast        South            West      \n",
       " Min.   :0.000   Min.   :0.000   Min.   :0.00   Min.   :0.000   Min.   :0.000  \n",
       " 1st Qu.:0.000   1st Qu.:0.000   1st Qu.:0.00   1st Qu.:0.000   1st Qu.:0.000  \n",
       " Median :0.000   Median :0.000   Median :0.00   Median :0.000   Median :0.000  \n",
       " Mean   :0.113   Mean   :0.166   Mean   :0.19   Mean   :0.471   Mean   :0.173  \n",
       " 3rd Qu.:0.000   3rd Qu.:0.000   3rd Qu.:0.00   3rd Qu.:1.000   3rd Qu.:0.000  \n",
       " Max.   :1.000   Max.   :1.000   Max.   :1.00   Max.   :1.000   Max.   :1.000  \n",
       "                 NA's   :4559    NA's   :4559   NA's   :4559    NA's   :4559   \n",
       "     Other       Chemotherapy    Immunotherapy     TargBiologic  \n",
       " Min.   :0      Min.   :0.0000   Min.   :0.0000   Min.   :0e+00  \n",
       " 1st Qu.:0      1st Qu.:0.0000   1st Qu.:0.0000   1st Qu.:0e+00  \n",
       " Median :0      Median :0.0000   Median :0.0000   Median :0e+00  \n",
       " Mean   :0      Mean   :0.0352   Mean   :0.1087   Mean   :8e-04  \n",
       " 3rd Qu.:0      3rd Qu.:0.0000   3rd Qu.:0.0000   3rd Qu.:0e+00  \n",
       " Max.   :0      Max.   :1.0000   Max.   :1.0000   Max.   :1e+00  \n",
       " NA's   :4559   NA's   :858      NA's   :858      NA's   :858    \n",
       " TargNonBiologic     Hormone        AntibodyConj   Cytoprotective \n",
       " Min.   :0.0000   Min.   :0.0000   Min.   :0e+00   Min.   :0e+00  \n",
       " 1st Qu.:0.0000   1st Qu.:0.0000   1st Qu.:0e+00   1st Qu.:0e+00  \n",
       " Median :0.0000   Median :0.0000   Median :0e+00   Median :0e+00  \n",
       " Mean   :0.1061   Mean   :0.0025   Mean   :2e-04   Mean   :1e-04  \n",
       " 3rd Qu.:0.0000   3rd Qu.:0.0000   3rd Qu.:0e+00   3rd Qu.:0e+00  \n",
       " Max.   :1.0000   Max.   :1.0000   Max.   :1e+00   Max.   :1e+00  \n",
       " NA's   :858      NA's   :858      NA's   :858     NA's   :858    "
      ]
     },
     "metadata": {},
     "output_type": "display_data"
    }
   ],
   "source": [
    "summary(flatiron_train3)"
   ]
  },
  {
   "cell_type": "code",
   "execution_count": 22,
   "id": "ec44ff96-2c9b-4516-a495-fb7766f5a5c9",
   "metadata": {},
   "outputs": [],
   "source": [
    "#Removing redundant columns \n",
    "flatiron_select <- flatiron_train3 %>% select(-diagnosis_nsclc_year, -diagnosis_ansclc_year, -histology, \n",
    "                            -raceethnicity, -region, -lot_category, -index_lot1_year, -Midwest, -South,\n",
    "                               -Other_Race, -Northeast, -West, -Other, -lab_ldh, -birthyear, -TxtoFail,\n",
    "                            -lab_alanineaminotransferase, -lab_creatinine, -patientid, -Cytoprotective, \n",
    "                            -Other, -Other_Race, -NSCLC)"
   ]
  },
  {
   "cell_type": "code",
   "execution_count": 23,
   "id": "204b067c-3f9b-491d-b92f-cff0de787986",
   "metadata": {},
   "outputs": [
    {
     "name": "stdout",
     "output_type": "stream",
     "text": [
      "Rows: 31,329\n",
      "Columns: 28\n",
      "$ daysto_event    \u001b[3m\u001b[90m<dbl>\u001b[39m\u001b[23m 156, 190, 74, 52, 392, 39, 1302, 181, 761, 931, 382, 4…\n",
      "$ event_died      \u001b[3m\u001b[90m<dbl>\u001b[39m\u001b[23m 0, 1, 1, 1, 0, 1, 0, 1, 1, 1, 0, 0, 0, 1, 1, 1, 1, 1, …\n",
      "$ ecog            \u001b[3m\u001b[90m<dbl>\u001b[39m\u001b[23m 0, 1, 1, 0, 2, 1, 3, 3, 0, 0, 0, 0, 2, 0, 2, 0, 2, 0, …\n",
      "$ groupstage      \u001b[3m\u001b[90m<dbl>\u001b[39m\u001b[23m 0, 1, 2, 3, 4, 3, 3, 3, 3, 3, 5, 3, 3, 3, 6, 3, 3, 3, …\n",
      "$ smokingstatus   \u001b[3m\u001b[90m<dbl>\u001b[39m\u001b[23m 0, 0, 0, 0, 0, 0, 1, 0, 0, 0, 0, 0, 1, 0, 0, 0, 1, 0, …\n",
      "$ gender          \u001b[3m\u001b[90m<dbl>\u001b[39m\u001b[23m 0, 1, 0, 1, 0, 1, 1, 1, 0, 1, 1, 1, 1, 1, 1, 1, 1, 0, …\n",
      "$ biomarker_pdl1  \u001b[3m\u001b[90m<dbl>\u001b[39m\u001b[23m 0, 0, 0, 0, 0, 0, 0, 0, 0, 0, 0, 0, 0, 0, 0, 0, 0, 0, …\n",
      "$ biomarker_alk   \u001b[3m\u001b[90m<dbl>\u001b[39m\u001b[23m 0, 0, 0, 0, 0, 0, 0, 0, 0, 0, 0, 0, 0, 0, 0, 0, 0, 0, …\n",
      "$ biomarker_ros1  \u001b[3m\u001b[90m<dbl>\u001b[39m\u001b[23m 0, 0, 0, 0, 0, 0, 0, 0, 0, 0, 0, 0, 0, 0, 0, 0, 0, 0, …\n",
      "$ biomarker_braf  \u001b[3m\u001b[90m<dbl>\u001b[39m\u001b[23m 0, 0, 0, 0, 0, 0, 0, 0, 0, 0, 0, 0, 0, 0, 0, 0, 0, 0, …\n",
      "$ biomarker_egfr  \u001b[3m\u001b[90m<dbl>\u001b[39m\u001b[23m 0, 0, 0, 0, 0, 0, 0, 0, 0, 0, 0, 0, 0, 0, 0, 0, 0, 0, …\n",
      "$ biomarker_kras  \u001b[3m\u001b[90m<dbl>\u001b[39m\u001b[23m 0, 0, 0, 0, 0, 0, 0, 0, 0, 0, 0, 0, 0, 0, 0, 0, 0, 0, …\n",
      "$ bmi             \u001b[3m\u001b[90m<dbl>\u001b[39m\u001b[23m 19.34262, 22.41903, 26.63880, 18.94848, 21.33351, 16.6…\n",
      "$ ageAtdiagnosis  \u001b[3m\u001b[90m<dbl>\u001b[39m\u001b[23m 51, 67, 76, 83, 55, 74, 72, 78, 75, 57, 80, 71, 65, 78…\n",
      "$ yrsToprogress   \u001b[3m\u001b[90m<dbl>\u001b[39m\u001b[23m 17, 1, 0, 0, 0, 0, 0, 0, 0, 0, 1, 0, 0, 0, 0, 0, 0, 0,…\n",
      "$ TimetoTx        \u001b[3m\u001b[90m<dbl>\u001b[39m\u001b[23m 17, 1, 0, 0, 0, 0, 0, 0, 0, 0, 1, 1, 0, 0, 0, 1, 1, 0,…\n",
      "$ squam_cells     \u001b[3m\u001b[90m<dbl>\u001b[39m\u001b[23m 1, 0, 0, 0, 0, 0, 0, 0, 0, 1, 1, 0, 0, 0, 1, 0, 0, 1, …\n",
      "$ non_squamCells  \u001b[3m\u001b[90m<dbl>\u001b[39m\u001b[23m 0, 1, 1, 1, 1, 1, 1, 1, 1, 0, 0, 1, 1, 1, 0, 1, 1, 0, …\n",
      "$ Hisp_Latino     \u001b[3m\u001b[90m<dbl>\u001b[39m\u001b[23m 1, 1, 1, 1, 0, 1, 1, 1, 1, 1, 1, 1, 0, 1, 1, 0, 1, 1, …\n",
      "$ White           \u001b[3m\u001b[90m<dbl>\u001b[39m\u001b[23m 0, 0, 0, 0, 1, 0, 0, 0, 0, 0, 0, 0, 1, 0, 0, 1, 0, 0, …\n",
      "$ Black           \u001b[3m\u001b[90m<dbl>\u001b[39m\u001b[23m 0, 0, 0, 0, 0, 0, 0, 0, 0, 0, 0, 0, 0, 0, 0, 0, 0, 0, …\n",
      "$ Asian           \u001b[3m\u001b[90m<dbl>\u001b[39m\u001b[23m 0, 0, 0, 0, 0, 0, 0, 0, 0, 0, 0, 0, 0, 0, 0, 0, 0, 0, …\n",
      "$ Chemotherapy    \u001b[3m\u001b[90m<dbl>\u001b[39m\u001b[23m 0, 1, 0, 0, 0, 0, 0, 0, 0, 0, 0, 0, 0, 0, 0, 0, 0, 0, …\n",
      "$ Immunotherapy   \u001b[3m\u001b[90m<dbl>\u001b[39m\u001b[23m 0, 0, 0, 1, 0, 1, 0, 0, 0, 0, 1, 0, 0, 0, 0, 0, 0, 0, …\n",
      "$ TargBiologic    \u001b[3m\u001b[90m<dbl>\u001b[39m\u001b[23m 0, 0, 0, 0, 0, 0, 0, 0, 0, 0, 0, 0, 0, 0, 0, 0, 0, 0, …\n",
      "$ TargNonBiologic \u001b[3m\u001b[90m<dbl>\u001b[39m\u001b[23m 0, 0, 0, 0, 0, 0, 0, 0, 0, 0, 0, 0, 0, 0, 0, 0, 0, 0, …\n",
      "$ Hormone         \u001b[3m\u001b[90m<dbl>\u001b[39m\u001b[23m 0, 0, 0, 0, 0, 0, 0, 0, 0, 0, 0, 0, 0, 0, 0, 0, 0, 0, …\n",
      "$ AntibodyConj    \u001b[3m\u001b[90m<dbl>\u001b[39m\u001b[23m 0, 0, 0, 0, 0, 0, 0, 0, 0, 0, 0, 0, 0, 0, 0, 0, 0, 0, …\n"
     ]
    }
   ],
   "source": [
    "glimpse(flatiron_select)"
   ]
  },
  {
   "cell_type": "code",
   "execution_count": 24,
   "id": "8e1a8684-937c-4099-9da4-55242211bb14",
   "metadata": {},
   "outputs": [
    {
     "data": {
      "image/png": "[encoded data removed]",
      "text/plain": [
       "plot without title"
      ]
     },
     "metadata": {
      "image/png": {
       "height": 420,
       "width": 420
      }
     },
     "output_type": "display_data"
    }
   ],
   "source": [
    "#Faceted histogram plot of number of \"daystoevent\" faceted by \"eventdeath\"\n",
    "ggplot(flatiron_select, aes(x = daysto_event, fill = factor(event_died))) + geom_histogram(binwidth = 1000) + facet_grid(~event_died) + theme(legend.position = \"none\")"
   ]
  },
  {
   "cell_type": "markdown",
   "id": "118cbd13-d651-4c04-9e0a-711e28c80e0d",
   "metadata": {},
   "source": [
    "__2 histograms plotted showing the distribution of \"daysto_event\" dependent on whether the patient died or not. There are significantly more patients that died than those that were censored. The PERCENTAGE OF  of patient deaths THAT occurred in the first 1000 days WAS XXXXXXXXXX. __"
   ]
  },
  {
   "cell_type": "code",
   "execution_count": 26,
   "id": "7779dd06-1a4f-4da3-8856-c34a36fd4501",
   "metadata": {},
   "outputs": [],
   "source": [
    "install.packages(\"survival\", \"/tmp/RtmpopXkDN/downloaded_packages\")"
   ]
  },
  {
   "cell_type": "code",
   "execution_count": 25,
   "id": "308d6013-3f65-4d8b-b5e3-4b26b381bd70",
   "metadata": {},
   "outputs": [
    {
     "name": "stderr",
     "output_type": "stream",
     "text": [
      "\n",
      "Attaching package: ‘survival’\n",
      "\n",
      "\n",
      "The following object is masked from ‘package:caret’:\n",
      "\n",
      "    cluster\n",
      "\n",
      "\n"
     ]
    }
   ],
   "source": [
    "library(\"survival\", lib.loc=.libPaths(\"/tmp/RtmpopXkDN/downloaded_packages\"))"
   ]
  },
  {
   "cell_type": "code",
   "execution_count": 26,
   "id": "c866d04e-2654-4cde-89cb-733bcdc2d2ac",
   "metadata": {},
   "outputs": [
    {
     "data": {
      "text/html": [
       "8544"
      ],
      "text/latex": [
       "8544"
      ],
      "text/markdown": [
       "8544"
      ],
      "text/plain": [
       "[1] 8544"
      ]
     },
     "metadata": {},
     "output_type": "display_data"
    }
   ],
   "source": [
    "#Count the number of censored patients \n",
    "\n",
    "sum(flatiron_select[\"event_died\"] == 0)"
   ]
  },
  {
   "cell_type": "code",
   "execution_count": 27,
   "id": "bf284648-6897-49a6-9ebe-933e67a57274",
   "metadata": {},
   "outputs": [
    {
     "data": {
      "text/html": [
       "4349"
      ],
      "text/latex": [
       "4349"
      ],
      "text/markdown": [
       "4349"
      ],
      "text/plain": [
       "[1] 4349"
      ]
     },
     "metadata": {},
     "output_type": "display_data"
    }
   ],
   "source": [
    "#Count the number of patients who DEFINITELY survived beyond 1000 days from index (first line starting tx)\n",
    "#Assumption - any censored patient died at the time of being censored (they DIED IMMEDIATELY)\n",
    "t = 1000\n",
    "sum(flatiron_select[\"daysto_event\"] > t)"
   ]
  },
  {
   "cell_type": "code",
   "execution_count": 28,
   "id": "8602ff10-1872-4e42-ada3-7aec59dfd89f",
   "metadata": {},
   "outputs": [
    {
     "data": {
      "text/html": [
       "4349"
      ],
      "text/latex": [
       "4349"
      ],
      "text/markdown": [
       "4349"
      ],
      "text/plain": [
       "[1] 4349"
      ]
     },
     "metadata": {},
     "output_type": "display_data"
    }
   ],
   "source": [
    "#Count the number of patients who MAY HAVE survived beyond 1000 days from index (firs line starting tx)\n",
    "#Assumption - censored patients NEVER DIE\n",
    "t = 1000\n",
    "sum((flatiron_select[\"daysto_event\"] > t) | (flatiron_train1[\"daysto_event\"] == 0))"
   ]
  },
  {
   "cell_type": "code",
   "execution_count": 29,
   "id": "4517b09f-1654-43d0-8150-959701476137",
   "metadata": {},
   "outputs": [
    {
     "data": {
      "text/html": [
       "4399"
      ],
      "text/latex": [
       "4399"
      ],
      "text/markdown": [
       "4399"
      ],
      "text/plain": [
       "[1] 4399"
      ]
     },
     "metadata": {},
     "output_type": "display_data"
    }
   ],
   "source": [
    "#Count the number of paients who were not censored before 1000 days from index\n",
    "#Assumption - they either had an event(death) before 1000, at 1000 or after 1000 (at any time) OR\n",
    "#time of death occurs after (1000 days) - either they died or were censored at a later time after 1000 days\n",
    "t = 1000\n",
    "sum((flatiron_select[\"daysto_event\"] == 1) | (flatiron_train1[\"daysto_event\"] > t))"
   ]
  },
  {
   "cell_type": "code",
   "execution_count": 30,
   "id": "057dd690-bea6-4356-b25e-0a85d10a58a4",
   "metadata": {},
   "outputs": [],
   "source": [
    "#Exclude NA values while retaining original number of rows in dataset using na.exclude()\n",
    "flatiron_select1 <- na.exclude(flatiron_select)"
   ]
  },
  {
   "cell_type": "code",
   "execution_count": 31,
   "id": "632da9c7-dc20-4943-9976-b5f294fe82de",
   "metadata": {},
   "outputs": [
    {
     "name": "stdout",
     "output_type": "stream",
     "text": [
      "+ Fold1: intercept=TRUE \n",
      "- Fold1: intercept=TRUE \n",
      "+ Fold2: intercept=TRUE \n",
      "- Fold2: intercept=TRUE \n",
      "+ Fold3: intercept=TRUE \n",
      "- Fold3: intercept=TRUE \n",
      "+ Fold4: intercept=TRUE \n",
      "- Fold4: intercept=TRUE \n",
      "+ Fold5: intercept=TRUE \n",
      "- Fold5: intercept=TRUE \n",
      "Aggregating results\n",
      "Fitting final model on full training set\n"
     ]
    },
    {
     "data": {
      "text/plain": [
       "Linear Regression \n",
       "\n",
       "30471 samples\n",
       "   27 predictor\n",
       "\n",
       "No pre-processing\n",
       "Resampling: Cross-Validated (5 fold) \n",
       "Summary of sample sizes: 24377, 24376, 24377, 24377, 24377 \n",
       "Resampling results:\n",
       "\n",
       "  RMSE      Rsquared  MAE     \n",
       "  528.5786  0.110594  372.1656\n",
       "\n",
       "Tuning parameter 'intercept' was held constant at a value of TRUE"
      ]
     },
     "metadata": {},
     "output_type": "display_data"
    }
   ],
   "source": [
    "#5 fold cross validation\n",
    "# Fit lm model using 5-fold CV: model\n",
    "\n",
    "\n",
    "#set seed for model reproducibility\n",
    "set.seed(42)\n",
    "model <- train(\n",
    "  daysto_event ~ ., \n",
    "  flatiron_select1,\n",
    "  method = \"lm\",\n",
    "  trControl = trainControl(\n",
    "    method = \"cv\", \n",
    "    number = 5,\n",
    "    verboseIter = TRUE\n",
    "    \n",
    "  )\n",
    ")\n",
    "\n",
    "# Print model to console\n",
    "model"
   ]
  },
  {
   "cell_type": "code",
   "execution_count": 32,
   "id": "519265d1-b4b2-420a-a577-18c07f19c923",
   "metadata": {},
   "outputs": [
    {
     "data": {
      "text/html": [
       "30471"
      ],
      "text/latex": [
       "30471"
      ],
      "text/markdown": [
       "30471"
      ],
      "text/plain": [
       "[1] 30471"
      ]
     },
     "metadata": {},
     "output_type": "display_data"
    },
    {
     "data": {
      "text/html": [
       "22853"
      ],
      "text/latex": [
       "22853"
      ],
      "text/markdown": [
       "22853"
      ],
      "text/plain": [
       "[1] 22853"
      ]
     },
     "metadata": {},
     "output_type": "display_data"
    },
    {
     "data": {
      "text/html": [
       "22808"
      ],
      "text/latex": [
       "22808"
      ],
      "text/markdown": [
       "22808"
      ],
      "text/plain": [
       "[1] 22808"
      ]
     },
     "metadata": {},
     "output_type": "display_data"
    },
    {
     "data": {
      "text/html": [
       "7663"
      ],
      "text/latex": [
       "7663"
      ],
      "text/markdown": [
       "7663"
      ],
      "text/plain": [
       "[1] 7663"
      ]
     },
     "metadata": {},
     "output_type": "display_data"
    }
   ],
   "source": [
    "#Split datasets into Train/Predict sets\n",
    "N_UK <- nrow(flatiron_select1)\n",
    "N_UK\n",
    "\n",
    "#Number of rows of training data required for model\n",
    "target_UK <- round(N_UK * 0.75)\n",
    "target_UK\n",
    "\n",
    "#Creating vector of N_UK uniform variables\n",
    "gp_UK <- runif(N_UK)\n",
    "\n",
    "#Create training set flatiron_trainSet (75% of data) & flatiron_predictSet (25% of data)\n",
    "flatiron_trainSet <- flatiron_select1[gp_UK < 0.75, ]\n",
    "flatiron_validSet <- flatiron_select1[gp_UK >= 0.75, ]\n",
    "\n",
    "#Examine flatiron_trainSet and flatiron_predictSet datasets\n",
    "nrow(flatiron_trainSet)\n",
    "nrow(flatiron_validSet)"
   ]
  },
  {
   "cell_type": "code",
   "execution_count": 35,
   "id": "f107b168-a8f2-402b-86b3-cd52e956051e",
   "metadata": {},
   "outputs": [],
   "source": [
    "install.packages(\"rms\", \"/tmp/RtmpopXkDN/downloaded_packages\")"
   ]
  },
  {
   "cell_type": "code",
   "execution_count": 33,
   "id": "9760278d-1d72-4c25-9e9d-392350d60865",
   "metadata": {},
   "outputs": [
    {
     "name": "stderr",
     "output_type": "stream",
     "text": [
      "Loading required package: Hmisc\n",
      "\n",
      "Loading required package: Formula\n",
      "\n",
      "\n",
      "Attaching package: ‘Hmisc’\n",
      "\n",
      "\n",
      "The following objects are masked from ‘package:dplyr’:\n",
      "\n",
      "    src, summarize\n",
      "\n",
      "\n",
      "The following objects are masked from ‘package:base’:\n",
      "\n",
      "    format.pval, units\n",
      "\n",
      "\n",
      "Loading required package: SparseM\n",
      "\n",
      "\n",
      "Attaching package: ‘SparseM’\n",
      "\n",
      "\n",
      "The following object is masked from ‘package:base’:\n",
      "\n",
      "    backsolve\n",
      "\n",
      "\n"
     ]
    }
   ],
   "source": [
    "library(\"rms\", lib.loc=.libPaths(\"/tmp/RtmpopXkDN/downloaded_packages\"))"
   ]
  },
  {
   "cell_type": "code",
   "execution_count": 34,
   "id": "f8654f0e-c414-41ee-abd5-917f2da501c4",
   "metadata": {},
   "outputs": [],
   "source": [
    "#Fit a Multivariate COX PH regression analysis model\n",
    "units(flatiron_trainSet$daysto_event) <- \"Days\"\n",
    "dd <- datadist(flatiron_trainSet)\n",
    "options(datadist = \"dd\")\n",
    "fitCPH1 <- cph(Surv(daysto_event, event_died) ~ \n",
    "               biomarker_pdl1 + biomarker_egfr + biomarker_alk + biomarker_ros1  + ecog + bmi + \n",
    "               ageAtdiagnosis + biomarker_braf + biomarker_kras + yrsToprogress + TimetoTx + gender + \n",
    "               groupstage + smokingstatus + ecog + squam_cells + non_squamCells +  + Hisp_Latino + Black + \n",
    "               White + Asian + Chemotherapy + Immunotherapy + Hormone + TargBiologic + TargNonBiologic +\n",
    "               AntibodyConj, \n",
    "               data = flatiron_trainSet, x = TRUE, y = TRUE, surv = TRUE, time.inc = 1) "
   ]
  },
  {
   "cell_type": "code",
   "execution_count": 35,
   "id": "7c8520e6-b149-45b8-9b8f-6df64c656c62",
   "metadata": {},
   "outputs": [
    {
     "name": "stdout",
     "output_type": "stream",
     "text": [
      "Cox Proportional Hazards Model\n",
      " \n",
      " cph(formula = Surv(daysto_event, event_died) ~ biomarker_pdl1 + \n",
      "     biomarker_egfr + biomarker_alk + biomarker_ros1 + ecog + \n",
      "     bmi + ageAtdiagnosis + biomarker_braf + biomarker_kras + \n",
      "     yrsToprogress + TimetoTx + gender + groupstage + smokingstatus + \n",
      "     ecog + squam_cells + non_squamCells + +Hisp_Latino + Black + \n",
      "     White + Asian + Chemotherapy + Immunotherapy + Hormone + \n",
      "     TargBiologic + TargNonBiologic + AntibodyConj, data = flatiron_trainSet, \n",
      "     x = TRUE, y = TRUE, surv = TRUE, time.inc = 1)\n",
      " \n",
      "                          Model Tests       Discrimination    \n",
      "                                                   Indexes    \n",
      " Obs      22808    LR chi2    1403.60       R2       0.060    \n",
      " Events   16582    d.f.            26    R2(26,22808)0.059    \n",
      " Center -0.2998    Pr(> chi2)  0.0000    R2(26,16582)0.080    \n",
      "                   Score chi2 1377.56       Dxy      0.190    \n",
      "                   Pr(> chi2)  0.0000                         \n",
      " \n",
      "                 Coef    S.E.   Wald Z Pr(>|Z|)\n",
      " biomarker_pdl1  -0.0091 0.0597  -0.15 0.8792  \n",
      " biomarker_egfr   0.0385 0.0900   0.43 0.6690  \n",
      " biomarker_alk   -0.0894 0.1194  -0.75 0.4543  \n",
      " biomarker_ros1  -0.3158 0.1292  -2.44 0.0145  \n",
      " ecog             0.0799 0.0070  11.47 <0.0001 \n",
      " bmi             -0.0144 0.0014 -10.25 <0.0001 \n",
      " ageAtdiagnosis   0.0100 0.0009  11.29 <0.0001 \n",
      " biomarker_braf   0.3874 0.1317   2.94 0.0033  \n",
      " biomarker_kras  -0.0075 0.1018  -0.07 0.9412  \n",
      " yrsToprogress    0.0272 0.0278   0.98 0.3281  \n",
      " TimetoTx        -0.0661 0.0272  -2.43 0.0151  \n",
      " gender          -0.1925 0.0160 -12.06 <0.0001 \n",
      " groupstage      -0.0169 0.0032  -5.34 <0.0001 \n",
      " smokingstatus   -0.1394 0.0249  -5.59 <0.0001 \n",
      " squam_cells     -0.2686 0.0370  -7.25 <0.0001 \n",
      " non_squamCells  -0.3310 0.0352  -9.42 <0.0001 \n",
      " Hisp_Latino     -0.1989 0.0252  -7.89 <0.0001 \n",
      " Black           -0.0965 0.0771  -1.25 0.2107  \n",
      " White           -0.0834 0.0363  -2.30 0.0215  \n",
      " Asian           -0.5712 0.1557  -3.67 0.0002  \n",
      " Chemotherapy     0.4001 0.0391  10.24 <0.0001 \n",
      " Immunotherapy   -0.0639 0.0262  -2.44 0.0146  \n",
      " Hormone          0.1117 0.1465   0.76 0.4460  \n",
      " TargBiologic     0.4231 0.2892   1.46 0.1434  \n",
      " TargNonBiologic -0.3748 0.0298 -12.58 <0.0001 \n",
      " AntibodyConj    -0.7577 0.9844  -0.77 0.4414  \n",
      " \n"
     ]
    }
   ],
   "source": [
    "print(fitCPH1)"
   ]
  },
  {
   "cell_type": "code",
   "execution_count": 37,
   "id": "f3e2fbfb-50c2-4f99-899b-87cd92bc244b",
   "metadata": {},
   "outputs": [
    {
     "data": {
      "text/plain": [
       "      index.orig training   test optimism index.corrected  n\n",
       "Dxy       0.1898   0.1899 0.1874   0.0025          0.1873 10\n",
       "R2        0.0597   0.0598 0.0584   0.0014          0.0582 10\n",
       "Slope     1.0000   1.0000 0.9840   0.0160          0.9840 10\n",
       "D         0.0046   0.0047 0.0060  -0.0013          0.0059 10\n",
       "U         0.0000   0.0000 0.0001  -0.0001          0.0001 10\n",
       "Q         0.0046   0.0047 0.0059  -0.0012          0.0058 10\n",
       "g         0.3342   0.3345 0.3288   0.0057          0.3285 10"
      ]
     },
     "metadata": {},
     "output_type": "display_data"
    }
   ],
   "source": [
    "#Validating the model\n",
    "\n",
    "validate(fitCPH1, method = \"crossvalidation\", B = 10, pr = FALSE)"
   ]
  },
  {
   "cell_type": "raw",
   "id": "6389625f-fe43-4900-a630-eeaf142604ac",
   "metadata": {},
   "source": [
    "#Predict the expected time until death for new patients using the trained CPH model\n",
    "survival_predictions <- print(survfit(fitCPH1, newdata = flatiron_validSet))"
   ]
  },
  {
   "cell_type": "code",
   "execution_count": null,
   "id": "720054fd-2505-4967-a318-e189aeb5593b",
   "metadata": {},
   "outputs": [],
   "source": []
  },
  {
   "cell_type": "code",
   "execution_count": 86,
   "id": "0a98ad52-5bd6-4491-8581-e1a3a1311f71",
   "metadata": {},
   "outputs": [],
   "source": [
    "install.packages(\"dynpred\", \"/tmp/RtmpopXkDN/downloaded_packages\")"
   ]
  },
  {
   "cell_type": "code",
   "execution_count": 39,
   "id": "36c53347-f1f4-4347-8ae5-00d478eb3981",
   "metadata": {},
   "outputs": [],
   "source": [
    "library(\"dynpred\", \"/tmp/RtmpopXkDN/downloaded_packages\")"
   ]
  },
  {
   "cell_type": "code",
   "execution_count": 40,
   "id": "b09746d7-763c-4489-865f-f36b834ff0bb",
   "metadata": {},
   "outputs": [
    {
     "data": {
      "text/html": [
       "<dl>\n",
       "\t<dt>$concordant</dt>\n",
       "\t\t<dd>12252270</dd>\n",
       "\t<dt>$total</dt>\n",
       "\t\t<dd>22637044</dd>\n",
       "\t<dt>$cindex</dt>\n",
       "\t\t<dd>0.541248671867228</dd>\n",
       "</dl>\n"
      ],
      "text/latex": [
       "\\begin{description}\n",
       "\\item[\\$concordant] 12252270\n",
       "\\item[\\$total] 22637044\n",
       "\\item[\\$cindex] 0.541248671867228\n",
       "\\end{description}\n"
      ],
      "text/markdown": [
       "$concordant\n",
       ":   12252270\n",
       "$total\n",
       ":   22637044\n",
       "$cindex\n",
       ":   0.541248671867228\n",
       "\n",
       "\n"
      ],
      "text/plain": [
       "$concordant\n",
       "[1] 12252270\n",
       "\n",
       "$total\n",
       "[1] 22637044\n",
       "\n",
       "$cindex\n",
       "[1] 0.5412487\n"
      ]
     },
     "metadata": {},
     "output_type": "display_data"
    }
   ],
   "source": [
    "#Compute Harrell's concordance index on validation set\n",
    "cindex(Surv(daysto_event, event_died) ~ yrsToprogress + bmi, data = flatiron_validSet)"
   ]
  },
  {
   "cell_type": "code",
   "execution_count": 41,
   "id": "bad6b622-6bd2-4d8b-b613-390dc44546a7",
   "metadata": {},
   "outputs": [
    {
     "data": {
      "text/html": [
       "<dl>\n",
       "\t<dt>$concordant</dt>\n",
       "\t\t<dd>110511800.5</dd>\n",
       "\t<dt>$total</dt>\n",
       "\t\t<dd>203105923</dd>\n",
       "\t<dt>$cindex</dt>\n",
       "\t\t<dd>0.544109196165589</dd>\n",
       "</dl>\n"
      ],
      "text/latex": [
       "\\begin{description}\n",
       "\\item[\\$concordant] 110511800.5\n",
       "\\item[\\$total] 203105923\n",
       "\\item[\\$cindex] 0.544109196165589\n",
       "\\end{description}\n"
      ],
      "text/markdown": [
       "$concordant\n",
       ":   110511800.5\n",
       "$total\n",
       ":   203105923\n",
       "$cindex\n",
       ":   0.544109196165589\n",
       "\n",
       "\n"
      ],
      "text/plain": [
       "$concordant\n",
       "[1] 110511800\n",
       "\n",
       "$total\n",
       "[1] 203105923\n",
       "\n",
       "$cindex\n",
       "[1] 0.5441092\n"
      ]
     },
     "metadata": {},
     "output_type": "display_data"
    }
   ],
   "source": [
    "#Compute Harrell's concordance index on training set\n",
    "cindex(Surv(daysto_event, event_died) ~ yrsToprogress + bmi, data = flatiron_trainSet)"
   ]
  },
  {
   "cell_type": "code",
   "execution_count": 42,
   "id": "c325dc33-be53-4a4c-ab38-1a8920ce7a10",
   "metadata": {},
   "outputs": [
    {
     "name": "stderr",
     "output_type": "stream",
     "text": [
      "Loading required package: prodlim\n",
      "\n",
      "\n",
      "Attaching package: ‘pec’\n",
      "\n",
      "\n",
      "The following object is masked from ‘package:dynpred’:\n",
      "\n",
      "    cindex\n",
      "\n",
      "\n",
      "The following object is masked from ‘package:caret’:\n",
      "\n",
      "    R2\n",
      "\n",
      "\n"
     ]
    }
   ],
   "source": [
    "library(\"pec\", \"/tmp/RtmpopXkDN/downloaded_packages\")"
   ]
  },
  {
   "cell_type": "code",
   "execution_count": 43,
   "id": "473b365c-62ec-4ead-9f61-a14418140267",
   "metadata": {},
   "outputs": [],
   "source": [
    "#Compute concordance index for Cox Proportional Hazard Model \n",
    "A1 <- pec::cindex(list(\"Cox X1\"=fitCPH1),\n",
    "formula=Surv(daysto_event, event_died) ~ ecog + groupstage + smokingstatus + \n",
    "               squam_cells + non_squamCells + biomarker_pdl1 + biomarker_egfr + biomarker_alk \n",
    "               + biomarker_braf + biomarker_ros1 + biomarker_kras + bmi + ageAtdiagnosis + yrsToprogress + \n",
    "                TimetoTx + gender + Hisp_Latino + Black + White + Asian,\n",
    "data=flatiron_select1,\n",
    "eval.times=1)"
   ]
  },
  {
   "cell_type": "code",
   "execution_count": 44,
   "id": "535683ba-ce98-4b15-91eb-ce243a8d2218",
   "metadata": {},
   "outputs": [
    {
     "data": {
      "text/plain": [
       "$AppCindex\n",
       "$AppCindex$`Cox X1`\n",
       "[1] 0.6881716\n",
       "\n",
       "\n",
       "$Pairs\n",
       "$Pairs$`Cox X1`\n",
       "[1] 1219622\n",
       "\n",
       "\n",
       "$Concordant\n",
       "$Concordant$`Cox X1`\n",
       "[1] 839308.9\n",
       "\n",
       "\n",
       "$call\n",
       "pec::cindex(object = list(`Cox X1` = fitCPH1), formula = Surv(daysto_event, \n",
       "    event_died) ~ ecog + groupstage + smokingstatus + squam_cells + \n",
       "    non_squamCells + biomarker_pdl1 + biomarker_egfr + biomarker_alk + \n",
       "    biomarker_braf + biomarker_ros1 + biomarker_kras + bmi + \n",
       "    ageAtdiagnosis + yrsToprogress + TimetoTx + gender + Hisp_Latino + \n",
       "    Black + White + Asian, data = flatiron_select1, eval.times = 1)\n",
       "\n",
       "$time\n",
       "[1] 1\n",
       "\n",
       "$pred.time\n",
       "[1] 1\n"
      ]
     },
     "metadata": {},
     "output_type": "display_data"
    }
   ],
   "source": [
    "head(A1)"
   ]
  },
  {
   "cell_type": "code",
   "execution_count": 45,
   "id": "294252ae-9fb4-41a5-84ae-0fa71144f59b",
   "metadata": {},
   "outputs": [
    {
     "name": "stderr",
     "output_type": "stream",
     "text": [
      "\n",
      " randomForestSRC 3.1.0 \n",
      " \n",
      " Type rfsrc.news() to see new features, changes, and bug fixes. \n",
      " \n",
      "\n",
      "\n",
      "\n",
      "Attaching package: ‘randomForestSRC’\n",
      "\n",
      "\n",
      "The following object is masked from ‘package:Hmisc’:\n",
      "\n",
      "    impute\n",
      "\n",
      "\n",
      "The following object is masked from ‘package:purrr’:\n",
      "\n",
      "    partial\n",
      "\n",
      "\n"
     ]
    }
   ],
   "source": [
    "library(\"randomForestSRC\", \"/tmp/RtmpopXkDN/downloaded_packages\")"
   ]
  },
  {
   "cell_type": "code",
   "execution_count": 46,
   "id": "09a4f25f-1683-4fd7-b288-d46fb92cd232",
   "metadata": {},
   "outputs": [],
   "source": [
    "rfs_model <- rfsrc(Surv(daysto_event, event_died) ~ ., \n",
    "                  data=flatiron_trainSet, ntree=1000, nsplit = 10)"
   ]
  },
  {
   "cell_type": "code",
   "execution_count": 47,
   "id": "98e73762-6b35-41cc-a6ef-aca3ba29d8fd",
   "metadata": {},
   "outputs": [
    {
     "name": "stdout",
     "output_type": "stream",
     "text": [
      "                         Sample size: 22808\n",
      "                    Number of deaths: 16582\n",
      "                     Number of trees: 1000\n",
      "           Forest terminal node size: 15\n",
      "       Average no. of terminal nodes: 1308.235\n",
      "No. of variables tried at each split: 6\n",
      "              Total no. of variables: 26\n",
      "       Resampling used to grow trees: swor\n",
      "    Resample size used to grow trees: 14415\n",
      "                            Analysis: RSF\n",
      "                              Family: surv\n",
      "                      Splitting rule: logrank *random*\n",
      "       Number of random split points: 10\n",
      "                          (OOB) CRPS: 0.11134165\n",
      "   (OOB) Requested performance error: 0.37727413\n",
      "\n"
     ]
    }
   ],
   "source": [
    "print(rfs_model)"
   ]
  },
  {
   "cell_type": "code",
   "execution_count": 48,
   "id": "3c8bb78a-b348-4923-8272-e6cbdb4b51ea",
   "metadata": {},
   "outputs": [
    {
     "name": "stdout",
     "output_type": "stream",
     "text": [
      "  Sample size of test (predict) data: 7663\n",
      "                Number of grow trees: 1000\n",
      "  Average no. of grow terminal nodes: 1308.235\n",
      "         Total no. of grow variables: 26\n",
      "       Resampling used to grow trees: swor\n",
      "    Resample size used to grow trees: 14415\n",
      "                            Analysis: RSF\n",
      "                              Family: surv\n",
      "                                CRPS: 0.13174482\n",
      "         Requested performance error: 0.38112056\n",
      "\n"
     ]
    }
   ],
   "source": [
    "#Predict against the validation set \n",
    "rfs_pred <- predict(rfs_model, flatiron_validSet)\n",
    "print(rfs_pred)"
   ]
  },
  {
   "cell_type": "code",
   "execution_count": 49,
   "id": "65f2b781-5578-4aef-bf80-67ae062f4860",
   "metadata": {},
   "outputs": [],
   "source": [
    "#Compute Concordance index for random forest survival model\n",
    "A2 <- pec::cindex(list(\"rfsrc\"= rfs_model),\n",
    "formula=Surv(daysto_event, event_died) ~ ecog + groupstage + smokingstatus + \n",
    "               squam_cells + non_squamCells + biomarker_pdl1 + biomarker_egfr + biomarker_alk \n",
    "               + biomarker_braf + biomarker_ros1 + biomarker_kras + bmi + ageAtdiagnosis + \n",
    "                TimetoTx + gender + Hisp_Latino + Black + White + Asian,\n",
    "data=flatiron_select1,\n",
    "eval.times=1)"
   ]
  },
  {
   "cell_type": "code",
   "execution_count": 50,
   "id": "cfafe3b2-d352-469a-900b-82b5da1fd565",
   "metadata": {},
   "outputs": [
    {
     "data": {
      "text/plain": [
       "$AppCindex\n",
       "$AppCindex$rfsrc\n",
       "[1] 0.8518762\n",
       "\n",
       "\n",
       "$Pairs\n",
       "$Pairs$rfsrc\n",
       "[1] 1219622\n",
       "\n",
       "\n",
       "$Concordant\n",
       "$Concordant$rfsrc\n",
       "[1] 1038967\n",
       "\n",
       "\n",
       "$call\n",
       "pec::cindex(object = list(rfsrc = rfs_model), formula = Surv(daysto_event, \n",
       "    event_died) ~ ecog + groupstage + smokingstatus + squam_cells + \n",
       "    non_squamCells + biomarker_pdl1 + biomarker_egfr + biomarker_alk + \n",
       "    biomarker_braf + biomarker_ros1 + biomarker_kras + bmi + \n",
       "    ageAtdiagnosis + TimetoTx + gender + Hisp_Latino + Black + \n",
       "    White + Asian, data = flatiron_select1, eval.times = 1)\n",
       "\n",
       "$time\n",
       "[1] 1\n",
       "\n",
       "$pred.time\n",
       "[1] 1\n"
      ]
     },
     "metadata": {},
     "output_type": "display_data"
    }
   ],
   "source": [
    "head(A2)"
   ]
  },
  {
   "cell_type": "raw",
   "id": "d8a6a8b4-c7c5-490b-a7ea-83857a056374",
   "metadata": {},
   "source": [
    "#Feature importance plot\n",
    "print(vimp(rfs_model)$importance)"
   ]
  },
  {
   "cell_type": "markdown",
   "id": "93d422a2-c759-4dc7-a10c-052eea42a288",
   "metadata": {},
   "source": [
    "__FOR THE TEST DATASET__"
   ]
  },
  {
   "cell_type": "code",
   "execution_count": 52,
   "id": "c12334cb-e81b-40b5-863b-a99f430ae475",
   "metadata": {},
   "outputs": [
    {
     "name": "stderr",
     "output_type": "stream",
     "text": [
      "\u001b[1mRows: \u001b[22m\u001b[34m4476\u001b[39m \u001b[1mColumns: \u001b[22m\u001b[34m23\u001b[39m\n",
      "\u001b[36m──\u001b[39m \u001b[1mColumn specification\u001b[22m \u001b[36m────────────────────────────────────────────────────────\u001b[39m\n",
      "\u001b[1mDelimiter:\u001b[22m \",\"\n",
      "\u001b[31mchr\u001b[39m (12): patientid, ecog, histology, groupstage, smokingstatus, gender, rac...\n",
      "\u001b[32mdbl\u001b[39m  (5): diagnosis_nsclc_year, diagnosis_ansclc_year, birthyear, bmi, index...\n",
      "\u001b[33mlgl\u001b[39m  (6): biomarker_pdl1, biomarker_alk, biomarker_ros1, biomarker_braf, bio...\n",
      "\n",
      "\u001b[36mℹ\u001b[39m Use `spec()` to retrieve the full column specification for this data.\n",
      "\u001b[36mℹ\u001b[39m Specify the column types or set `show_col_types = FALSE` to quiet this message.\n"
     ]
    },
    {
     "data": {
      "text/html": [
       "<table class=\"dataframe\">\n",
       "<caption>A tibble: 6 × 23</caption>\n",
       "<thead>\n",
       "\t<tr><th scope=col>patientid</th><th scope=col>diagnosis_nsclc_year</th><th scope=col>diagnosis_ansclc_year</th><th scope=col>ecog</th><th scope=col>histology</th><th scope=col>groupstage</th><th scope=col>smokingstatus</th><th scope=col>birthyear</th><th scope=col>gender</th><th scope=col>raceethnicity</th><th scope=col>⋯</th><th scope=col>biomarker_alk</th><th scope=col>biomarker_ros1</th><th scope=col>biomarker_braf</th><th scope=col>biomarker_egfr</th><th scope=col>biomarker_kras</th><th scope=col>lab_creatinine</th><th scope=col>lab_alanineaminotransferase</th><th scope=col>lab_ldh</th><th scope=col>bmi</th><th scope=col>index_lot1_year</th></tr>\n",
       "\t<tr><th scope=col>&lt;chr&gt;</th><th scope=col>&lt;dbl&gt;</th><th scope=col>&lt;dbl&gt;</th><th scope=col>&lt;chr&gt;</th><th scope=col>&lt;chr&gt;</th><th scope=col>&lt;chr&gt;</th><th scope=col>&lt;chr&gt;</th><th scope=col>&lt;dbl&gt;</th><th scope=col>&lt;chr&gt;</th><th scope=col>&lt;chr&gt;</th><th scope=col>⋯</th><th scope=col>&lt;lgl&gt;</th><th scope=col>&lt;lgl&gt;</th><th scope=col>&lt;lgl&gt;</th><th scope=col>&lt;lgl&gt;</th><th scope=col>&lt;lgl&gt;</th><th scope=col>&lt;chr&gt;</th><th scope=col>&lt;chr&gt;</th><th scope=col>&lt;chr&gt;</th><th scope=col>&lt;dbl&gt;</th><th scope=col>&lt;dbl&gt;</th></tr>\n",
       "</thead>\n",
       "<tbody>\n",
       "\t<tr><td>PHARML000007</td><td>2019</td><td>2019</td><td>Unknown</td><td>Non-squamous cell carcinoma</td><td>Stage IVA </td><td>History of smoking</td><td>1942</td><td>M</td><td>Other Race              </td><td>⋯</td><td>NA</td><td>NA</td><td>NA</td><td>NA</td><td>NA</td><td>NA      </td><td>NA    </td><td>NA      </td><td>22.41212</td><td>2019</td></tr>\n",
       "\t<tr><td>PHARML000016</td><td>2013</td><td>2014</td><td>2      </td><td>Squamous cell carcinoma    </td><td>Stage IIIA</td><td>History of smoking</td><td>1961</td><td>M</td><td>Other Race              </td><td>⋯</td><td>NA</td><td>NA</td><td>NA</td><td>NA</td><td>NA</td><td>normal  </td><td>normal</td><td>abnormal</td><td>23.47288</td><td>2014</td></tr>\n",
       "\t<tr><td>PHARML000038</td><td>2016</td><td>2017</td><td>0      </td><td>Non-squamous cell carcinoma</td><td>Stage IIA </td><td>History of smoking</td><td>1967</td><td>F</td><td>Hispanic or Latino (any)</td><td>⋯</td><td>NA</td><td>NA</td><td>NA</td><td>NA</td><td>NA</td><td>NA      </td><td>NA    </td><td>NA      </td><td>29.11700</td><td>2017</td></tr>\n",
       "\t<tr><td>PHARML000047</td><td>2017</td><td>2017</td><td>0      </td><td>Non-squamous cell carcinoma</td><td>Stage IV  </td><td>History of smoking</td><td>1942</td><td>M</td><td>Hispanic or Latino (any)</td><td>⋯</td><td>NA</td><td>NA</td><td>NA</td><td>NA</td><td>NA</td><td>NA      </td><td>NA    </td><td>NA      </td><td>27.80949</td><td>2017</td></tr>\n",
       "\t<tr><td>PHARML000052</td><td>2017</td><td>2017</td><td>1      </td><td>Squamous cell carcinoma    </td><td>Stage IIIB</td><td>History of smoking</td><td>1946</td><td>M</td><td>Hispanic or Latino (any)</td><td>⋯</td><td>NA</td><td>NA</td><td>NA</td><td>NA</td><td>NA</td><td>NA      </td><td>NA    </td><td>NA      </td><td>29.50382</td><td>2017</td></tr>\n",
       "\t<tr><td>PHARML000059</td><td>2013</td><td>2015</td><td>0      </td><td>Squamous cell carcinoma    </td><td>Stage IA  </td><td>History of smoking</td><td>1937</td><td>M</td><td>Hispanic or Latino (any)</td><td>⋯</td><td>NA</td><td>NA</td><td>NA</td><td>NA</td><td>NA</td><td>abnormal</td><td>normal</td><td>normal  </td><td>28.05609</td><td>2015</td></tr>\n",
       "</tbody>\n",
       "</table>\n"
      ],
      "text/latex": [
       "A tibble: 6 × 23\n",
       "\\begin{tabular}{lllllllllllllllllllll}\n",
       " patientid & diagnosis\\_nsclc\\_year & diagnosis\\_ansclc\\_year & ecog & histology & groupstage & smokingstatus & birthyear & gender & raceethnicity & ⋯ & biomarker\\_alk & biomarker\\_ros1 & biomarker\\_braf & biomarker\\_egfr & biomarker\\_kras & lab\\_creatinine & lab\\_alanineaminotransferase & lab\\_ldh & bmi & index\\_lot1\\_year\\\\\n",
       " <chr> & <dbl> & <dbl> & <chr> & <chr> & <chr> & <chr> & <dbl> & <chr> & <chr> & ⋯ & <lgl> & <lgl> & <lgl> & <lgl> & <lgl> & <chr> & <chr> & <chr> & <dbl> & <dbl>\\\\\n",
       "\\hline\n",
       "\t PHARML000007 & 2019 & 2019 & Unknown & Non-squamous cell carcinoma & Stage IVA  & History of smoking & 1942 & M & Other Race               & ⋯ & NA & NA & NA & NA & NA & NA       & NA     & NA       & 22.41212 & 2019\\\\\n",
       "\t PHARML000016 & 2013 & 2014 & 2       & Squamous cell carcinoma     & Stage IIIA & History of smoking & 1961 & M & Other Race               & ⋯ & NA & NA & NA & NA & NA & normal   & normal & abnormal & 23.47288 & 2014\\\\\n",
       "\t PHARML000038 & 2016 & 2017 & 0       & Non-squamous cell carcinoma & Stage IIA  & History of smoking & 1967 & F & Hispanic or Latino (any) & ⋯ & NA & NA & NA & NA & NA & NA       & NA     & NA       & 29.11700 & 2017\\\\\n",
       "\t PHARML000047 & 2017 & 2017 & 0       & Non-squamous cell carcinoma & Stage IV   & History of smoking & 1942 & M & Hispanic or Latino (any) & ⋯ & NA & NA & NA & NA & NA & NA       & NA     & NA       & 27.80949 & 2017\\\\\n",
       "\t PHARML000052 & 2017 & 2017 & 1       & Squamous cell carcinoma     & Stage IIIB & History of smoking & 1946 & M & Hispanic or Latino (any) & ⋯ & NA & NA & NA & NA & NA & NA       & NA     & NA       & 29.50382 & 2017\\\\\n",
       "\t PHARML000059 & 2013 & 2015 & 0       & Squamous cell carcinoma     & Stage IA   & History of smoking & 1937 & M & Hispanic or Latino (any) & ⋯ & NA & NA & NA & NA & NA & abnormal & normal & normal   & 28.05609 & 2015\\\\\n",
       "\\end{tabular}\n"
      ],
      "text/markdown": [
       "\n",
       "A tibble: 6 × 23\n",
       "\n",
       "| patientid &lt;chr&gt; | diagnosis_nsclc_year &lt;dbl&gt; | diagnosis_ansclc_year &lt;dbl&gt; | ecog &lt;chr&gt; | histology &lt;chr&gt; | groupstage &lt;chr&gt; | smokingstatus &lt;chr&gt; | birthyear &lt;dbl&gt; | gender &lt;chr&gt; | raceethnicity &lt;chr&gt; | ⋯ ⋯ | biomarker_alk &lt;lgl&gt; | biomarker_ros1 &lt;lgl&gt; | biomarker_braf &lt;lgl&gt; | biomarker_egfr &lt;lgl&gt; | biomarker_kras &lt;lgl&gt; | lab_creatinine &lt;chr&gt; | lab_alanineaminotransferase &lt;chr&gt; | lab_ldh &lt;chr&gt; | bmi &lt;dbl&gt; | index_lot1_year &lt;dbl&gt; |\n",
       "|---|---|---|---|---|---|---|---|---|---|---|---|---|---|---|---|---|---|---|---|---|\n",
       "| PHARML000007 | 2019 | 2019 | Unknown | Non-squamous cell carcinoma | Stage IVA  | History of smoking | 1942 | M | Other Race               | ⋯ | NA | NA | NA | NA | NA | NA       | NA     | NA       | 22.41212 | 2019 |\n",
       "| PHARML000016 | 2013 | 2014 | 2       | Squamous cell carcinoma     | Stage IIIA | History of smoking | 1961 | M | Other Race               | ⋯ | NA | NA | NA | NA | NA | normal   | normal | abnormal | 23.47288 | 2014 |\n",
       "| PHARML000038 | 2016 | 2017 | 0       | Non-squamous cell carcinoma | Stage IIA  | History of smoking | 1967 | F | Hispanic or Latino (any) | ⋯ | NA | NA | NA | NA | NA | NA       | NA     | NA       | 29.11700 | 2017 |\n",
       "| PHARML000047 | 2017 | 2017 | 0       | Non-squamous cell carcinoma | Stage IV   | History of smoking | 1942 | M | Hispanic or Latino (any) | ⋯ | NA | NA | NA | NA | NA | NA       | NA     | NA       | 27.80949 | 2017 |\n",
       "| PHARML000052 | 2017 | 2017 | 1       | Squamous cell carcinoma     | Stage IIIB | History of smoking | 1946 | M | Hispanic or Latino (any) | ⋯ | NA | NA | NA | NA | NA | NA       | NA     | NA       | 29.50382 | 2017 |\n",
       "| PHARML000059 | 2013 | 2015 | 0       | Squamous cell carcinoma     | Stage IA   | History of smoking | 1937 | M | Hispanic or Latino (any) | ⋯ | NA | NA | NA | NA | NA | abnormal | normal | normal   | 28.05609 | 2015 |\n",
       "\n"
      ],
      "text/plain": [
       "  patientid    diagnosis_nsclc_year diagnosis_ansclc_year ecog   \n",
       "1 PHARML000007 2019                 2019                  Unknown\n",
       "2 PHARML000016 2013                 2014                  2      \n",
       "3 PHARML000038 2016                 2017                  0      \n",
       "4 PHARML000047 2017                 2017                  0      \n",
       "5 PHARML000052 2017                 2017                  1      \n",
       "6 PHARML000059 2013                 2015                  0      \n",
       "  histology                   groupstage smokingstatus      birthyear gender\n",
       "1 Non-squamous cell carcinoma Stage IVA  History of smoking 1942      M     \n",
       "2 Squamous cell carcinoma     Stage IIIA History of smoking 1961      M     \n",
       "3 Non-squamous cell carcinoma Stage IIA  History of smoking 1967      F     \n",
       "4 Non-squamous cell carcinoma Stage IV   History of smoking 1942      M     \n",
       "5 Squamous cell carcinoma     Stage IIIB History of smoking 1946      M     \n",
       "6 Squamous cell carcinoma     Stage IA   History of smoking 1937      M     \n",
       "  raceethnicity            ⋯ biomarker_alk biomarker_ros1 biomarker_braf\n",
       "1 Other Race               ⋯ NA            NA             NA            \n",
       "2 Other Race               ⋯ NA            NA             NA            \n",
       "3 Hispanic or Latino (any) ⋯ NA            NA             NA            \n",
       "4 Hispanic or Latino (any) ⋯ NA            NA             NA            \n",
       "5 Hispanic or Latino (any) ⋯ NA            NA             NA            \n",
       "6 Hispanic or Latino (any) ⋯ NA            NA             NA            \n",
       "  biomarker_egfr biomarker_kras lab_creatinine lab_alanineaminotransferase\n",
       "1 NA             NA             NA             NA                         \n",
       "2 NA             NA             normal         normal                     \n",
       "3 NA             NA             NA             NA                         \n",
       "4 NA             NA             NA             NA                         \n",
       "5 NA             NA             NA             NA                         \n",
       "6 NA             NA             abnormal       normal                     \n",
       "  lab_ldh  bmi      index_lot1_year\n",
       "1 NA       22.41212 2019           \n",
       "2 abnormal 23.47288 2014           \n",
       "3 NA       29.11700 2017           \n",
       "4 NA       27.80949 2017           \n",
       "5 NA       29.50382 2017           \n",
       "6 normal   28.05609 2015           "
      ]
     },
     "metadata": {},
     "output_type": "display_data"
    }
   ],
   "source": [
    "flatiron_test <- read_csv(\"/pharml/data/flatiron_leaderboard.csv\")\n",
    "head(flatiron_test)"
   ]
  },
  {
   "cell_type": "code",
   "execution_count": 53,
   "id": "5b06af6a-7a05-4e7a-a7b5-907880a8ee37",
   "metadata": {},
   "outputs": [
    {
     "data": {
      "text/plain": [
       "  patientid         diagnosis_nsclc_year diagnosis_ansclc_year\n",
       " Length:4476        Min.   :1994         Min.   :2011         \n",
       " Class :character   1st Qu.:2014         1st Qu.:2014         \n",
       " Mode  :character   Median :2016         Median :2017         \n",
       "                    Mean   :2016         Mean   :2017         \n",
       "                    3rd Qu.:2019         3rd Qu.:2019         \n",
       "                    Max.   :2022         Max.   :2022         \n",
       "                    NA's   :2                                 \n",
       "     ecog            histology          groupstage        smokingstatus     \n",
       " Length:4476        Length:4476        Length:4476        Length:4476       \n",
       " Class :character   Class :character   Class :character   Class :character  \n",
       " Mode  :character   Mode  :character   Mode  :character   Mode  :character  \n",
       "                                                                            \n",
       "                                                                            \n",
       "                                                                            \n",
       "                                                                            \n",
       "   birthyear       gender          raceethnicity         region         \n",
       " Min.   :1937   Length:4476        Length:4476        Length:4476       \n",
       " 1st Qu.:1941   Class :character   Class :character   Class :character  \n",
       " Median :1948   Mode  :character   Mode  :character   Mode  :character  \n",
       " Mean   :1949                                                           \n",
       " 3rd Qu.:1955                                                           \n",
       " Max.   :1996                                                           \n",
       "                                                                        \n",
       " lot_category       biomarker_pdl1  biomarker_alk   biomarker_ros1 \n",
       " Length:4476        Mode :logical   Mode :logical   Mode :logical  \n",
       " Class :character   FALSE:10        FALSE:79        FALSE:52       \n",
       " Mode  :character   TRUE :26        NA's :4397      NA's :4424     \n",
       "                    NA's :4440                                     \n",
       "                                                                   \n",
       "                                                                   \n",
       "                                                                   \n",
       " biomarker_braf  biomarker_egfr  biomarker_kras  lab_creatinine    \n",
       " Mode :logical   Mode :logical   Mode :logical   Length:4476       \n",
       " FALSE:42        FALSE:77        FALSE:37        Class :character  \n",
       " TRUE :1         TRUE :8         TRUE :11        Mode  :character  \n",
       " NA's :4433      NA's :4391      NA's :4428                        \n",
       "                                                                   \n",
       "                                                                   \n",
       "                                                                   \n",
       " lab_alanineaminotransferase   lab_ldh               bmi        index_lot1_year\n",
       " Length:4476                 Length:4476        Min.   :12.86   Min.   :2011   \n",
       " Class :character            Class :character   1st Qu.:22.14   1st Qu.:2014   \n",
       " Mode  :character            Mode  :character   Median :25.53   Median :2017   \n",
       "                                                Mean   :26.27   Mean   :2017   \n",
       "                                                3rd Qu.:29.58   3rd Qu.:2019   \n",
       "                                                Max.   :93.16   Max.   :2022   \n",
       "                                                NA's   :187                    "
      ]
     },
     "metadata": {},
     "output_type": "display_data"
    }
   ],
   "source": [
    "summary(flatiron_test)"
   ]
  },
  {
   "cell_type": "code",
   "execution_count": 54,
   "id": "a6fe4396-e4c2-4d49-a958-861eb95bb2bb",
   "metadata": {},
   "outputs": [
    {
     "data": {
      "text/html": [
       "<style>\n",
       ".list-inline {list-style: none; margin:0; padding: 0}\n",
       ".list-inline>li {display: inline-block}\n",
       ".list-inline>li:not(:last-child)::after {content: \"\\00b7\"; padding: 0 .5ex}\n",
       "</style>\n",
       "<ol class=list-inline><li>&lt;NA&gt;</li><li>FALSE</li><li>TRUE</li></ol>\n"
      ],
      "text/latex": [
       "\\begin{enumerate*}\n",
       "\\item <NA>\n",
       "\\item FALSE\n",
       "\\item TRUE\n",
       "\\end{enumerate*}\n"
      ],
      "text/markdown": [
       "1. &lt;NA&gt;\n",
       "2. FALSE\n",
       "3. TRUE\n",
       "\n",
       "\n"
      ],
      "text/plain": [
       "[1]    NA FALSE  TRUE"
      ]
     },
     "metadata": {},
     "output_type": "display_data"
    }
   ],
   "source": [
    "unique(flatiron_test$biomarker_egfr)"
   ]
  },
  {
   "cell_type": "code",
   "execution_count": 55,
   "id": "e68af9f5-42b8-44f4-b236-ef90d52b4f8d",
   "metadata": {},
   "outputs": [
    {
     "data": {
      "text/plain": [
       "  patientid         diagnosis_nsclc_year diagnosis_ansclc_year\n",
       " Length:4474        Min.   :1994         Min.   :2011         \n",
       " Class :character   1st Qu.:2014         1st Qu.:2014         \n",
       " Mode  :character   Median :2016         Median :2017         \n",
       "                    Mean   :2016         Mean   :2017         \n",
       "                    3rd Qu.:2019         3rd Qu.:2019         \n",
       "                    Max.   :2022         Max.   :2022         \n",
       "                                                              \n",
       "     ecog            histology          groupstage        smokingstatus     \n",
       " Length:4474        Length:4474        Length:4474        Length:4474       \n",
       " Class :character   Class :character   Class :character   Class :character  \n",
       " Mode  :character   Mode  :character   Mode  :character   Mode  :character  \n",
       "                                                                            \n",
       "                                                                            \n",
       "                                                                            \n",
       "                                                                            \n",
       "   birthyear       gender          raceethnicity         region         \n",
       " Min.   :1937   Length:4474        Length:4474        Length:4474       \n",
       " 1st Qu.:1941   Class :character   Class :character   Class :character  \n",
       " Median :1948   Mode  :character   Mode  :character   Mode  :character  \n",
       " Mean   :1949                                                           \n",
       " 3rd Qu.:1955                                                           \n",
       " Max.   :1996                                                           \n",
       "                                                                        \n",
       " lot_category       biomarker_pdl1  biomarker_alk   biomarker_ros1 \n",
       " Length:4474        Mode :logical   Mode :logical   Mode :logical  \n",
       " Class :character   FALSE:10        FALSE:79        FALSE:52       \n",
       " Mode  :character   TRUE :26        NA's :4395      NA's :4422     \n",
       "                    NA's :4438                                     \n",
       "                                                                   \n",
       "                                                                   \n",
       "                                                                   \n",
       " biomarker_braf  biomarker_egfr  biomarker_kras  lab_creatinine    \n",
       " Mode :logical   Mode :logical   Mode :logical   Length:4474       \n",
       " FALSE:42        FALSE:77        FALSE:37        Class :character  \n",
       " TRUE :1         TRUE :8         TRUE :11        Mode  :character  \n",
       " NA's :4431      NA's :4389      NA's :4426                        \n",
       "                                                                   \n",
       "                                                                   \n",
       "                                                                   \n",
       " lab_alanineaminotransferase   lab_ldh               bmi        index_lot1_year\n",
       " Length:4474                 Length:4474        Min.   :12.86   Min.   :2011   \n",
       " Class :character            Class :character   1st Qu.:22.14   1st Qu.:2014   \n",
       " Mode  :character            Mode  :character   Median :25.54   Median :2017   \n",
       "                                                Mean   :26.27   Mean   :2017   \n",
       "                                                3rd Qu.:29.58   3rd Qu.:2019   \n",
       "                                                Max.   :93.16   Max.   :2022   \n",
       "                                                NA's   :186                    "
      ]
     },
     "metadata": {},
     "output_type": "display_data"
    }
   ],
   "source": [
    "flatiron_test1 <- flatiron_test %>% filter(!is.na(diagnosis_nsclc_year))\n",
    "summary(flatiron_test1)"
   ]
  },
  {
   "cell_type": "code",
   "execution_count": 56,
   "id": "3381a5df-8d51-41dd-b569-8037fd91e1c3",
   "metadata": {},
   "outputs": [],
   "source": [
    "flatiron_test1 <- flatiron_test1 %>% replace_with_na(replace = list(bmi = \"<NA>\"))"
   ]
  },
  {
   "cell_type": "code",
   "execution_count": 57,
   "id": "cdc1ec7a-698e-4b52-923e-168940f77ec2",
   "metadata": {},
   "outputs": [],
   "source": [
    "toReplace1 <- which(is.na(flatiron_test1$bmi))\n",
    "flatiron_test1$bmi[toReplace1] <- 19.0"
   ]
  },
  {
   "cell_type": "code",
   "execution_count": 58,
   "id": "3c20c267-a94c-4a51-8f4f-dcb85017c212",
   "metadata": {},
   "outputs": [
    {
     "name": "stdout",
     "output_type": "stream",
     "text": [
      "[1] TRUE\n",
      "[1] TRUE\n",
      "[1] TRUE\n",
      "[1] TRUE\n"
     ]
    },
    {
     "name": "stderr",
     "output_type": "stream",
     "text": [
      "The data contains NA values. Imputing NA with 'NA' \n",
      "\n"
     ]
    },
    {
     "name": "stdout",
     "output_type": "stream",
     "text": [
      "[1] TRUE\n"
     ]
    },
    {
     "name": "stderr",
     "output_type": "stream",
     "text": [
      "The data contains NA values. Imputing NA with 'NA' \n",
      "\n",
      "The data contains NA values. Imputing NA with 'NA' \n",
      "\n"
     ]
    },
    {
     "name": "stdout",
     "output_type": "stream",
     "text": [
      "[1] TRUE\n"
     ]
    },
    {
     "name": "stderr",
     "output_type": "stream",
     "text": [
      "The data contains NA values. Imputing NA with 'NA' \n",
      "\n",
      "The data contains NA values. Imputing NA with 'NA' \n",
      "\n"
     ]
    },
    {
     "name": "stdout",
     "output_type": "stream",
     "text": [
      "[1] TRUE\n"
     ]
    },
    {
     "name": "stderr",
     "output_type": "stream",
     "text": [
      "The data contains NA values. Imputing NA with 'NA' \n",
      "\n",
      "The data contains NA values. Imputing NA with 'NA' \n",
      "\n"
     ]
    },
    {
     "name": "stdout",
     "output_type": "stream",
     "text": [
      "[1] TRUE\n"
     ]
    },
    {
     "name": "stderr",
     "output_type": "stream",
     "text": [
      "The data contains NA values. Imputing NA with 'NA' \n",
      "\n",
      "The data contains NA values. Imputing NA with 'NA' \n",
      "\n"
     ]
    },
    {
     "name": "stdout",
     "output_type": "stream",
     "text": [
      "[1] TRUE\n"
     ]
    },
    {
     "name": "stderr",
     "output_type": "stream",
     "text": [
      "The data contains NA values. Imputing NA with 'NA' \n",
      "\n",
      "The data contains NA values. Imputing NA with 'NA' \n",
      "\n"
     ]
    },
    {
     "name": "stdout",
     "output_type": "stream",
     "text": [
      "[1] TRUE\n"
     ]
    },
    {
     "name": "stderr",
     "output_type": "stream",
     "text": [
      "The data contains NA values. Imputing NA with 'NA' \n",
      "\n",
      "The data contains NA values. Imputing NA with 'NA' \n",
      "\n"
     ]
    },
    {
     "name": "stdout",
     "output_type": "stream",
     "text": [
      "[1] TRUE\n"
     ]
    },
    {
     "name": "stderr",
     "output_type": "stream",
     "text": [
      "The data contains NA values. Imputing NA with 'NA' \n",
      "\n",
      "The data contains NA values. Imputing NA with 'NA' \n",
      "\n"
     ]
    },
    {
     "name": "stdout",
     "output_type": "stream",
     "text": [
      "[1] TRUE\n"
     ]
    },
    {
     "name": "stderr",
     "output_type": "stream",
     "text": [
      "The data contains NA values. Imputing NA with 'NA' \n",
      "\n",
      "The data contains NA values. Imputing NA with 'NA' \n",
      "\n"
     ]
    },
    {
     "name": "stdout",
     "output_type": "stream",
     "text": [
      "[1] TRUE\n"
     ]
    },
    {
     "name": "stderr",
     "output_type": "stream",
     "text": [
      "The data contains NA values. Imputing NA with 'NA' \n",
      "\n"
     ]
    }
   ],
   "source": [
    "#Label encode categorical variables\n",
    "label <- LabelEncoder$new()\n",
    "print(label$fit(flatiron_test1$ecog))\n",
    "flatiron_test1$ecog <- label$fit_transform(flatiron_test1$ecog)\n",
    "\n",
    "label <- LabelEncoder$new()\n",
    "print(label$fit(flatiron_test1$groupstage))\n",
    "flatiron_test1$groupstage <- label$fit_transform(flatiron_test1$groupstage)\n",
    "\n",
    "label <- LabelEncoder$new()\n",
    "print(label$fit(flatiron_test1$smokingstatus))\n",
    "flatiron_test1$smokingstatus <- label$fit_transform(flatiron_test1$smokingstatus)\n",
    "\n",
    "label <- LabelEncoder$new()\n",
    "print(label$fit(flatiron_test1$gender))\n",
    "flatiron_test1$gender <- label$fit_transform(flatiron_test1$gender)\n",
    "\n",
    "label <- LabelEncoder$new()\n",
    "print(label$fit(flatiron_test1$lab_ldh))\n",
    "flatiron_test1$lab_ldh <- label$fit_transform(flatiron_test1$lab_ldh)\n",
    "\n",
    "label <- LabelEncoder$new()\n",
    "print(label$fit(flatiron_test1$lab_alanineaminotransferase))\n",
    "flatiron_test1$lab_alanineaminotransferase <- label$fit_transform(flatiron_test1$lab_alanineaminotransferase)\n",
    "\n",
    "label <- LabelEncoder$new()\n",
    "print(label$fit(flatiron_test1$lab_creatinine))\n",
    "flatiron_test1$lab_creatinine <- label$fit_transform(flatiron_test1$lab_creatinine)\n",
    "\n",
    "label <- LabelEncoder$new()\n",
    "print(label$fit(flatiron_test1$biomarker_pdl1))\n",
    "flatiron_test1$biomarker_pdl1 <- label$fit_transform(flatiron_test1$biomarker_pdl1)\n",
    "\n",
    "label <- LabelEncoder$new()\n",
    "print(label$fit(flatiron_test1$biomarker_alk))\n",
    "flatiron_test1$biomarker_alk <- label$fit_transform(flatiron_test1$biomarker_alk)\n",
    "\n",
    "label <- LabelEncoder$new()\n",
    "print(label$fit(flatiron_test1$biomarker_ros1))\n",
    "flatiron_test1$biomarker_ros1 <- label$fit_transform(flatiron_test1$biomarker_ros1)\n",
    "\n",
    "label <- LabelEncoder$new()\n",
    "print(label$fit(flatiron_test1$biomarker_braf))\n",
    "flatiron_test1$biomarker_braf <- label$fit_transform(flatiron_test1$biomarker_braf)\n",
    "\n",
    "label <- LabelEncoder$new()\n",
    "print(label$fit(flatiron_test1$biomarker_egfr))\n",
    "flatiron_test1$biomarker_egfr <- label$fit_transform(flatiron_test1$biomarker_egfr)\n",
    "\n",
    "label <- LabelEncoder$new()\n",
    "print(label$fit(flatiron_test1$biomarker_kras))\n",
    "flatiron_test1$biomarker_kras <- label$fit_transform(flatiron_test1$biomarker_kras)"
   ]
  },
  {
   "cell_type": "code",
   "execution_count": 59,
   "id": "ea1f31d8-482c-4eaf-9b01-aa0dcb998be3",
   "metadata": {},
   "outputs": [
    {
     "data": {
      "text/html": [
       "<table class=\"dataframe\">\n",
       "<caption>A tibble: 6 × 26</caption>\n",
       "<thead>\n",
       "\t<tr><th scope=col>patientid</th><th scope=col>diagnosis_nsclc_year</th><th scope=col>diagnosis_ansclc_year</th><th scope=col>ecog</th><th scope=col>histology</th><th scope=col>groupstage</th><th scope=col>smokingstatus</th><th scope=col>birthyear</th><th scope=col>gender</th><th scope=col>raceethnicity</th><th scope=col>⋯</th><th scope=col>biomarker_egfr</th><th scope=col>biomarker_kras</th><th scope=col>lab_creatinine</th><th scope=col>lab_alanineaminotransferase</th><th scope=col>lab_ldh</th><th scope=col>bmi</th><th scope=col>index_lot1_year</th><th scope=col>ageAtdiagnosis</th><th scope=col>yrsToprogress</th><th scope=col>TimetoTx</th></tr>\n",
       "\t<tr><th scope=col>&lt;chr&gt;</th><th scope=col>&lt;dbl&gt;</th><th scope=col>&lt;dbl&gt;</th><th scope=col>&lt;dbl&gt;</th><th scope=col>&lt;chr&gt;</th><th scope=col>&lt;dbl&gt;</th><th scope=col>&lt;dbl&gt;</th><th scope=col>&lt;dbl&gt;</th><th scope=col>&lt;dbl&gt;</th><th scope=col>&lt;chr&gt;</th><th scope=col>⋯</th><th scope=col>&lt;dbl&gt;</th><th scope=col>&lt;dbl&gt;</th><th scope=col>&lt;dbl&gt;</th><th scope=col>&lt;dbl&gt;</th><th scope=col>&lt;dbl&gt;</th><th scope=col>&lt;dbl&gt;</th><th scope=col>&lt;dbl&gt;</th><th scope=col>&lt;dbl&gt;</th><th scope=col>&lt;dbl&gt;</th><th scope=col>&lt;dbl&gt;</th></tr>\n",
       "</thead>\n",
       "<tbody>\n",
       "\t<tr><td>PHARML000007</td><td>2019</td><td>2019</td><td>0</td><td>Non-squamous cell carcinoma</td><td>0</td><td>0</td><td>1942</td><td>0</td><td>Other Race              </td><td>⋯</td><td>0</td><td>0</td><td>0</td><td>0</td><td>0</td><td>22.41212</td><td>2019</td><td>77</td><td>0</td><td>0</td></tr>\n",
       "\t<tr><td>PHARML000016</td><td>2013</td><td>2014</td><td>1</td><td>Squamous cell carcinoma    </td><td>1</td><td>0</td><td>1961</td><td>0</td><td>Other Race              </td><td>⋯</td><td>0</td><td>0</td><td>1</td><td>1</td><td>1</td><td>23.47288</td><td>2014</td><td>52</td><td>1</td><td>1</td></tr>\n",
       "\t<tr><td>PHARML000038</td><td>2016</td><td>2017</td><td>2</td><td>Non-squamous cell carcinoma</td><td>2</td><td>0</td><td>1967</td><td>1</td><td>Hispanic or Latino (any)</td><td>⋯</td><td>0</td><td>0</td><td>0</td><td>0</td><td>0</td><td>29.11700</td><td>2017</td><td>49</td><td>1</td><td>1</td></tr>\n",
       "\t<tr><td>PHARML000047</td><td>2017</td><td>2017</td><td>2</td><td>Non-squamous cell carcinoma</td><td>3</td><td>0</td><td>1942</td><td>0</td><td>Hispanic or Latino (any)</td><td>⋯</td><td>0</td><td>0</td><td>0</td><td>0</td><td>0</td><td>27.80949</td><td>2017</td><td>75</td><td>0</td><td>0</td></tr>\n",
       "\t<tr><td>PHARML000052</td><td>2017</td><td>2017</td><td>3</td><td>Squamous cell carcinoma    </td><td>4</td><td>0</td><td>1946</td><td>0</td><td>Hispanic or Latino (any)</td><td>⋯</td><td>0</td><td>0</td><td>0</td><td>0</td><td>0</td><td>29.50382</td><td>2017</td><td>71</td><td>0</td><td>0</td></tr>\n",
       "\t<tr><td>PHARML000059</td><td>2013</td><td>2015</td><td>2</td><td>Squamous cell carcinoma    </td><td>5</td><td>0</td><td>1937</td><td>0</td><td>Hispanic or Latino (any)</td><td>⋯</td><td>0</td><td>0</td><td>2</td><td>1</td><td>2</td><td>28.05609</td><td>2015</td><td>76</td><td>2</td><td>2</td></tr>\n",
       "</tbody>\n",
       "</table>\n"
      ],
      "text/latex": [
       "A tibble: 6 × 26\n",
       "\\begin{tabular}{lllllllllllllllllllll}\n",
       " patientid & diagnosis\\_nsclc\\_year & diagnosis\\_ansclc\\_year & ecog & histology & groupstage & smokingstatus & birthyear & gender & raceethnicity & ⋯ & biomarker\\_egfr & biomarker\\_kras & lab\\_creatinine & lab\\_alanineaminotransferase & lab\\_ldh & bmi & index\\_lot1\\_year & ageAtdiagnosis & yrsToprogress & TimetoTx\\\\\n",
       " <chr> & <dbl> & <dbl> & <dbl> & <chr> & <dbl> & <dbl> & <dbl> & <dbl> & <chr> & ⋯ & <dbl> & <dbl> & <dbl> & <dbl> & <dbl> & <dbl> & <dbl> & <dbl> & <dbl> & <dbl>\\\\\n",
       "\\hline\n",
       "\t PHARML000007 & 2019 & 2019 & 0 & Non-squamous cell carcinoma & 0 & 0 & 1942 & 0 & Other Race               & ⋯ & 0 & 0 & 0 & 0 & 0 & 22.41212 & 2019 & 77 & 0 & 0\\\\\n",
       "\t PHARML000016 & 2013 & 2014 & 1 & Squamous cell carcinoma     & 1 & 0 & 1961 & 0 & Other Race               & ⋯ & 0 & 0 & 1 & 1 & 1 & 23.47288 & 2014 & 52 & 1 & 1\\\\\n",
       "\t PHARML000038 & 2016 & 2017 & 2 & Non-squamous cell carcinoma & 2 & 0 & 1967 & 1 & Hispanic or Latino (any) & ⋯ & 0 & 0 & 0 & 0 & 0 & 29.11700 & 2017 & 49 & 1 & 1\\\\\n",
       "\t PHARML000047 & 2017 & 2017 & 2 & Non-squamous cell carcinoma & 3 & 0 & 1942 & 0 & Hispanic or Latino (any) & ⋯ & 0 & 0 & 0 & 0 & 0 & 27.80949 & 2017 & 75 & 0 & 0\\\\\n",
       "\t PHARML000052 & 2017 & 2017 & 3 & Squamous cell carcinoma     & 4 & 0 & 1946 & 0 & Hispanic or Latino (any) & ⋯ & 0 & 0 & 0 & 0 & 0 & 29.50382 & 2017 & 71 & 0 & 0\\\\\n",
       "\t PHARML000059 & 2013 & 2015 & 2 & Squamous cell carcinoma     & 5 & 0 & 1937 & 0 & Hispanic or Latino (any) & ⋯ & 0 & 0 & 2 & 1 & 2 & 28.05609 & 2015 & 76 & 2 & 2\\\\\n",
       "\\end{tabular}\n"
      ],
      "text/markdown": [
       "\n",
       "A tibble: 6 × 26\n",
       "\n",
       "| patientid &lt;chr&gt; | diagnosis_nsclc_year &lt;dbl&gt; | diagnosis_ansclc_year &lt;dbl&gt; | ecog &lt;dbl&gt; | histology &lt;chr&gt; | groupstage &lt;dbl&gt; | smokingstatus &lt;dbl&gt; | birthyear &lt;dbl&gt; | gender &lt;dbl&gt; | raceethnicity &lt;chr&gt; | ⋯ ⋯ | biomarker_egfr &lt;dbl&gt; | biomarker_kras &lt;dbl&gt; | lab_creatinine &lt;dbl&gt; | lab_alanineaminotransferase &lt;dbl&gt; | lab_ldh &lt;dbl&gt; | bmi &lt;dbl&gt; | index_lot1_year &lt;dbl&gt; | ageAtdiagnosis &lt;dbl&gt; | yrsToprogress &lt;dbl&gt; | TimetoTx &lt;dbl&gt; |\n",
       "|---|---|---|---|---|---|---|---|---|---|---|---|---|---|---|---|---|---|---|---|---|\n",
       "| PHARML000007 | 2019 | 2019 | 0 | Non-squamous cell carcinoma | 0 | 0 | 1942 | 0 | Other Race               | ⋯ | 0 | 0 | 0 | 0 | 0 | 22.41212 | 2019 | 77 | 0 | 0 |\n",
       "| PHARML000016 | 2013 | 2014 | 1 | Squamous cell carcinoma     | 1 | 0 | 1961 | 0 | Other Race               | ⋯ | 0 | 0 | 1 | 1 | 1 | 23.47288 | 2014 | 52 | 1 | 1 |\n",
       "| PHARML000038 | 2016 | 2017 | 2 | Non-squamous cell carcinoma | 2 | 0 | 1967 | 1 | Hispanic or Latino (any) | ⋯ | 0 | 0 | 0 | 0 | 0 | 29.11700 | 2017 | 49 | 1 | 1 |\n",
       "| PHARML000047 | 2017 | 2017 | 2 | Non-squamous cell carcinoma | 3 | 0 | 1942 | 0 | Hispanic or Latino (any) | ⋯ | 0 | 0 | 0 | 0 | 0 | 27.80949 | 2017 | 75 | 0 | 0 |\n",
       "| PHARML000052 | 2017 | 2017 | 3 | Squamous cell carcinoma     | 4 | 0 | 1946 | 0 | Hispanic or Latino (any) | ⋯ | 0 | 0 | 0 | 0 | 0 | 29.50382 | 2017 | 71 | 0 | 0 |\n",
       "| PHARML000059 | 2013 | 2015 | 2 | Squamous cell carcinoma     | 5 | 0 | 1937 | 0 | Hispanic or Latino (any) | ⋯ | 0 | 0 | 2 | 1 | 2 | 28.05609 | 2015 | 76 | 2 | 2 |\n",
       "\n"
      ],
      "text/plain": [
       "  patientid    diagnosis_nsclc_year diagnosis_ansclc_year ecog\n",
       "1 PHARML000007 2019                 2019                  0   \n",
       "2 PHARML000016 2013                 2014                  1   \n",
       "3 PHARML000038 2016                 2017                  2   \n",
       "4 PHARML000047 2017                 2017                  2   \n",
       "5 PHARML000052 2017                 2017                  3   \n",
       "6 PHARML000059 2013                 2015                  2   \n",
       "  histology                   groupstage smokingstatus birthyear gender\n",
       "1 Non-squamous cell carcinoma 0          0             1942      0     \n",
       "2 Squamous cell carcinoma     1          0             1961      0     \n",
       "3 Non-squamous cell carcinoma 2          0             1967      1     \n",
       "4 Non-squamous cell carcinoma 3          0             1942      0     \n",
       "5 Squamous cell carcinoma     4          0             1946      0     \n",
       "6 Squamous cell carcinoma     5          0             1937      0     \n",
       "  raceethnicity            ⋯ biomarker_egfr biomarker_kras lab_creatinine\n",
       "1 Other Race               ⋯ 0              0              0             \n",
       "2 Other Race               ⋯ 0              0              1             \n",
       "3 Hispanic or Latino (any) ⋯ 0              0              0             \n",
       "4 Hispanic or Latino (any) ⋯ 0              0              0             \n",
       "5 Hispanic or Latino (any) ⋯ 0              0              0             \n",
       "6 Hispanic or Latino (any) ⋯ 0              0              2             \n",
       "  lab_alanineaminotransferase lab_ldh bmi      index_lot1_year ageAtdiagnosis\n",
       "1 0                           0       22.41212 2019            77            \n",
       "2 1                           1       23.47288 2014            52            \n",
       "3 0                           0       29.11700 2017            49            \n",
       "4 0                           0       27.80949 2017            75            \n",
       "5 0                           0       29.50382 2017            71            \n",
       "6 1                           2       28.05609 2015            76            \n",
       "  yrsToprogress TimetoTx\n",
       "1 0             0       \n",
       "2 1             1       \n",
       "3 1             1       \n",
       "4 0             0       \n",
       "5 0             0       \n",
       "6 2             2       "
      ]
     },
     "metadata": {},
     "output_type": "display_data"
    }
   ],
   "source": [
    "#Mutate in age at diagnosis etc\n",
    "flatiron_test2 <- flatiron_test1 %>% mutate(ageAtdiagnosis = diagnosis_nsclc_year - birthyear, \n",
    "    yrsToprogress = diagnosis_ansclc_year - diagnosis_nsclc_year, \n",
    "                                              TimetoTx = index_lot1_year - diagnosis_nsclc_year)\n",
    "head(flatiron_test2)"
   ]
  },
  {
   "cell_type": "code",
   "execution_count": 60,
   "id": "0f01fdc4-0b69-4bcb-b270-da5ed2439459",
   "metadata": {},
   "outputs": [
    {
     "data": {
      "text/html": [
       "<table class=\"dataframe\">\n",
       "<caption>A tibble: 6 × 46</caption>\n",
       "<thead>\n",
       "\t<tr><th scope=col>patientid</th><th scope=col>diagnosis_nsclc_year</th><th scope=col>diagnosis_ansclc_year</th><th scope=col>ecog</th><th scope=col>histology</th><th scope=col>groupstage</th><th scope=col>smokingstatus</th><th scope=col>birthyear</th><th scope=col>gender</th><th scope=col>raceethnicity</th><th scope=col>⋯</th><th scope=col>South</th><th scope=col>West</th><th scope=col>Other</th><th scope=col>Chemotherapy</th><th scope=col>Immunotherapy</th><th scope=col>TargBiologic</th><th scope=col>TargNonBiologic</th><th scope=col>Hormone</th><th scope=col>AntibodyConj</th><th scope=col>Cytoprotective</th></tr>\n",
       "\t<tr><th scope=col>&lt;chr&gt;</th><th scope=col>&lt;dbl&gt;</th><th scope=col>&lt;dbl&gt;</th><th scope=col>&lt;dbl&gt;</th><th scope=col>&lt;chr&gt;</th><th scope=col>&lt;dbl&gt;</th><th scope=col>&lt;dbl&gt;</th><th scope=col>&lt;dbl&gt;</th><th scope=col>&lt;dbl&gt;</th><th scope=col>&lt;chr&gt;</th><th scope=col>⋯</th><th scope=col>&lt;dbl&gt;</th><th scope=col>&lt;dbl&gt;</th><th scope=col>&lt;dbl&gt;</th><th scope=col>&lt;dbl&gt;</th><th scope=col>&lt;dbl&gt;</th><th scope=col>&lt;dbl&gt;</th><th scope=col>&lt;dbl&gt;</th><th scope=col>&lt;dbl&gt;</th><th scope=col>&lt;dbl&gt;</th><th scope=col>&lt;dbl&gt;</th></tr>\n",
       "</thead>\n",
       "<tbody>\n",
       "\t<tr><td>PHARML000007</td><td>2019</td><td>2019</td><td>0</td><td>Non-squamous cell carcinoma</td><td>0</td><td>0</td><td>1942</td><td>0</td><td>Other Race              </td><td>⋯</td><td>1</td><td>0</td><td>0</td><td> 0</td><td> 0</td><td> 0</td><td> 0</td><td> 0</td><td> 0</td><td> 0</td></tr>\n",
       "\t<tr><td>PHARML000016</td><td>2013</td><td>2014</td><td>1</td><td>Squamous cell carcinoma    </td><td>1</td><td>0</td><td>1961</td><td>0</td><td>Other Race              </td><td>⋯</td><td>1</td><td>0</td><td>0</td><td> 1</td><td> 0</td><td> 0</td><td> 0</td><td> 0</td><td> 0</td><td> 0</td></tr>\n",
       "\t<tr><td>PHARML000038</td><td>2016</td><td>2017</td><td>2</td><td>Non-squamous cell carcinoma</td><td>2</td><td>0</td><td>1967</td><td>1</td><td>Hispanic or Latino (any)</td><td>⋯</td><td>0</td><td>0</td><td>0</td><td> 0</td><td> 1</td><td> 0</td><td> 0</td><td> 0</td><td> 0</td><td> 0</td></tr>\n",
       "\t<tr><td>PHARML000047</td><td>2017</td><td>2017</td><td>2</td><td>Non-squamous cell carcinoma</td><td>3</td><td>0</td><td>1942</td><td>0</td><td>Hispanic or Latino (any)</td><td>⋯</td><td>1</td><td>0</td><td>0</td><td>NA</td><td>NA</td><td>NA</td><td>NA</td><td>NA</td><td>NA</td><td>NA</td></tr>\n",
       "\t<tr><td>PHARML000052</td><td>2017</td><td>2017</td><td>3</td><td>Squamous cell carcinoma    </td><td>4</td><td>0</td><td>1946</td><td>0</td><td>Hispanic or Latino (any)</td><td>⋯</td><td>1</td><td>0</td><td>0</td><td> 0</td><td> 0</td><td> 0</td><td> 0</td><td> 0</td><td> 0</td><td> 0</td></tr>\n",
       "\t<tr><td>PHARML000059</td><td>2013</td><td>2015</td><td>2</td><td>Squamous cell carcinoma    </td><td>5</td><td>0</td><td>1937</td><td>0</td><td>Hispanic or Latino (any)</td><td>⋯</td><td>0</td><td>1</td><td>0</td><td> 0</td><td> 0</td><td> 0</td><td> 0</td><td> 0</td><td> 0</td><td> 0</td></tr>\n",
       "</tbody>\n",
       "</table>\n"
      ],
      "text/latex": [
       "A tibble: 6 × 46\n",
       "\\begin{tabular}{lllllllllllllllllllll}\n",
       " patientid & diagnosis\\_nsclc\\_year & diagnosis\\_ansclc\\_year & ecog & histology & groupstage & smokingstatus & birthyear & gender & raceethnicity & ⋯ & South & West & Other & Chemotherapy & Immunotherapy & TargBiologic & TargNonBiologic & Hormone & AntibodyConj & Cytoprotective\\\\\n",
       " <chr> & <dbl> & <dbl> & <dbl> & <chr> & <dbl> & <dbl> & <dbl> & <dbl> & <chr> & ⋯ & <dbl> & <dbl> & <dbl> & <dbl> & <dbl> & <dbl> & <dbl> & <dbl> & <dbl> & <dbl>\\\\\n",
       "\\hline\n",
       "\t PHARML000007 & 2019 & 2019 & 0 & Non-squamous cell carcinoma & 0 & 0 & 1942 & 0 & Other Race               & ⋯ & 1 & 0 & 0 &  0 &  0 &  0 &  0 &  0 &  0 &  0\\\\\n",
       "\t PHARML000016 & 2013 & 2014 & 1 & Squamous cell carcinoma     & 1 & 0 & 1961 & 0 & Other Race               & ⋯ & 1 & 0 & 0 &  1 &  0 &  0 &  0 &  0 &  0 &  0\\\\\n",
       "\t PHARML000038 & 2016 & 2017 & 2 & Non-squamous cell carcinoma & 2 & 0 & 1967 & 1 & Hispanic or Latino (any) & ⋯ & 0 & 0 & 0 &  0 &  1 &  0 &  0 &  0 &  0 &  0\\\\\n",
       "\t PHARML000047 & 2017 & 2017 & 2 & Non-squamous cell carcinoma & 3 & 0 & 1942 & 0 & Hispanic or Latino (any) & ⋯ & 1 & 0 & 0 & NA & NA & NA & NA & NA & NA & NA\\\\\n",
       "\t PHARML000052 & 2017 & 2017 & 3 & Squamous cell carcinoma     & 4 & 0 & 1946 & 0 & Hispanic or Latino (any) & ⋯ & 1 & 0 & 0 &  0 &  0 &  0 &  0 &  0 &  0 &  0\\\\\n",
       "\t PHARML000059 & 2013 & 2015 & 2 & Squamous cell carcinoma     & 5 & 0 & 1937 & 0 & Hispanic or Latino (any) & ⋯ & 0 & 1 & 0 &  0 &  0 &  0 &  0 &  0 &  0 &  0\\\\\n",
       "\\end{tabular}\n"
      ],
      "text/markdown": [
       "\n",
       "A tibble: 6 × 46\n",
       "\n",
       "| patientid &lt;chr&gt; | diagnosis_nsclc_year &lt;dbl&gt; | diagnosis_ansclc_year &lt;dbl&gt; | ecog &lt;dbl&gt; | histology &lt;chr&gt; | groupstage &lt;dbl&gt; | smokingstatus &lt;dbl&gt; | birthyear &lt;dbl&gt; | gender &lt;dbl&gt; | raceethnicity &lt;chr&gt; | ⋯ ⋯ | South &lt;dbl&gt; | West &lt;dbl&gt; | Other &lt;dbl&gt; | Chemotherapy &lt;dbl&gt; | Immunotherapy &lt;dbl&gt; | TargBiologic &lt;dbl&gt; | TargNonBiologic &lt;dbl&gt; | Hormone &lt;dbl&gt; | AntibodyConj &lt;dbl&gt; | Cytoprotective &lt;dbl&gt; |\n",
       "|---|---|---|---|---|---|---|---|---|---|---|---|---|---|---|---|---|---|---|---|---|\n",
       "| PHARML000007 | 2019 | 2019 | 0 | Non-squamous cell carcinoma | 0 | 0 | 1942 | 0 | Other Race               | ⋯ | 1 | 0 | 0 |  0 |  0 |  0 |  0 |  0 |  0 |  0 |\n",
       "| PHARML000016 | 2013 | 2014 | 1 | Squamous cell carcinoma     | 1 | 0 | 1961 | 0 | Other Race               | ⋯ | 1 | 0 | 0 |  1 |  0 |  0 |  0 |  0 |  0 |  0 |\n",
       "| PHARML000038 | 2016 | 2017 | 2 | Non-squamous cell carcinoma | 2 | 0 | 1967 | 1 | Hispanic or Latino (any) | ⋯ | 0 | 0 | 0 |  0 |  1 |  0 |  0 |  0 |  0 |  0 |\n",
       "| PHARML000047 | 2017 | 2017 | 2 | Non-squamous cell carcinoma | 3 | 0 | 1942 | 0 | Hispanic or Latino (any) | ⋯ | 1 | 0 | 0 | NA | NA | NA | NA | NA | NA | NA |\n",
       "| PHARML000052 | 2017 | 2017 | 3 | Squamous cell carcinoma     | 4 | 0 | 1946 | 0 | Hispanic or Latino (any) | ⋯ | 1 | 0 | 0 |  0 |  0 |  0 |  0 |  0 |  0 |  0 |\n",
       "| PHARML000059 | 2013 | 2015 | 2 | Squamous cell carcinoma     | 5 | 0 | 1937 | 0 | Hispanic or Latino (any) | ⋯ | 0 | 1 | 0 |  0 |  0 |  0 |  0 |  0 |  0 |  0 |\n",
       "\n"
      ],
      "text/plain": [
       "  patientid    diagnosis_nsclc_year diagnosis_ansclc_year ecog\n",
       "1 PHARML000007 2019                 2019                  0   \n",
       "2 PHARML000016 2013                 2014                  1   \n",
       "3 PHARML000038 2016                 2017                  2   \n",
       "4 PHARML000047 2017                 2017                  2   \n",
       "5 PHARML000052 2017                 2017                  3   \n",
       "6 PHARML000059 2013                 2015                  2   \n",
       "  histology                   groupstage smokingstatus birthyear gender\n",
       "1 Non-squamous cell carcinoma 0          0             1942      0     \n",
       "2 Squamous cell carcinoma     1          0             1961      0     \n",
       "3 Non-squamous cell carcinoma 2          0             1967      1     \n",
       "4 Non-squamous cell carcinoma 3          0             1942      0     \n",
       "5 Squamous cell carcinoma     4          0             1946      0     \n",
       "6 Squamous cell carcinoma     5          0             1937      0     \n",
       "  raceethnicity            ⋯ South West Other Chemotherapy Immunotherapy\n",
       "1 Other Race               ⋯ 1     0    0      0            0           \n",
       "2 Other Race               ⋯ 1     0    0      1            0           \n",
       "3 Hispanic or Latino (any) ⋯ 0     0    0      0            1           \n",
       "4 Hispanic or Latino (any) ⋯ 1     0    0     NA           NA           \n",
       "5 Hispanic or Latino (any) ⋯ 1     0    0      0            0           \n",
       "6 Hispanic or Latino (any) ⋯ 0     1    0      0            0           \n",
       "  TargBiologic TargNonBiologic Hormone AntibodyConj Cytoprotective\n",
       "1  0            0               0       0            0            \n",
       "2  0            0               0       0            0            \n",
       "3  0            0               0       0            0            \n",
       "4 NA           NA              NA      NA           NA            \n",
       "5  0            0               0       0            0            \n",
       "6  0            0               0       0            0            "
      ]
     },
     "metadata": {},
     "output_type": "display_data"
    }
   ],
   "source": [
    "#One hot encode non-ordinal categorical variables\n",
    "flatiron_test3 <- flatiron_test2 %>% \n",
    "                        mutate(squam_cells = ifelse(histology == \"Squamous cell carcinoma\", 1, 0), \n",
    "                        non_squamCells = ifelse(histology == \"Non-squamous cell carcinoma\", 1, 0), \n",
    "                        NSCLC = ifelse(histology == \"NSCLC histology NOS\", 1, 0), \n",
    "                        Hisp_Latino = ifelse(raceethnicity == \"Hispanic or Latino (any)\", 1, 0), \n",
    "                        White = ifelse(raceethnicity == \"Non-Hispanic White\", 1, 0), \n",
    "                        Black = ifelse(raceethnicity == \"Non-Hispanic Black\", 1, 0), \n",
    "                        Asian = ifelse(raceethnicity == \"Non-Hispanic Asian\", 1, 0), \n",
    "                        Other_Race = ifelse(raceethnicity == \"Other Race\", 1, 0),\n",
    "                        Midwest = ifelse(region == \"Midwest\", 1, 0),\n",
    "                        Northeast = ifelse(region == \"Northeast\", 1, 0),\n",
    "                        South = ifelse(region == \"South\", 1, 0),\n",
    "                        West = ifelse(region == \"West\", 1, 0),\n",
    "                        Other = ifelse(region == \"0\", 1, 0),\n",
    "                        Chemotherapy = ifelse(lot_category == \"Chemotherapy\", 1, 0),\n",
    "                        Immunotherapy = ifelse(lot_category == \"Immunotherapy\", 1, 0),\n",
    "                        TargBiologic = ifelse(lot_category == \"Targeted/Biologic\", 1, 0),\n",
    "                        TargNonBiologic = ifelse(lot_category == \"Targeted/Non-Biologic\", 1, 0),\n",
    "                        Hormone = ifelse(lot_category == \"Hormone\", 1, 0),\n",
    "                        AntibodyConj = ifelse(lot_category == \"Antibody-Conjugate\", 1, 0),\n",
    "                        Cytoprotective = ifelse(lot_category == \"Cytoprotective\", 1, 0))\n",
    "                               \n",
    "head(flatiron_test3)"
   ]
  },
  {
   "cell_type": "code",
   "execution_count": 61,
   "id": "691a3dce-e832-4d79-bc0d-86d107365994",
   "metadata": {},
   "outputs": [],
   "source": [
    "#Select out non-essential columns\n",
    "flatiron_selectTest <- flatiron_test3 %>% select(-diagnosis_nsclc_year, -diagnosis_ansclc_year, -histology, \n",
    "                            -raceethnicity, -region, -lot_category, -index_lot1_year, -Midwest, -South,\n",
    "                               -Other_Race, -Northeast, -West, -Other, -lab_ldh, -birthyear,\n",
    "                            -lab_alanineaminotransferase, -lab_creatinine, -patientid, -Cytoprotective, \n",
    "                            -Other, -Other_Race, -NSCLC)"
   ]
  },
  {
   "cell_type": "code",
   "execution_count": 62,
   "id": "75a5d7e4-e9e5-426e-a736-ab2bd0b39ba0",
   "metadata": {},
   "outputs": [
    {
     "data": {
      "text/html": [
       "<table class=\"dataframe\">\n",
       "<caption>A tibble: 6 × 26</caption>\n",
       "<thead>\n",
       "\t<tr><th scope=col>ecog</th><th scope=col>groupstage</th><th scope=col>smokingstatus</th><th scope=col>gender</th><th scope=col>biomarker_pdl1</th><th scope=col>biomarker_alk</th><th scope=col>biomarker_ros1</th><th scope=col>biomarker_braf</th><th scope=col>biomarker_egfr</th><th scope=col>biomarker_kras</th><th scope=col>⋯</th><th scope=col>Hisp_Latino</th><th scope=col>White</th><th scope=col>Black</th><th scope=col>Asian</th><th scope=col>Chemotherapy</th><th scope=col>Immunotherapy</th><th scope=col>TargBiologic</th><th scope=col>TargNonBiologic</th><th scope=col>Hormone</th><th scope=col>AntibodyConj</th></tr>\n",
       "\t<tr><th scope=col>&lt;dbl&gt;</th><th scope=col>&lt;dbl&gt;</th><th scope=col>&lt;dbl&gt;</th><th scope=col>&lt;dbl&gt;</th><th scope=col>&lt;dbl&gt;</th><th scope=col>&lt;dbl&gt;</th><th scope=col>&lt;dbl&gt;</th><th scope=col>&lt;dbl&gt;</th><th scope=col>&lt;dbl&gt;</th><th scope=col>&lt;dbl&gt;</th><th scope=col>⋯</th><th scope=col>&lt;dbl&gt;</th><th scope=col>&lt;dbl&gt;</th><th scope=col>&lt;dbl&gt;</th><th scope=col>&lt;dbl&gt;</th><th scope=col>&lt;dbl&gt;</th><th scope=col>&lt;dbl&gt;</th><th scope=col>&lt;dbl&gt;</th><th scope=col>&lt;dbl&gt;</th><th scope=col>&lt;dbl&gt;</th><th scope=col>&lt;dbl&gt;</th></tr>\n",
       "</thead>\n",
       "<tbody>\n",
       "\t<tr><td>0</td><td>0</td><td>0</td><td>0</td><td>0</td><td>0</td><td>0</td><td>0</td><td>0</td><td>0</td><td>⋯</td><td>0</td><td>0</td><td>0</td><td>0</td><td> 0</td><td> 0</td><td> 0</td><td> 0</td><td> 0</td><td> 0</td></tr>\n",
       "\t<tr><td>1</td><td>1</td><td>0</td><td>0</td><td>0</td><td>0</td><td>0</td><td>0</td><td>0</td><td>0</td><td>⋯</td><td>0</td><td>0</td><td>0</td><td>0</td><td> 1</td><td> 0</td><td> 0</td><td> 0</td><td> 0</td><td> 0</td></tr>\n",
       "\t<tr><td>2</td><td>2</td><td>0</td><td>1</td><td>0</td><td>0</td><td>0</td><td>0</td><td>0</td><td>0</td><td>⋯</td><td>1</td><td>0</td><td>0</td><td>0</td><td> 0</td><td> 1</td><td> 0</td><td> 0</td><td> 0</td><td> 0</td></tr>\n",
       "\t<tr><td>2</td><td>3</td><td>0</td><td>0</td><td>0</td><td>0</td><td>0</td><td>0</td><td>0</td><td>0</td><td>⋯</td><td>1</td><td>0</td><td>0</td><td>0</td><td>NA</td><td>NA</td><td>NA</td><td>NA</td><td>NA</td><td>NA</td></tr>\n",
       "\t<tr><td>3</td><td>4</td><td>0</td><td>0</td><td>0</td><td>0</td><td>0</td><td>0</td><td>0</td><td>0</td><td>⋯</td><td>1</td><td>0</td><td>0</td><td>0</td><td> 0</td><td> 0</td><td> 0</td><td> 0</td><td> 0</td><td> 0</td></tr>\n",
       "\t<tr><td>2</td><td>5</td><td>0</td><td>0</td><td>0</td><td>0</td><td>0</td><td>0</td><td>0</td><td>0</td><td>⋯</td><td>1</td><td>0</td><td>0</td><td>0</td><td> 0</td><td> 0</td><td> 0</td><td> 0</td><td> 0</td><td> 0</td></tr>\n",
       "</tbody>\n",
       "</table>\n"
      ],
      "text/latex": [
       "A tibble: 6 × 26\n",
       "\\begin{tabular}{lllllllllllllllllllll}\n",
       " ecog & groupstage & smokingstatus & gender & biomarker\\_pdl1 & biomarker\\_alk & biomarker\\_ros1 & biomarker\\_braf & biomarker\\_egfr & biomarker\\_kras & ⋯ & Hisp\\_Latino & White & Black & Asian & Chemotherapy & Immunotherapy & TargBiologic & TargNonBiologic & Hormone & AntibodyConj\\\\\n",
       " <dbl> & <dbl> & <dbl> & <dbl> & <dbl> & <dbl> & <dbl> & <dbl> & <dbl> & <dbl> & ⋯ & <dbl> & <dbl> & <dbl> & <dbl> & <dbl> & <dbl> & <dbl> & <dbl> & <dbl> & <dbl>\\\\\n",
       "\\hline\n",
       "\t 0 & 0 & 0 & 0 & 0 & 0 & 0 & 0 & 0 & 0 & ⋯ & 0 & 0 & 0 & 0 &  0 &  0 &  0 &  0 &  0 &  0\\\\\n",
       "\t 1 & 1 & 0 & 0 & 0 & 0 & 0 & 0 & 0 & 0 & ⋯ & 0 & 0 & 0 & 0 &  1 &  0 &  0 &  0 &  0 &  0\\\\\n",
       "\t 2 & 2 & 0 & 1 & 0 & 0 & 0 & 0 & 0 & 0 & ⋯ & 1 & 0 & 0 & 0 &  0 &  1 &  0 &  0 &  0 &  0\\\\\n",
       "\t 2 & 3 & 0 & 0 & 0 & 0 & 0 & 0 & 0 & 0 & ⋯ & 1 & 0 & 0 & 0 & NA & NA & NA & NA & NA & NA\\\\\n",
       "\t 3 & 4 & 0 & 0 & 0 & 0 & 0 & 0 & 0 & 0 & ⋯ & 1 & 0 & 0 & 0 &  0 &  0 &  0 &  0 &  0 &  0\\\\\n",
       "\t 2 & 5 & 0 & 0 & 0 & 0 & 0 & 0 & 0 & 0 & ⋯ & 1 & 0 & 0 & 0 &  0 &  0 &  0 &  0 &  0 &  0\\\\\n",
       "\\end{tabular}\n"
      ],
      "text/markdown": [
       "\n",
       "A tibble: 6 × 26\n",
       "\n",
       "| ecog &lt;dbl&gt; | groupstage &lt;dbl&gt; | smokingstatus &lt;dbl&gt; | gender &lt;dbl&gt; | biomarker_pdl1 &lt;dbl&gt; | biomarker_alk &lt;dbl&gt; | biomarker_ros1 &lt;dbl&gt; | biomarker_braf &lt;dbl&gt; | biomarker_egfr &lt;dbl&gt; | biomarker_kras &lt;dbl&gt; | ⋯ ⋯ | Hisp_Latino &lt;dbl&gt; | White &lt;dbl&gt; | Black &lt;dbl&gt; | Asian &lt;dbl&gt; | Chemotherapy &lt;dbl&gt; | Immunotherapy &lt;dbl&gt; | TargBiologic &lt;dbl&gt; | TargNonBiologic &lt;dbl&gt; | Hormone &lt;dbl&gt; | AntibodyConj &lt;dbl&gt; |\n",
       "|---|---|---|---|---|---|---|---|---|---|---|---|---|---|---|---|---|---|---|---|---|\n",
       "| 0 | 0 | 0 | 0 | 0 | 0 | 0 | 0 | 0 | 0 | ⋯ | 0 | 0 | 0 | 0 |  0 |  0 |  0 |  0 |  0 |  0 |\n",
       "| 1 | 1 | 0 | 0 | 0 | 0 | 0 | 0 | 0 | 0 | ⋯ | 0 | 0 | 0 | 0 |  1 |  0 |  0 |  0 |  0 |  0 |\n",
       "| 2 | 2 | 0 | 1 | 0 | 0 | 0 | 0 | 0 | 0 | ⋯ | 1 | 0 | 0 | 0 |  0 |  1 |  0 |  0 |  0 |  0 |\n",
       "| 2 | 3 | 0 | 0 | 0 | 0 | 0 | 0 | 0 | 0 | ⋯ | 1 | 0 | 0 | 0 | NA | NA | NA | NA | NA | NA |\n",
       "| 3 | 4 | 0 | 0 | 0 | 0 | 0 | 0 | 0 | 0 | ⋯ | 1 | 0 | 0 | 0 |  0 |  0 |  0 |  0 |  0 |  0 |\n",
       "| 2 | 5 | 0 | 0 | 0 | 0 | 0 | 0 | 0 | 0 | ⋯ | 1 | 0 | 0 | 0 |  0 |  0 |  0 |  0 |  0 |  0 |\n",
       "\n"
      ],
      "text/plain": [
       "  ecog groupstage smokingstatus gender biomarker_pdl1 biomarker_alk\n",
       "1 0    0          0             0      0              0            \n",
       "2 1    1          0             0      0              0            \n",
       "3 2    2          0             1      0              0            \n",
       "4 2    3          0             0      0              0            \n",
       "5 3    4          0             0      0              0            \n",
       "6 2    5          0             0      0              0            \n",
       "  biomarker_ros1 biomarker_braf biomarker_egfr biomarker_kras ⋯ Hisp_Latino\n",
       "1 0              0              0              0              ⋯ 0          \n",
       "2 0              0              0              0              ⋯ 0          \n",
       "3 0              0              0              0              ⋯ 1          \n",
       "4 0              0              0              0              ⋯ 1          \n",
       "5 0              0              0              0              ⋯ 1          \n",
       "6 0              0              0              0              ⋯ 1          \n",
       "  White Black Asian Chemotherapy Immunotherapy TargBiologic TargNonBiologic\n",
       "1 0     0     0      0            0             0            0             \n",
       "2 0     0     0      1            0             0            0             \n",
       "3 0     0     0      0            1             0            0             \n",
       "4 0     0     0     NA           NA            NA           NA             \n",
       "5 0     0     0      0            0             0            0             \n",
       "6 0     0     0      0            0             0            0             \n",
       "  Hormone AntibodyConj\n",
       "1  0       0          \n",
       "2  0       0          \n",
       "3  0       0          \n",
       "4 NA      NA          \n",
       "5  0       0          \n",
       "6  0       0          "
      ]
     },
     "metadata": {},
     "output_type": "display_data"
    }
   ],
   "source": [
    "head(flatiron_selectTest)"
   ]
  },
  {
   "cell_type": "code",
   "execution_count": 63,
   "id": "7ed99ccb-e45e-4eb3-adf5-77fd1753868e",
   "metadata": {},
   "outputs": [],
   "source": [
    "#Exclude NA values \n",
    "flatiron_selectTest2 <- na.exclude(flatiron_selectTest)"
   ]
  },
  {
   "cell_type": "code",
   "execution_count": 64,
   "id": "389c24ae-2cc6-473f-b269-ef2b49705eb1",
   "metadata": {},
   "outputs": [
    {
     "data": {
      "text/plain": [
       "      ecog         groupstage     smokingstatus        gender      \n",
       " Min.   :0.000   Min.   : 0.000   Min.   :0.0000   Min.   :0.0000  \n",
       " 1st Qu.:1.000   1st Qu.: 3.000   1st Qu.:0.0000   1st Qu.:0.0000  \n",
       " Median :2.000   Median : 3.000   Median :0.0000   Median :0.0000  \n",
       " Mean   :1.842   Mean   : 3.823   Mean   :0.1325   Mean   :0.4818  \n",
       " 3rd Qu.:3.000   3rd Qu.: 4.000   3rd Qu.:0.0000   3rd Qu.:1.0000  \n",
       " Max.   :5.000   Max.   :17.000   Max.   :2.0000   Max.   :1.0000  \n",
       " biomarker_pdl1    biomarker_alk     biomarker_ros1    biomarker_braf   \n",
       " Min.   :0.00000   Min.   :0.00000   Min.   :0.00000   Min.   :0.00000  \n",
       " 1st Qu.:0.00000   1st Qu.:0.00000   1st Qu.:0.00000   1st Qu.:0.00000  \n",
       " Median :0.00000   Median :0.00000   Median :0.00000   Median :0.00000  \n",
       " Mean   :0.01055   Mean   :0.01766   Mean   :0.01169   Mean   :0.00986  \n",
       " 3rd Qu.:0.00000   3rd Qu.:0.00000   3rd Qu.:0.00000   3rd Qu.:0.00000  \n",
       " Max.   :2.00000   Max.   :1.00000   Max.   :1.00000   Max.   :2.00000  \n",
       " biomarker_egfr   biomarker_kras        bmi        ageAtdiagnosis \n",
       " Min.   :0.0000   Min.   :0.0000   Min.   :12.86   Min.   :21.00  \n",
       " 1st Qu.:0.0000   1st Qu.:0.0000   1st Qu.:21.63   1st Qu.:62.00  \n",
       " Median :0.0000   Median :0.0000   Median :25.18   Median :69.00  \n",
       " Mean   :0.0211   Mean   :0.0133   Mean   :25.95   Mean   :67.45  \n",
       " 3rd Qu.:0.0000   3rd Qu.:0.0000   3rd Qu.:29.34   3rd Qu.:75.00  \n",
       " Max.   :2.0000   Max.   :2.0000   Max.   :93.16   Max.   :84.00  \n",
       " yrsToprogress        TimetoTx        squam_cells     non_squamCells  \n",
       " Min.   : 0.0000   Min.   : 0.0000   Min.   :0.0000   Min.   :0.0000  \n",
       " 1st Qu.: 0.0000   1st Qu.: 0.0000   1st Qu.:0.0000   1st Qu.:0.0000  \n",
       " Median : 0.0000   Median : 0.0000   Median :0.0000   Median :1.0000  \n",
       " Mean   : 0.4238   Mean   : 0.5242   Mean   :0.2435   Mean   :0.7104  \n",
       " 3rd Qu.: 0.0000   3rd Qu.: 1.0000   3rd Qu.:0.0000   3rd Qu.:1.0000  \n",
       " Max.   :18.0000   Max.   :18.0000   Max.   :1.0000   Max.   :1.0000  \n",
       "  Hisp_Latino         White             Black             Asian         \n",
       " Min.   :0.0000   Min.   :0.00000   Min.   :0.00000   Min.   :0.000000  \n",
       " 1st Qu.:1.0000   1st Qu.:0.00000   1st Qu.:0.00000   1st Qu.:0.000000  \n",
       " Median :1.0000   Median :0.00000   Median :0.00000   Median :0.000000  \n",
       " Mean   :0.7952   Mean   :0.08484   Mean   :0.01147   Mean   :0.005045  \n",
       " 3rd Qu.:1.0000   3rd Qu.:0.00000   3rd Qu.:0.00000   3rd Qu.:0.000000  \n",
       " Max.   :1.0000   Max.   :1.00000   Max.   :1.00000   Max.   :1.000000  \n",
       "  Chemotherapy   Immunotherapy     TargBiologic      TargNonBiologic \n",
       " Min.   :0.000   Min.   :0.0000   Min.   :0.000000   Min.   :0.0000  \n",
       " 1st Qu.:0.000   1st Qu.:0.0000   1st Qu.:0.000000   1st Qu.:0.0000  \n",
       " Median :0.000   Median :0.0000   Median :0.000000   Median :0.0000  \n",
       " Mean   :0.036   Mean   :0.1172   Mean   :0.001146   Mean   :0.1025  \n",
       " 3rd Qu.:0.000   3rd Qu.:0.0000   3rd Qu.:0.000000   3rd Qu.:0.0000  \n",
       " Max.   :1.000   Max.   :1.0000   Max.   :1.000000   Max.   :1.0000  \n",
       "    Hormone          AntibodyConj\n",
       " Min.   :0.000000   Min.   :0    \n",
       " 1st Qu.:0.000000   1st Qu.:0    \n",
       " Median :0.000000   Median :0    \n",
       " Mean   :0.002293   Mean   :0    \n",
       " 3rd Qu.:0.000000   3rd Qu.:0    \n",
       " Max.   :1.000000   Max.   :0    "
      ]
     },
     "metadata": {},
     "output_type": "display_data"
    }
   ],
   "source": [
    "summary(flatiron_selectTest2)"
   ]
  },
  {
   "cell_type": "code",
   "execution_count": 65,
   "id": "c36af7b2-84ba-4449-9d61-0999239740fa",
   "metadata": {},
   "outputs": [
    {
     "name": "stdout",
     "output_type": "stream",
     "text": [
      "  Sample size of test (predict) data: 4361\n",
      "                Number of grow trees: 1000\n",
      "  Average no. of grow terminal nodes: 1308.235\n",
      "         Total no. of grow variables: 26\n",
      "       Resampling used to grow trees: swor\n",
      "    Resample size used to grow trees: 14415\n",
      "                            Analysis: RSF\n",
      "                              Family: surv\n"
     ]
    }
   ],
   "source": [
    "#Using trained rsf model to predict against test set\n",
    "rfs_predTest <- predict(rfs_model, flatiron_selectTest2)\n",
    "print(rfs_predTest)"
   ]
  },
  {
   "cell_type": "code",
   "execution_count": 66,
   "id": "d76a3e54-443d-46a9-85f5-6e17e7309a9b",
   "metadata": {},
   "outputs": [
    {
     "data": {
      "text/plain": [
       "$call\n",
       "generic.predict.rfsrc(object = object, newdata = newdata, m.target = m.target, \n",
       "    importance = importance, get.tree = get.tree, block.size = block.size, \n",
       "    na.action = na.action, outcome = outcome, perf.type = perf.type, \n",
       "    proximity = proximity, forest.wt = forest.wt, ptn.count = ptn.count, \n",
       "    distance = distance, var.used = var.used, split.depth = split.depth, \n",
       "    seed = seed, do.trace = do.trace, membership = membership, \n",
       "    statistics = statistics)\n",
       "\n",
       "$family\n",
       "[1] \"surv\"\n",
       "\n",
       "$n\n",
       "[1] 4361\n",
       "\n",
       "$ntree\n",
       "[1] 1000\n",
       "\n",
       "$yvar\n",
       "NULL\n",
       "\n",
       "$yvar.names\n",
       "[1] \"daysto_event\" \"event_died\"  \n"
      ]
     },
     "metadata": {},
     "output_type": "display_data"
    }
   ],
   "source": [
    "head(rfs_predTest)"
   ]
  },
  {
   "cell_type": "code",
   "execution_count": null,
   "id": "ef33dcf6-70ca-4cdc-b2b8-cad956ea9690",
   "metadata": {},
   "outputs": [],
   "source": []
  }
 ],
 "metadata": {
  "kernelspec": {
   "display_name": "R",
   "language": "R",
   "name": "ir"
  },
  "language_info": {
   "codemirror_mode": "r",
   "file_extension": ".r",
   "mimetype": "text/x-r-source",
   "name": "R",
   "pygments_lexer": "r",
   "version": "4.1.2"
  }
 },
 "nbformat": 4,
 "nbformat_minor": 5
}
